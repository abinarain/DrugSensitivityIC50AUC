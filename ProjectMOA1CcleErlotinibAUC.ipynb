{
  "nbformat": 4,
  "nbformat_minor": 0,
  "metadata": {
    "colab": {
      "name": "ProjectMOA1CcleErlotinibAUC.ipynb",
      "provenance": [],
      "collapsed_sections": []
    },
    "kernelspec": {
      "name": "python3",
      "display_name": "Python 3"
    }
  },
  "cells": [
    {
      "cell_type": "code",
      "metadata": {
        "id": "kj4IOJumxLhT"
      },
      "source": [
        "#Author: Abhishek N. Singh\r\n",
        "#Description: This script evaluates the AUC value for a drug when acting against cell viability such \r\n",
        "#as cancer cells, and then I try to fit a regression model for Ccle data\r\n",
        "#Date: 26th December 2020"
      ],
      "execution_count": 1,
      "outputs": []
    },
    {
      "cell_type": "code",
      "metadata": {
        "id": "R01cZLMpx_XG"
      },
      "source": [
        "import pandas as pd\r\n",
        "import numpy as np\r\n",
        "import matplotlib.pyplot as plt \r\n",
        "%matplotlib inline\r\n",
        "from sklearn.linear_model import ElasticNet\r\n",
        "from sklearn.linear_model import Lasso\r\n",
        "from sklearn import preprocessing\r\n",
        "from sklearn import linear_model\r\n",
        "from sklearn.model_selection import GridSearchCV\r\n",
        "from sklearn.preprocessing import PolynomialFeatures\r\n",
        "from sklearn.linear_model import LinearRegression\r\n",
        "from sklearn.decomposition import PCA, KernelPCA\r\n",
        "from sklearn.model_selection import train_test_split\r\n",
        "import seaborn as sns\r\n",
        "\r\n",
        "\r\n",
        "\r\n"
      ],
      "execution_count": 1,
      "outputs": []
    },
    {
      "cell_type": "code",
      "metadata": {
        "id": "Y-UaidFWycYn"
      },
      "source": [
        "dataset = pd.read_csv(\"ccle_Erlotinib_auc.csv\", delimiter=\",\")"
      ],
      "execution_count": 2,
      "outputs": []
    },
    {
      "cell_type": "code",
      "metadata": {
        "colab": {
          "base_uri": "https://localhost:8080/",
          "height": 269
        },
        "id": "zqMvzYQgy_E9",
        "outputId": "69222047-b002-4962-8f01-43bdae5adf29"
      },
      "source": [
        "dataset.head()"
      ],
      "execution_count": 3,
      "outputs": [
        {
          "output_type": "execute_result",
          "data": {
            "text/html": [
              "<div>\n",
              "<style scoped>\n",
              "    .dataframe tbody tr th:only-of-type {\n",
              "        vertical-align: middle;\n",
              "    }\n",
              "\n",
              "    .dataframe tbody tr th {\n",
              "        vertical-align: top;\n",
              "    }\n",
              "\n",
              "    .dataframe thead th {\n",
              "        text-align: right;\n",
              "    }\n",
              "</style>\n",
              "<table border=\"1\" class=\"dataframe\">\n",
              "  <thead>\n",
              "    <tr style=\"text-align: right;\">\n",
              "      <th></th>\n",
              "      <th>Unnamed: 0</th>\n",
              "      <th>Unnamed: 0.1</th>\n",
              "      <th>exp_ALDH3B1</th>\n",
              "      <th>exp_TBXA2R</th>\n",
              "      <th>exp_ELAC2</th>\n",
              "      <th>exp_PIGQ</th>\n",
              "      <th>exp_MYLIP</th>\n",
              "      <th>exp_PSMB1</th>\n",
              "      <th>exp_ABHD5</th>\n",
              "      <th>exp_BRCA1</th>\n",
              "      <th>exp_POLR3B</th>\n",
              "      <th>exp_GRAMD1B</th>\n",
              "      <th>exp_DEF6</th>\n",
              "      <th>exp_AGPAT4</th>\n",
              "      <th>exp_GAB2</th>\n",
              "      <th>exp_YTHDC2</th>\n",
              "      <th>exp_C12orf4</th>\n",
              "      <th>exp_TNIP3</th>\n",
              "      <th>exp_THRAP3</th>\n",
              "      <th>exp_STYK1</th>\n",
              "      <th>exp_ERBB3</th>\n",
              "      <th>exp_CDK13</th>\n",
              "      <th>exp_MGAT4A</th>\n",
              "      <th>exp_FCGR2B</th>\n",
              "      <th>exp_XRCC1</th>\n",
              "      <th>exp_TP63</th>\n",
              "      <th>exp_ALPK1</th>\n",
              "      <th>exp_GLI2</th>\n",
              "      <th>exp_PLD1</th>\n",
              "      <th>exp_GPATCH1</th>\n",
              "      <th>exp_P2RY10</th>\n",
              "      <th>exp_PGM1</th>\n",
              "      <th>exp_SCTR</th>\n",
              "      <th>exp_GSK3B</th>\n",
              "      <th>exp_TNPO1</th>\n",
              "      <th>exp_SLC27A5</th>\n",
              "      <th>exp_KIF3C</th>\n",
              "      <th>exp_RRN3</th>\n",
              "      <th>exp_WNT11</th>\n",
              "      <th>exp_MTIF2</th>\n",
              "      <th>...</th>\n",
              "      <th>exp_CACTIN</th>\n",
              "      <th>exp_MYCNOS</th>\n",
              "      <th>exp_TONSL</th>\n",
              "      <th>exp_TMEM17</th>\n",
              "      <th>exp_LCN2</th>\n",
              "      <th>exp_CARD11</th>\n",
              "      <th>exp_DFFB</th>\n",
              "      <th>exp_C1orf64</th>\n",
              "      <th>exp_NTRK1</th>\n",
              "      <th>exp_C16orf52</th>\n",
              "      <th>exp_DTX3</th>\n",
              "      <th>exp_NRDE2</th>\n",
              "      <th>exp_FPGS</th>\n",
              "      <th>exp_CSNK1G2</th>\n",
              "      <th>exp_PRKD1</th>\n",
              "      <th>exp_IMMP2L</th>\n",
              "      <th>exp_CDK14</th>\n",
              "      <th>exp_CCL25</th>\n",
              "      <th>exp_TPM3</th>\n",
              "      <th>exp_PAPD5</th>\n",
              "      <th>exp_CCNK</th>\n",
              "      <th>exp_SMPDL3B</th>\n",
              "      <th>exp_ZNF479</th>\n",
              "      <th>exp_ABRACL</th>\n",
              "      <th>exp_CCDC157</th>\n",
              "      <th>exp_FBXO5</th>\n",
              "      <th>exp_AC006116.17</th>\n",
              "      <th>exp_EPS8L1</th>\n",
              "      <th>exp_TAAR1</th>\n",
              "      <th>exp_RP1-69D17.3</th>\n",
              "      <th>exp_ZFY</th>\n",
              "      <th>exp_RPS29</th>\n",
              "      <th>exp_SMAD5</th>\n",
              "      <th>exp_ZC3HC1</th>\n",
              "      <th>exp_ZMYM3</th>\n",
              "      <th>exp_CIRBP</th>\n",
              "      <th>exp_MSN</th>\n",
              "      <th>exp_PDPN</th>\n",
              "      <th>exp_KIAA1456</th>\n",
              "      <th>Erlotinib</th>\n",
              "    </tr>\n",
              "  </thead>\n",
              "  <tbody>\n",
              "    <tr>\n",
              "      <th>0</th>\n",
              "      <td>0</td>\n",
              "      <td>22RV1</td>\n",
              "      <td>5.332068</td>\n",
              "      <td>5.613804</td>\n",
              "      <td>8.583122</td>\n",
              "      <td>5.351879</td>\n",
              "      <td>7.298835</td>\n",
              "      <td>12.727437</td>\n",
              "      <td>7.815232</td>\n",
              "      <td>9.582944</td>\n",
              "      <td>9.377173</td>\n",
              "      <td>5.045035</td>\n",
              "      <td>6.078029</td>\n",
              "      <td>3.897749</td>\n",
              "      <td>7.305856</td>\n",
              "      <td>NaN</td>\n",
              "      <td>8.322389</td>\n",
              "      <td>3.715969</td>\n",
              "      <td>8.112591</td>\n",
              "      <td>8.669577</td>\n",
              "      <td>5.297128</td>\n",
              "      <td>7.693420</td>\n",
              "      <td>4.352324</td>\n",
              "      <td>3.759919</td>\n",
              "      <td>7.427478</td>\n",
              "      <td>3.830598</td>\n",
              "      <td>5.966546</td>\n",
              "      <td>4.151271</td>\n",
              "      <td>4.125426</td>\n",
              "      <td>7.592972</td>\n",
              "      <td>3.759530</td>\n",
              "      <td>8.521257</td>\n",
              "      <td>4.095565</td>\n",
              "      <td>7.580423</td>\n",
              "      <td>9.529565</td>\n",
              "      <td>5.609796</td>\n",
              "      <td>6.080109</td>\n",
              "      <td>10.157352</td>\n",
              "      <td>4.151099</td>\n",
              "      <td>10.099329</td>\n",
              "      <td>...</td>\n",
              "      <td>5.683292</td>\n",
              "      <td>3.861059</td>\n",
              "      <td>5.769806</td>\n",
              "      <td>7.635177</td>\n",
              "      <td>4.201648</td>\n",
              "      <td>5.109288</td>\n",
              "      <td>6.479429</td>\n",
              "      <td>3.893705</td>\n",
              "      <td>3.582479</td>\n",
              "      <td>8.051999</td>\n",
              "      <td>4.226136</td>\n",
              "      <td>4.364691</td>\n",
              "      <td>6.338948</td>\n",
              "      <td>7.900701</td>\n",
              "      <td>4.620228</td>\n",
              "      <td>NaN</td>\n",
              "      <td>9.272192</td>\n",
              "      <td>4.365646</td>\n",
              "      <td>NaN</td>\n",
              "      <td>8.561840</td>\n",
              "      <td>6.556807</td>\n",
              "      <td>5.344507</td>\n",
              "      <td>3.354633</td>\n",
              "      <td>12.565178</td>\n",
              "      <td>4.908278</td>\n",
              "      <td>9.861356</td>\n",
              "      <td>4.177199</td>\n",
              "      <td>6.094268</td>\n",
              "      <td>3.954945</td>\n",
              "      <td>3.747778</td>\n",
              "      <td>6.499362</td>\n",
              "      <td>6.435833</td>\n",
              "      <td>8.361070</td>\n",
              "      <td>9.914313</td>\n",
              "      <td>7.199420</td>\n",
              "      <td>7.183395</td>\n",
              "      <td>4.648890</td>\n",
              "      <td>3.843081</td>\n",
              "      <td>3.738231</td>\n",
              "      <td>0.949180</td>\n",
              "    </tr>\n",
              "    <tr>\n",
              "      <th>1</th>\n",
              "      <td>1</td>\n",
              "      <td>23132-87</td>\n",
              "      <td>NaN</td>\n",
              "      <td>4.444631</td>\n",
              "      <td>9.008218</td>\n",
              "      <td>5.105823</td>\n",
              "      <td>7.913547</td>\n",
              "      <td>12.517458</td>\n",
              "      <td>7.280895</td>\n",
              "      <td>7.777871</td>\n",
              "      <td>9.271241</td>\n",
              "      <td>6.720515</td>\n",
              "      <td>4.682578</td>\n",
              "      <td>4.977737</td>\n",
              "      <td>6.665028</td>\n",
              "      <td>8.947037</td>\n",
              "      <td>7.731367</td>\n",
              "      <td>3.747263</td>\n",
              "      <td>8.169364</td>\n",
              "      <td>5.542756</td>\n",
              "      <td>5.413200</td>\n",
              "      <td>7.043574</td>\n",
              "      <td>4.708887</td>\n",
              "      <td>NaN</td>\n",
              "      <td>6.838305</td>\n",
              "      <td>3.943316</td>\n",
              "      <td>7.781867</td>\n",
              "      <td>5.062617</td>\n",
              "      <td>5.506630</td>\n",
              "      <td>7.051435</td>\n",
              "      <td>3.471706</td>\n",
              "      <td>9.156991</td>\n",
              "      <td>4.200039</td>\n",
              "      <td>8.959411</td>\n",
              "      <td>9.932116</td>\n",
              "      <td>5.686480</td>\n",
              "      <td>5.128849</td>\n",
              "      <td>9.738769</td>\n",
              "      <td>3.995706</td>\n",
              "      <td>11.042208</td>\n",
              "      <td>...</td>\n",
              "      <td>5.445282</td>\n",
              "      <td>NaN</td>\n",
              "      <td>6.354785</td>\n",
              "      <td>8.028414</td>\n",
              "      <td>6.687008</td>\n",
              "      <td>4.971279</td>\n",
              "      <td>6.614888</td>\n",
              "      <td>4.081260</td>\n",
              "      <td>3.601829</td>\n",
              "      <td>7.604872</td>\n",
              "      <td>3.917713</td>\n",
              "      <td>4.757483</td>\n",
              "      <td>NaN</td>\n",
              "      <td>7.526438</td>\n",
              "      <td>3.694490</td>\n",
              "      <td>6.191045</td>\n",
              "      <td>5.148200</td>\n",
              "      <td>4.634077</td>\n",
              "      <td>7.043642</td>\n",
              "      <td>9.301337</td>\n",
              "      <td>7.040201</td>\n",
              "      <td>4.363401</td>\n",
              "      <td>3.393433</td>\n",
              "      <td>9.122821</td>\n",
              "      <td>4.753364</td>\n",
              "      <td>9.533123</td>\n",
              "      <td>3.895618</td>\n",
              "      <td>NaN</td>\n",
              "      <td>3.909534</td>\n",
              "      <td>3.788824</td>\n",
              "      <td>5.478426</td>\n",
              "      <td>8.067889</td>\n",
              "      <td>8.723680</td>\n",
              "      <td>8.410135</td>\n",
              "      <td>NaN</td>\n",
              "      <td>7.795937</td>\n",
              "      <td>4.855809</td>\n",
              "      <td>3.970728</td>\n",
              "      <td>3.774648</td>\n",
              "      <td>0.925969</td>\n",
              "    </tr>\n",
              "    <tr>\n",
              "      <th>2</th>\n",
              "      <td>2</td>\n",
              "      <td>5637</td>\n",
              "      <td>5.605698</td>\n",
              "      <td>NaN</td>\n",
              "      <td>8.898105</td>\n",
              "      <td>5.586974</td>\n",
              "      <td>6.134739</td>\n",
              "      <td>12.971607</td>\n",
              "      <td>7.870813</td>\n",
              "      <td>NaN</td>\n",
              "      <td>8.428964</td>\n",
              "      <td>5.659006</td>\n",
              "      <td>5.126722</td>\n",
              "      <td>6.089012</td>\n",
              "      <td>7.912269</td>\n",
              "      <td>7.577540</td>\n",
              "      <td>7.945217</td>\n",
              "      <td>3.707126</td>\n",
              "      <td>NaN</td>\n",
              "      <td>6.919333</td>\n",
              "      <td>4.922276</td>\n",
              "      <td>6.707961</td>\n",
              "      <td>4.203910</td>\n",
              "      <td>3.707880</td>\n",
              "      <td>7.430700</td>\n",
              "      <td>4.366842</td>\n",
              "      <td>6.197245</td>\n",
              "      <td>5.082134</td>\n",
              "      <td>4.826023</td>\n",
              "      <td>7.424831</td>\n",
              "      <td>4.035421</td>\n",
              "      <td>10.665878</td>\n",
              "      <td>NaN</td>\n",
              "      <td>7.193747</td>\n",
              "      <td>9.798624</td>\n",
              "      <td>4.846879</td>\n",
              "      <td>8.763770</td>\n",
              "      <td>8.470668</td>\n",
              "      <td>4.298778</td>\n",
              "      <td>10.245974</td>\n",
              "      <td>...</td>\n",
              "      <td>6.396406</td>\n",
              "      <td>4.023376</td>\n",
              "      <td>5.278451</td>\n",
              "      <td>7.410414</td>\n",
              "      <td>13.024511</td>\n",
              "      <td>7.916932</td>\n",
              "      <td>5.101791</td>\n",
              "      <td>4.140189</td>\n",
              "      <td>NaN</td>\n",
              "      <td>7.880280</td>\n",
              "      <td>NaN</td>\n",
              "      <td>4.785510</td>\n",
              "      <td>7.803542</td>\n",
              "      <td>8.381381</td>\n",
              "      <td>4.511903</td>\n",
              "      <td>6.481863</td>\n",
              "      <td>8.629700</td>\n",
              "      <td>4.646756</td>\n",
              "      <td>5.921809</td>\n",
              "      <td>NaN</td>\n",
              "      <td>7.452154</td>\n",
              "      <td>6.124350</td>\n",
              "      <td>3.183405</td>\n",
              "      <td>11.773527</td>\n",
              "      <td>4.960934</td>\n",
              "      <td>10.013115</td>\n",
              "      <td>3.787315</td>\n",
              "      <td>5.293685</td>\n",
              "      <td>3.655333</td>\n",
              "      <td>3.788395</td>\n",
              "      <td>3.883212</td>\n",
              "      <td>NaN</td>\n",
              "      <td>8.241948</td>\n",
              "      <td>10.084551</td>\n",
              "      <td>NaN</td>\n",
              "      <td>6.690449</td>\n",
              "      <td>NaN</td>\n",
              "      <td>3.979788</td>\n",
              "      <td>3.767280</td>\n",
              "      <td>0.796764</td>\n",
              "    </tr>\n",
              "    <tr>\n",
              "      <th>3</th>\n",
              "      <td>3</td>\n",
              "      <td>639-V</td>\n",
              "      <td>5.600420</td>\n",
              "      <td>5.227187</td>\n",
              "      <td>NaN</td>\n",
              "      <td>5.463622</td>\n",
              "      <td>6.750111</td>\n",
              "      <td>13.167282</td>\n",
              "      <td>8.230154</td>\n",
              "      <td>8.427137</td>\n",
              "      <td>8.866081</td>\n",
              "      <td>5.736139</td>\n",
              "      <td>NaN</td>\n",
              "      <td>4.968936</td>\n",
              "      <td>7.528272</td>\n",
              "      <td>NaN</td>\n",
              "      <td>8.909074</td>\n",
              "      <td>3.722300</td>\n",
              "      <td>8.404938</td>\n",
              "      <td>3.869231</td>\n",
              "      <td>4.267206</td>\n",
              "      <td>7.361224</td>\n",
              "      <td>4.605853</td>\n",
              "      <td>3.847301</td>\n",
              "      <td>7.270288</td>\n",
              "      <td>4.038599</td>\n",
              "      <td>NaN</td>\n",
              "      <td>5.702869</td>\n",
              "      <td>4.538080</td>\n",
              "      <td>7.653117</td>\n",
              "      <td>4.133336</td>\n",
              "      <td>10.680945</td>\n",
              "      <td>4.368771</td>\n",
              "      <td>8.214779</td>\n",
              "      <td>10.169141</td>\n",
              "      <td>5.858755</td>\n",
              "      <td>7.309968</td>\n",
              "      <td>8.661320</td>\n",
              "      <td>4.067059</td>\n",
              "      <td>11.311402</td>\n",
              "      <td>...</td>\n",
              "      <td>6.339325</td>\n",
              "      <td>3.876358</td>\n",
              "      <td>6.022591</td>\n",
              "      <td>NaN</td>\n",
              "      <td>4.159766</td>\n",
              "      <td>4.976989</td>\n",
              "      <td>6.268705</td>\n",
              "      <td>3.984246</td>\n",
              "      <td>NaN</td>\n",
              "      <td>8.344793</td>\n",
              "      <td>4.918179</td>\n",
              "      <td>4.952986</td>\n",
              "      <td>7.301157</td>\n",
              "      <td>NaN</td>\n",
              "      <td>4.696873</td>\n",
              "      <td>5.175555</td>\n",
              "      <td>6.321756</td>\n",
              "      <td>4.230160</td>\n",
              "      <td>5.553331</td>\n",
              "      <td>8.494555</td>\n",
              "      <td>7.252368</td>\n",
              "      <td>5.271586</td>\n",
              "      <td>NaN</td>\n",
              "      <td>9.322858</td>\n",
              "      <td>5.012469</td>\n",
              "      <td>NaN</td>\n",
              "      <td>4.100421</td>\n",
              "      <td>NaN</td>\n",
              "      <td>NaN</td>\n",
              "      <td>3.812628</td>\n",
              "      <td>3.527591</td>\n",
              "      <td>NaN</td>\n",
              "      <td>NaN</td>\n",
              "      <td>9.603301</td>\n",
              "      <td>7.443413</td>\n",
              "      <td>7.464673</td>\n",
              "      <td>5.608629</td>\n",
              "      <td>3.949879</td>\n",
              "      <td>4.039176</td>\n",
              "      <td>0.988612</td>\n",
              "    </tr>\n",
              "    <tr>\n",
              "      <th>4</th>\n",
              "      <td>4</td>\n",
              "      <td>647-V</td>\n",
              "      <td>6.009817</td>\n",
              "      <td>4.757585</td>\n",
              "      <td>9.124004</td>\n",
              "      <td>5.040151</td>\n",
              "      <td>7.136392</td>\n",
              "      <td>12.690483</td>\n",
              "      <td>7.322986</td>\n",
              "      <td>7.910829</td>\n",
              "      <td>8.994872</td>\n",
              "      <td>5.532935</td>\n",
              "      <td>4.998818</td>\n",
              "      <td>NaN</td>\n",
              "      <td>8.145676</td>\n",
              "      <td>7.720591</td>\n",
              "      <td>7.998917</td>\n",
              "      <td>3.612603</td>\n",
              "      <td>8.607117</td>\n",
              "      <td>NaN</td>\n",
              "      <td>NaN</td>\n",
              "      <td>8.015474</td>\n",
              "      <td>5.044989</td>\n",
              "      <td>NaN</td>\n",
              "      <td>7.334230</td>\n",
              "      <td>4.036745</td>\n",
              "      <td>5.676593</td>\n",
              "      <td>4.227998</td>\n",
              "      <td>4.613581</td>\n",
              "      <td>7.245098</td>\n",
              "      <td>3.897732</td>\n",
              "      <td>10.946035</td>\n",
              "      <td>4.068831</td>\n",
              "      <td>9.208498</td>\n",
              "      <td>9.973715</td>\n",
              "      <td>5.159418</td>\n",
              "      <td>8.103184</td>\n",
              "      <td>9.302813</td>\n",
              "      <td>4.283222</td>\n",
              "      <td>10.193000</td>\n",
              "      <td>...</td>\n",
              "      <td>NaN</td>\n",
              "      <td>3.861536</td>\n",
              "      <td>5.246653</td>\n",
              "      <td>7.789558</td>\n",
              "      <td>10.585737</td>\n",
              "      <td>7.336791</td>\n",
              "      <td>5.731116</td>\n",
              "      <td>3.987703</td>\n",
              "      <td>3.791791</td>\n",
              "      <td>6.948579</td>\n",
              "      <td>4.504231</td>\n",
              "      <td>4.353700</td>\n",
              "      <td>7.006520</td>\n",
              "      <td>7.756086</td>\n",
              "      <td>4.262443</td>\n",
              "      <td>6.300681</td>\n",
              "      <td>NaN</td>\n",
              "      <td>4.569973</td>\n",
              "      <td>5.720345</td>\n",
              "      <td>7.424331</td>\n",
              "      <td>6.980403</td>\n",
              "      <td>5.186292</td>\n",
              "      <td>3.486876</td>\n",
              "      <td>11.421763</td>\n",
              "      <td>4.775937</td>\n",
              "      <td>9.344222</td>\n",
              "      <td>3.721062</td>\n",
              "      <td>5.270838</td>\n",
              "      <td>3.799799</td>\n",
              "      <td>3.764908</td>\n",
              "      <td>6.551126</td>\n",
              "      <td>5.768489</td>\n",
              "      <td>8.634560</td>\n",
              "      <td>9.378929</td>\n",
              "      <td>6.924514</td>\n",
              "      <td>6.883481</td>\n",
              "      <td>5.586970</td>\n",
              "      <td>NaN</td>\n",
              "      <td>3.841472</td>\n",
              "      <td>0.925969</td>\n",
              "    </tr>\n",
              "  </tbody>\n",
              "</table>\n",
              "<p>5 rows × 1327 columns</p>\n",
              "</div>"
            ],
            "text/plain": [
              "   Unnamed: 0 Unnamed: 0.1  exp_ALDH3B1  ...  exp_PDPN  exp_KIAA1456  Erlotinib\n",
              "0           0        22RV1     5.332068  ...  3.843081      3.738231   0.949180\n",
              "1           1     23132-87          NaN  ...  3.970728      3.774648   0.925969\n",
              "2           2         5637     5.605698  ...  3.979788      3.767280   0.796764\n",
              "3           3        639-V     5.600420  ...  3.949879      4.039176   0.988612\n",
              "4           4        647-V     6.009817  ...       NaN      3.841472   0.925969\n",
              "\n",
              "[5 rows x 1327 columns]"
            ]
          },
          "metadata": {
            "tags": []
          },
          "execution_count": 3
        }
      ]
    },
    {
      "cell_type": "code",
      "metadata": {
        "colab": {
          "base_uri": "https://localhost:8080/"
        },
        "id": "ZVfy97xFyr9c",
        "outputId": "875ec342-a3bb-48ca-c2d4-5e5749613573"
      },
      "source": [
        "dataset.shape"
      ],
      "execution_count": 4,
      "outputs": [
        {
          "output_type": "execute_result",
          "data": {
            "text/plain": [
              "(1061, 1327)"
            ]
          },
          "metadata": {
            "tags": []
          },
          "execution_count": 4
        }
      ]
    },
    {
      "cell_type": "code",
      "metadata": {
        "id": "rhlQZz6byyq_"
      },
      "source": [
        "#So 1061 samples with 1327 features"
      ],
      "execution_count": null,
      "outputs": []
    },
    {
      "cell_type": "code",
      "metadata": {
        "id": "fhZzLAwgzHwp"
      },
      "source": [
        "#The first two column feature variables are not needed for data modeling and can be dropped."
      ],
      "execution_count": 6,
      "outputs": []
    },
    {
      "cell_type": "code",
      "metadata": {
        "id": "3-OqbnUGzTvh"
      },
      "source": [
        "del dataset['Unnamed: 0']\r\n",
        "del dataset['Unnamed: 0.1']"
      ],
      "execution_count": 5,
      "outputs": []
    },
    {
      "cell_type": "code",
      "metadata": {
        "colab": {
          "base_uri": "https://localhost:8080/",
          "height": 269
        },
        "id": "AiPWJ_hDzi84",
        "outputId": "3c30d04f-21e3-4fa7-b58a-a68478804415"
      },
      "source": [
        "dataset.head()"
      ],
      "execution_count": 6,
      "outputs": [
        {
          "output_type": "execute_result",
          "data": {
            "text/html": [
              "<div>\n",
              "<style scoped>\n",
              "    .dataframe tbody tr th:only-of-type {\n",
              "        vertical-align: middle;\n",
              "    }\n",
              "\n",
              "    .dataframe tbody tr th {\n",
              "        vertical-align: top;\n",
              "    }\n",
              "\n",
              "    .dataframe thead th {\n",
              "        text-align: right;\n",
              "    }\n",
              "</style>\n",
              "<table border=\"1\" class=\"dataframe\">\n",
              "  <thead>\n",
              "    <tr style=\"text-align: right;\">\n",
              "      <th></th>\n",
              "      <th>exp_ALDH3B1</th>\n",
              "      <th>exp_TBXA2R</th>\n",
              "      <th>exp_ELAC2</th>\n",
              "      <th>exp_PIGQ</th>\n",
              "      <th>exp_MYLIP</th>\n",
              "      <th>exp_PSMB1</th>\n",
              "      <th>exp_ABHD5</th>\n",
              "      <th>exp_BRCA1</th>\n",
              "      <th>exp_POLR3B</th>\n",
              "      <th>exp_GRAMD1B</th>\n",
              "      <th>exp_DEF6</th>\n",
              "      <th>exp_AGPAT4</th>\n",
              "      <th>exp_GAB2</th>\n",
              "      <th>exp_YTHDC2</th>\n",
              "      <th>exp_C12orf4</th>\n",
              "      <th>exp_TNIP3</th>\n",
              "      <th>exp_THRAP3</th>\n",
              "      <th>exp_STYK1</th>\n",
              "      <th>exp_ERBB3</th>\n",
              "      <th>exp_CDK13</th>\n",
              "      <th>exp_MGAT4A</th>\n",
              "      <th>exp_FCGR2B</th>\n",
              "      <th>exp_XRCC1</th>\n",
              "      <th>exp_TP63</th>\n",
              "      <th>exp_ALPK1</th>\n",
              "      <th>exp_GLI2</th>\n",
              "      <th>exp_PLD1</th>\n",
              "      <th>exp_GPATCH1</th>\n",
              "      <th>exp_P2RY10</th>\n",
              "      <th>exp_PGM1</th>\n",
              "      <th>exp_SCTR</th>\n",
              "      <th>exp_GSK3B</th>\n",
              "      <th>exp_TNPO1</th>\n",
              "      <th>exp_SLC27A5</th>\n",
              "      <th>exp_KIF3C</th>\n",
              "      <th>exp_RRN3</th>\n",
              "      <th>exp_WNT11</th>\n",
              "      <th>exp_MTIF2</th>\n",
              "      <th>exp_SRRT</th>\n",
              "      <th>exp_TMPRSS11E</th>\n",
              "      <th>...</th>\n",
              "      <th>exp_CACTIN</th>\n",
              "      <th>exp_MYCNOS</th>\n",
              "      <th>exp_TONSL</th>\n",
              "      <th>exp_TMEM17</th>\n",
              "      <th>exp_LCN2</th>\n",
              "      <th>exp_CARD11</th>\n",
              "      <th>exp_DFFB</th>\n",
              "      <th>exp_C1orf64</th>\n",
              "      <th>exp_NTRK1</th>\n",
              "      <th>exp_C16orf52</th>\n",
              "      <th>exp_DTX3</th>\n",
              "      <th>exp_NRDE2</th>\n",
              "      <th>exp_FPGS</th>\n",
              "      <th>exp_CSNK1G2</th>\n",
              "      <th>exp_PRKD1</th>\n",
              "      <th>exp_IMMP2L</th>\n",
              "      <th>exp_CDK14</th>\n",
              "      <th>exp_CCL25</th>\n",
              "      <th>exp_TPM3</th>\n",
              "      <th>exp_PAPD5</th>\n",
              "      <th>exp_CCNK</th>\n",
              "      <th>exp_SMPDL3B</th>\n",
              "      <th>exp_ZNF479</th>\n",
              "      <th>exp_ABRACL</th>\n",
              "      <th>exp_CCDC157</th>\n",
              "      <th>exp_FBXO5</th>\n",
              "      <th>exp_AC006116.17</th>\n",
              "      <th>exp_EPS8L1</th>\n",
              "      <th>exp_TAAR1</th>\n",
              "      <th>exp_RP1-69D17.3</th>\n",
              "      <th>exp_ZFY</th>\n",
              "      <th>exp_RPS29</th>\n",
              "      <th>exp_SMAD5</th>\n",
              "      <th>exp_ZC3HC1</th>\n",
              "      <th>exp_ZMYM3</th>\n",
              "      <th>exp_CIRBP</th>\n",
              "      <th>exp_MSN</th>\n",
              "      <th>exp_PDPN</th>\n",
              "      <th>exp_KIAA1456</th>\n",
              "      <th>Erlotinib</th>\n",
              "    </tr>\n",
              "  </thead>\n",
              "  <tbody>\n",
              "    <tr>\n",
              "      <th>0</th>\n",
              "      <td>5.332068</td>\n",
              "      <td>5.613804</td>\n",
              "      <td>8.583122</td>\n",
              "      <td>5.351879</td>\n",
              "      <td>7.298835</td>\n",
              "      <td>12.727437</td>\n",
              "      <td>7.815232</td>\n",
              "      <td>9.582944</td>\n",
              "      <td>9.377173</td>\n",
              "      <td>5.045035</td>\n",
              "      <td>6.078029</td>\n",
              "      <td>3.897749</td>\n",
              "      <td>7.305856</td>\n",
              "      <td>NaN</td>\n",
              "      <td>8.322389</td>\n",
              "      <td>3.715969</td>\n",
              "      <td>8.112591</td>\n",
              "      <td>8.669577</td>\n",
              "      <td>5.297128</td>\n",
              "      <td>7.693420</td>\n",
              "      <td>4.352324</td>\n",
              "      <td>3.759919</td>\n",
              "      <td>7.427478</td>\n",
              "      <td>3.830598</td>\n",
              "      <td>5.966546</td>\n",
              "      <td>4.151271</td>\n",
              "      <td>4.125426</td>\n",
              "      <td>7.592972</td>\n",
              "      <td>3.759530</td>\n",
              "      <td>8.521257</td>\n",
              "      <td>4.095565</td>\n",
              "      <td>7.580423</td>\n",
              "      <td>9.529565</td>\n",
              "      <td>5.609796</td>\n",
              "      <td>6.080109</td>\n",
              "      <td>10.157352</td>\n",
              "      <td>4.151099</td>\n",
              "      <td>10.099329</td>\n",
              "      <td>8.364451</td>\n",
              "      <td>3.733183</td>\n",
              "      <td>...</td>\n",
              "      <td>5.683292</td>\n",
              "      <td>3.861059</td>\n",
              "      <td>5.769806</td>\n",
              "      <td>7.635177</td>\n",
              "      <td>4.201648</td>\n",
              "      <td>5.109288</td>\n",
              "      <td>6.479429</td>\n",
              "      <td>3.893705</td>\n",
              "      <td>3.582479</td>\n",
              "      <td>8.051999</td>\n",
              "      <td>4.226136</td>\n",
              "      <td>4.364691</td>\n",
              "      <td>6.338948</td>\n",
              "      <td>7.900701</td>\n",
              "      <td>4.620228</td>\n",
              "      <td>NaN</td>\n",
              "      <td>9.272192</td>\n",
              "      <td>4.365646</td>\n",
              "      <td>NaN</td>\n",
              "      <td>8.561840</td>\n",
              "      <td>6.556807</td>\n",
              "      <td>5.344507</td>\n",
              "      <td>3.354633</td>\n",
              "      <td>12.565178</td>\n",
              "      <td>4.908278</td>\n",
              "      <td>9.861356</td>\n",
              "      <td>4.177199</td>\n",
              "      <td>6.094268</td>\n",
              "      <td>3.954945</td>\n",
              "      <td>3.747778</td>\n",
              "      <td>6.499362</td>\n",
              "      <td>6.435833</td>\n",
              "      <td>8.361070</td>\n",
              "      <td>9.914313</td>\n",
              "      <td>7.199420</td>\n",
              "      <td>7.183395</td>\n",
              "      <td>4.648890</td>\n",
              "      <td>3.843081</td>\n",
              "      <td>3.738231</td>\n",
              "      <td>0.949180</td>\n",
              "    </tr>\n",
              "    <tr>\n",
              "      <th>1</th>\n",
              "      <td>NaN</td>\n",
              "      <td>4.444631</td>\n",
              "      <td>9.008218</td>\n",
              "      <td>5.105823</td>\n",
              "      <td>7.913547</td>\n",
              "      <td>12.517458</td>\n",
              "      <td>7.280895</td>\n",
              "      <td>7.777871</td>\n",
              "      <td>9.271241</td>\n",
              "      <td>6.720515</td>\n",
              "      <td>4.682578</td>\n",
              "      <td>4.977737</td>\n",
              "      <td>6.665028</td>\n",
              "      <td>8.947037</td>\n",
              "      <td>7.731367</td>\n",
              "      <td>3.747263</td>\n",
              "      <td>8.169364</td>\n",
              "      <td>5.542756</td>\n",
              "      <td>5.413200</td>\n",
              "      <td>7.043574</td>\n",
              "      <td>4.708887</td>\n",
              "      <td>NaN</td>\n",
              "      <td>6.838305</td>\n",
              "      <td>3.943316</td>\n",
              "      <td>7.781867</td>\n",
              "      <td>5.062617</td>\n",
              "      <td>5.506630</td>\n",
              "      <td>7.051435</td>\n",
              "      <td>3.471706</td>\n",
              "      <td>9.156991</td>\n",
              "      <td>4.200039</td>\n",
              "      <td>8.959411</td>\n",
              "      <td>9.932116</td>\n",
              "      <td>5.686480</td>\n",
              "      <td>5.128849</td>\n",
              "      <td>9.738769</td>\n",
              "      <td>3.995706</td>\n",
              "      <td>11.042208</td>\n",
              "      <td>7.154064</td>\n",
              "      <td>4.013644</td>\n",
              "      <td>...</td>\n",
              "      <td>5.445282</td>\n",
              "      <td>NaN</td>\n",
              "      <td>6.354785</td>\n",
              "      <td>8.028414</td>\n",
              "      <td>6.687008</td>\n",
              "      <td>4.971279</td>\n",
              "      <td>6.614888</td>\n",
              "      <td>4.081260</td>\n",
              "      <td>3.601829</td>\n",
              "      <td>7.604872</td>\n",
              "      <td>3.917713</td>\n",
              "      <td>4.757483</td>\n",
              "      <td>NaN</td>\n",
              "      <td>7.526438</td>\n",
              "      <td>3.694490</td>\n",
              "      <td>6.191045</td>\n",
              "      <td>5.148200</td>\n",
              "      <td>4.634077</td>\n",
              "      <td>7.043642</td>\n",
              "      <td>9.301337</td>\n",
              "      <td>7.040201</td>\n",
              "      <td>4.363401</td>\n",
              "      <td>3.393433</td>\n",
              "      <td>9.122821</td>\n",
              "      <td>4.753364</td>\n",
              "      <td>9.533123</td>\n",
              "      <td>3.895618</td>\n",
              "      <td>NaN</td>\n",
              "      <td>3.909534</td>\n",
              "      <td>3.788824</td>\n",
              "      <td>5.478426</td>\n",
              "      <td>8.067889</td>\n",
              "      <td>8.723680</td>\n",
              "      <td>8.410135</td>\n",
              "      <td>NaN</td>\n",
              "      <td>7.795937</td>\n",
              "      <td>4.855809</td>\n",
              "      <td>3.970728</td>\n",
              "      <td>3.774648</td>\n",
              "      <td>0.925969</td>\n",
              "    </tr>\n",
              "    <tr>\n",
              "      <th>2</th>\n",
              "      <td>5.605698</td>\n",
              "      <td>NaN</td>\n",
              "      <td>8.898105</td>\n",
              "      <td>5.586974</td>\n",
              "      <td>6.134739</td>\n",
              "      <td>12.971607</td>\n",
              "      <td>7.870813</td>\n",
              "      <td>NaN</td>\n",
              "      <td>8.428964</td>\n",
              "      <td>5.659006</td>\n",
              "      <td>5.126722</td>\n",
              "      <td>6.089012</td>\n",
              "      <td>7.912269</td>\n",
              "      <td>7.577540</td>\n",
              "      <td>7.945217</td>\n",
              "      <td>3.707126</td>\n",
              "      <td>NaN</td>\n",
              "      <td>6.919333</td>\n",
              "      <td>4.922276</td>\n",
              "      <td>6.707961</td>\n",
              "      <td>4.203910</td>\n",
              "      <td>3.707880</td>\n",
              "      <td>7.430700</td>\n",
              "      <td>4.366842</td>\n",
              "      <td>6.197245</td>\n",
              "      <td>5.082134</td>\n",
              "      <td>4.826023</td>\n",
              "      <td>7.424831</td>\n",
              "      <td>4.035421</td>\n",
              "      <td>10.665878</td>\n",
              "      <td>NaN</td>\n",
              "      <td>7.193747</td>\n",
              "      <td>9.798624</td>\n",
              "      <td>4.846879</td>\n",
              "      <td>8.763770</td>\n",
              "      <td>8.470668</td>\n",
              "      <td>4.298778</td>\n",
              "      <td>10.245974</td>\n",
              "      <td>8.101396</td>\n",
              "      <td>5.425294</td>\n",
              "      <td>...</td>\n",
              "      <td>6.396406</td>\n",
              "      <td>4.023376</td>\n",
              "      <td>5.278451</td>\n",
              "      <td>7.410414</td>\n",
              "      <td>13.024511</td>\n",
              "      <td>7.916932</td>\n",
              "      <td>5.101791</td>\n",
              "      <td>4.140189</td>\n",
              "      <td>NaN</td>\n",
              "      <td>7.880280</td>\n",
              "      <td>NaN</td>\n",
              "      <td>4.785510</td>\n",
              "      <td>7.803542</td>\n",
              "      <td>8.381381</td>\n",
              "      <td>4.511903</td>\n",
              "      <td>6.481863</td>\n",
              "      <td>8.629700</td>\n",
              "      <td>4.646756</td>\n",
              "      <td>5.921809</td>\n",
              "      <td>NaN</td>\n",
              "      <td>7.452154</td>\n",
              "      <td>6.124350</td>\n",
              "      <td>3.183405</td>\n",
              "      <td>11.773527</td>\n",
              "      <td>4.960934</td>\n",
              "      <td>10.013115</td>\n",
              "      <td>3.787315</td>\n",
              "      <td>5.293685</td>\n",
              "      <td>3.655333</td>\n",
              "      <td>3.788395</td>\n",
              "      <td>3.883212</td>\n",
              "      <td>NaN</td>\n",
              "      <td>8.241948</td>\n",
              "      <td>10.084551</td>\n",
              "      <td>NaN</td>\n",
              "      <td>6.690449</td>\n",
              "      <td>NaN</td>\n",
              "      <td>3.979788</td>\n",
              "      <td>3.767280</td>\n",
              "      <td>0.796764</td>\n",
              "    </tr>\n",
              "    <tr>\n",
              "      <th>3</th>\n",
              "      <td>5.600420</td>\n",
              "      <td>5.227187</td>\n",
              "      <td>NaN</td>\n",
              "      <td>5.463622</td>\n",
              "      <td>6.750111</td>\n",
              "      <td>13.167282</td>\n",
              "      <td>8.230154</td>\n",
              "      <td>8.427137</td>\n",
              "      <td>8.866081</td>\n",
              "      <td>5.736139</td>\n",
              "      <td>NaN</td>\n",
              "      <td>4.968936</td>\n",
              "      <td>7.528272</td>\n",
              "      <td>NaN</td>\n",
              "      <td>8.909074</td>\n",
              "      <td>3.722300</td>\n",
              "      <td>8.404938</td>\n",
              "      <td>3.869231</td>\n",
              "      <td>4.267206</td>\n",
              "      <td>7.361224</td>\n",
              "      <td>4.605853</td>\n",
              "      <td>3.847301</td>\n",
              "      <td>7.270288</td>\n",
              "      <td>4.038599</td>\n",
              "      <td>NaN</td>\n",
              "      <td>5.702869</td>\n",
              "      <td>4.538080</td>\n",
              "      <td>7.653117</td>\n",
              "      <td>4.133336</td>\n",
              "      <td>10.680945</td>\n",
              "      <td>4.368771</td>\n",
              "      <td>8.214779</td>\n",
              "      <td>10.169141</td>\n",
              "      <td>5.858755</td>\n",
              "      <td>7.309968</td>\n",
              "      <td>8.661320</td>\n",
              "      <td>4.067059</td>\n",
              "      <td>11.311402</td>\n",
              "      <td>8.543625</td>\n",
              "      <td>3.857765</td>\n",
              "      <td>...</td>\n",
              "      <td>6.339325</td>\n",
              "      <td>3.876358</td>\n",
              "      <td>6.022591</td>\n",
              "      <td>NaN</td>\n",
              "      <td>4.159766</td>\n",
              "      <td>4.976989</td>\n",
              "      <td>6.268705</td>\n",
              "      <td>3.984246</td>\n",
              "      <td>NaN</td>\n",
              "      <td>8.344793</td>\n",
              "      <td>4.918179</td>\n",
              "      <td>4.952986</td>\n",
              "      <td>7.301157</td>\n",
              "      <td>NaN</td>\n",
              "      <td>4.696873</td>\n",
              "      <td>5.175555</td>\n",
              "      <td>6.321756</td>\n",
              "      <td>4.230160</td>\n",
              "      <td>5.553331</td>\n",
              "      <td>8.494555</td>\n",
              "      <td>7.252368</td>\n",
              "      <td>5.271586</td>\n",
              "      <td>NaN</td>\n",
              "      <td>9.322858</td>\n",
              "      <td>5.012469</td>\n",
              "      <td>NaN</td>\n",
              "      <td>4.100421</td>\n",
              "      <td>NaN</td>\n",
              "      <td>NaN</td>\n",
              "      <td>3.812628</td>\n",
              "      <td>3.527591</td>\n",
              "      <td>NaN</td>\n",
              "      <td>NaN</td>\n",
              "      <td>9.603301</td>\n",
              "      <td>7.443413</td>\n",
              "      <td>7.464673</td>\n",
              "      <td>5.608629</td>\n",
              "      <td>3.949879</td>\n",
              "      <td>4.039176</td>\n",
              "      <td>0.988612</td>\n",
              "    </tr>\n",
              "    <tr>\n",
              "      <th>4</th>\n",
              "      <td>6.009817</td>\n",
              "      <td>4.757585</td>\n",
              "      <td>9.124004</td>\n",
              "      <td>5.040151</td>\n",
              "      <td>7.136392</td>\n",
              "      <td>12.690483</td>\n",
              "      <td>7.322986</td>\n",
              "      <td>7.910829</td>\n",
              "      <td>8.994872</td>\n",
              "      <td>5.532935</td>\n",
              "      <td>4.998818</td>\n",
              "      <td>NaN</td>\n",
              "      <td>8.145676</td>\n",
              "      <td>7.720591</td>\n",
              "      <td>7.998917</td>\n",
              "      <td>3.612603</td>\n",
              "      <td>8.607117</td>\n",
              "      <td>NaN</td>\n",
              "      <td>NaN</td>\n",
              "      <td>8.015474</td>\n",
              "      <td>5.044989</td>\n",
              "      <td>NaN</td>\n",
              "      <td>7.334230</td>\n",
              "      <td>4.036745</td>\n",
              "      <td>5.676593</td>\n",
              "      <td>4.227998</td>\n",
              "      <td>4.613581</td>\n",
              "      <td>7.245098</td>\n",
              "      <td>3.897732</td>\n",
              "      <td>10.946035</td>\n",
              "      <td>4.068831</td>\n",
              "      <td>9.208498</td>\n",
              "      <td>9.973715</td>\n",
              "      <td>5.159418</td>\n",
              "      <td>8.103184</td>\n",
              "      <td>9.302813</td>\n",
              "      <td>4.283222</td>\n",
              "      <td>10.193000</td>\n",
              "      <td>7.581884</td>\n",
              "      <td>4.037319</td>\n",
              "      <td>...</td>\n",
              "      <td>NaN</td>\n",
              "      <td>3.861536</td>\n",
              "      <td>5.246653</td>\n",
              "      <td>7.789558</td>\n",
              "      <td>10.585737</td>\n",
              "      <td>7.336791</td>\n",
              "      <td>5.731116</td>\n",
              "      <td>3.987703</td>\n",
              "      <td>3.791791</td>\n",
              "      <td>6.948579</td>\n",
              "      <td>4.504231</td>\n",
              "      <td>4.353700</td>\n",
              "      <td>7.006520</td>\n",
              "      <td>7.756086</td>\n",
              "      <td>4.262443</td>\n",
              "      <td>6.300681</td>\n",
              "      <td>NaN</td>\n",
              "      <td>4.569973</td>\n",
              "      <td>5.720345</td>\n",
              "      <td>7.424331</td>\n",
              "      <td>6.980403</td>\n",
              "      <td>5.186292</td>\n",
              "      <td>3.486876</td>\n",
              "      <td>11.421763</td>\n",
              "      <td>4.775937</td>\n",
              "      <td>9.344222</td>\n",
              "      <td>3.721062</td>\n",
              "      <td>5.270838</td>\n",
              "      <td>3.799799</td>\n",
              "      <td>3.764908</td>\n",
              "      <td>6.551126</td>\n",
              "      <td>5.768489</td>\n",
              "      <td>8.634560</td>\n",
              "      <td>9.378929</td>\n",
              "      <td>6.924514</td>\n",
              "      <td>6.883481</td>\n",
              "      <td>5.586970</td>\n",
              "      <td>NaN</td>\n",
              "      <td>3.841472</td>\n",
              "      <td>0.925969</td>\n",
              "    </tr>\n",
              "  </tbody>\n",
              "</table>\n",
              "<p>5 rows × 1325 columns</p>\n",
              "</div>"
            ],
            "text/plain": [
              "   exp_ALDH3B1  exp_TBXA2R  exp_ELAC2  ...  exp_PDPN  exp_KIAA1456  Erlotinib\n",
              "0     5.332068    5.613804   8.583122  ...  3.843081      3.738231   0.949180\n",
              "1          NaN    4.444631   9.008218  ...  3.970728      3.774648   0.925969\n",
              "2     5.605698         NaN   8.898105  ...  3.979788      3.767280   0.796764\n",
              "3     5.600420    5.227187        NaN  ...  3.949879      4.039176   0.988612\n",
              "4     6.009817    4.757585   9.124004  ...       NaN      3.841472   0.925969\n",
              "\n",
              "[5 rows x 1325 columns]"
            ]
          },
          "metadata": {
            "tags": []
          },
          "execution_count": 6
        }
      ]
    },
    {
      "cell_type": "code",
      "metadata": {
        "id": "9-CFXWD6zkzl"
      },
      "source": [
        "y = dataset.Erlotinib"
      ],
      "execution_count": 7,
      "outputs": []
    },
    {
      "cell_type": "code",
      "metadata": {
        "colab": {
          "base_uri": "https://localhost:8080/"
        },
        "id": "-L6fTErH0T5M",
        "outputId": "8ac7ceac-6061-409a-c17e-ce6712fe938f"
      },
      "source": [
        "y.head() # This is how our target variable looks like"
      ],
      "execution_count": 8,
      "outputs": [
        {
          "output_type": "execute_result",
          "data": {
            "text/plain": [
              "0    0.949180\n",
              "1    0.925969\n",
              "2    0.796764\n",
              "3    0.988612\n",
              "4    0.925969\n",
              "Name: Erlotinib, dtype: float64"
            ]
          },
          "metadata": {
            "tags": []
          },
          "execution_count": 8
        }
      ]
    },
    {
      "cell_type": "code",
      "metadata": {
        "colab": {
          "base_uri": "https://localhost:8080/"
        },
        "id": "tok_cpgQ0VR0",
        "outputId": "7588854f-57e1-46c0-e41f-d1874b1a282f"
      },
      "source": [
        "y.describe() #Lets see how our target variable looks like in terms of its statistics"
      ],
      "execution_count": 9,
      "outputs": [
        {
          "output_type": "execute_result",
          "data": {
            "text/plain": [
              "count    1061.000000\n",
              "mean        0.925969\n",
              "std         0.056239\n",
              "min         0.421191\n",
              "25%         0.925969\n",
              "50%         0.925969\n",
              "75%         0.947322\n",
              "max         1.000000\n",
              "Name: Erlotinib, dtype: float64"
            ]
          },
          "metadata": {
            "tags": []
          },
          "execution_count": 9
        }
      ]
    },
    {
      "cell_type": "code",
      "metadata": {
        "colab": {
          "base_uri": "https://localhost:8080/",
          "height": 35
        },
        "id": "kRcWieru0Z06",
        "outputId": "2ce99294-bf82-4512-b709-8953938ed1e7"
      },
      "source": [
        "#Lets extract the list of feature variables names to be used as predictors\r\n",
        "features = list(dataset.columns.values) #Make a list of all of the columns in the df\r\n",
        "features.pop(features.index('Erlotinib'))"
      ],
      "execution_count": 10,
      "outputs": [
        {
          "output_type": "execute_result",
          "data": {
            "application/vnd.google.colaboratory.intrinsic+json": {
              "type": "string"
            },
            "text/plain": [
              "'Erlotinib'"
            ]
          },
          "metadata": {
            "tags": []
          },
          "execution_count": 10
        }
      ]
    },
    {
      "cell_type": "code",
      "metadata": {
        "colab": {
          "base_uri": "https://localhost:8080/"
        },
        "id": "6GIFmMLX0vkz",
        "outputId": "0fecbb4f-1446-4751-acb9-b3e554779866"
      },
      "source": [
        "features #Here is the list of the feature column variable names "
      ],
      "execution_count": 11,
      "outputs": [
        {
          "output_type": "execute_result",
          "data": {
            "text/plain": [
              "['exp_ALDH3B1',\n",
              " 'exp_TBXA2R',\n",
              " 'exp_ELAC2',\n",
              " 'exp_PIGQ',\n",
              " 'exp_MYLIP',\n",
              " 'exp_PSMB1',\n",
              " 'exp_ABHD5',\n",
              " 'exp_BRCA1',\n",
              " 'exp_POLR3B',\n",
              " 'exp_GRAMD1B',\n",
              " 'exp_DEF6',\n",
              " 'exp_AGPAT4',\n",
              " 'exp_GAB2',\n",
              " 'exp_YTHDC2',\n",
              " 'exp_C12orf4',\n",
              " 'exp_TNIP3',\n",
              " 'exp_THRAP3',\n",
              " 'exp_STYK1',\n",
              " 'exp_ERBB3',\n",
              " 'exp_CDK13',\n",
              " 'exp_MGAT4A',\n",
              " 'exp_FCGR2B',\n",
              " 'exp_XRCC1',\n",
              " 'exp_TP63',\n",
              " 'exp_ALPK1',\n",
              " 'exp_GLI2',\n",
              " 'exp_PLD1',\n",
              " 'exp_GPATCH1',\n",
              " 'exp_P2RY10',\n",
              " 'exp_PGM1',\n",
              " 'exp_SCTR',\n",
              " 'exp_GSK3B',\n",
              " 'exp_TNPO1',\n",
              " 'exp_SLC27A5',\n",
              " 'exp_KIF3C',\n",
              " 'exp_RRN3',\n",
              " 'exp_WNT11',\n",
              " 'exp_MTIF2',\n",
              " 'exp_SRRT',\n",
              " 'exp_TMPRSS11E',\n",
              " 'exp_OTUB2',\n",
              " 'exp_RCOR1',\n",
              " 'exp_SEMA6A',\n",
              " 'exp_KCNK6',\n",
              " 'exp_MED15',\n",
              " 'exp_SUSD2',\n",
              " 'exp_SRRD',\n",
              " 'exp_DEPDC5',\n",
              " 'exp_TOMM22',\n",
              " 'exp_BRD1',\n",
              " 'exp_SIX4',\n",
              " 'exp_BMP7',\n",
              " 'exp_CST3',\n",
              " 'exp_METTL4',\n",
              " 'exp_RBBP8',\n",
              " 'exp_MID1',\n",
              " 'exp_MCF2',\n",
              " 'exp_MTMR8',\n",
              " 'exp_PCSK1N',\n",
              " 'exp_CENPI',\n",
              " 'exp_FGF9',\n",
              " 'exp_SGCG',\n",
              " 'exp_CBLN1',\n",
              " 'exp_TMCO7',\n",
              " 'exp_NPRL3',\n",
              " 'exp_ACSBG1',\n",
              " 'exp_KIAA1199',\n",
              " 'exp_ZDHHC2',\n",
              " 'exp_MTMR9',\n",
              " 'exp_PIH1D1',\n",
              " 'exp_RETN',\n",
              " 'exp_IL4I1',\n",
              " 'exp_GLTSCR2',\n",
              " 'exp_GRIN2D',\n",
              " 'exp_DBP',\n",
              " 'exp_CDK6',\n",
              " 'exp_PON3',\n",
              " 'exp_IQCE',\n",
              " 'exp_EZH2',\n",
              " 'exp_MRPL32',\n",
              " 'exp_MYL7',\n",
              " 'exp_TGFBR1',\n",
              " 'exp_KIAA1432',\n",
              " 'exp_ZFAND5',\n",
              " 'exp_ERLIN1',\n",
              " 'exp_MICU1',\n",
              " 'exp_NPM3',\n",
              " 'exp_TSPAN14',\n",
              " 'exp_SLAIN2',\n",
              " 'exp_CTSC',\n",
              " 'exp_CLEC2B',\n",
              " 'exp_C12orf49',\n",
              " 'exp_KLRB1',\n",
              " 'exp_DSE',\n",
              " 'exp_DUSP22',\n",
              " 'exp_NME5',\n",
              " 'exp_LMNB1',\n",
              " 'exp_GOLPH3',\n",
              " 'exp_PCDH12',\n",
              " 'exp_H2AFY',\n",
              " 'exp_HRH2',\n",
              " 'exp_CNTN3',\n",
              " 'exp_COL7A1',\n",
              " 'exp_FANCL',\n",
              " 'exp_PLCD4',\n",
              " 'exp_ZNF142',\n",
              " 'exp_PLCL1',\n",
              " 'exp_COX7A2L',\n",
              " 'exp_ATP6V1B1',\n",
              " 'exp_TCEANC2',\n",
              " 'exp_WDR77',\n",
              " 'exp_FBXO2',\n",
              " 'exp_PLA2G4A',\n",
              " 'exp_GADD45A',\n",
              " 'exp_TFAP2E',\n",
              " 'exp_PTCH2',\n",
              " 'exp_FASLG',\n",
              " 'exp_DDX59',\n",
              " 'exp_ANKRD13C',\n",
              " 'exp_TNFAIP3',\n",
              " 'exp_TRIM32',\n",
              " 'exp_ACYP1',\n",
              " 'exp_CNRIP1',\n",
              " 'exp_ELOVL3',\n",
              " 'exp_NUDCD1',\n",
              " 'exp_SOHLH2',\n",
              " 'exp_NFYB',\n",
              " 'exp_MAPK8IP1',\n",
              " 'exp_TMEM156',\n",
              " 'exp_GPSM2',\n",
              " 'exp_SEPT7',\n",
              " 'exp_NPY',\n",
              " 'exp_ZC3H13',\n",
              " 'exp_KCNJ2',\n",
              " 'exp_RAP2C',\n",
              " 'exp_FAM210B',\n",
              " 'exp_XG',\n",
              " 'exp_SLC35B3',\n",
              " 'exp_SOX21',\n",
              " 'exp_MIF4GD',\n",
              " 'exp_NT5C',\n",
              " 'exp_GPCPD1',\n",
              " 'exp_NCLN',\n",
              " 'exp_GRPR',\n",
              " 'exp_PROZ',\n",
              " 'exp_FFAR1',\n",
              " 'exp_EVI2A',\n",
              " 'exp_CPSF3L',\n",
              " 'exp_RGS13',\n",
              " 'exp_FGL2',\n",
              " 'exp_PPAT',\n",
              " 'exp_VGF',\n",
              " 'exp_KIF1C',\n",
              " 'exp_CCNT1',\n",
              " 'exp_BMP15',\n",
              " 'exp_UBAC1',\n",
              " 'exp_CEP85',\n",
              " 'exp_GMFG',\n",
              " 'exp_ARHGEF16',\n",
              " 'exp_DKC1',\n",
              " 'exp_C12orf65',\n",
              " 'exp_KIAA0664L3',\n",
              " 'exp_NR0B2',\n",
              " 'exp_FCRLA',\n",
              " 'exp_ENOSF1',\n",
              " 'exp_ZRANB2',\n",
              " 'exp_MATN2',\n",
              " 'exp_RBM38',\n",
              " 'exp_SCO1',\n",
              " 'exp_MACROD1',\n",
              " 'exp_RRAS2',\n",
              " 'exp_ELP3',\n",
              " 'exp_MYCN',\n",
              " 'exp_RBM17',\n",
              " 'exp_FBXO21',\n",
              " 'exp_P2RX4',\n",
              " 'exp_KCP',\n",
              " 'exp_HTR1B',\n",
              " 'exp_CHRND',\n",
              " 'exp_TSGA10',\n",
              " 'exp_VPS36',\n",
              " 'exp_ITM2B',\n",
              " 'exp_HUS1',\n",
              " 'exp_RP11-84C10.2',\n",
              " 'exp_NCBP1',\n",
              " 'exp_SLC22A7',\n",
              " 'exp_MNF1',\n",
              " 'exp_SMAD6',\n",
              " 'exp_CCBL2',\n",
              " 'exp_IFI44L',\n",
              " 'exp_PNPT1',\n",
              " 'exp_SIX3',\n",
              " 'exp_SPPL2A',\n",
              " 'exp_TRPC3',\n",
              " 'exp_CPNE8',\n",
              " 'exp_KLRG1',\n",
              " 'exp_TAPBPL',\n",
              " 'exp_SUOX',\n",
              " 'exp_BRCA2',\n",
              " 'exp_SLC12A6',\n",
              " 'exp_ABHD2',\n",
              " 'exp_TGFB1I1',\n",
              " 'exp_IMPA2',\n",
              " 'exp_GALNT1',\n",
              " 'exp_FAM59A',\n",
              " 'exp_RPL11',\n",
              " 'exp_PSMA5',\n",
              " 'exp_ADCY10',\n",
              " 'exp_DTL',\n",
              " 'exp_CREB3L4',\n",
              " 'exp_RIT1',\n",
              " 'exp_SHQ1',\n",
              " 'exp_NHP2',\n",
              " 'exp_HDAC8',\n",
              " 'exp_ZCCHC7',\n",
              " 'exp_NR6A1',\n",
              " 'exp_SLC5A12',\n",
              " 'exp_RGS18',\n",
              " 'exp_PIH1D2',\n",
              " 'exp_ITPR1',\n",
              " 'exp_AMN1',\n",
              " 'exp_RBM46',\n",
              " 'exp_FAM168B',\n",
              " 'exp_TMEM163',\n",
              " 'exp_SH2D6',\n",
              " 'exp_ZFP36L2',\n",
              " 'exp_PANK1',\n",
              " 'exp_ACMSD',\n",
              " 'exp_CABYR',\n",
              " 'exp_C6orf57',\n",
              " 'exp_SKA1',\n",
              " 'exp_LRGUK',\n",
              " 'exp_TRIM42',\n",
              " 'exp_PRG3',\n",
              " 'exp_PDE6D',\n",
              " 'exp_ST3GAL2',\n",
              " 'exp_AFAP1L1',\n",
              " 'exp_MITD1',\n",
              " 'exp_NPM2',\n",
              " 'exp_PLA2G4D',\n",
              " 'exp_GNE',\n",
              " 'exp_TNFRSF13C',\n",
              " 'exp_AGPAT3',\n",
              " 'exp_SLC2A6',\n",
              " 'exp_ZER1',\n",
              " 'exp_CRTC2',\n",
              " 'exp_MYL3',\n",
              " 'exp_MAML1',\n",
              " 'exp_PSMC2',\n",
              " 'exp_LEMD2',\n",
              " 'exp_C1orf123',\n",
              " 'exp_DHRS3',\n",
              " 'exp_NLRP3',\n",
              " 'exp_FCGR3B',\n",
              " 'exp_RBM15',\n",
              " 'exp_BROX',\n",
              " 'exp_SCNM1',\n",
              " 'exp_DCST1',\n",
              " 'exp_ATP1A1',\n",
              " 'exp_SENP2',\n",
              " 'exp_SLBP',\n",
              " 'exp_RHOBTB3',\n",
              " 'exp_ERAP2',\n",
              " 'exp_CCDC127',\n",
              " 'exp_SHROOM1',\n",
              " 'exp_STK17A',\n",
              " 'exp_USP49',\n",
              " 'exp_PEX2',\n",
              " 'exp_DEFA6',\n",
              " 'exp_ARMC3',\n",
              " 'exp_HECTD2',\n",
              " 'exp_GHITM',\n",
              " 'exp_IFI27',\n",
              " 'exp_GPT2',\n",
              " 'exp_APBB1',\n",
              " 'exp_ZNF143',\n",
              " 'exp_ZSCAN21',\n",
              " 'exp_CENPV',\n",
              " 'exp_MC4R',\n",
              " 'exp_ZNF646',\n",
              " 'exp_TPM4',\n",
              " 'exp_ECI1',\n",
              " 'exp_NLRC3',\n",
              " 'exp_RAB3IL1',\n",
              " 'exp_DNAJC7',\n",
              " 'exp_MPLKIP',\n",
              " 'exp_TMEM223',\n",
              " 'exp_PXDC1',\n",
              " 'exp_MECP2',\n",
              " 'exp_C8orf46',\n",
              " 'exp_CXCL11',\n",
              " 'exp_SHE',\n",
              " 'exp_SLC38A11',\n",
              " 'exp_ZEB2',\n",
              " 'exp_C15orf40',\n",
              " 'exp_BUB1',\n",
              " 'exp_GSX1',\n",
              " 'exp_AVEN',\n",
              " 'exp_FRMPD4',\n",
              " 'exp_GYPA',\n",
              " 'exp_KRT78',\n",
              " 'exp_IRF2BP1',\n",
              " 'exp_KCND3',\n",
              " 'exp_DSEL',\n",
              " 'exp_ECEL1',\n",
              " 'exp_NINJ2',\n",
              " 'exp_PPIH',\n",
              " 'exp_SUCLG2',\n",
              " 'exp_STARD5',\n",
              " 'exp_C2orf54',\n",
              " 'exp_CTSW',\n",
              " 'exp_DCP2',\n",
              " 'exp_ARPP21',\n",
              " 'exp_HPSE',\n",
              " 'exp_CCDC41',\n",
              " 'exp_GLIS1',\n",
              " 'exp_PARL',\n",
              " 'exp_ZNF408',\n",
              " 'exp_C7orf10',\n",
              " 'exp_LYSMD3',\n",
              " 'exp_B3GALT6',\n",
              " 'exp_KBTBD11',\n",
              " 'exp_METRNL',\n",
              " 'exp_ANO6',\n",
              " 'exp_ZNF491',\n",
              " 'exp_TMEM187',\n",
              " 'exp_CD28',\n",
              " 'exp_PFAS',\n",
              " 'exp_RRS1',\n",
              " 'exp_C9orf50',\n",
              " 'exp_OR6W1P',\n",
              " 'exp_ZFPM1',\n",
              " 'exp_FAHD1',\n",
              " 'exp_GPR144',\n",
              " 'exp_NRIP1',\n",
              " 'exp_S1PR5',\n",
              " 'exp_CSNK1G2-AS1',\n",
              " 'exp_FTSJD1',\n",
              " 'exp_MUC16',\n",
              " 'exp_PJA1',\n",
              " 'exp_C5orf30',\n",
              " 'exp_ZNF708',\n",
              " 'exp_HHIPL1',\n",
              " 'exp_CLN8',\n",
              " 'exp_ACBD3',\n",
              " 'exp_CCDC60',\n",
              " 'exp_PSMG1',\n",
              " 'exp_AC131971.1',\n",
              " 'exp_KRTAP8-1',\n",
              " 'exp_EFHC2',\n",
              " 'exp_MACC1',\n",
              " 'exp_BTBD9',\n",
              " 'exp_LRRC55',\n",
              " 'exp_NPB',\n",
              " 'exp_TMPRSS2',\n",
              " 'exp_PGP',\n",
              " 'exp_SRPK3',\n",
              " 'exp_CSF1',\n",
              " 'exp_PTP4A3',\n",
              " 'exp_KCNH7',\n",
              " 'exp_EIF4ENIF1',\n",
              " 'exp_MUC6',\n",
              " 'exp_CA13',\n",
              " 'exp_IL28RA',\n",
              " 'exp_FAM174B',\n",
              " 'exp_PDE6G',\n",
              " 'exp_POU3F1',\n",
              " 'exp_ANKFY1',\n",
              " 'exp_NRG3',\n",
              " 'exp_C2orf53',\n",
              " 'exp_MPPED1',\n",
              " 'exp_IFNA10',\n",
              " 'exp_KRTAP17-1',\n",
              " 'exp_ZACN',\n",
              " 'exp_LILRA5',\n",
              " 'exp_PCDHB13',\n",
              " 'exp_DNER',\n",
              " 'exp_AGPHD1',\n",
              " 'exp_PRR19',\n",
              " 'exp_NANOS1',\n",
              " 'exp_PLA2G2E',\n",
              " 'exp_FAM26F',\n",
              " 'exp_COBRA1',\n",
              " 'exp_RP11-173C20.1',\n",
              " 'exp_CXCL17',\n",
              " 'exp_ZNF79',\n",
              " 'exp_GIMAP5',\n",
              " 'exp_CPNE4',\n",
              " 'exp_TSC22D2',\n",
              " 'exp_ZNF775',\n",
              " 'exp_HLA-DQA1',\n",
              " 'exp_ZSCAN16',\n",
              " 'exp_KPNA5',\n",
              " 'exp_ZNF429',\n",
              " 'exp_ZNF470',\n",
              " 'exp_ZNF498',\n",
              " 'exp_MAFG',\n",
              " 'exp_GTF2E2',\n",
              " 'exp_MRPL21',\n",
              " 'exp_HTT',\n",
              " 'exp_TTC30A',\n",
              " 'exp_MYH6',\n",
              " 'exp_ZNF615',\n",
              " 'exp_RPL37A',\n",
              " 'exp_FAM118B',\n",
              " 'exp_CYP2A13',\n",
              " 'exp_OR8G7P',\n",
              " 'exp_ZNF813',\n",
              " 'exp_SH2D1B',\n",
              " 'exp_C1orf85',\n",
              " 'exp_RASSF9',\n",
              " 'exp_RYR3',\n",
              " 'exp_R3HDM4',\n",
              " 'exp_TSEN15',\n",
              " 'exp_Z99756.1',\n",
              " 'exp_TCP10',\n",
              " 'exp_LCN8',\n",
              " 'exp_LIPJ',\n",
              " 'exp_FOXO6',\n",
              " 'exp_MAFB',\n",
              " 'exp_AGPAT1',\n",
              " 'exp_LST1',\n",
              " 'exp_GNL1',\n",
              " 'exp_ZNF616',\n",
              " 'exp_ZNRD1-AS1',\n",
              " 'exp_CTC-308K20.1',\n",
              " 'exp_GPR20',\n",
              " 'exp_ZNF783',\n",
              " 'exp_LINC00654',\n",
              " 'exp_SCGB2B2',\n",
              " 'exp_LGR4',\n",
              " 'exp_E2F4',\n",
              " 'exp_MUC12',\n",
              " 'exp_TECPR1',\n",
              " 'exp_CTA-384D8.20',\n",
              " 'exp_GMNC',\n",
              " 'exp_LRRC72',\n",
              " 'exp_CEMP1',\n",
              " 'exp_NYNRIN',\n",
              " 'exp_DNAJC19',\n",
              " 'exp_RAB12',\n",
              " 'exp_KRBOX1-AS1',\n",
              " 'exp_IGLV1-40',\n",
              " 'exp_TRAV6',\n",
              " 'exp_IGHV3-73',\n",
              " 'exp_KRTAP3-2',\n",
              " 'exp_SIPA1',\n",
              " 'exp_KCTD11',\n",
              " 'exp_RP3-522P13.2',\n",
              " 'exp_IFNA7',\n",
              " 'exp_AMZ2P1',\n",
              " 'exp_RP11-642P15.1',\n",
              " 'exp_PLIN5',\n",
              " 'exp_RPS4XP3',\n",
              " 'exp_ZSWIM7',\n",
              " 'exp_UBXN2B',\n",
              " 'exp_ZNF407',\n",
              " 'exp_SRMP1',\n",
              " 'exp_RP1-179E13.1',\n",
              " 'exp_RP3-508D13.1',\n",
              " 'exp_LL22NC03-75H12.2',\n",
              " 'exp_RP1-263J7.1',\n",
              " 'exp_RP1-6P5.2',\n",
              " 'exp_ZGLP1',\n",
              " 'exp_OR1C1',\n",
              " 'exp_FAM200A',\n",
              " 'exp_TIGD1',\n",
              " 'exp_AC062017.1',\n",
              " 'exp_AC004383.4',\n",
              " 'exp_AC009506.1',\n",
              " 'exp_LINC00620',\n",
              " 'exp_TEX26-AS1',\n",
              " 'exp_CTA-282F2.3',\n",
              " 'exp_RP5-991C6.3',\n",
              " 'exp_ZNF469',\n",
              " 'exp_RP11-513G11.4',\n",
              " 'exp_RUSC1-AS1',\n",
              " 'exp_AC007461.2',\n",
              " 'exp_RP11-406O16.1',\n",
              " 'exp_LINC00343',\n",
              " 'exp_RP11-203B9.4',\n",
              " 'exp_LTB',\n",
              " 'exp_RP4-773A18.4',\n",
              " 'exp_SNAP25-AS1',\n",
              " 'exp_RP11-12L8.1',\n",
              " 'exp_CASP16',\n",
              " 'exp_AL022341.3',\n",
              " 'exp_KDM5B-AS1',\n",
              " 'exp_AC136896.1',\n",
              " 'exp_AC013400.2',\n",
              " 'exp_RP11-157P1.5',\n",
              " 'exp_UBAC2-AS1',\n",
              " 'exp_AC020571.3',\n",
              " 'exp_LINC00242',\n",
              " 'exp_RP1-251M9.1',\n",
              " 'exp_RP11-124L5.7',\n",
              " 'exp_FLJ14082',\n",
              " 'exp_RP11-159G9.5',\n",
              " 'exp_RP4-568F9.6',\n",
              " 'exp_RP11-645N11.2',\n",
              " 'exp_PSMG3-AS1',\n",
              " 'exp_ENO1-AS1',\n",
              " 'exp_RP4-738P15.1',\n",
              " 'exp_AC103588.1',\n",
              " 'exp_LINC00441',\n",
              " 'exp_RP5-1158E12.3',\n",
              " 'exp_LINC00415',\n",
              " 'exp_RAB9BP1',\n",
              " 'exp_RP5-842K24.2',\n",
              " 'exp_DAOA-AS1',\n",
              " 'exp_RP11-126K1.2',\n",
              " 'exp_ZFY-AS1',\n",
              " 'exp_CYCSP33',\n",
              " 'exp_RP11-500B12.1',\n",
              " 'exp_CYP2T2P',\n",
              " 'exp_LINC00656',\n",
              " 'exp_RP13-25N22.1',\n",
              " 'exp_RP5-1116H23.1',\n",
              " 'exp_AC079117.1',\n",
              " 'exp_C11orf94',\n",
              " 'exp_FAM83C-AS1',\n",
              " 'exp_AC007389.3',\n",
              " 'exp_LINC00607',\n",
              " 'exp_NEXN-AS1',\n",
              " 'exp_AC097662.2',\n",
              " 'exp_AL773604.8',\n",
              " 'exp_ARHGEF38',\n",
              " 'exp_AC010987.6',\n",
              " 'exp_FOXD2-AS1',\n",
              " 'exp_RP11-356I2.4',\n",
              " 'exp_AC114783.1',\n",
              " 'exp_AP000251.2',\n",
              " 'exp_AC079922.3',\n",
              " 'exp_C3orf79',\n",
              " 'exp_RP11-108M9.4',\n",
              " 'exp_AC129929.5',\n",
              " 'exp_C9orf69',\n",
              " 'exp_RP11-747D18.1',\n",
              " 'exp_AC002310.7',\n",
              " 'exp_IGKV1D-8',\n",
              " 'exp_ZNF542',\n",
              " 'exp_TCAM1P',\n",
              " 'exp_RDH14',\n",
              " 'exp_KRTAP4-7',\n",
              " 'exp_RP11-451G4.1',\n",
              " 'exp_AC002467.7',\n",
              " 'exp_ARFGAP3',\n",
              " 'exp_RP11-285F7.2',\n",
              " 'exp_C4orf48',\n",
              " 'exp_UPK3B',\n",
              " 'exp_FOXP1-AS1',\n",
              " 'exp_RP11-129K20.2',\n",
              " 'exp_RP11-1398P2.1',\n",
              " 'exp_RP11-847H18.2',\n",
              " 'exp_RP11-30K9.6',\n",
              " 'exp_RP11-434C1.1',\n",
              " 'exp_CARS-AS1',\n",
              " 'exp_RP11-358M11.2',\n",
              " 'exp_RP11-18C24.6',\n",
              " 'exp_LINC00616',\n",
              " 'exp_RBM14-RBM4',\n",
              " 'exp_CTD-3080P12.3',\n",
              " 'exp_RP11-143E21.7',\n",
              " 'exp_RP11-230G5.2',\n",
              " 'exp_ZBED3-AS1',\n",
              " 'exp_RP11-447B18.1',\n",
              " 'exp_RPL32P3',\n",
              " 'exp_FOXD1',\n",
              " 'exp_CTD-2309H9.3',\n",
              " 'exp_CTD-3046C4.1',\n",
              " 'exp_RP11-94H18.3',\n",
              " 'exp_KB-1507C5.2',\n",
              " 'exp_RP11-600K15.1',\n",
              " 'exp_GS1-251I9.4',\n",
              " 'exp_AC025442.3',\n",
              " 'exp_CTB-33O18.3',\n",
              " 'exp_CTB-43E15.1',\n",
              " 'exp_CTB-78F1.1',\n",
              " 'exp_RP11-219B4.3',\n",
              " 'exp_RP11-706J10.1',\n",
              " 'exp_CTD-2337I7.1',\n",
              " 'exp_RP11-539G18.2',\n",
              " 'exp_LINC00507',\n",
              " 'exp_RP11-450K4.1',\n",
              " 'exp_RP11-996F15.2',\n",
              " 'exp_RP11-266E14.1',\n",
              " 'exp_RP11-781A6.1',\n",
              " 'exp_LINC00485',\n",
              " 'exp_FAM181A-AS1',\n",
              " 'exp_DIO2-AS1',\n",
              " 'exp_RP11-761I4.3',\n",
              " 'exp_RP11-2E17.1',\n",
              " 'exp_RP11-430B1.2',\n",
              " 'exp_SH3RF3-AS1',\n",
              " 'exp_IL21R-AS1',\n",
              " 'exp_RP11-764E7.1',\n",
              " 'exp_RP11-521O16.2',\n",
              " 'exp_RP11-229P13.25',\n",
              " 'exp_RP11-856B14.1',\n",
              " 'exp_RP11-44F21.5',\n",
              " 'exp_RP11-109G23.3',\n",
              " 'exp_RP11-395I6.3',\n",
              " 'exp_RP11-119F7.5',\n",
              " 'exp_CTD-2542L18.1',\n",
              " 'exp_RP11-390B4.5',\n",
              " 'exp_RP11-1006G14.1',\n",
              " 'exp_RP11-255C15.3',\n",
              " 'exp_RP11-184E9.2',\n",
              " 'exp_RP11-320H14.1',\n",
              " 'exp_LA16c-395F10.2',\n",
              " 'exp_DOCK9-AS2',\n",
              " 'exp_RP13-122B23.8',\n",
              " 'exp_RP11-554A11.8',\n",
              " 'exp_RP4-545K15.5',\n",
              " 'exp_EPPK1',\n",
              " 'exp_RNF126P1',\n",
              " 'exp_RP3-496C20.1',\n",
              " 'exp_BOP1',\n",
              " 'exp_RP11-760D2.11',\n",
              " 'exp_RP11-626G11.1',\n",
              " 'exp_AC106782.18',\n",
              " 'exp_RP11-59E19.4',\n",
              " 'exp_AC009120.4',\n",
              " 'exp_RP11-1007O24.3',\n",
              " 'exp_RP11-16P6.1',\n",
              " 'exp_CTD-2050B12.2',\n",
              " 'exp_RP11-91I8.1',\n",
              " 'exp_RP11-489G11.3',\n",
              " 'exp_AP001505.9',\n",
              " 'exp_RP4-612B15.3',\n",
              " 'exp_AC005592.3',\n",
              " 'exp_RP11-529K1.2',\n",
              " 'exp_CTD-2354A18.1',\n",
              " 'exp_RP11-480G7.1',\n",
              " 'exp_CTD-2561B21.5',\n",
              " 'exp_RP11-473M20.7',\n",
              " 'exp_RP11-960B9.2',\n",
              " 'exp_RP11-353N14.1',\n",
              " 'exp_CTD-2047H16.4',\n",
              " 'exp_RP11-109M19.1',\n",
              " 'exp_RP11-118E18.4',\n",
              " 'exp_IKBKE',\n",
              " 'exp_RP11-1109M24.16',\n",
              " 'exp_RP3-416J7.4',\n",
              " 'exp_RP11-498C9.15',\n",
              " 'exp_C1orf186',\n",
              " 'exp_CTD-2267D19.2',\n",
              " 'exp_CBX3P2',\n",
              " 'exp_MYO15B',\n",
              " 'exp_TBC1D29',\n",
              " 'exp_CTB-175E5.4',\n",
              " 'exp_CTD-2528L19.6',\n",
              " 'exp_AC005624.2',\n",
              " 'exp_AC139100.3',\n",
              " 'exp_AC024592.9',\n",
              " 'exp_AC016629.8',\n",
              " 'exp_DKFZP434E1119',\n",
              " 'exp_DKFZP434H0512',\n",
              " 'exp_LINC00528',\n",
              " 'exp_CTD-3222D19.7',\n",
              " 'exp_ZIM2',\n",
              " 'exp_RP11-145M9.4',\n",
              " 'exp_RP11-174G6.5',\n",
              " 'exp_RP11-116D17.1',\n",
              " 'exp_PRC1',\n",
              " 'exp_MARCH10',\n",
              " 'exp_IFNA2',\n",
              " 'exp_RP11-413B19.2',\n",
              " 'exp_RBBP6',\n",
              " 'exp_ARPC5',\n",
              " 'exp_B3GAT3',\n",
              " 'exp_CCR9',\n",
              " 'exp_CALHM3',\n",
              " 'exp_MGAT4C',\n",
              " 'exp_GNB2L1',\n",
              " 'exp_CACNA1E',\n",
              " 'exp_GSTM4',\n",
              " 'exp_TMEM132D',\n",
              " 'exp_PCA3',\n",
              " 'exp_CSGALNACT2',\n",
              " 'exp_APIP',\n",
              " 'exp_LGALS12',\n",
              " 'exp_CWC15',\n",
              " 'exp_GDA',\n",
              " 'exp_WDR17',\n",
              " 'exp_AP3M2',\n",
              " 'exp_SYNDIG1L',\n",
              " 'exp_CRYGB',\n",
              " 'exp_DNAH10',\n",
              " 'exp_ZNF84',\n",
              " 'exp_CLEC14A',\n",
              " 'exp_RNF19A',\n",
              " 'exp_CASP1',\n",
              " 'exp_MYNN',\n",
              " 'exp_UNG',\n",
              " 'exp_OR10H2',\n",
              " 'exp_ANGPTL1',\n",
              " 'exp_C20orf96',\n",
              " 'exp_NMUR2',\n",
              " 'exp_C5orf64',\n",
              " 'exp_SH2B2',\n",
              " 'exp_PTPRU',\n",
              " 'exp_SIGIRR',\n",
              " 'exp_C21orf7',\n",
              " 'exp_CTD-2329C7.2',\n",
              " 'exp_ZNF415',\n",
              " 'exp_KMO',\n",
              " 'exp_UCN',\n",
              " 'exp_HSPB6',\n",
              " 'exp_RP11-150O12.3',\n",
              " 'exp_KDM3A',\n",
              " 'exp_ASB10',\n",
              " 'exp_BAG1',\n",
              " 'exp_CAV1',\n",
              " 'exp_SLC2A9',\n",
              " 'exp_ACTL7B',\n",
              " 'exp_GRASP',\n",
              " 'exp_AHSP',\n",
              " 'exp_C1orf43',\n",
              " 'exp_MXRA7',\n",
              " 'exp_EVI5L',\n",
              " 'exp_HEMGN',\n",
              " 'exp_YBX2',\n",
              " 'exp_SMARCD2',\n",
              " 'exp_PPP5D1',\n",
              " 'exp_CORO6',\n",
              " 'exp_RP11-79E3.3',\n",
              " 'exp_NDUFA8',\n",
              " 'exp_UBXN2A',\n",
              " 'exp_FANCM',\n",
              " 'exp_TRHDE',\n",
              " 'exp_VSTM2A',\n",
              " 'exp_ALKBH7',\n",
              " 'exp_TMPRSS11D',\n",
              " 'exp_SNAP91',\n",
              " 'exp_UHRF2',\n",
              " 'exp_TRIM55',\n",
              " 'exp_C15orf61',\n",
              " 'exp_FARS2',\n",
              " 'exp_ZFAND1',\n",
              " 'exp_BLVRA',\n",
              " 'exp_PGBD4',\n",
              " 'exp_DDX18',\n",
              " 'exp_KLF2',\n",
              " 'exp_RP11-63A1.2',\n",
              " 'exp_SLC34A3',\n",
              " 'exp_RP11-587D21.4',\n",
              " 'exp_SCAMP4',\n",
              " 'exp_PRKAG1',\n",
              " 'exp_TMEM66',\n",
              " 'exp_RAG2',\n",
              " 'exp_SPATA20',\n",
              " 'exp_CD1A',\n",
              " 'exp_OLR1',\n",
              " 'exp_FBXO9',\n",
              " 'exp_RP11-677M14.3',\n",
              " 'exp_DCAF7',\n",
              " 'exp_RP11-672A2.6',\n",
              " 'exp_AC093415.2',\n",
              " 'exp_RP4-675G8.2',\n",
              " 'exp_SLC34A2',\n",
              " 'exp_CFL1',\n",
              " 'exp_TBCA',\n",
              " 'exp_TDRG1',\n",
              " 'exp_HSD17B10',\n",
              " 'exp_EPHX2',\n",
              " 'exp_TDP1',\n",
              " 'exp_ANXA2P3',\n",
              " 'exp_RP5-916L7.1',\n",
              " 'exp_SNX9',\n",
              " 'exp_RP11-252C15.1',\n",
              " 'exp_ZNF234',\n",
              " 'exp_RP11-307P5.2',\n",
              " 'exp_DLL3',\n",
              " 'exp_TSSK3',\n",
              " 'exp_RP3-402G11.5',\n",
              " 'exp_KBTBD6',\n",
              " 'exp_TRMT5',\n",
              " 'exp_ZNF439',\n",
              " 'exp_MATN3',\n",
              " 'exp_ACE2',\n",
              " 'exp_CROCC',\n",
              " 'exp_TNFRSF10C',\n",
              " 'exp_ARL6',\n",
              " 'exp_SEMA4C',\n",
              " 'exp_AC108676.1',\n",
              " 'exp_PRDM12',\n",
              " 'exp_CELSR3',\n",
              " 'exp_ZMAT4',\n",
              " 'exp_IL17D',\n",
              " 'exp_ZDHHC7',\n",
              " 'exp_SLC14A1',\n",
              " 'exp_CEP70',\n",
              " 'exp_UBR3',\n",
              " 'exp_PVRL3-AS1',\n",
              " 'exp_RP11-37C7.3',\n",
              " 'exp_IDH3B',\n",
              " 'exp_GOPC',\n",
              " 'exp_FMN2',\n",
              " 'exp_CNTN1',\n",
              " 'exp_RPTOR',\n",
              " 'exp_OSBPL3',\n",
              " 'exp_NADKD1',\n",
              " 'exp_RABGAP1',\n",
              " 'exp_TRPA1',\n",
              " 'exp_MFAP2',\n",
              " 'exp_C4orf17',\n",
              " 'exp_DNAJB14',\n",
              " 'exp_MYT1',\n",
              " 'exp_DYSF',\n",
              " 'exp_AKAP6',\n",
              " 'exp_UBL3',\n",
              " 'exp_RP11-354E11.2',\n",
              " 'exp_MMAB',\n",
              " 'exp_PRKACA',\n",
              " 'exp_ASXL1',\n",
              " 'exp_NTSR2',\n",
              " 'exp_CNIH2',\n",
              " 'exp_HPS4',\n",
              " 'exp_ESM1',\n",
              " 'exp_MAPK1',\n",
              " 'exp_CIDECP',\n",
              " 'exp_ZNF252P',\n",
              " 'exp_ACP6',\n",
              " 'exp_RP1-1J6.2',\n",
              " 'exp_RP11-21M24.2',\n",
              " 'exp_RP1-228P16.5',\n",
              " 'exp_FBXO16',\n",
              " 'exp_FOLR3',\n",
              " 'exp_UIMC1',\n",
              " 'exp_PLXDC1',\n",
              " 'exp_AC003973.4',\n",
              " 'exp_RTN4RL1',\n",
              " 'exp_DUSP18',\n",
              " 'exp_RP11-313A24.1',\n",
              " 'exp_FLJ00388',\n",
              " 'exp_CIITA',\n",
              " 'exp_GABRE',\n",
              " 'exp_WDR11',\n",
              " 'exp_WDR12',\n",
              " 'exp_ATP11C',\n",
              " 'exp_SERTAD1',\n",
              " 'exp_ZNF561',\n",
              " 'exp_PSORS1C2',\n",
              " 'exp_PAX7',\n",
              " 'exp_AFAP1',\n",
              " 'exp_RP11-609L23.1',\n",
              " 'exp_RPS27A',\n",
              " 'exp_ACOT4',\n",
              " 'exp_LRRC27',\n",
              " 'exp_HYALP1',\n",
              " 'exp_GHRH',\n",
              " 'exp_FNDC3B',\n",
              " 'exp_FOXD3',\n",
              " 'exp_MRPL14',\n",
              " 'exp_PNMAL1',\n",
              " 'exp_FGR',\n",
              " 'exp_CNOT6',\n",
              " 'exp_MPP5',\n",
              " 'exp_ZNF221',\n",
              " 'exp_TREX2',\n",
              " 'exp_PPP1R8',\n",
              " 'exp_TCF25',\n",
              " 'exp_SIRT1',\n",
              " 'exp_RP11-120J20.4',\n",
              " 'exp_CTNNB1',\n",
              " 'exp_RP11-524D16__A.3',\n",
              " 'exp_RP11-756K15.2',\n",
              " 'exp_SLC25A37',\n",
              " 'exp_FLYWCH2',\n",
              " 'exp_SRSF6',\n",
              " 'exp_SARS2',\n",
              " 'exp_GABRA1',\n",
              " 'exp_ZNF281',\n",
              " 'exp_ECM2',\n",
              " 'exp_TTC22',\n",
              " 'exp_BRAF',\n",
              " 'exp_CTD-2024I7.13',\n",
              " 'exp_RIN3',\n",
              " 'exp_DDX39A',\n",
              " 'exp_FAM32A',\n",
              " 'exp_EIF3H',\n",
              " 'exp_ACTN2',\n",
              " 'exp_GAP43',\n",
              " 'exp_FLJ22184',\n",
              " 'exp_AIM1L',\n",
              " 'exp_TNNT3',\n",
              " 'exp_SDF4',\n",
              " 'exp_PCNA',\n",
              " 'exp_TPD52L2',\n",
              " 'exp_NAMPT',\n",
              " 'exp_EIF4A2',\n",
              " 'exp_KIF25-AS1',\n",
              " 'exp_FGF12',\n",
              " 'exp_CTD-2228K2.5',\n",
              " 'exp_FBXO30',\n",
              " 'exp_RP5-1027G4.3',\n",
              " 'exp_ZC3H14',\n",
              " 'exp_ADAM12',\n",
              " 'exp_MIR205HG',\n",
              " 'exp_PPP1R3E',\n",
              " 'exp_SP140',\n",
              " 'exp_SPAG11B',\n",
              " 'exp_AC074389.9',\n",
              " 'exp_RP11-82I10.1',\n",
              " 'exp_LINC00354',\n",
              " 'exp_ENDOD1',\n",
              " 'exp_PITX2',\n",
              " 'exp_SIX5',\n",
              " 'exp_GDPGP1',\n",
              " 'exp_QARS',\n",
              " 'exp_ATF6',\n",
              " 'exp_FANCD2',\n",
              " 'exp_RP11-308N19.1',\n",
              " 'exp_RASGEF1A',\n",
              " 'exp_KHNYN',\n",
              " 'exp_SIX3-AS1',\n",
              " 'exp_SDC1',\n",
              " 'exp_TNFRSF11B',\n",
              " 'exp_PLEK2',\n",
              " 'exp_FAM9A',\n",
              " 'exp_RP11-438B23.2',\n",
              " 'exp_RNASEH2C',\n",
              " 'exp_PDIA6',\n",
              " 'exp_RP11-586K2.1',\n",
              " 'exp_RP11-415J8.5',\n",
              " 'exp_USO1',\n",
              " 'exp_PCDHB2',\n",
              " 'exp_LRP6',\n",
              " 'exp_PRDX1',\n",
              " 'exp_COG6',\n",
              " 'exp_RP11-757F18.5',\n",
              " 'exp_FOXE1',\n",
              " 'exp_EPHB1',\n",
              " 'exp_MGST1',\n",
              " 'exp_SUB1',\n",
              " 'exp_CEBPE',\n",
              " 'exp_FGD6',\n",
              " 'exp_RNF186',\n",
              " 'exp_SLC25A22',\n",
              " 'exp_ERCC2',\n",
              " 'exp_ETV4',\n",
              " 'exp_CDK8',\n",
              " 'exp_ZNF681',\n",
              " 'exp_LAIR1',\n",
              " 'exp_RP11-909B2.1',\n",
              " 'exp_DCAF17',\n",
              " 'exp_RP11-118N24.3',\n",
              " 'exp_RNFT1',\n",
              " 'exp_DNAJC3',\n",
              " 'exp_PAN3',\n",
              " 'exp_C16orf89',\n",
              " 'exp_VAPA',\n",
              " 'exp_CCNA2',\n",
              " 'exp_LRRC23',\n",
              " 'exp_NEURL2',\n",
              " 'exp_CYP2A7P1',\n",
              " 'exp_PPP1R13B',\n",
              " 'exp_RPN2',\n",
              " 'exp_SGSH',\n",
              " 'exp_GRHL2',\n",
              " 'exp_C1orf132',\n",
              " 'exp_PNMA6C',\n",
              " 'exp_NMNAT2',\n",
              " 'exp_ZNF766',\n",
              " 'exp_LINC00687',\n",
              " 'exp_OBFC1',\n",
              " 'exp_CDC42BPB',\n",
              " 'exp_N4BP2',\n",
              " 'exp_INTS12',\n",
              " 'exp_GALP',\n",
              " 'exp_ARIH2OS',\n",
              " 'exp_AP1M2',\n",
              " 'exp_KIF20A',\n",
              " 'exp_RP11-140I24.1',\n",
              " 'exp_PRKG1',\n",
              " 'exp_HMG20B',\n",
              " 'exp_UNC45B',\n",
              " 'exp_DNAJB1',\n",
              " 'exp_BANK1',\n",
              " 'exp_ZBED3',\n",
              " 'exp_LRTM1',\n",
              " 'exp_DLX2',\n",
              " 'exp_ITGA7',\n",
              " 'exp_UBIAD1',\n",
              " 'exp_ZCCHC17',\n",
              " 'exp_HGS',\n",
              " 'exp_RP5-1061H20.3',\n",
              " 'exp_LINC00210',\n",
              " 'exp_AHCYL2',\n",
              " 'exp_OSTC',\n",
              " 'exp_KIFC1',\n",
              " 'exp_HFM1',\n",
              " 'exp_RP11-122A3.2',\n",
              " 'exp_DMRT1',\n",
              " 'exp_GMEB1',\n",
              " 'exp_OGFOD1',\n",
              " 'exp_C11orf95',\n",
              " 'exp_RP11-14I4.3',\n",
              " 'exp_RP11-506B6.6',\n",
              " ...]"
            ]
          },
          "metadata": {
            "tags": []
          },
          "execution_count": 11
        }
      ]
    },
    {
      "cell_type": "code",
      "metadata": {
        "colab": {
          "base_uri": "https://localhost:8080/",
          "height": 387
        },
        "id": "-5BCGxmc9Oqq",
        "outputId": "2ea9d65b-8571-4ebe-bc0e-a482bfac0b6c"
      },
      "source": [
        "sns.displot(y, kind=\"kde\")"
      ],
      "execution_count": 12,
      "outputs": [
        {
          "output_type": "execute_result",
          "data": {
            "text/plain": [
              "<seaborn.axisgrid.FacetGrid at 0x7f9b788f0e10>"
            ]
          },
          "metadata": {
            "tags": []
          },
          "execution_count": 12
        },
        {
          "output_type": "display_data",
          "data": {
            "image/png": "[encoded data removed]",
            "text/plain": [
              "<Figure size 360x360 with 1 Axes>"
            ]
          },
          "metadata": {
            "tags": [],
            "needs_background": "light"
          }
        }
      ]
    },
    {
      "cell_type": "code",
      "metadata": {
        "id": "zhlP9YBF00Xl"
      },
      "source": [
        "# So we can see that the target values have skewed distribution with a long initial tail\r\n"
      ],
      "execution_count": null,
      "outputs": []
    },
    {
      "cell_type": "code",
      "metadata": {
        "id": "GzM0T2EN9Wd5"
      },
      "source": [
        "X = dataset[features]"
      ],
      "execution_count": 13,
      "outputs": []
    },
    {
      "cell_type": "code",
      "metadata": {
        "colab": {
          "base_uri": "https://localhost:8080/",
          "height": 269
        },
        "id": "hy9V6tqG1bKA",
        "outputId": "3cd30bbd-83d2-47bc-f0f8-ad4700389529"
      },
      "source": [
        "X.head()"
      ],
      "execution_count": 14,
      "outputs": [
        {
          "output_type": "execute_result",
          "data": {
            "text/html": [
              "<div>\n",
              "<style scoped>\n",
              "    .dataframe tbody tr th:only-of-type {\n",
              "        vertical-align: middle;\n",
              "    }\n",
              "\n",
              "    .dataframe tbody tr th {\n",
              "        vertical-align: top;\n",
              "    }\n",
              "\n",
              "    .dataframe thead th {\n",
              "        text-align: right;\n",
              "    }\n",
              "</style>\n",
              "<table border=\"1\" class=\"dataframe\">\n",
              "  <thead>\n",
              "    <tr style=\"text-align: right;\">\n",
              "      <th></th>\n",
              "      <th>exp_ALDH3B1</th>\n",
              "      <th>exp_TBXA2R</th>\n",
              "      <th>exp_ELAC2</th>\n",
              "      <th>exp_PIGQ</th>\n",
              "      <th>exp_MYLIP</th>\n",
              "      <th>exp_PSMB1</th>\n",
              "      <th>exp_ABHD5</th>\n",
              "      <th>exp_BRCA1</th>\n",
              "      <th>exp_POLR3B</th>\n",
              "      <th>exp_GRAMD1B</th>\n",
              "      <th>exp_DEF6</th>\n",
              "      <th>exp_AGPAT4</th>\n",
              "      <th>exp_GAB2</th>\n",
              "      <th>exp_YTHDC2</th>\n",
              "      <th>exp_C12orf4</th>\n",
              "      <th>exp_TNIP3</th>\n",
              "      <th>exp_THRAP3</th>\n",
              "      <th>exp_STYK1</th>\n",
              "      <th>exp_ERBB3</th>\n",
              "      <th>exp_CDK13</th>\n",
              "      <th>exp_MGAT4A</th>\n",
              "      <th>exp_FCGR2B</th>\n",
              "      <th>exp_XRCC1</th>\n",
              "      <th>exp_TP63</th>\n",
              "      <th>exp_ALPK1</th>\n",
              "      <th>exp_GLI2</th>\n",
              "      <th>exp_PLD1</th>\n",
              "      <th>exp_GPATCH1</th>\n",
              "      <th>exp_P2RY10</th>\n",
              "      <th>exp_PGM1</th>\n",
              "      <th>exp_SCTR</th>\n",
              "      <th>exp_GSK3B</th>\n",
              "      <th>exp_TNPO1</th>\n",
              "      <th>exp_SLC27A5</th>\n",
              "      <th>exp_KIF3C</th>\n",
              "      <th>exp_RRN3</th>\n",
              "      <th>exp_WNT11</th>\n",
              "      <th>exp_MTIF2</th>\n",
              "      <th>exp_SRRT</th>\n",
              "      <th>exp_TMPRSS11E</th>\n",
              "      <th>...</th>\n",
              "      <th>exp_CD80</th>\n",
              "      <th>exp_CACTIN</th>\n",
              "      <th>exp_MYCNOS</th>\n",
              "      <th>exp_TONSL</th>\n",
              "      <th>exp_TMEM17</th>\n",
              "      <th>exp_LCN2</th>\n",
              "      <th>exp_CARD11</th>\n",
              "      <th>exp_DFFB</th>\n",
              "      <th>exp_C1orf64</th>\n",
              "      <th>exp_NTRK1</th>\n",
              "      <th>exp_C16orf52</th>\n",
              "      <th>exp_DTX3</th>\n",
              "      <th>exp_NRDE2</th>\n",
              "      <th>exp_FPGS</th>\n",
              "      <th>exp_CSNK1G2</th>\n",
              "      <th>exp_PRKD1</th>\n",
              "      <th>exp_IMMP2L</th>\n",
              "      <th>exp_CDK14</th>\n",
              "      <th>exp_CCL25</th>\n",
              "      <th>exp_TPM3</th>\n",
              "      <th>exp_PAPD5</th>\n",
              "      <th>exp_CCNK</th>\n",
              "      <th>exp_SMPDL3B</th>\n",
              "      <th>exp_ZNF479</th>\n",
              "      <th>exp_ABRACL</th>\n",
              "      <th>exp_CCDC157</th>\n",
              "      <th>exp_FBXO5</th>\n",
              "      <th>exp_AC006116.17</th>\n",
              "      <th>exp_EPS8L1</th>\n",
              "      <th>exp_TAAR1</th>\n",
              "      <th>exp_RP1-69D17.3</th>\n",
              "      <th>exp_ZFY</th>\n",
              "      <th>exp_RPS29</th>\n",
              "      <th>exp_SMAD5</th>\n",
              "      <th>exp_ZC3HC1</th>\n",
              "      <th>exp_ZMYM3</th>\n",
              "      <th>exp_CIRBP</th>\n",
              "      <th>exp_MSN</th>\n",
              "      <th>exp_PDPN</th>\n",
              "      <th>exp_KIAA1456</th>\n",
              "    </tr>\n",
              "  </thead>\n",
              "  <tbody>\n",
              "    <tr>\n",
              "      <th>0</th>\n",
              "      <td>5.332068</td>\n",
              "      <td>5.613804</td>\n",
              "      <td>8.583122</td>\n",
              "      <td>5.351879</td>\n",
              "      <td>7.298835</td>\n",
              "      <td>12.727437</td>\n",
              "      <td>7.815232</td>\n",
              "      <td>9.582944</td>\n",
              "      <td>9.377173</td>\n",
              "      <td>5.045035</td>\n",
              "      <td>6.078029</td>\n",
              "      <td>3.897749</td>\n",
              "      <td>7.305856</td>\n",
              "      <td>NaN</td>\n",
              "      <td>8.322389</td>\n",
              "      <td>3.715969</td>\n",
              "      <td>8.112591</td>\n",
              "      <td>8.669577</td>\n",
              "      <td>5.297128</td>\n",
              "      <td>7.693420</td>\n",
              "      <td>4.352324</td>\n",
              "      <td>3.759919</td>\n",
              "      <td>7.427478</td>\n",
              "      <td>3.830598</td>\n",
              "      <td>5.966546</td>\n",
              "      <td>4.151271</td>\n",
              "      <td>4.125426</td>\n",
              "      <td>7.592972</td>\n",
              "      <td>3.759530</td>\n",
              "      <td>8.521257</td>\n",
              "      <td>4.095565</td>\n",
              "      <td>7.580423</td>\n",
              "      <td>9.529565</td>\n",
              "      <td>5.609796</td>\n",
              "      <td>6.080109</td>\n",
              "      <td>10.157352</td>\n",
              "      <td>4.151099</td>\n",
              "      <td>10.099329</td>\n",
              "      <td>8.364451</td>\n",
              "      <td>3.733183</td>\n",
              "      <td>...</td>\n",
              "      <td>NaN</td>\n",
              "      <td>5.683292</td>\n",
              "      <td>3.861059</td>\n",
              "      <td>5.769806</td>\n",
              "      <td>7.635177</td>\n",
              "      <td>4.201648</td>\n",
              "      <td>5.109288</td>\n",
              "      <td>6.479429</td>\n",
              "      <td>3.893705</td>\n",
              "      <td>3.582479</td>\n",
              "      <td>8.051999</td>\n",
              "      <td>4.226136</td>\n",
              "      <td>4.364691</td>\n",
              "      <td>6.338948</td>\n",
              "      <td>7.900701</td>\n",
              "      <td>4.620228</td>\n",
              "      <td>NaN</td>\n",
              "      <td>9.272192</td>\n",
              "      <td>4.365646</td>\n",
              "      <td>NaN</td>\n",
              "      <td>8.561840</td>\n",
              "      <td>6.556807</td>\n",
              "      <td>5.344507</td>\n",
              "      <td>3.354633</td>\n",
              "      <td>12.565178</td>\n",
              "      <td>4.908278</td>\n",
              "      <td>9.861356</td>\n",
              "      <td>4.177199</td>\n",
              "      <td>6.094268</td>\n",
              "      <td>3.954945</td>\n",
              "      <td>3.747778</td>\n",
              "      <td>6.499362</td>\n",
              "      <td>6.435833</td>\n",
              "      <td>8.361070</td>\n",
              "      <td>9.914313</td>\n",
              "      <td>7.199420</td>\n",
              "      <td>7.183395</td>\n",
              "      <td>4.648890</td>\n",
              "      <td>3.843081</td>\n",
              "      <td>3.738231</td>\n",
              "    </tr>\n",
              "    <tr>\n",
              "      <th>1</th>\n",
              "      <td>NaN</td>\n",
              "      <td>4.444631</td>\n",
              "      <td>9.008218</td>\n",
              "      <td>5.105823</td>\n",
              "      <td>7.913547</td>\n",
              "      <td>12.517458</td>\n",
              "      <td>7.280895</td>\n",
              "      <td>7.777871</td>\n",
              "      <td>9.271241</td>\n",
              "      <td>6.720515</td>\n",
              "      <td>4.682578</td>\n",
              "      <td>4.977737</td>\n",
              "      <td>6.665028</td>\n",
              "      <td>8.947037</td>\n",
              "      <td>7.731367</td>\n",
              "      <td>3.747263</td>\n",
              "      <td>8.169364</td>\n",
              "      <td>5.542756</td>\n",
              "      <td>5.413200</td>\n",
              "      <td>7.043574</td>\n",
              "      <td>4.708887</td>\n",
              "      <td>NaN</td>\n",
              "      <td>6.838305</td>\n",
              "      <td>3.943316</td>\n",
              "      <td>7.781867</td>\n",
              "      <td>5.062617</td>\n",
              "      <td>5.506630</td>\n",
              "      <td>7.051435</td>\n",
              "      <td>3.471706</td>\n",
              "      <td>9.156991</td>\n",
              "      <td>4.200039</td>\n",
              "      <td>8.959411</td>\n",
              "      <td>9.932116</td>\n",
              "      <td>5.686480</td>\n",
              "      <td>5.128849</td>\n",
              "      <td>9.738769</td>\n",
              "      <td>3.995706</td>\n",
              "      <td>11.042208</td>\n",
              "      <td>7.154064</td>\n",
              "      <td>4.013644</td>\n",
              "      <td>...</td>\n",
              "      <td>3.622198</td>\n",
              "      <td>5.445282</td>\n",
              "      <td>NaN</td>\n",
              "      <td>6.354785</td>\n",
              "      <td>8.028414</td>\n",
              "      <td>6.687008</td>\n",
              "      <td>4.971279</td>\n",
              "      <td>6.614888</td>\n",
              "      <td>4.081260</td>\n",
              "      <td>3.601829</td>\n",
              "      <td>7.604872</td>\n",
              "      <td>3.917713</td>\n",
              "      <td>4.757483</td>\n",
              "      <td>NaN</td>\n",
              "      <td>7.526438</td>\n",
              "      <td>3.694490</td>\n",
              "      <td>6.191045</td>\n",
              "      <td>5.148200</td>\n",
              "      <td>4.634077</td>\n",
              "      <td>7.043642</td>\n",
              "      <td>9.301337</td>\n",
              "      <td>7.040201</td>\n",
              "      <td>4.363401</td>\n",
              "      <td>3.393433</td>\n",
              "      <td>9.122821</td>\n",
              "      <td>4.753364</td>\n",
              "      <td>9.533123</td>\n",
              "      <td>3.895618</td>\n",
              "      <td>NaN</td>\n",
              "      <td>3.909534</td>\n",
              "      <td>3.788824</td>\n",
              "      <td>5.478426</td>\n",
              "      <td>8.067889</td>\n",
              "      <td>8.723680</td>\n",
              "      <td>8.410135</td>\n",
              "      <td>NaN</td>\n",
              "      <td>7.795937</td>\n",
              "      <td>4.855809</td>\n",
              "      <td>3.970728</td>\n",
              "      <td>3.774648</td>\n",
              "    </tr>\n",
              "    <tr>\n",
              "      <th>2</th>\n",
              "      <td>5.605698</td>\n",
              "      <td>NaN</td>\n",
              "      <td>8.898105</td>\n",
              "      <td>5.586974</td>\n",
              "      <td>6.134739</td>\n",
              "      <td>12.971607</td>\n",
              "      <td>7.870813</td>\n",
              "      <td>NaN</td>\n",
              "      <td>8.428964</td>\n",
              "      <td>5.659006</td>\n",
              "      <td>5.126722</td>\n",
              "      <td>6.089012</td>\n",
              "      <td>7.912269</td>\n",
              "      <td>7.577540</td>\n",
              "      <td>7.945217</td>\n",
              "      <td>3.707126</td>\n",
              "      <td>NaN</td>\n",
              "      <td>6.919333</td>\n",
              "      <td>4.922276</td>\n",
              "      <td>6.707961</td>\n",
              "      <td>4.203910</td>\n",
              "      <td>3.707880</td>\n",
              "      <td>7.430700</td>\n",
              "      <td>4.366842</td>\n",
              "      <td>6.197245</td>\n",
              "      <td>5.082134</td>\n",
              "      <td>4.826023</td>\n",
              "      <td>7.424831</td>\n",
              "      <td>4.035421</td>\n",
              "      <td>10.665878</td>\n",
              "      <td>NaN</td>\n",
              "      <td>7.193747</td>\n",
              "      <td>9.798624</td>\n",
              "      <td>4.846879</td>\n",
              "      <td>8.763770</td>\n",
              "      <td>8.470668</td>\n",
              "      <td>4.298778</td>\n",
              "      <td>10.245974</td>\n",
              "      <td>8.101396</td>\n",
              "      <td>5.425294</td>\n",
              "      <td>...</td>\n",
              "      <td>3.702735</td>\n",
              "      <td>6.396406</td>\n",
              "      <td>4.023376</td>\n",
              "      <td>5.278451</td>\n",
              "      <td>7.410414</td>\n",
              "      <td>13.024511</td>\n",
              "      <td>7.916932</td>\n",
              "      <td>5.101791</td>\n",
              "      <td>4.140189</td>\n",
              "      <td>NaN</td>\n",
              "      <td>7.880280</td>\n",
              "      <td>NaN</td>\n",
              "      <td>4.785510</td>\n",
              "      <td>7.803542</td>\n",
              "      <td>8.381381</td>\n",
              "      <td>4.511903</td>\n",
              "      <td>6.481863</td>\n",
              "      <td>8.629700</td>\n",
              "      <td>4.646756</td>\n",
              "      <td>5.921809</td>\n",
              "      <td>NaN</td>\n",
              "      <td>7.452154</td>\n",
              "      <td>6.124350</td>\n",
              "      <td>3.183405</td>\n",
              "      <td>11.773527</td>\n",
              "      <td>4.960934</td>\n",
              "      <td>10.013115</td>\n",
              "      <td>3.787315</td>\n",
              "      <td>5.293685</td>\n",
              "      <td>3.655333</td>\n",
              "      <td>3.788395</td>\n",
              "      <td>3.883212</td>\n",
              "      <td>NaN</td>\n",
              "      <td>8.241948</td>\n",
              "      <td>10.084551</td>\n",
              "      <td>NaN</td>\n",
              "      <td>6.690449</td>\n",
              "      <td>NaN</td>\n",
              "      <td>3.979788</td>\n",
              "      <td>3.767280</td>\n",
              "    </tr>\n",
              "    <tr>\n",
              "      <th>3</th>\n",
              "      <td>5.600420</td>\n",
              "      <td>5.227187</td>\n",
              "      <td>NaN</td>\n",
              "      <td>5.463622</td>\n",
              "      <td>6.750111</td>\n",
              "      <td>13.167282</td>\n",
              "      <td>8.230154</td>\n",
              "      <td>8.427137</td>\n",
              "      <td>8.866081</td>\n",
              "      <td>5.736139</td>\n",
              "      <td>NaN</td>\n",
              "      <td>4.968936</td>\n",
              "      <td>7.528272</td>\n",
              "      <td>NaN</td>\n",
              "      <td>8.909074</td>\n",
              "      <td>3.722300</td>\n",
              "      <td>8.404938</td>\n",
              "      <td>3.869231</td>\n",
              "      <td>4.267206</td>\n",
              "      <td>7.361224</td>\n",
              "      <td>4.605853</td>\n",
              "      <td>3.847301</td>\n",
              "      <td>7.270288</td>\n",
              "      <td>4.038599</td>\n",
              "      <td>NaN</td>\n",
              "      <td>5.702869</td>\n",
              "      <td>4.538080</td>\n",
              "      <td>7.653117</td>\n",
              "      <td>4.133336</td>\n",
              "      <td>10.680945</td>\n",
              "      <td>4.368771</td>\n",
              "      <td>8.214779</td>\n",
              "      <td>10.169141</td>\n",
              "      <td>5.858755</td>\n",
              "      <td>7.309968</td>\n",
              "      <td>8.661320</td>\n",
              "      <td>4.067059</td>\n",
              "      <td>11.311402</td>\n",
              "      <td>8.543625</td>\n",
              "      <td>3.857765</td>\n",
              "      <td>...</td>\n",
              "      <td>3.655098</td>\n",
              "      <td>6.339325</td>\n",
              "      <td>3.876358</td>\n",
              "      <td>6.022591</td>\n",
              "      <td>NaN</td>\n",
              "      <td>4.159766</td>\n",
              "      <td>4.976989</td>\n",
              "      <td>6.268705</td>\n",
              "      <td>3.984246</td>\n",
              "      <td>NaN</td>\n",
              "      <td>8.344793</td>\n",
              "      <td>4.918179</td>\n",
              "      <td>4.952986</td>\n",
              "      <td>7.301157</td>\n",
              "      <td>NaN</td>\n",
              "      <td>4.696873</td>\n",
              "      <td>5.175555</td>\n",
              "      <td>6.321756</td>\n",
              "      <td>4.230160</td>\n",
              "      <td>5.553331</td>\n",
              "      <td>8.494555</td>\n",
              "      <td>7.252368</td>\n",
              "      <td>5.271586</td>\n",
              "      <td>NaN</td>\n",
              "      <td>9.322858</td>\n",
              "      <td>5.012469</td>\n",
              "      <td>NaN</td>\n",
              "      <td>4.100421</td>\n",
              "      <td>NaN</td>\n",
              "      <td>NaN</td>\n",
              "      <td>3.812628</td>\n",
              "      <td>3.527591</td>\n",
              "      <td>NaN</td>\n",
              "      <td>NaN</td>\n",
              "      <td>9.603301</td>\n",
              "      <td>7.443413</td>\n",
              "      <td>7.464673</td>\n",
              "      <td>5.608629</td>\n",
              "      <td>3.949879</td>\n",
              "      <td>4.039176</td>\n",
              "    </tr>\n",
              "    <tr>\n",
              "      <th>4</th>\n",
              "      <td>6.009817</td>\n",
              "      <td>4.757585</td>\n",
              "      <td>9.124004</td>\n",
              "      <td>5.040151</td>\n",
              "      <td>7.136392</td>\n",
              "      <td>12.690483</td>\n",
              "      <td>7.322986</td>\n",
              "      <td>7.910829</td>\n",
              "      <td>8.994872</td>\n",
              "      <td>5.532935</td>\n",
              "      <td>4.998818</td>\n",
              "      <td>NaN</td>\n",
              "      <td>8.145676</td>\n",
              "      <td>7.720591</td>\n",
              "      <td>7.998917</td>\n",
              "      <td>3.612603</td>\n",
              "      <td>8.607117</td>\n",
              "      <td>NaN</td>\n",
              "      <td>NaN</td>\n",
              "      <td>8.015474</td>\n",
              "      <td>5.044989</td>\n",
              "      <td>NaN</td>\n",
              "      <td>7.334230</td>\n",
              "      <td>4.036745</td>\n",
              "      <td>5.676593</td>\n",
              "      <td>4.227998</td>\n",
              "      <td>4.613581</td>\n",
              "      <td>7.245098</td>\n",
              "      <td>3.897732</td>\n",
              "      <td>10.946035</td>\n",
              "      <td>4.068831</td>\n",
              "      <td>9.208498</td>\n",
              "      <td>9.973715</td>\n",
              "      <td>5.159418</td>\n",
              "      <td>8.103184</td>\n",
              "      <td>9.302813</td>\n",
              "      <td>4.283222</td>\n",
              "      <td>10.193000</td>\n",
              "      <td>7.581884</td>\n",
              "      <td>4.037319</td>\n",
              "      <td>...</td>\n",
              "      <td>3.710484</td>\n",
              "      <td>NaN</td>\n",
              "      <td>3.861536</td>\n",
              "      <td>5.246653</td>\n",
              "      <td>7.789558</td>\n",
              "      <td>10.585737</td>\n",
              "      <td>7.336791</td>\n",
              "      <td>5.731116</td>\n",
              "      <td>3.987703</td>\n",
              "      <td>3.791791</td>\n",
              "      <td>6.948579</td>\n",
              "      <td>4.504231</td>\n",
              "      <td>4.353700</td>\n",
              "      <td>7.006520</td>\n",
              "      <td>7.756086</td>\n",
              "      <td>4.262443</td>\n",
              "      <td>6.300681</td>\n",
              "      <td>NaN</td>\n",
              "      <td>4.569973</td>\n",
              "      <td>5.720345</td>\n",
              "      <td>7.424331</td>\n",
              "      <td>6.980403</td>\n",
              "      <td>5.186292</td>\n",
              "      <td>3.486876</td>\n",
              "      <td>11.421763</td>\n",
              "      <td>4.775937</td>\n",
              "      <td>9.344222</td>\n",
              "      <td>3.721062</td>\n",
              "      <td>5.270838</td>\n",
              "      <td>3.799799</td>\n",
              "      <td>3.764908</td>\n",
              "      <td>6.551126</td>\n",
              "      <td>5.768489</td>\n",
              "      <td>8.634560</td>\n",
              "      <td>9.378929</td>\n",
              "      <td>6.924514</td>\n",
              "      <td>6.883481</td>\n",
              "      <td>5.586970</td>\n",
              "      <td>NaN</td>\n",
              "      <td>3.841472</td>\n",
              "    </tr>\n",
              "  </tbody>\n",
              "</table>\n",
              "<p>5 rows × 1324 columns</p>\n",
              "</div>"
            ],
            "text/plain": [
              "   exp_ALDH3B1  exp_TBXA2R  exp_ELAC2  ...   exp_MSN  exp_PDPN  exp_KIAA1456\n",
              "0     5.332068    5.613804   8.583122  ...  4.648890  3.843081      3.738231\n",
              "1          NaN    4.444631   9.008218  ...  4.855809  3.970728      3.774648\n",
              "2     5.605698         NaN   8.898105  ...       NaN  3.979788      3.767280\n",
              "3     5.600420    5.227187        NaN  ...  5.608629  3.949879      4.039176\n",
              "4     6.009817    4.757585   9.124004  ...  5.586970       NaN      3.841472\n",
              "\n",
              "[5 rows x 1324 columns]"
            ]
          },
          "metadata": {
            "tags": []
          },
          "execution_count": 14
        }
      ]
    },
    {
      "cell_type": "code",
      "metadata": {
        "id": "yqzeNbVG3QVo"
      },
      "source": [
        "#Counting the total number of NaNs in each columns\r\n",
        "NaN4Features = X.isnull().sum()"
      ],
      "execution_count": 15,
      "outputs": []
    },
    {
      "cell_type": "code",
      "metadata": {
        "colab": {
          "base_uri": "https://localhost:8080/"
        },
        "id": "B4s1gue54nb9",
        "outputId": "64e3113b-0993-429f-f618-9f9f76914a0d"
      },
      "source": [
        "print(NaN4Features)"
      ],
      "execution_count": 16,
      "outputs": [
        {
          "output_type": "stream",
          "text": [
            "exp_ALDH3B1     106\n",
            "exp_TBXA2R      106\n",
            "exp_ELAC2       106\n",
            "exp_PIGQ        106\n",
            "exp_MYLIP       106\n",
            "               ... \n",
            "exp_ZMYM3       106\n",
            "exp_CIRBP       106\n",
            "exp_MSN         106\n",
            "exp_PDPN        106\n",
            "exp_KIAA1456    106\n",
            "Length: 1324, dtype: int64\n"
          ],
          "name": "stdout"
        }
      ]
    },
    {
      "cell_type": "code",
      "metadata": {
        "id": "0ouNhEKM4rug"
      },
      "source": [
        "#This means that each of the feature columns have 106 /1061 = 10% as NaN values that should be imputed"
      ],
      "execution_count": null,
      "outputs": []
    },
    {
      "cell_type": "code",
      "metadata": {
        "colab": {
          "base_uri": "https://localhost:8080/"
        },
        "id": "QFPFQpGn548s",
        "outputId": "c2740d54-2489-43b1-945e-898ad85114eb"
      },
      "source": [
        "#Total sum of NaN values in the dataset\r\n",
        "X.isnull().values.sum()"
      ],
      "execution_count": 17,
      "outputs": [
        {
          "output_type": "execute_result",
          "data": {
            "text/plain": [
              "140344"
            ]
          },
          "metadata": {
            "tags": []
          },
          "execution_count": 17
        }
      ]
    },
    {
      "cell_type": "code",
      "metadata": {
        "colab": {
          "base_uri": "https://localhost:8080/"
        },
        "id": "nEkboSpu579W",
        "outputId": "a3ad383a-0adc-4559-8f07-8174541021ed"
      },
      "source": [
        "140344 / 1327 #Dividing the total number of NaNs by total number of features"
      ],
      "execution_count": 18,
      "outputs": [
        {
          "output_type": "execute_result",
          "data": {
            "text/plain": [
              "105.76036171816126"
            ]
          },
          "metadata": {
            "tags": []
          },
          "execution_count": 18
        }
      ]
    },
    {
      "cell_type": "code",
      "metadata": {
        "id": "01RnpZP06eXN"
      },
      "source": [
        "#This is the same number of NaNs per column variable as we calculated earlier"
      ],
      "execution_count": null,
      "outputs": []
    },
    {
      "cell_type": "code",
      "metadata": {
        "id": "a-IWqrrw6POH"
      },
      "source": [
        "#"
      ],
      "execution_count": null,
      "outputs": []
    },
    {
      "cell_type": "code",
      "metadata": {
        "id": "0VJLEn281csk"
      },
      "source": [
        "#Now I am imputing the missing values by median although more sophisticated methods such as kNN or Bayesian imputation can also be used\r\n",
        "X = X.fillna(X.median())"
      ],
      "execution_count": 19,
      "outputs": []
    },
    {
      "cell_type": "code",
      "metadata": {
        "colab": {
          "base_uri": "https://localhost:8080/",
          "height": 269
        },
        "id": "QfX0l3FN2YcF",
        "outputId": "73a08a2e-520a-4b5a-880c-e1bfc4a5b872"
      },
      "source": [
        "X.head()"
      ],
      "execution_count": 20,
      "outputs": [
        {
          "output_type": "execute_result",
          "data": {
            "text/html": [
              "<div>\n",
              "<style scoped>\n",
              "    .dataframe tbody tr th:only-of-type {\n",
              "        vertical-align: middle;\n",
              "    }\n",
              "\n",
              "    .dataframe tbody tr th {\n",
              "        vertical-align: top;\n",
              "    }\n",
              "\n",
              "    .dataframe thead th {\n",
              "        text-align: right;\n",
              "    }\n",
              "</style>\n",
              "<table border=\"1\" class=\"dataframe\">\n",
              "  <thead>\n",
              "    <tr style=\"text-align: right;\">\n",
              "      <th></th>\n",
              "      <th>exp_ALDH3B1</th>\n",
              "      <th>exp_TBXA2R</th>\n",
              "      <th>exp_ELAC2</th>\n",
              "      <th>exp_PIGQ</th>\n",
              "      <th>exp_MYLIP</th>\n",
              "      <th>exp_PSMB1</th>\n",
              "      <th>exp_ABHD5</th>\n",
              "      <th>exp_BRCA1</th>\n",
              "      <th>exp_POLR3B</th>\n",
              "      <th>exp_GRAMD1B</th>\n",
              "      <th>exp_DEF6</th>\n",
              "      <th>exp_AGPAT4</th>\n",
              "      <th>exp_GAB2</th>\n",
              "      <th>exp_YTHDC2</th>\n",
              "      <th>exp_C12orf4</th>\n",
              "      <th>exp_TNIP3</th>\n",
              "      <th>exp_THRAP3</th>\n",
              "      <th>exp_STYK1</th>\n",
              "      <th>exp_ERBB3</th>\n",
              "      <th>exp_CDK13</th>\n",
              "      <th>exp_MGAT4A</th>\n",
              "      <th>exp_FCGR2B</th>\n",
              "      <th>exp_XRCC1</th>\n",
              "      <th>exp_TP63</th>\n",
              "      <th>exp_ALPK1</th>\n",
              "      <th>exp_GLI2</th>\n",
              "      <th>exp_PLD1</th>\n",
              "      <th>exp_GPATCH1</th>\n",
              "      <th>exp_P2RY10</th>\n",
              "      <th>exp_PGM1</th>\n",
              "      <th>exp_SCTR</th>\n",
              "      <th>exp_GSK3B</th>\n",
              "      <th>exp_TNPO1</th>\n",
              "      <th>exp_SLC27A5</th>\n",
              "      <th>exp_KIF3C</th>\n",
              "      <th>exp_RRN3</th>\n",
              "      <th>exp_WNT11</th>\n",
              "      <th>exp_MTIF2</th>\n",
              "      <th>exp_SRRT</th>\n",
              "      <th>exp_TMPRSS11E</th>\n",
              "      <th>...</th>\n",
              "      <th>exp_CD80</th>\n",
              "      <th>exp_CACTIN</th>\n",
              "      <th>exp_MYCNOS</th>\n",
              "      <th>exp_TONSL</th>\n",
              "      <th>exp_TMEM17</th>\n",
              "      <th>exp_LCN2</th>\n",
              "      <th>exp_CARD11</th>\n",
              "      <th>exp_DFFB</th>\n",
              "      <th>exp_C1orf64</th>\n",
              "      <th>exp_NTRK1</th>\n",
              "      <th>exp_C16orf52</th>\n",
              "      <th>exp_DTX3</th>\n",
              "      <th>exp_NRDE2</th>\n",
              "      <th>exp_FPGS</th>\n",
              "      <th>exp_CSNK1G2</th>\n",
              "      <th>exp_PRKD1</th>\n",
              "      <th>exp_IMMP2L</th>\n",
              "      <th>exp_CDK14</th>\n",
              "      <th>exp_CCL25</th>\n",
              "      <th>exp_TPM3</th>\n",
              "      <th>exp_PAPD5</th>\n",
              "      <th>exp_CCNK</th>\n",
              "      <th>exp_SMPDL3B</th>\n",
              "      <th>exp_ZNF479</th>\n",
              "      <th>exp_ABRACL</th>\n",
              "      <th>exp_CCDC157</th>\n",
              "      <th>exp_FBXO5</th>\n",
              "      <th>exp_AC006116.17</th>\n",
              "      <th>exp_EPS8L1</th>\n",
              "      <th>exp_TAAR1</th>\n",
              "      <th>exp_RP1-69D17.3</th>\n",
              "      <th>exp_ZFY</th>\n",
              "      <th>exp_RPS29</th>\n",
              "      <th>exp_SMAD5</th>\n",
              "      <th>exp_ZC3HC1</th>\n",
              "      <th>exp_ZMYM3</th>\n",
              "      <th>exp_CIRBP</th>\n",
              "      <th>exp_MSN</th>\n",
              "      <th>exp_PDPN</th>\n",
              "      <th>exp_KIAA1456</th>\n",
              "    </tr>\n",
              "  </thead>\n",
              "  <tbody>\n",
              "    <tr>\n",
              "      <th>0</th>\n",
              "      <td>5.332068</td>\n",
              "      <td>5.613804</td>\n",
              "      <td>8.583122</td>\n",
              "      <td>5.351879</td>\n",
              "      <td>7.298835</td>\n",
              "      <td>12.727437</td>\n",
              "      <td>7.815232</td>\n",
              "      <td>9.582944</td>\n",
              "      <td>9.377173</td>\n",
              "      <td>5.045035</td>\n",
              "      <td>6.078029</td>\n",
              "      <td>3.897749</td>\n",
              "      <td>7.305856</td>\n",
              "      <td>7.914445</td>\n",
              "      <td>8.322389</td>\n",
              "      <td>3.715969</td>\n",
              "      <td>8.112591</td>\n",
              "      <td>8.669577</td>\n",
              "      <td>5.297128</td>\n",
              "      <td>7.693420</td>\n",
              "      <td>4.352324</td>\n",
              "      <td>3.759919</td>\n",
              "      <td>7.427478</td>\n",
              "      <td>3.830598</td>\n",
              "      <td>5.966546</td>\n",
              "      <td>4.151271</td>\n",
              "      <td>4.125426</td>\n",
              "      <td>7.592972</td>\n",
              "      <td>3.759530</td>\n",
              "      <td>8.521257</td>\n",
              "      <td>4.095565</td>\n",
              "      <td>7.580423</td>\n",
              "      <td>9.529565</td>\n",
              "      <td>5.609796</td>\n",
              "      <td>6.080109</td>\n",
              "      <td>10.157352</td>\n",
              "      <td>4.151099</td>\n",
              "      <td>10.099329</td>\n",
              "      <td>8.364451</td>\n",
              "      <td>3.733183</td>\n",
              "      <td>...</td>\n",
              "      <td>3.736758</td>\n",
              "      <td>5.683292</td>\n",
              "      <td>3.861059</td>\n",
              "      <td>5.769806</td>\n",
              "      <td>7.635177</td>\n",
              "      <td>4.201648</td>\n",
              "      <td>5.109288</td>\n",
              "      <td>6.479429</td>\n",
              "      <td>3.893705</td>\n",
              "      <td>3.582479</td>\n",
              "      <td>8.051999</td>\n",
              "      <td>4.226136</td>\n",
              "      <td>4.364691</td>\n",
              "      <td>6.338948</td>\n",
              "      <td>7.900701</td>\n",
              "      <td>4.620228</td>\n",
              "      <td>6.201563</td>\n",
              "      <td>9.272192</td>\n",
              "      <td>4.365646</td>\n",
              "      <td>5.781480</td>\n",
              "      <td>8.561840</td>\n",
              "      <td>6.556807</td>\n",
              "      <td>5.344507</td>\n",
              "      <td>3.354633</td>\n",
              "      <td>12.565178</td>\n",
              "      <td>4.908278</td>\n",
              "      <td>9.861356</td>\n",
              "      <td>4.177199</td>\n",
              "      <td>6.094268</td>\n",
              "      <td>3.954945</td>\n",
              "      <td>3.747778</td>\n",
              "      <td>6.499362</td>\n",
              "      <td>6.435833</td>\n",
              "      <td>8.361070</td>\n",
              "      <td>9.914313</td>\n",
              "      <td>7.199420</td>\n",
              "      <td>7.183395</td>\n",
              "      <td>4.648890</td>\n",
              "      <td>3.843081</td>\n",
              "      <td>3.738231</td>\n",
              "    </tr>\n",
              "    <tr>\n",
              "      <th>1</th>\n",
              "      <td>6.130343</td>\n",
              "      <td>4.444631</td>\n",
              "      <td>9.008218</td>\n",
              "      <td>5.105823</td>\n",
              "      <td>7.913547</td>\n",
              "      <td>12.517458</td>\n",
              "      <td>7.280895</td>\n",
              "      <td>7.777871</td>\n",
              "      <td>9.271241</td>\n",
              "      <td>6.720515</td>\n",
              "      <td>4.682578</td>\n",
              "      <td>4.977737</td>\n",
              "      <td>6.665028</td>\n",
              "      <td>8.947037</td>\n",
              "      <td>7.731367</td>\n",
              "      <td>3.747263</td>\n",
              "      <td>8.169364</td>\n",
              "      <td>5.542756</td>\n",
              "      <td>5.413200</td>\n",
              "      <td>7.043574</td>\n",
              "      <td>4.708887</td>\n",
              "      <td>3.940743</td>\n",
              "      <td>6.838305</td>\n",
              "      <td>3.943316</td>\n",
              "      <td>7.781867</td>\n",
              "      <td>5.062617</td>\n",
              "      <td>5.506630</td>\n",
              "      <td>7.051435</td>\n",
              "      <td>3.471706</td>\n",
              "      <td>9.156991</td>\n",
              "      <td>4.200039</td>\n",
              "      <td>8.959411</td>\n",
              "      <td>9.932116</td>\n",
              "      <td>5.686480</td>\n",
              "      <td>5.128849</td>\n",
              "      <td>9.738769</td>\n",
              "      <td>3.995706</td>\n",
              "      <td>11.042208</td>\n",
              "      <td>7.154064</td>\n",
              "      <td>4.013644</td>\n",
              "      <td>...</td>\n",
              "      <td>3.622198</td>\n",
              "      <td>5.445282</td>\n",
              "      <td>4.044432</td>\n",
              "      <td>6.354785</td>\n",
              "      <td>8.028414</td>\n",
              "      <td>6.687008</td>\n",
              "      <td>4.971279</td>\n",
              "      <td>6.614888</td>\n",
              "      <td>4.081260</td>\n",
              "      <td>3.601829</td>\n",
              "      <td>7.604872</td>\n",
              "      <td>3.917713</td>\n",
              "      <td>4.757483</td>\n",
              "      <td>6.991308</td>\n",
              "      <td>7.526438</td>\n",
              "      <td>3.694490</td>\n",
              "      <td>6.191045</td>\n",
              "      <td>5.148200</td>\n",
              "      <td>4.634077</td>\n",
              "      <td>7.043642</td>\n",
              "      <td>9.301337</td>\n",
              "      <td>7.040201</td>\n",
              "      <td>4.363401</td>\n",
              "      <td>3.393433</td>\n",
              "      <td>9.122821</td>\n",
              "      <td>4.753364</td>\n",
              "      <td>9.533123</td>\n",
              "      <td>3.895618</td>\n",
              "      <td>5.266917</td>\n",
              "      <td>3.909534</td>\n",
              "      <td>3.788824</td>\n",
              "      <td>5.478426</td>\n",
              "      <td>8.067889</td>\n",
              "      <td>8.723680</td>\n",
              "      <td>8.410135</td>\n",
              "      <td>6.805635</td>\n",
              "      <td>7.795937</td>\n",
              "      <td>4.855809</td>\n",
              "      <td>3.970728</td>\n",
              "      <td>3.774648</td>\n",
              "    </tr>\n",
              "    <tr>\n",
              "      <th>2</th>\n",
              "      <td>5.605698</td>\n",
              "      <td>4.743115</td>\n",
              "      <td>8.898105</td>\n",
              "      <td>5.586974</td>\n",
              "      <td>6.134739</td>\n",
              "      <td>12.971607</td>\n",
              "      <td>7.870813</td>\n",
              "      <td>8.308473</td>\n",
              "      <td>8.428964</td>\n",
              "      <td>5.659006</td>\n",
              "      <td>5.126722</td>\n",
              "      <td>6.089012</td>\n",
              "      <td>7.912269</td>\n",
              "      <td>7.577540</td>\n",
              "      <td>7.945217</td>\n",
              "      <td>3.707126</td>\n",
              "      <td>8.116783</td>\n",
              "      <td>6.919333</td>\n",
              "      <td>4.922276</td>\n",
              "      <td>6.707961</td>\n",
              "      <td>4.203910</td>\n",
              "      <td>3.707880</td>\n",
              "      <td>7.430700</td>\n",
              "      <td>4.366842</td>\n",
              "      <td>6.197245</td>\n",
              "      <td>5.082134</td>\n",
              "      <td>4.826023</td>\n",
              "      <td>7.424831</td>\n",
              "      <td>4.035421</td>\n",
              "      <td>10.665878</td>\n",
              "      <td>4.178429</td>\n",
              "      <td>7.193747</td>\n",
              "      <td>9.798624</td>\n",
              "      <td>4.846879</td>\n",
              "      <td>8.763770</td>\n",
              "      <td>8.470668</td>\n",
              "      <td>4.298778</td>\n",
              "      <td>10.245974</td>\n",
              "      <td>8.101396</td>\n",
              "      <td>5.425294</td>\n",
              "      <td>...</td>\n",
              "      <td>3.702735</td>\n",
              "      <td>6.396406</td>\n",
              "      <td>4.023376</td>\n",
              "      <td>5.278451</td>\n",
              "      <td>7.410414</td>\n",
              "      <td>13.024511</td>\n",
              "      <td>7.916932</td>\n",
              "      <td>5.101791</td>\n",
              "      <td>4.140189</td>\n",
              "      <td>3.749216</td>\n",
              "      <td>7.880280</td>\n",
              "      <td>4.337517</td>\n",
              "      <td>4.785510</td>\n",
              "      <td>7.803542</td>\n",
              "      <td>8.381381</td>\n",
              "      <td>4.511903</td>\n",
              "      <td>6.481863</td>\n",
              "      <td>8.629700</td>\n",
              "      <td>4.646756</td>\n",
              "      <td>5.921809</td>\n",
              "      <td>8.422056</td>\n",
              "      <td>7.452154</td>\n",
              "      <td>6.124350</td>\n",
              "      <td>3.183405</td>\n",
              "      <td>11.773527</td>\n",
              "      <td>4.960934</td>\n",
              "      <td>10.013115</td>\n",
              "      <td>3.787315</td>\n",
              "      <td>5.293685</td>\n",
              "      <td>3.655333</td>\n",
              "      <td>3.788395</td>\n",
              "      <td>3.883212</td>\n",
              "      <td>6.122512</td>\n",
              "      <td>8.241948</td>\n",
              "      <td>10.084551</td>\n",
              "      <td>6.805635</td>\n",
              "      <td>6.690449</td>\n",
              "      <td>5.344803</td>\n",
              "      <td>3.979788</td>\n",
              "      <td>3.767280</td>\n",
              "    </tr>\n",
              "    <tr>\n",
              "      <th>3</th>\n",
              "      <td>5.600420</td>\n",
              "      <td>5.227187</td>\n",
              "      <td>8.896156</td>\n",
              "      <td>5.463622</td>\n",
              "      <td>6.750111</td>\n",
              "      <td>13.167282</td>\n",
              "      <td>8.230154</td>\n",
              "      <td>8.427137</td>\n",
              "      <td>8.866081</td>\n",
              "      <td>5.736139</td>\n",
              "      <td>5.588142</td>\n",
              "      <td>4.968936</td>\n",
              "      <td>7.528272</td>\n",
              "      <td>7.914445</td>\n",
              "      <td>8.909074</td>\n",
              "      <td>3.722300</td>\n",
              "      <td>8.404938</td>\n",
              "      <td>3.869231</td>\n",
              "      <td>4.267206</td>\n",
              "      <td>7.361224</td>\n",
              "      <td>4.605853</td>\n",
              "      <td>3.847301</td>\n",
              "      <td>7.270288</td>\n",
              "      <td>4.038599</td>\n",
              "      <td>6.293683</td>\n",
              "      <td>5.702869</td>\n",
              "      <td>4.538080</td>\n",
              "      <td>7.653117</td>\n",
              "      <td>4.133336</td>\n",
              "      <td>10.680945</td>\n",
              "      <td>4.368771</td>\n",
              "      <td>8.214779</td>\n",
              "      <td>10.169141</td>\n",
              "      <td>5.858755</td>\n",
              "      <td>7.309968</td>\n",
              "      <td>8.661320</td>\n",
              "      <td>4.067059</td>\n",
              "      <td>11.311402</td>\n",
              "      <td>8.543625</td>\n",
              "      <td>3.857765</td>\n",
              "      <td>...</td>\n",
              "      <td>3.655098</td>\n",
              "      <td>6.339325</td>\n",
              "      <td>3.876358</td>\n",
              "      <td>6.022591</td>\n",
              "      <td>7.103285</td>\n",
              "      <td>4.159766</td>\n",
              "      <td>4.976989</td>\n",
              "      <td>6.268705</td>\n",
              "      <td>3.984246</td>\n",
              "      <td>3.749216</td>\n",
              "      <td>8.344793</td>\n",
              "      <td>4.918179</td>\n",
              "      <td>4.952986</td>\n",
              "      <td>7.301157</td>\n",
              "      <td>7.875885</td>\n",
              "      <td>4.696873</td>\n",
              "      <td>5.175555</td>\n",
              "      <td>6.321756</td>\n",
              "      <td>4.230160</td>\n",
              "      <td>5.553331</td>\n",
              "      <td>8.494555</td>\n",
              "      <td>7.252368</td>\n",
              "      <td>5.271586</td>\n",
              "      <td>3.466483</td>\n",
              "      <td>9.322858</td>\n",
              "      <td>5.012469</td>\n",
              "      <td>9.723550</td>\n",
              "      <td>4.100421</td>\n",
              "      <td>5.266917</td>\n",
              "      <td>3.884854</td>\n",
              "      <td>3.812628</td>\n",
              "      <td>3.527591</td>\n",
              "      <td>6.122512</td>\n",
              "      <td>8.784042</td>\n",
              "      <td>9.603301</td>\n",
              "      <td>7.443413</td>\n",
              "      <td>7.464673</td>\n",
              "      <td>5.608629</td>\n",
              "      <td>3.949879</td>\n",
              "      <td>4.039176</td>\n",
              "    </tr>\n",
              "    <tr>\n",
              "      <th>4</th>\n",
              "      <td>6.009817</td>\n",
              "      <td>4.757585</td>\n",
              "      <td>9.124004</td>\n",
              "      <td>5.040151</td>\n",
              "      <td>7.136392</td>\n",
              "      <td>12.690483</td>\n",
              "      <td>7.322986</td>\n",
              "      <td>7.910829</td>\n",
              "      <td>8.994872</td>\n",
              "      <td>5.532935</td>\n",
              "      <td>4.998818</td>\n",
              "      <td>5.369706</td>\n",
              "      <td>8.145676</td>\n",
              "      <td>7.720591</td>\n",
              "      <td>7.998917</td>\n",
              "      <td>3.612603</td>\n",
              "      <td>8.607117</td>\n",
              "      <td>5.156679</td>\n",
              "      <td>4.692195</td>\n",
              "      <td>8.015474</td>\n",
              "      <td>5.044989</td>\n",
              "      <td>3.940743</td>\n",
              "      <td>7.334230</td>\n",
              "      <td>4.036745</td>\n",
              "      <td>5.676593</td>\n",
              "      <td>4.227998</td>\n",
              "      <td>4.613581</td>\n",
              "      <td>7.245098</td>\n",
              "      <td>3.897732</td>\n",
              "      <td>10.946035</td>\n",
              "      <td>4.068831</td>\n",
              "      <td>9.208498</td>\n",
              "      <td>9.973715</td>\n",
              "      <td>5.159418</td>\n",
              "      <td>8.103184</td>\n",
              "      <td>9.302813</td>\n",
              "      <td>4.283222</td>\n",
              "      <td>10.193000</td>\n",
              "      <td>7.581884</td>\n",
              "      <td>4.037319</td>\n",
              "      <td>...</td>\n",
              "      <td>3.710484</td>\n",
              "      <td>5.780047</td>\n",
              "      <td>3.861536</td>\n",
              "      <td>5.246653</td>\n",
              "      <td>7.789558</td>\n",
              "      <td>10.585737</td>\n",
              "      <td>7.336791</td>\n",
              "      <td>5.731116</td>\n",
              "      <td>3.987703</td>\n",
              "      <td>3.791791</td>\n",
              "      <td>6.948579</td>\n",
              "      <td>4.504231</td>\n",
              "      <td>4.353700</td>\n",
              "      <td>7.006520</td>\n",
              "      <td>7.756086</td>\n",
              "      <td>4.262443</td>\n",
              "      <td>6.300681</td>\n",
              "      <td>7.054812</td>\n",
              "      <td>4.569973</td>\n",
              "      <td>5.720345</td>\n",
              "      <td>7.424331</td>\n",
              "      <td>6.980403</td>\n",
              "      <td>5.186292</td>\n",
              "      <td>3.486876</td>\n",
              "      <td>11.421763</td>\n",
              "      <td>4.775937</td>\n",
              "      <td>9.344222</td>\n",
              "      <td>3.721062</td>\n",
              "      <td>5.270838</td>\n",
              "      <td>3.799799</td>\n",
              "      <td>3.764908</td>\n",
              "      <td>6.551126</td>\n",
              "      <td>5.768489</td>\n",
              "      <td>8.634560</td>\n",
              "      <td>9.378929</td>\n",
              "      <td>6.924514</td>\n",
              "      <td>6.883481</td>\n",
              "      <td>5.586970</td>\n",
              "      <td>4.128257</td>\n",
              "      <td>3.841472</td>\n",
              "    </tr>\n",
              "  </tbody>\n",
              "</table>\n",
              "<p>5 rows × 1324 columns</p>\n",
              "</div>"
            ],
            "text/plain": [
              "   exp_ALDH3B1  exp_TBXA2R  exp_ELAC2  ...   exp_MSN  exp_PDPN  exp_KIAA1456\n",
              "0     5.332068    5.613804   8.583122  ...  4.648890  3.843081      3.738231\n",
              "1     6.130343    4.444631   9.008218  ...  4.855809  3.970728      3.774648\n",
              "2     5.605698    4.743115   8.898105  ...  5.344803  3.979788      3.767280\n",
              "3     5.600420    5.227187   8.896156  ...  5.608629  3.949879      4.039176\n",
              "4     6.009817    4.757585   9.124004  ...  5.586970  4.128257      3.841472\n",
              "\n",
              "[5 rows x 1324 columns]"
            ]
          },
          "metadata": {
            "tags": []
          },
          "execution_count": 20
        }
      ]
    },
    {
      "cell_type": "code",
      "metadata": {
        "colab": {
          "base_uri": "https://localhost:8080/"
        },
        "id": "5vpepZR_2eAf",
        "outputId": "b48bf963-ebe8-4a37-b59b-a5e45a0a4bd5"
      },
      "source": [
        "#Now checking for NaN in target variable\r\n",
        "y.isnull()"
      ],
      "execution_count": 21,
      "outputs": [
        {
          "output_type": "execute_result",
          "data": {
            "text/plain": [
              "0       False\n",
              "1       False\n",
              "2       False\n",
              "3       False\n",
              "4       False\n",
              "        ...  \n",
              "1056    False\n",
              "1057    False\n",
              "1058    False\n",
              "1059    False\n",
              "1060    False\n",
              "Name: Erlotinib, Length: 1061, dtype: bool"
            ]
          },
          "metadata": {
            "tags": []
          },
          "execution_count": 21
        }
      ]
    },
    {
      "cell_type": "code",
      "metadata": {
        "id": "6qXVd0sz7ZxR"
      },
      "source": [
        "#So there is no NaN value in target"
      ],
      "execution_count": 22,
      "outputs": []
    },
    {
      "cell_type": "code",
      "metadata": {
        "id": "BTZsoRTx7iPY"
      },
      "source": [
        "#Now I split the predictors and target into train and test"
      ],
      "execution_count": null,
      "outputs": []
    },
    {
      "cell_type": "code",
      "metadata": {
        "id": "OkPOOr4W7XJE"
      },
      "source": [
        "Xtrain, Xtest , yTrain, yTest = train_test_split(X, y, test_size=0.3, random_state=3)"
      ],
      "execution_count": 22,
      "outputs": []
    },
    {
      "cell_type": "code",
      "metadata": {
        "id": "gXKWaftv7y9B"
      },
      "source": [
        "#Converting to numpy array for computation purpose\r\n",
        "xTrain = np.array(Xtrain)\r\n",
        "xTest = np.array(Xtest)"
      ],
      "execution_count": 23,
      "outputs": []
    },
    {
      "cell_type": "markdown",
      "metadata": {
        "id": "AFc60pjwC546"
      },
      "source": [
        "Now doing Dimensionality reduction"
      ]
    },
    {
      "cell_type": "code",
      "metadata": {
        "id": "qUnIzBH9C9If"
      },
      "source": [
        ""
      ],
      "execution_count": null,
      "outputs": []
    },
    {
      "cell_type": "code",
      "metadata": {
        "id": "8s7W9M47Bm92"
      },
      "source": [
        "pcaObj = PCA(n_components = 2)\r\n",
        "pcaObj.fit(xTrain)\r\n",
        "xTrainPCA = pcaObj.transform(xTrain)"
      ],
      "execution_count": 24,
      "outputs": []
    },
    {
      "cell_type": "code",
      "metadata": {
        "id": "x_EB-5dlC10B"
      },
      "source": [
        "#Now lets look how much variance is covered by the first two components"
      ],
      "execution_count": null,
      "outputs": []
    },
    {
      "cell_type": "code",
      "metadata": {
        "colab": {
          "base_uri": "https://localhost:8080/"
        },
        "id": "XGNEB6oPDM1k",
        "outputId": "ba44b81a-0fe7-4cf3-f106-6044754186a5"
      },
      "source": [
        "pcaObj.explained_variance_ratio_"
      ],
      "execution_count": 25,
      "outputs": [
        {
          "output_type": "execute_result",
          "data": {
            "text/plain": [
              "array([0.10280983, 0.0739911 ])"
            ]
          },
          "metadata": {
            "tags": []
          },
          "execution_count": 25
        }
      ]
    },
    {
      "cell_type": "code",
      "metadata": {
        "id": "dgQdB33uDQS4"
      },
      "source": [
        "#Clearly, using this method has lead to a very poor dimensionality reduction, given that the first two \r\n",
        "#components cover 10 + 7 = 17% variance only."
      ],
      "execution_count": null,
      "outputs": []
    },
    {
      "cell_type": "code",
      "metadata": {
        "id": "p9HR00VzDjI9"
      },
      "source": [
        "#So now I use dimensionality reduction in order to preserve at least 95% of variance"
      ],
      "execution_count": null,
      "outputs": []
    },
    {
      "cell_type": "code",
      "metadata": {
        "id": "IUzPfh00EDvG"
      },
      "source": [
        "pcaObj = PCA(n_components = 0.95)\r\n",
        "pcaObj.fit(xTrain)\r\n",
        "xTrainPCA95 = pcaObj.transform(xTrain)"
      ],
      "execution_count": 26,
      "outputs": []
    },
    {
      "cell_type": "code",
      "metadata": {
        "colab": {
          "base_uri": "https://localhost:8080/"
        },
        "id": "XuGDGi-nEP-s",
        "outputId": "286ac572-c9cb-4298-b38d-ff752ebc5db3"
      },
      "source": [
        "pcaObj.explained_variance_ratio_"
      ],
      "execution_count": 27,
      "outputs": [
        {
          "output_type": "execute_result",
          "data": {
            "text/plain": [
              "array([0.10280983, 0.0739911 , 0.050475  , 0.02218939, 0.02073813,\n",
              "       0.0186017 , 0.01669892, 0.01605318, 0.01444368, 0.01396294,\n",
              "       0.0126708 , 0.01190923, 0.01138149, 0.01086782, 0.00999253,\n",
              "       0.00914863, 0.00860138, 0.0081839 , 0.00789484, 0.00754902,\n",
              "       0.00715336, 0.0069826 , 0.00662501, 0.00650323, 0.00643303,\n",
              "       0.00618991, 0.00601058, 0.00576507, 0.00565041, 0.0054821 ,\n",
              "       0.00540612, 0.00527356, 0.00506426, 0.00499908, 0.00487384,\n",
              "       0.00480442, 0.00471304, 0.00459201, 0.00444738, 0.00434259,\n",
              "       0.00423314, 0.00420617, 0.00404864, 0.00398554, 0.00397242,\n",
              "       0.00391078, 0.00385059, 0.00376773, 0.00367665, 0.00363308,\n",
              "       0.00354507, 0.0035082 , 0.00346519, 0.00336569, 0.00335331,\n",
              "       0.00330027, 0.00324679, 0.00323287, 0.0031937 , 0.00312601,\n",
              "       0.00309841, 0.00305698, 0.0030174 , 0.00297146, 0.00292514,\n",
              "       0.00286537, 0.00283939, 0.00279986, 0.00277859, 0.00272177,\n",
              "       0.00270106, 0.00267247, 0.00262517, 0.00260828, 0.00257071,\n",
              "       0.00254363, 0.0025287 , 0.00251693, 0.002468  , 0.002446  ,\n",
              "       0.00241323, 0.00240472, 0.00238589, 0.00236861, 0.00233685,\n",
              "       0.00231314, 0.00228615, 0.00225739, 0.00222731, 0.00221224,\n",
              "       0.00219867, 0.00215747, 0.00214729, 0.00213032, 0.00212119,\n",
              "       0.00209309, 0.00206795, 0.00204681, 0.00202693, 0.00200814,\n",
              "       0.00199228, 0.00198606, 0.00196913, 0.00194264, 0.00193291,\n",
              "       0.001922  , 0.00190076, 0.00189   , 0.00186768, 0.00184628,\n",
              "       0.00183771, 0.00182604, 0.00179508, 0.00178354, 0.00176691,\n",
              "       0.00173616, 0.00172365, 0.00171328, 0.00169973, 0.00169325,\n",
              "       0.00168786, 0.00165992, 0.00164506, 0.00163395, 0.00160933,\n",
              "       0.00160086, 0.00158457, 0.00156734, 0.00156093, 0.0015389 ,\n",
              "       0.00153165, 0.00151442, 0.00150679, 0.00147467, 0.00146866,\n",
              "       0.00145904, 0.00145624, 0.00143113, 0.00142559, 0.00140768,\n",
              "       0.00140132, 0.00138757, 0.00138069, 0.00136929, 0.00136134,\n",
              "       0.00134983, 0.00133005, 0.00132251, 0.00131954, 0.00130088,\n",
              "       0.00128487, 0.00127866, 0.00127473, 0.00125483, 0.00124908,\n",
              "       0.00123639, 0.00123296, 0.00121995, 0.00121005, 0.00119813,\n",
              "       0.00119103, 0.00118534, 0.00118074, 0.00117146, 0.00116489,\n",
              "       0.00114755, 0.00114239, 0.00112999, 0.00112798, 0.00111925,\n",
              "       0.00110981, 0.00109939, 0.00109057, 0.00108151, 0.00107408,\n",
              "       0.00106816, 0.00105442, 0.00104629, 0.00104373, 0.00103583,\n",
              "       0.00103073, 0.00102362, 0.00101718, 0.00100611, 0.00100086,\n",
              "       0.00099342, 0.0009918 , 0.00097642, 0.00096762, 0.00096467,\n",
              "       0.00096052, 0.00095385, 0.0009464 , 0.00093399, 0.00092919,\n",
              "       0.00092405, 0.0009143 , 0.00091056, 0.00089737, 0.00089585,\n",
              "       0.00088917, 0.00088487, 0.00087568, 0.00087331, 0.00086878,\n",
              "       0.00086168, 0.00085398, 0.00084696, 0.00083949, 0.00083823,\n",
              "       0.00083372, 0.00082041, 0.00081811, 0.00081426, 0.000807  ,\n",
              "       0.00080456, 0.00079835, 0.00079273, 0.00078799, 0.00078127,\n",
              "       0.00077074, 0.00076544, 0.000764  , 0.00076085, 0.00075684,\n",
              "       0.00074933, 0.00074642, 0.00074164, 0.00073948, 0.0007334 ,\n",
              "       0.00072437, 0.00072235, 0.00071516, 0.00071324, 0.00070527,\n",
              "       0.00070404, 0.00069776, 0.00069335, 0.00068869, 0.00068622,\n",
              "       0.000679  , 0.00067588, 0.00067022, 0.00066641, 0.00066213,\n",
              "       0.00065915, 0.00065583, 0.00065131, 0.0006487 , 0.00064195,\n",
              "       0.00064038, 0.00063075, 0.00062575, 0.00062455, 0.00061659,\n",
              "       0.00061511, 0.0006134 , 0.00061024, 0.00060236, 0.00059631,\n",
              "       0.00059513, 0.00058924, 0.00058672, 0.00058204, 0.00058018,\n",
              "       0.00057569, 0.00057357, 0.00056811, 0.00056207, 0.00056064,\n",
              "       0.00055906, 0.00055521, 0.00055386, 0.00055047, 0.00054627,\n",
              "       0.0005431 , 0.0005394 , 0.00053542, 0.00053402, 0.0005308 ,\n",
              "       0.00052555, 0.00052195, 0.00051981, 0.0005177 , 0.00051506,\n",
              "       0.00050782, 0.0005055 , 0.00050163, 0.00049841, 0.00049536,\n",
              "       0.00049015, 0.00048754, 0.00048407, 0.00048207, 0.00048028,\n",
              "       0.00047517, 0.00047254, 0.00046973, 0.00046622, 0.00046363,\n",
              "       0.0004607 , 0.00045678, 0.00045334, 0.00045202, 0.00044871,\n",
              "       0.00044708, 0.00044456, 0.00044023, 0.00043694, 0.00043226,\n",
              "       0.00043073, 0.00042932, 0.00042784, 0.00042684, 0.00042184,\n",
              "       0.00041982, 0.00041656, 0.00041437, 0.00041384, 0.00041088,\n",
              "       0.00040784, 0.00040494, 0.00040256, 0.00040015, 0.00039729,\n",
              "       0.00039576, 0.00039192, 0.0003907 , 0.00038874, 0.00038536,\n",
              "       0.00038415, 0.00038225, 0.00037753, 0.00037662, 0.00037529,\n",
              "       0.00037473, 0.00037218, 0.00036688, 0.00036559, 0.00036392,\n",
              "       0.00036348, 0.00035606, 0.00035586, 0.00035199, 0.00035042,\n",
              "       0.00035006, 0.00034738])"
            ]
          },
          "metadata": {
            "tags": []
          },
          "execution_count": 27
        }
      ]
    },
    {
      "cell_type": "code",
      "metadata": {
        "id": "UWxIK3XeESzI"
      },
      "source": [
        "#This also does not seem to be working given that in order to get 95% variance, there is hardly any reduction\r\n",
        "#in dimension as we still have a lot of dimensions.\r\n",
        "\r\n",
        "#Lets look at our data again"
      ],
      "execution_count": 29,
      "outputs": []
    },
    {
      "cell_type": "code",
      "metadata": {
        "colab": {
          "base_uri": "https://localhost:8080/",
          "height": 387
        },
        "id": "gKXHsRGiJ7fx",
        "outputId": "a8335283-3c0c-4c6f-e798-3a9b927f99d6"
      },
      "source": [
        "sns.displot(y, kind=\"kde\")"
      ],
      "execution_count": 28,
      "outputs": [
        {
          "output_type": "execute_result",
          "data": {
            "text/plain": [
              "<seaborn.axisgrid.FacetGrid at 0x7f9b757a44e0>"
            ]
          },
          "metadata": {
            "tags": []
          },
          "execution_count": 28
        },
        {
          "output_type": "display_data",
          "data": {
            "image/png": "[encoded data removed]",
            "text/plain": [
              "<Figure size 360x360 with 1 Axes>"
            ]
          },
          "metadata": {
            "tags": [],
            "needs_background": "light"
          }
        }
      ]
    },
    {
      "cell_type": "code",
      "metadata": {
        "id": "h2CPE1VsJ8Hr"
      },
      "source": [
        ""
      ],
      "execution_count": null,
      "outputs": []
    },
    {
      "cell_type": "code",
      "metadata": {
        "id": "cygQ54J2EouR"
      },
      "source": [
        "# Clearly, there is no point in having those data points where the value of Erlotinib y value is less\r\n",
        "#than 0.7 . This is because we do not have adequate data points for those y values and it would be better if\r\n",
        "# we discard those data values. This will also ensure that we have a more normal distribution. \r\n"
      ],
      "execution_count": null,
      "outputs": []
    },
    {
      "cell_type": "code",
      "metadata": {
        "id": "r7tNkfmIGK6a"
      },
      "source": [
        "datasetGaussian = dataset[(dataset.Erlotinib>0.7)]"
      ],
      "execution_count": 29,
      "outputs": []
    },
    {
      "cell_type": "code",
      "metadata": {
        "colab": {
          "base_uri": "https://localhost:8080/"
        },
        "id": "BH7IwGJmKaWu",
        "outputId": "9bd02545-d803-43d5-ebb6-783aa8c6d828"
      },
      "source": [
        "datasetGaussian.shape"
      ],
      "execution_count": 30,
      "outputs": [
        {
          "output_type": "execute_result",
          "data": {
            "text/plain": [
              "(1050, 1325)"
            ]
          },
          "metadata": {
            "tags": []
          },
          "execution_count": 30
        }
      ]
    },
    {
      "cell_type": "code",
      "metadata": {
        "id": "LY7qwOeRKkNU"
      },
      "source": [
        "yGaussian = datasetGaussian.Erlotinib"
      ],
      "execution_count": 31,
      "outputs": []
    },
    {
      "cell_type": "code",
      "metadata": {
        "colab": {
          "base_uri": "https://localhost:8080/",
          "height": 387
        },
        "id": "5vwcug4FK0Nm",
        "outputId": "05771abb-eba9-4c48-c9de-9c150fa8da4c"
      },
      "source": [
        "sns.displot(yGaussian, kind=\"kde\")"
      ],
      "execution_count": 32,
      "outputs": [
        {
          "output_type": "execute_result",
          "data": {
            "text/plain": [
              "<seaborn.axisgrid.FacetGrid at 0x7f9b726b1550>"
            ]
          },
          "metadata": {
            "tags": []
          },
          "execution_count": 32
        },
        {
          "output_type": "display_data",
          "data": {
            "image/png": "[encoded data removed]",
            "text/plain": [
              "<Figure size 360x360 with 1 Axes>"
            ]
          },
          "metadata": {
            "tags": [],
            "needs_background": "light"
          }
        }
      ]
    },
    {
      "cell_type": "code",
      "metadata": {
        "id": "OAZaIYl9LWtZ"
      },
      "source": [
        "#Great, so we get rid of a lot of sparse data. \r\n",
        "#Now lets continue the procedure as earlier"
      ],
      "execution_count": null,
      "outputs": []
    },
    {
      "cell_type": "code",
      "metadata": {
        "colab": {
          "base_uri": "https://localhost:8080/"
        },
        "id": "J20Rh0QtK5WF",
        "outputId": "2ad17d95-e2b8-4f87-92b2-a49d0dbfbb2b"
      },
      "source": [
        "yGaussian.describe()"
      ],
      "execution_count": 33,
      "outputs": [
        {
          "output_type": "execute_result",
          "data": {
            "text/plain": [
              "count    1050.000000\n",
              "mean        0.929579\n",
              "std         0.042860\n",
              "min         0.708249\n",
              "25%         0.925969\n",
              "50%         0.925969\n",
              "75%         0.947845\n",
              "max         1.000000\n",
              "Name: Erlotinib, dtype: float64"
            ]
          },
          "metadata": {
            "tags": []
          },
          "execution_count": 33
        }
      ]
    },
    {
      "cell_type": "code",
      "metadata": {
        "colab": {
          "base_uri": "https://localhost:8080/"
        },
        "id": "N7OIx4hLH7BY",
        "outputId": "6081880a-6c76-4d24-80a8-18c040faeb44"
      },
      "source": [
        "features = list(datasetGaussian.columns.values) #Make a list of all of the columns in the df. Here note we are using datasetGaussian\r\n",
        "features.pop(features.index('Erlotinib'))\r\n",
        "X = datasetGaussian[features]\r\n",
        "NaN4Features = X.isnull().sum()\r\n",
        "X.isnull().values.sum()"
      ],
      "execution_count": 34,
      "outputs": [
        {
          "output_type": "execute_result",
          "data": {
            "text/plain": [
              "138881"
            ]
          },
          "metadata": {
            "tags": []
          },
          "execution_count": 34
        }
      ]
    },
    {
      "cell_type": "code",
      "metadata": {
        "id": "ugWUc723H4TK"
      },
      "source": [
        "X = X.fillna(X.median()) #Imputing by median"
      ],
      "execution_count": 35,
      "outputs": []
    },
    {
      "cell_type": "code",
      "metadata": {
        "id": "NW4MYKx8H2EI"
      },
      "source": [
        "Xtrain, Xtest , yTrain, yTest = train_test_split(X, yGaussian, test_size=0.3, random_state=3)"
      ],
      "execution_count": 36,
      "outputs": []
    },
    {
      "cell_type": "code",
      "metadata": {
        "id": "TH2OvJJiGSg3"
      },
      "source": [
        "#Converting to numpy array for computation purpose\r\n",
        "xTrain = np.array(Xtrain)\r\n",
        "xTest = np.array(Xtest)"
      ],
      "execution_count": 37,
      "outputs": []
    },
    {
      "cell_type": "code",
      "metadata": {
        "colab": {
          "base_uri": "https://localhost:8080/"
        },
        "id": "CNBuGHShCy7N",
        "outputId": "e49e144b-ac29-4505-dab1-868c57116fa8"
      },
      "source": [
        "pcaObj = PCA(n_components = 2)\r\n",
        "pcaObj.fit(xTrain)\r\n",
        "xTrainPCA = pcaObj.transform(xTrain)\r\n",
        "pcaObj.explained_variance_ratio_"
      ],
      "execution_count": 38,
      "outputs": [
        {
          "output_type": "execute_result",
          "data": {
            "text/plain": [
              "array([0.10062728, 0.07330012])"
            ]
          },
          "metadata": {
            "tags": []
          },
          "execution_count": 38
        }
      ]
    },
    {
      "cell_type": "code",
      "metadata": {
        "id": "c8qp6Sfc9Dnm"
      },
      "source": [
        "#We see that there is only a slight improvement in percentage variance captured i.e., its 18% now."
      ],
      "execution_count": null,
      "outputs": []
    },
    {
      "cell_type": "code",
      "metadata": {
        "id": "UTty_nbF8-ez"
      },
      "source": [
        "#Lets see if I can further improve it, by normalizing yGaussian\r\n"
      ],
      "execution_count": null,
      "outputs": []
    },
    {
      "cell_type": "code",
      "metadata": {
        "id": "vpKbfuYa8zCS"
      },
      "source": [
        "meanY = np.mean(yGaussian)\r\n",
        "stdY = np.std(yGaussian)"
      ],
      "execution_count": 39,
      "outputs": []
    },
    {
      "cell_type": "code",
      "metadata": {
        "colab": {
          "base_uri": "https://localhost:8080/"
        },
        "id": "ZJMEZj7rSlTL",
        "outputId": "31eb7c00-6e02-42b5-cc99-bc20ec3ece90"
      },
      "source": [
        "meanY"
      ],
      "execution_count": 40,
      "outputs": [
        {
          "output_type": "execute_result",
          "data": {
            "text/plain": [
              "0.9295787892968261"
            ]
          },
          "metadata": {
            "tags": []
          },
          "execution_count": 40
        }
      ]
    },
    {
      "cell_type": "code",
      "metadata": {
        "colab": {
          "base_uri": "https://localhost:8080/"
        },
        "id": "9jrF2rBmSmlG",
        "outputId": "12907af9-08e1-4e68-eb57-25de169ba861"
      },
      "source": [
        "stdY"
      ],
      "execution_count": 41,
      "outputs": [
        {
          "output_type": "execute_result",
          "data": {
            "text/plain": [
              "0.04283920498797159"
            ]
          },
          "metadata": {
            "tags": []
          },
          "execution_count": 41
        }
      ]
    },
    {
      "cell_type": "code",
      "metadata": {
        "id": "jydE_b2TSntr"
      },
      "source": [
        "yNorm = (yGaussian-meanY)/stdY\r\n"
      ],
      "execution_count": 42,
      "outputs": []
    },
    {
      "cell_type": "code",
      "metadata": {
        "colab": {
          "base_uri": "https://localhost:8080/",
          "height": 387
        },
        "id": "Z5gXJdxPTA7f",
        "outputId": "39547700-4c22-4d92-99ee-c013bb1ebde0"
      },
      "source": [
        "sns.displot(yNorm, kind=\"kde\")"
      ],
      "execution_count": 43,
      "outputs": [
        {
          "output_type": "execute_result",
          "data": {
            "text/plain": [
              "<seaborn.axisgrid.FacetGrid at 0x7f9b72690400>"
            ]
          },
          "metadata": {
            "tags": []
          },
          "execution_count": 43
        },
        {
          "output_type": "display_data",
          "data": {
            "image/png": "[encoded data removed]",
            "text/plain": [
              "<Figure size 360x360 with 1 Axes>"
            ]
          },
          "metadata": {
            "tags": [],
            "needs_background": "light"
          }
        }
      ]
    },
    {
      "cell_type": "code",
      "metadata": {
        "id": "gF9WFIDdTIJb"
      },
      "source": [
        "#Lets Normalize X"
      ],
      "execution_count": 47,
      "outputs": []
    },
    {
      "cell_type": "code",
      "metadata": {
        "id": "bSMj1vrNTRsR"
      },
      "source": [
        "meanX = np.mean(X)\r\n",
        "stdX = np.std(X)"
      ],
      "execution_count": 44,
      "outputs": []
    },
    {
      "cell_type": "code",
      "metadata": {
        "colab": {
          "base_uri": "https://localhost:8080/"
        },
        "id": "RyTRXu79Tkxm",
        "outputId": "1a22d0fd-ca85-4fd0-860f-1b4b3224081a"
      },
      "source": [
        "meanX.head()"
      ],
      "execution_count": 45,
      "outputs": [
        {
          "output_type": "execute_result",
          "data": {
            "text/plain": [
              "exp_ALDH3B1    6.171930\n",
              "exp_TBXA2R     4.897506\n",
              "exp_ELAC2      8.899919\n",
              "exp_PIGQ       5.311252\n",
              "exp_MYLIP      7.541439\n",
              "dtype: float64"
            ]
          },
          "metadata": {
            "tags": []
          },
          "execution_count": 45
        }
      ]
    },
    {
      "cell_type": "code",
      "metadata": {
        "id": "BjA30iX2TnEw"
      },
      "source": [
        "XNorm = (X-meanX)/stdX"
      ],
      "execution_count": 46,
      "outputs": []
    },
    {
      "cell_type": "code",
      "metadata": {
        "id": "JA_rSPHBTwmT"
      },
      "source": [
        "XNorm = XNorm.fillna(X.median()) #Imputing by median"
      ],
      "execution_count": 47,
      "outputs": []
    },
    {
      "cell_type": "code",
      "metadata": {
        "id": "3dUnqgq_8Vi4"
      },
      "source": [
        "Xtrain, Xtest , yTrain, yTest = train_test_split(XNorm, yNorm, test_size=0.3, random_state=3)"
      ],
      "execution_count": 48,
      "outputs": []
    },
    {
      "cell_type": "code",
      "metadata": {
        "id": "zZ2cOzJO8CMz",
        "colab": {
          "base_uri": "https://localhost:8080/"
        },
        "outputId": "3a168267-b9c7-4916-afdf-55f3c71091c8"
      },
      "source": [
        "#Converting to numpy array for computation purpose\r\n",
        "xTrain = np.array(Xtrain)\r\n",
        "xTest = np.array(Xtest)\r\n",
        "pcaObj = PCA(n_components = 2)\r\n",
        "pcaObj.fit(xTrain)\r\n",
        "xTrainPCA = pcaObj.transform(xTrain)\r\n",
        "pcaObj.explained_variance_ratio_"
      ],
      "execution_count": 49,
      "outputs": [
        {
          "output_type": "execute_result",
          "data": {
            "text/plain": [
              "array([0.065962  , 0.03868819])"
            ]
          },
          "metadata": {
            "tags": []
          },
          "execution_count": 49
        }
      ]
    },
    {
      "cell_type": "code",
      "metadata": {
        "id": "-P8_f0QC7_pK"
      },
      "source": [
        "#This did not work either, as the cumulative variance percentage in fact got less."
      ],
      "execution_count": null,
      "outputs": []
    },
    {
      "cell_type": "code",
      "metadata": {
        "id": "DeUy_hS57RJ3"
      },
      "source": [
        "#Lets try it with yGaussian, which has original y values. This will ensure that the model will predict the right\r\n",
        "#values and not the normalized values\r\n",
        "Xtrain, Xtest , yTrain, yTest = train_test_split(XNorm, yGaussian, test_size=0.3, random_state=3)"
      ],
      "execution_count": 51,
      "outputs": []
    },
    {
      "cell_type": "code",
      "metadata": {
        "colab": {
          "base_uri": "https://localhost:8080/"
        },
        "id": "l6GY-fWMWlRu",
        "outputId": "0d1782db-6db6-4622-86b4-0ce724101789"
      },
      "source": [
        "xTrain = np.array(Xtrain)\r\n",
        "xTest = np.array(Xtest)\r\n",
        "pcaObj = PCA(n_components = 2)\r\n",
        "pcaObj.fit(xTrain)\r\n",
        "xTrainPCA = pcaObj.transform(xTrain)\r\n",
        "pcaObj.explained_variance_ratio_"
      ],
      "execution_count": 52,
      "outputs": [
        {
          "output_type": "execute_result",
          "data": {
            "text/plain": [
              "array([0.065962  , 0.03868819])"
            ]
          },
          "metadata": {
            "tags": []
          },
          "execution_count": 52
        }
      ]
    },
    {
      "cell_type": "code",
      "metadata": {
        "id": "lOmrEhZ8Wvf_"
      },
      "source": [
        ""
      ],
      "execution_count": null,
      "outputs": []
    },
    {
      "cell_type": "markdown",
      "metadata": {
        "id": "dgUa1L2xV7sh"
      },
      "source": [
        "#Remarks: Despite using several strategies for dimensionality reduction, it does not seem to be working well, given that the combined variance of initial components looks to be very less despite all the strategies. \r\n",
        "\r\n",
        "For calculations ahead, I shall use the xTrain, xTest, yTrain and yTest as derived using yGaussian, as it will help me build a model that will give the true value of y (Erlotinib)"
      ]
    },
    {
      "cell_type": "code",
      "metadata": {
        "id": "pu-ZbgSkXDIK"
      },
      "source": [
        "#Lets try Polynomial Regression and then we will use ElasticNet"
      ],
      "execution_count": null,
      "outputs": []
    },
    {
      "cell_type": "code",
      "metadata": {
        "id": "JsAD9P_o1vJG"
      },
      "source": [
        "poly_features = PolynomialFeatures(degree=2, include_bias= False)"
      ],
      "execution_count": 65,
      "outputs": []
    },
    {
      "cell_type": "code",
      "metadata": {
        "id": "rqg2RAHD4VRC"
      },
      "source": [
        "X_poly = poly_features.fit_transform(xTrain)"
      ],
      "execution_count": 66,
      "outputs": []
    },
    {
      "cell_type": "code",
      "metadata": {
        "colab": {
          "base_uri": "https://localhost:8080/"
        },
        "id": "BEfBDcLH5a_Z",
        "outputId": "94f792cc-3f9b-4488-9a60-06868b8347af"
      },
      "source": [
        "xTrain[0].shape"
      ],
      "execution_count": 67,
      "outputs": [
        {
          "output_type": "execute_result",
          "data": {
            "text/plain": [
              "(1324,)"
            ]
          },
          "metadata": {
            "tags": []
          },
          "execution_count": 67
        }
      ]
    },
    {
      "cell_type": "code",
      "metadata": {
        "colab": {
          "base_uri": "https://localhost:8080/"
        },
        "id": "hWqFuyUk5sSo",
        "outputId": "bdc7c3e5-2cdf-4c81-c9b3-aadb90fcf89c"
      },
      "source": [
        "xTrain.shape"
      ],
      "execution_count": 68,
      "outputs": [
        {
          "output_type": "execute_result",
          "data": {
            "text/plain": [
              "(735, 1324)"
            ]
          },
          "metadata": {
            "tags": []
          },
          "execution_count": 68
        }
      ]
    },
    {
      "cell_type": "code",
      "metadata": {
        "id": "pSDkH5XL5pyV"
      },
      "source": [
        ""
      ],
      "execution_count": null,
      "outputs": []
    },
    {
      "cell_type": "code",
      "metadata": {
        "id": "ahXehzI_1p4A",
        "colab": {
          "base_uri": "https://localhost:8080/"
        },
        "outputId": "d767de16-e871-4fb4-b82b-f7a7c9825175"
      },
      "source": [
        "X_poly[0].shape"
      ],
      "execution_count": 69,
      "outputs": [
        {
          "output_type": "execute_result",
          "data": {
            "text/plain": [
              "(878474,)"
            ]
          },
          "metadata": {
            "tags": []
          },
          "execution_count": 69
        }
      ]
    },
    {
      "cell_type": "code",
      "metadata": {
        "colab": {
          "base_uri": "https://localhost:8080/"
        },
        "id": "iAKlYfgZ5uu2",
        "outputId": "70ce7cd7-e2db-400a-e209-7c8cb8e332af"
      },
      "source": [
        "X_poly.shape"
      ],
      "execution_count": 70,
      "outputs": [
        {
          "output_type": "execute_result",
          "data": {
            "text/plain": [
              "(735, 878474)"
            ]
          },
          "metadata": {
            "tags": []
          },
          "execution_count": 70
        }
      ]
    },
    {
      "cell_type": "code",
      "metadata": {
        "id": "DmvuERNL52C4"
      },
      "source": [
        "#So we see that X_poly now has far more columns than xTrain which is a result of combination of all 2nd degree\r\n",
        "# variables. Total attributes is equal to ( 1320 + 2 )! / (1320! 2!)"
      ],
      "execution_count": null,
      "outputs": []
    },
    {
      "cell_type": "code",
      "metadata": {
        "id": "JBo0IKZF5_JA"
      },
      "source": [
        "#Now fitting a "
      ],
      "execution_count": null,
      "outputs": []
    },
    {
      "cell_type": "code",
      "metadata": {
        "id": "rUghAKWQ0yX6"
      },
      "source": [
        "lin_reg = LinearRegression()"
      ],
      "execution_count": 53,
      "outputs": []
    },
    {
      "cell_type": "code",
      "metadata": {
        "id": "JgslOFDU7c7k"
      },
      "source": [
        "lin_reg.fit(X_poly,yTrain)"
      ],
      "execution_count": null,
      "outputs": []
    },
    {
      "cell_type": "code",
      "metadata": {
        "id": "cazXT4E37pns"
      },
      "source": [
        ""
      ],
      "execution_count": null,
      "outputs": []
    },
    {
      "cell_type": "markdown",
      "metadata": {
        "id": "dt8SaYmL8xFj"
      },
      "source": [
        "This gave the error :Your session crashed after using all available RAM\r\n",
        "Thus, I am abandoning polynomial fitting"
      ]
    },
    {
      "cell_type": "code",
      "metadata": {
        "id": "npnaJ4_f75uh"
      },
      "source": [
        "#If we had managed to do dimensionality reduction, then it would have made sense to carry out Polynomial fit."
      ],
      "execution_count": null,
      "outputs": []
    },
    {
      "cell_type": "code",
      "metadata": {
        "id": "-Rj3auKf0sAq"
      },
      "source": [
        "#Lets start simple linear regression fit.\r\n",
        "lin_reg = LinearRegression()"
      ],
      "execution_count": 73,
      "outputs": []
    },
    {
      "cell_type": "code",
      "metadata": {
        "id": "o2j_ZorOjIoO"
      },
      "source": [
        ""
      ],
      "execution_count": null,
      "outputs": []
    },
    {
      "cell_type": "code",
      "metadata": {
        "id": "7MWzPjlFiN5s"
      },
      "source": [
        "#Lets first design a cross-validation set up as desired.\r\n",
        "#For that I make use of GridSearch\r\n",
        "#GridSearchCV should be used to find the optimal parameters to train your final model. \r\n",
        "#Typically, you should run GridSearchCV then look at the parameters that gave the model with the best score. \r\n",
        "#You should then take these parameters and train your final model on all of the data. It is important to \r\n",
        "#note that if you have trained your final model on all of your data, you cannot test it. For any correct test, \r\n",
        "#you must must reserve some of the data. That is why I am reserving the test data for the purpose."
      ],
      "execution_count": 63,
      "outputs": []
    },
    {
      "cell_type": "code",
      "metadata": {
        "id": "3fEp_bkgkuV1"
      },
      "source": [
        "parameters = {'fit_intercept':[True,False], 'normalize':[True,False], 'copy_X':[True, False]} #Note that although I have done normalization, I am repeating it make a second normalization"
      ],
      "execution_count": 71,
      "outputs": []
    },
    {
      "cell_type": "code",
      "metadata": {
        "id": "gKhdmgZ8brLZ"
      },
      "source": [
        "grid_search = GridSearchCV(lin_reg, parameters, cv=5, scoring='r2', verbose=1, return_train_score=True)#Five fold cross validation\r\n",
        "\r\n",
        "\r\n"
      ],
      "execution_count": 72,
      "outputs": []
    },
    {
      "cell_type": "code",
      "metadata": {
        "colab": {
          "base_uri": "https://localhost:8080/"
        },
        "id": "dRnlUJuklaO5",
        "outputId": "3a8b7901-fb56-4676-aac6-ae2c8ead9572"
      },
      "source": [
        "grid_search.fit(Xtrain, yTrain)"
      ],
      "execution_count": 74,
      "outputs": [
        {
          "output_type": "stream",
          "text": [
            "Fitting 5 folds for each of 8 candidates, totalling 40 fits\n"
          ],
          "name": "stdout"
        },
        {
          "output_type": "stream",
          "text": [
            "[Parallel(n_jobs=1)]: Using backend SequentialBackend with 1 concurrent workers.\n",
            "[Parallel(n_jobs=1)]: Done  40 out of  40 | elapsed:   10.8s finished\n"
          ],
          "name": "stderr"
        },
        {
          "output_type": "execute_result",
          "data": {
            "text/plain": [
              "GridSearchCV(cv=5, error_score=nan,\n",
              "             estimator=LinearRegression(copy_X=True, fit_intercept=True,\n",
              "                                        n_jobs=None, normalize=False),\n",
              "             iid='deprecated', n_jobs=None,\n",
              "             param_grid={'copy_X': [True, False],\n",
              "                         'fit_intercept': [True, False],\n",
              "                         'normalize': [True, False]},\n",
              "             pre_dispatch='2*n_jobs', refit=True, return_train_score=True,\n",
              "             scoring='r2', verbose=1)"
            ]
          },
          "metadata": {
            "tags": []
          },
          "execution_count": 74
        }
      ]
    },
    {
      "cell_type": "code",
      "metadata": {
        "colab": {
          "base_uri": "https://localhost:8080/"
        },
        "id": "QqHcrS-El9kv",
        "outputId": "e68b8123-b69a-4305-c12f-fcfffc926089"
      },
      "source": [
        "\r\n",
        "print(\"Residual sum of squares: %.11f\" % np.mean((grid_search.predict(Xtest) - yTest) ** 2))"
      ],
      "execution_count": 75,
      "outputs": [
        {
          "output_type": "stream",
          "text": [
            "Residual sum of squares: 0.00512376273\n"
          ],
          "name": "stdout"
        }
      ]
    },
    {
      "cell_type": "code",
      "metadata": {
        "colab": {
          "base_uri": "https://localhost:8080/"
        },
        "id": "g_ddPVylPTJN",
        "outputId": "9fd6e3d6-1e10-48e4-f8c3-f5b3576b1dbb"
      },
      "source": [
        "print('Best Score: ', grid_search.best_score_) #Gets the best R2 value score\r\n",
        "print('Best Params: ', grid_search.best_params_) #Gets the parameter corresponding to it"
      ],
      "execution_count": 76,
      "outputs": [
        {
          "output_type": "stream",
          "text": [
            "Best Score:  -1.1665692389888391\n",
            "Best Params:  {'copy_X': True, 'fit_intercept': True, 'normalize': False}\n"
          ],
          "name": "stdout"
        }
      ]
    },
    {
      "cell_type": "code",
      "metadata": {
        "id": "n9GsbgIslzVe"
      },
      "source": [
        "#We see that the residual sum of square comes out to be close to zero in grid search"
      ],
      "execution_count": null,
      "outputs": []
    },
    {
      "cell_type": "code",
      "metadata": {
        "colab": {
          "base_uri": "https://localhost:8080/"
        },
        "id": "r92dUh81okqv",
        "outputId": "caa17e75-9434-4f1e-9800-5164d0dec521"
      },
      "source": [
        "#Now doing Linear Regression WITHOUT Grid Search cross validation\r\n",
        "model = LinearRegression()\r\n",
        "model.fit(Xtrain, yTrain)\r\n",
        "#predictions = model.predict(XTest)\r\n",
        "print(\"r2/variance : \", model.score(Xtest,yTest))\r\n",
        "print(\"Residual sum of squares: %.11f\" % np.mean((model.predict(Xtest) - yTest) ** 2))"
      ],
      "execution_count": 77,
      "outputs": [
        {
          "output_type": "stream",
          "text": [
            "r2/variance :  -1.7816813799648819\n",
            "Residual sum of squares: 0.00512376273\n"
          ],
          "name": "stdout"
        }
      ]
    },
    {
      "cell_type": "code",
      "metadata": {
        "id": "JhU77iEcpHsf"
      },
      "source": [
        "#Here the R2 score became  more negative, and so the model is not as good as what we found by GridSearch"
      ],
      "execution_count": null,
      "outputs": []
    },
    {
      "cell_type": "markdown",
      "metadata": {
        "id": "6WZ0PdN8Gx1g"
      },
      "source": [
        "We see that R2 score is lowest for grid_search selected model. \r\n"
      ]
    },
    {
      "cell_type": "code",
      "metadata": {
        "id": "EWwkESf8VtPs"
      },
      "source": [
        ""
      ],
      "execution_count": null,
      "outputs": []
    },
    {
      "cell_type": "code",
      "metadata": {
        "id": "82yeBcuOpAwK"
      },
      "source": [
        "#The simple linear regression can also help us get the coefficients of each of the feature variables which we can plot"
      ],
      "execution_count": null,
      "outputs": []
    },
    {
      "cell_type": "code",
      "metadata": {
        "colab": {
          "base_uri": "https://localhost:8080/"
        },
        "id": "Ov4FbBBhJKuj",
        "outputId": "e93af91b-e3e9-46fa-dd1e-be8574a12263"
      },
      "source": [
        "featureCoefficients = pd.DataFrame() \r\n",
        "featureCoefficients[\"Features\"] = pd.DataFrame(Xtrain).columns\r\n",
        "featureCoefficients['PredictedValues'] = pd.Series(model.coef_) \r\n",
        "\r\n",
        "print(featureCoefficients) "
      ],
      "execution_count": 78,
      "outputs": [
        {
          "output_type": "stream",
          "text": [
            "          Features  PredictedValues\n",
            "0      exp_ALDH3B1        -0.003137\n",
            "1       exp_TBXA2R         0.001259\n",
            "2        exp_ELAC2        -0.001440\n",
            "3         exp_PIGQ        -0.003125\n",
            "4        exp_MYLIP         0.001334\n",
            "...            ...              ...\n",
            "1319     exp_ZMYM3         0.003328\n",
            "1320     exp_CIRBP        -0.000388\n",
            "1321       exp_MSN         0.001883\n",
            "1322      exp_PDPN        -0.001647\n",
            "1323  exp_KIAA1456        -0.002676\n",
            "\n",
            "[1324 rows x 2 columns]\n"
          ],
          "name": "stdout"
        }
      ]
    },
    {
      "cell_type": "code",
      "metadata": {
        "id": "U7iak_xzJtph"
      },
      "source": [
        ""
      ],
      "execution_count": null,
      "outputs": []
    },
    {
      "cell_type": "code",
      "metadata": {
        "colab": {
          "base_uri": "https://localhost:8080/"
        },
        "id": "Sk6Mt2b9JFGs",
        "outputId": "9cda7670-4a3b-4bf0-cc80-93d9d122656c"
      },
      "source": [
        "# find optimal alpha with grid search and Lasso Regression for regularization\r\n",
        "alpha = [0.001, 0.01, 0.1, 1, 10, 100, 1000]\r\n",
        "param_grid = dict(alpha=alpha)\r\n",
        "lasso = Lasso()\r\n",
        "grid = GridSearchCV(estimator=lasso, param_grid=param_grid, scoring='r2', verbose=1, cv=5, n_jobs=-1)\r\n",
        "grid_result = grid.fit(Xtrain, yTrain)\r\n",
        "print('Best Score: ', grid_result.best_score_) #Get best R2 score\r\n",
        "print('Best Params: ', grid_result.best_params_) #Get the alpha parameter which corresponds to best results\r\n",
        "\r\n"
      ],
      "execution_count": 79,
      "outputs": [
        {
          "output_type": "stream",
          "text": [
            "Fitting 5 folds for each of 7 candidates, totalling 35 fits\n"
          ],
          "name": "stdout"
        },
        {
          "output_type": "stream",
          "text": [
            "[Parallel(n_jobs=-1)]: Using backend LokyBackend with 2 concurrent workers.\n"
          ],
          "name": "stderr"
        },
        {
          "output_type": "stream",
          "text": [
            "Best Score:  -1.3784472410560688e-05\n",
            "Best Params:  {'alpha': 0.01}\n"
          ],
          "name": "stdout"
        },
        {
          "output_type": "stream",
          "text": [
            "[Parallel(n_jobs=-1)]: Done  35 out of  35 | elapsed:    0.7s finished\n"
          ],
          "name": "stderr"
        }
      ]
    },
    {
      "cell_type": "code",
      "metadata": {
        "colab": {
          "base_uri": "https://localhost:8080/"
        },
        "id": "dpA0I_dpRiCD",
        "outputId": "fe802661-1787-4d06-c585-ef48a4be2013"
      },
      "source": [
        "print(\"Residual sum of squares: %.11f\" % np.mean((grid_result.predict(Xtest) - yTest) ** 2))"
      ],
      "execution_count": 80,
      "outputs": [
        {
          "output_type": "stream",
          "text": [
            "Residual sum of squares: 0.00184469183\n"
          ],
          "name": "stdout"
        }
      ]
    },
    {
      "cell_type": "markdown",
      "metadata": {
        "id": "mr-msU9ZSkCB"
      },
      "source": [
        "We see that the residual sum of squares has dropped significantly compared to previous models. However, there is no significant improvement in R2 score compared to the model we obtained using GridSearch with simple linear regression model. The n_jobs=-1 takes in all available cores.\r\n"
      ]
    },
    {
      "cell_type": "code",
      "metadata": {
        "colab": {
          "base_uri": "https://localhost:8080/"
        },
        "id": "rok8YuZvS7Yl",
        "outputId": "3d90bbd5-c075-41a9-ce95-7dc5e1e50d8f"
      },
      "source": [
        "#Now making models for ElasticNet\r\n",
        "elastic_net = ElasticNet()\r\n",
        "alpha = [0.001, 0.01, 0.1, 1, 10, 100, 1000]\r\n",
        "l1_ratio = [0, 0.1, 0.2, 0.3, 0.4, 0.5, 0.6, 0.7, 0.8, 0.9, 1]\r\n",
        "param_grid = dict(alpha=alpha, l1_ratio=l1_ratio)\r\n",
        "grid = GridSearchCV(estimator=elastic_net, param_grid=param_grid, scoring='r2', verbose=1, cv=5, n_jobs=-1)\r\n",
        "grid_result = grid.fit(Xtrain, yTrain)\r\n",
        "print('Best Score: ', grid_result.best_score_)\r\n",
        "print('Best Params: ', grid_result.best_params_)"
      ],
      "execution_count": 81,
      "outputs": [
        {
          "output_type": "stream",
          "text": [
            "Fitting 5 folds for each of 77 candidates, totalling 385 fits\n"
          ],
          "name": "stdout"
        },
        {
          "output_type": "stream",
          "text": [
            "[Parallel(n_jobs=-1)]: Using backend LokyBackend with 2 concurrent workers.\n",
            "[Parallel(n_jobs=-1)]: Done  46 tasks      | elapsed:   10.9s\n",
            "[Parallel(n_jobs=-1)]: Done 385 out of 385 | elapsed:   35.9s finished\n"
          ],
          "name": "stderr"
        },
        {
          "output_type": "stream",
          "text": [
            "Best Score:  0.06225518787914193\n",
            "Best Params:  {'alpha': 10, 'l1_ratio': 0}\n"
          ],
          "name": "stdout"
        },
        {
          "output_type": "stream",
          "text": [
            "/usr/local/lib/python3.6/dist-packages/sklearn/linear_model/_coordinate_descent.py:476: ConvergenceWarning: Objective did not converge. You might want to increase the number of iterations. Duality gap: 0.5671693089353329, tolerance: 0.00013461370150833195\n",
            "  positive)\n"
          ],
          "name": "stderr"
        }
      ]
    },
    {
      "cell_type": "code",
      "metadata": {
        "colab": {
          "base_uri": "https://localhost:8080/"
        },
        "id": "JAyrYMaHS-pF",
        "outputId": "14fd20c0-8cae-40da-a82d-94a68bbc18f5"
      },
      "source": [
        "print(\"Residual sum of squares: %.11f\" % np.mean((grid_result.predict(Xtest) - yTest) ** 2))"
      ],
      "execution_count": 82,
      "outputs": [
        {
          "output_type": "stream",
          "text": [
            "Residual sum of squares: 0.00164736720\n"
          ],
          "name": "stdout"
        }
      ]
    },
    {
      "cell_type": "markdown",
      "metadata": {
        "id": "egJhn2FpX2mg"
      },
      "source": [
        "There is not much improvement in residual sum of squared than lasso. So essentially either lasso model or elasticnet model can be used which has the lowest residual sum of squares."
      ]
    },
    {
      "cell_type": "code",
      "metadata": {
        "id": "QXPN8XNDYDSr"
      },
      "source": [
        "#In order to get the coefficients of each of the predictors, we will now have \r\n",
        "#to build a model with the parameters as we obtained best by GridSearch"
      ],
      "execution_count": null,
      "outputs": []
    },
    {
      "cell_type": "code",
      "metadata": {
        "id": "Kc0brehOY6Kk"
      },
      "source": [
        "eNet = ElasticNet(alpha=10, l1_ratio= 0) \r\n"
      ],
      "execution_count": 83,
      "outputs": []
    },
    {
      "cell_type": "code",
      "metadata": {
        "colab": {
          "base_uri": "https://localhost:8080/"
        },
        "id": "Lnb4VIWDYl0u",
        "outputId": "43942304-7648-472a-d9a2-e90f0a25d17e"
      },
      "source": [
        "eNet.fit(Xtrain, yTrain) \r\n",
        "  \r\n"
      ],
      "execution_count": 84,
      "outputs": [
        {
          "output_type": "stream",
          "text": [
            "/usr/local/lib/python3.6/dist-packages/sklearn/linear_model/_coordinate_descent.py:476: ConvergenceWarning: Objective did not converge. You might want to increase the number of iterations. Duality gap: 0.5671693089353329, tolerance: 0.00013461370150833195\n",
            "  positive)\n"
          ],
          "name": "stderr"
        },
        {
          "output_type": "execute_result",
          "data": {
            "text/plain": [
              "ElasticNet(alpha=10, copy_X=True, fit_intercept=True, l1_ratio=0, max_iter=1000,\n",
              "           normalize=False, positive=False, precompute=False, random_state=None,\n",
              "           selection='cyclic', tol=0.0001, warm_start=False)"
            ]
          },
          "metadata": {
            "tags": []
          },
          "execution_count": 84
        }
      ]
    },
    {
      "cell_type": "code",
      "metadata": {
        "colab": {
          "base_uri": "https://localhost:8080/"
        },
        "id": "tpz2KD9XZb3S",
        "outputId": "07c1d2e1-18fd-435e-f868-36c70713fa06"
      },
      "source": [
        "# calculate the prediction and mean square error \r\n",
        "yPred = eNet.predict(Xtest) \r\n",
        "print(\"Mean Squared Error:\", np.mean((yPred - yTest)**2)) \r\n",
        " "
      ],
      "execution_count": 85,
      "outputs": [
        {
          "output_type": "stream",
          "text": [
            "Mean Squared Error: 0.001647367200155317\n"
          ],
          "name": "stdout"
        }
      ]
    },
    {
      "cell_type": "code",
      "metadata": {
        "id": "YOTMC8X5Zr0-"
      },
      "source": [
        "#Now lets get the coefficients\r\n",
        "eNetCoeff = pd.DataFrame() \r\n",
        "eNetCoeff[\"Features\"] = Xtrain.columns \r\n",
        "eNetCoeff['PredictedCoefficients'] = pd.Series(eNet.coef_) "
      ],
      "execution_count": 86,
      "outputs": []
    },
    {
      "cell_type": "code",
      "metadata": {
        "colab": {
          "base_uri": "https://localhost:8080/",
          "height": 415
        },
        "id": "3HefnEEdaHEW",
        "outputId": "af043496-9c7c-4e3f-f584-941d63366dab"
      },
      "source": [
        "eNetCoeff"
      ],
      "execution_count": 87,
      "outputs": [
        {
          "output_type": "execute_result",
          "data": {
            "text/html": [
              "<div>\n",
              "<style scoped>\n",
              "    .dataframe tbody tr th:only-of-type {\n",
              "        vertical-align: middle;\n",
              "    }\n",
              "\n",
              "    .dataframe tbody tr th {\n",
              "        vertical-align: top;\n",
              "    }\n",
              "\n",
              "    .dataframe thead th {\n",
              "        text-align: right;\n",
              "    }\n",
              "</style>\n",
              "<table border=\"1\" class=\"dataframe\">\n",
              "  <thead>\n",
              "    <tr style=\"text-align: right;\">\n",
              "      <th></th>\n",
              "      <th>Features</th>\n",
              "      <th>PredictedCoefficients</th>\n",
              "    </tr>\n",
              "  </thead>\n",
              "  <tbody>\n",
              "    <tr>\n",
              "      <th>0</th>\n",
              "      <td>exp_ALDH3B1</td>\n",
              "      <td>-0.000102</td>\n",
              "    </tr>\n",
              "    <tr>\n",
              "      <th>1</th>\n",
              "      <td>exp_TBXA2R</td>\n",
              "      <td>0.000108</td>\n",
              "    </tr>\n",
              "    <tr>\n",
              "      <th>2</th>\n",
              "      <td>exp_ELAC2</td>\n",
              "      <td>0.000085</td>\n",
              "    </tr>\n",
              "    <tr>\n",
              "      <th>3</th>\n",
              "      <td>exp_PIGQ</td>\n",
              "      <td>-0.000079</td>\n",
              "    </tr>\n",
              "    <tr>\n",
              "      <th>4</th>\n",
              "      <td>exp_MYLIP</td>\n",
              "      <td>0.000150</td>\n",
              "    </tr>\n",
              "    <tr>\n",
              "      <th>...</th>\n",
              "      <td>...</td>\n",
              "      <td>...</td>\n",
              "    </tr>\n",
              "    <tr>\n",
              "      <th>1319</th>\n",
              "      <td>exp_ZMYM3</td>\n",
              "      <td>0.000119</td>\n",
              "    </tr>\n",
              "    <tr>\n",
              "      <th>1320</th>\n",
              "      <td>exp_CIRBP</td>\n",
              "      <td>0.000058</td>\n",
              "    </tr>\n",
              "    <tr>\n",
              "      <th>1321</th>\n",
              "      <td>exp_MSN</td>\n",
              "      <td>0.000068</td>\n",
              "    </tr>\n",
              "    <tr>\n",
              "      <th>1322</th>\n",
              "      <td>exp_PDPN</td>\n",
              "      <td>-0.000038</td>\n",
              "    </tr>\n",
              "    <tr>\n",
              "      <th>1323</th>\n",
              "      <td>exp_KIAA1456</td>\n",
              "      <td>-0.000041</td>\n",
              "    </tr>\n",
              "  </tbody>\n",
              "</table>\n",
              "<p>1324 rows × 2 columns</p>\n",
              "</div>"
            ],
            "text/plain": [
              "          Features  PredictedCoefficients\n",
              "0      exp_ALDH3B1              -0.000102\n",
              "1       exp_TBXA2R               0.000108\n",
              "2        exp_ELAC2               0.000085\n",
              "3         exp_PIGQ              -0.000079\n",
              "4        exp_MYLIP               0.000150\n",
              "...            ...                    ...\n",
              "1319     exp_ZMYM3               0.000119\n",
              "1320     exp_CIRBP               0.000058\n",
              "1321       exp_MSN               0.000068\n",
              "1322      exp_PDPN              -0.000038\n",
              "1323  exp_KIAA1456              -0.000041\n",
              "\n",
              "[1324 rows x 2 columns]"
            ]
          },
          "metadata": {
            "tags": []
          },
          "execution_count": 87
        }
      ]
    },
    {
      "cell_type": "code",
      "metadata": {
        "id": "NK3PnM_2aJ6a"
      },
      "source": [
        ""
      ],
      "execution_count": null,
      "outputs": []
    },
    {
      "cell_type": "markdown",
      "metadata": {
        "id": "h3RGqSuPPWyg"
      },
      "source": [
        "**Now we use Random Forest in GRID Search for regression**"
      ]
    },
    {
      "cell_type": "code",
      "metadata": {
        "id": "q5HwK7HOa0Yn"
      },
      "source": [
        "param_grid = [\r\n",
        " {'n_estimators': [3, 10, 30,50,60,80,90], 'max_features': [2, 4, 6, 8]},\r\n",
        " {'bootstrap': [False], 'n_estimators': [3, 10], 'max_features': [2, 3, 4]},\r\n",
        " ]"
      ],
      "execution_count": 93,
      "outputs": []
    },
    {
      "cell_type": "code",
      "metadata": {
        "id": "lmK5hWuYaptk"
      },
      "source": [
        "from sklearn.ensemble import RandomForestRegressor\r\n",
        "forest_reg = RandomForestRegressor()"
      ],
      "execution_count": 89,
      "outputs": []
    },
    {
      "cell_type": "code",
      "metadata": {
        "id": "fpxQU8U0PfDj"
      },
      "source": [
        "grid_search = GridSearchCV(forest_reg, param_grid, cv=5,scoring='neg_mean_squared_error',\r\n",
        "return_train_score=True)"
      ],
      "execution_count": 94,
      "outputs": []
    },
    {
      "cell_type": "code",
      "metadata": {
        "colab": {
          "base_uri": "https://localhost:8080/"
        },
        "id": "Fs-Ni85yPhbD",
        "outputId": "2c304f24-8ac6-4ac0-d526-87e008be2381"
      },
      "source": [
        "grid_search.fit(Xtrain, yTrain)"
      ],
      "execution_count": 95,
      "outputs": [
        {
          "output_type": "execute_result",
          "data": {
            "text/plain": [
              "GridSearchCV(cv=5, error_score=nan,\n",
              "             estimator=RandomForestRegressor(bootstrap=True, ccp_alpha=0.0,\n",
              "                                             criterion='mse', max_depth=None,\n",
              "                                             max_features='auto',\n",
              "                                             max_leaf_nodes=None,\n",
              "                                             max_samples=None,\n",
              "                                             min_impurity_decrease=0.0,\n",
              "                                             min_impurity_split=None,\n",
              "                                             min_samples_leaf=1,\n",
              "                                             min_samples_split=2,\n",
              "                                             min_weight_fraction_leaf=0.0,\n",
              "                                             n_estimators=100, n_jobs=None,\n",
              "                                             oob_score=False, random_state=None,\n",
              "                                             verbose=0, warm_start=False),\n",
              "             iid='deprecated', n_jobs=None,\n",
              "             param_grid=[{'max_features': [2, 4, 6, 8],\n",
              "                          'n_estimators': [3, 10, 30, 50, 60, 80, 90]},\n",
              "                         {'bootstrap': [False], 'max_features': [2, 3, 4],\n",
              "                          'n_estimators': [3, 10]}],\n",
              "             pre_dispatch='2*n_jobs', refit=True, return_train_score=True,\n",
              "             scoring='neg_mean_squared_error', verbose=0)"
            ]
          },
          "metadata": {
            "tags": []
          },
          "execution_count": 95
        }
      ]
    },
    {
      "cell_type": "code",
      "metadata": {
        "colab": {
          "base_uri": "https://localhost:8080/"
        },
        "id": "dKJDXEnbPkEH",
        "outputId": "950db2f5-6fb4-49d1-9c2e-5caeb6e8eb4b"
      },
      "source": [
        "grid_search.best_params_"
      ],
      "execution_count": 96,
      "outputs": [
        {
          "output_type": "execute_result",
          "data": {
            "text/plain": [
              "{'max_features': 6, 'n_estimators': 80}"
            ]
          },
          "metadata": {
            "tags": []
          },
          "execution_count": 96
        }
      ]
    },
    {
      "cell_type": "code",
      "metadata": {
        "colab": {
          "base_uri": "https://localhost:8080/"
        },
        "id": "b_vaG18wPpUw",
        "outputId": "5d9ff961-810e-41d8-ccbb-0d5538f9f601"
      },
      "source": [
        "grid_search.best_estimator_"
      ],
      "execution_count": 97,
      "outputs": [
        {
          "output_type": "execute_result",
          "data": {
            "text/plain": [
              "RandomForestRegressor(bootstrap=True, ccp_alpha=0.0, criterion='mse',\n",
              "                      max_depth=None, max_features=6, max_leaf_nodes=None,\n",
              "                      max_samples=None, min_impurity_decrease=0.0,\n",
              "                      min_impurity_split=None, min_samples_leaf=1,\n",
              "                      min_samples_split=2, min_weight_fraction_leaf=0.0,\n",
              "                      n_estimators=80, n_jobs=None, oob_score=False,\n",
              "                      random_state=None, verbose=0, warm_start=False)"
            ]
          },
          "metadata": {
            "tags": []
          },
          "execution_count": 97
        }
      ]
    },
    {
      "cell_type": "code",
      "metadata": {
        "id": "pm0JPyxqafcH"
      },
      "source": [
        " cvres = grid_search.cv_results_"
      ],
      "execution_count": 98,
      "outputs": []
    },
    {
      "cell_type": "code",
      "metadata": {
        "colab": {
          "base_uri": "https://localhost:8080/"
        },
        "id": "4hWRu72QQGpH",
        "outputId": "1f377e21-c8d9-43fa-814f-e859636f6355"
      },
      "source": [
        " for mean_score, params in zip(cvres[\"mean_test_score\"], cvres[\"params\"]):\r\n",
        "   print(np.sqrt(-mean_score), params)"
      ],
      "execution_count": 99,
      "outputs": [
        {
          "output_type": "stream",
          "text": [
            "0.050966577095904304 {'max_features': 2, 'n_estimators': 3}\n",
            "0.04351551886960961 {'max_features': 2, 'n_estimators': 10}\n",
            "0.04254714347142074 {'max_features': 2, 'n_estimators': 30}\n",
            "0.04255218738046473 {'max_features': 2, 'n_estimators': 50}\n",
            "0.04202819995737934 {'max_features': 2, 'n_estimators': 60}\n",
            "0.041937667192032874 {'max_features': 2, 'n_estimators': 80}\n",
            "0.04213257743015208 {'max_features': 2, 'n_estimators': 90}\n",
            "0.05024451922030543 {'max_features': 4, 'n_estimators': 3}\n",
            "0.04366490578863446 {'max_features': 4, 'n_estimators': 10}\n",
            "0.04197232546410276 {'max_features': 4, 'n_estimators': 30}\n",
            "0.041570310245242444 {'max_features': 4, 'n_estimators': 50}\n",
            "0.042225950042070644 {'max_features': 4, 'n_estimators': 60}\n",
            "0.04155975504729487 {'max_features': 4, 'n_estimators': 80}\n",
            "0.04208820688648137 {'max_features': 4, 'n_estimators': 90}\n",
            "0.048760772041919656 {'max_features': 6, 'n_estimators': 3}\n",
            "0.04465735263656503 {'max_features': 6, 'n_estimators': 10}\n",
            "0.04257754692251051 {'max_features': 6, 'n_estimators': 30}\n",
            "0.04224130956026875 {'max_features': 6, 'n_estimators': 50}\n",
            "0.04197464362072154 {'max_features': 6, 'n_estimators': 60}\n",
            "0.04138670802260161 {'max_features': 6, 'n_estimators': 80}\n",
            "0.04169745568770024 {'max_features': 6, 'n_estimators': 90}\n",
            "0.04806813723156515 {'max_features': 8, 'n_estimators': 3}\n",
            "0.04399431330105445 {'max_features': 8, 'n_estimators': 10}\n",
            "0.04238258056679606 {'max_features': 8, 'n_estimators': 30}\n",
            "0.04146197200733429 {'max_features': 8, 'n_estimators': 50}\n",
            "0.04229580453943359 {'max_features': 8, 'n_estimators': 60}\n",
            "0.04186570462739823 {'max_features': 8, 'n_estimators': 80}\n",
            "0.04191805441513901 {'max_features': 8, 'n_estimators': 90}\n",
            "0.04790870544295644 {'bootstrap': False, 'max_features': 2, 'n_estimators': 3}\n",
            "0.044041737208080294 {'bootstrap': False, 'max_features': 2, 'n_estimators': 10}\n",
            "0.04862275078770989 {'bootstrap': False, 'max_features': 3, 'n_estimators': 3}\n",
            "0.04420460561341246 {'bootstrap': False, 'max_features': 3, 'n_estimators': 10}\n",
            "0.05009708568187433 {'bootstrap': False, 'max_features': 4, 'n_estimators': 3}\n",
            "0.04392549750603715 {'bootstrap': False, 'max_features': 4, 'n_estimators': 10}\n"
          ],
          "name": "stdout"
        }
      ]
    },
    {
      "cell_type": "code",
      "metadata": {
        "id": "Cy3jO1SGQL4p"
      },
      "source": [
        "#We note that the RMSE for Training data is lowest of value 0.04138670802260161 for {'max_features': 6, 'n_estimators': 80}"
      ],
      "execution_count": 101,
      "outputs": []
    },
    {
      "cell_type": "code",
      "metadata": {
        "colab": {
          "base_uri": "https://localhost:8080/"
        },
        "id": "82SYjmkfQi6x",
        "outputId": "aedf35bc-955c-4891-affa-b807118bae70"
      },
      "source": [
        "# calculate the prediction and mean square error for Test data \r\n",
        "yPred = grid_search.predict(Xtest) \r\n",
        "print(\"Mean Squared Error:\", np.mean((yPred - yTest)**2))"
      ],
      "execution_count": 102,
      "outputs": [
        {
          "output_type": "stream",
          "text": [
            "Mean Squared Error: 0.0017264375831151934\n"
          ],
          "name": "stdout"
        }
      ]
    },
    {
      "cell_type": "code",
      "metadata": {
        "id": "a4cdu6xBQrS4"
      },
      "source": [
        "#We note that the mean squared error is also as low as I was getting with Lasso or Ridge Regression earlier or Elastic net"
      ],
      "execution_count": 107,
      "outputs": []
    },
    {
      "cell_type": "code",
      "metadata": {
        "colab": {
          "base_uri": "https://localhost:8080/"
        },
        "id": "83nt2_RPRtOp",
        "outputId": "280416cf-7a28-4c94-9b1a-89ff516ff8b6"
      },
      "source": [
        "pip install dtreeviz"
      ],
      "execution_count": 108,
      "outputs": [
        {
          "output_type": "stream",
          "text": [
            "Collecting dtreeviz\n",
            "\u001b[?25l  Downloading https://files.pythonhosted.org/packages/31/57/37124098be67a2edf55c909c77b634d1723abecb54b8ded3e7b3b02af384/dtreeviz-1.1.3.tar.gz (49kB)\n",
            "\r\u001b[K     |██████▊                         | 10kB 17.8MB/s eta 0:00:01\r\u001b[K     |█████████████▍                  | 20kB 23.1MB/s eta 0:00:01\r\u001b[K     |████████████████████            | 30kB 11.3MB/s eta 0:00:01\r\u001b[K     |██████████████████████████▊     | 40kB 8.6MB/s eta 0:00:01\r\u001b[K     |████████████████████████████████| 51kB 2.6MB/s \n",
            "\u001b[?25hRequirement already satisfied: graphviz>=0.9 in /usr/local/lib/python3.6/dist-packages (from dtreeviz) (0.10.1)\n",
            "Requirement already satisfied: pandas in /usr/local/lib/python3.6/dist-packages (from dtreeviz) (1.1.5)\n",
            "Requirement already satisfied: numpy in /usr/local/lib/python3.6/dist-packages (from dtreeviz) (1.19.4)\n",
            "Requirement already satisfied: scikit-learn in /usr/local/lib/python3.6/dist-packages (from dtreeviz) (0.22.2.post1)\n",
            "Requirement already satisfied: matplotlib in /usr/local/lib/python3.6/dist-packages (from dtreeviz) (3.2.2)\n",
            "Collecting colour\n",
            "  Downloading https://files.pythonhosted.org/packages/74/46/e81907704ab203206769dee1385dc77e1407576ff8f50a0681d0a6b541be/colour-0.1.5-py2.py3-none-any.whl\n",
            "Requirement already satisfied: xgboost in /usr/local/lib/python3.6/dist-packages (from dtreeviz) (0.90)\n",
            "Requirement already satisfied: pytest in /usr/local/lib/python3.6/dist-packages (from dtreeviz) (3.6.4)\n",
            "Collecting pyspark\n",
            "\u001b[?25l  Downloading https://files.pythonhosted.org/packages/f0/26/198fc8c0b98580f617cb03cb298c6056587b8f0447e20fa40c5b634ced77/pyspark-3.0.1.tar.gz (204.2MB)\n",
            "\u001b[K     |████████████████████████████████| 204.2MB 76kB/s \n",
            "\u001b[?25hRequirement already satisfied: python-dateutil>=2.7.3 in /usr/local/lib/python3.6/dist-packages (from pandas->dtreeviz) (2.8.1)\n",
            "Requirement already satisfied: pytz>=2017.2 in /usr/local/lib/python3.6/dist-packages (from pandas->dtreeviz) (2018.9)\n",
            "Requirement already satisfied: joblib>=0.11 in /usr/local/lib/python3.6/dist-packages (from scikit-learn->dtreeviz) (1.0.0)\n",
            "Requirement already satisfied: scipy>=0.17.0 in /usr/local/lib/python3.6/dist-packages (from scikit-learn->dtreeviz) (1.4.1)\n",
            "Requirement already satisfied: pyparsing!=2.0.4,!=2.1.2,!=2.1.6,>=2.0.1 in /usr/local/lib/python3.6/dist-packages (from matplotlib->dtreeviz) (2.4.7)\n",
            "Requirement already satisfied: kiwisolver>=1.0.1 in /usr/local/lib/python3.6/dist-packages (from matplotlib->dtreeviz) (1.3.1)\n",
            "Requirement already satisfied: cycler>=0.10 in /usr/local/lib/python3.6/dist-packages (from matplotlib->dtreeviz) (0.10.0)\n",
            "Requirement already satisfied: attrs>=17.4.0 in /usr/local/lib/python3.6/dist-packages (from pytest->dtreeviz) (20.3.0)\n",
            "Requirement already satisfied: more-itertools>=4.0.0 in /usr/local/lib/python3.6/dist-packages (from pytest->dtreeviz) (8.6.0)\n",
            "Requirement already satisfied: pluggy<0.8,>=0.5 in /usr/local/lib/python3.6/dist-packages (from pytest->dtreeviz) (0.7.1)\n",
            "Requirement already satisfied: six>=1.10.0 in /usr/local/lib/python3.6/dist-packages (from pytest->dtreeviz) (1.15.0)\n",
            "Requirement already satisfied: atomicwrites>=1.0 in /usr/local/lib/python3.6/dist-packages (from pytest->dtreeviz) (1.4.0)\n",
            "Requirement already satisfied: setuptools in /usr/local/lib/python3.6/dist-packages (from pytest->dtreeviz) (51.0.0)\n",
            "Requirement already satisfied: py>=1.5.0 in /usr/local/lib/python3.6/dist-packages (from pytest->dtreeviz) (1.10.0)\n",
            "Collecting py4j==0.10.9\n",
            "\u001b[?25l  Downloading https://files.pythonhosted.org/packages/9e/b6/6a4fb90cd235dc8e265a6a2067f2a2c99f0d91787f06aca4bcf7c23f3f80/py4j-0.10.9-py2.py3-none-any.whl (198kB)\n",
            "\u001b[K     |████████████████████████████████| 204kB 44.4MB/s \n",
            "\u001b[?25hBuilding wheels for collected packages: dtreeviz, pyspark\n",
            "  Building wheel for dtreeviz (setup.py) ... \u001b[?25l\u001b[?25hdone\n",
            "  Created wheel for dtreeviz: filename=dtreeviz-1.1.3-cp36-none-any.whl size=52494 sha256=4e434e7d2e23c04aa706bef1ee6a9f7d015e7f3c9663e58d04e814cb9546d14a\n",
            "  Stored in directory: /root/.cache/pip/wheels/80/a9/1e/4751fda06e88399ee09410646e9d55c88787276f9537b8ebd0\n",
            "  Building wheel for pyspark (setup.py) ... \u001b[?25l\u001b[?25hdone\n",
            "  Created wheel for pyspark: filename=pyspark-3.0.1-py2.py3-none-any.whl size=204612242 sha256=69c7fb521c33f59bc160ab2256001563a9ed53ccaa7caee35bb72daa58ca7f20\n",
            "  Stored in directory: /root/.cache/pip/wheels/5e/bd/07/031766ca628adec8435bb40f0bd83bb676ce65ff4007f8e73f\n",
            "Successfully built dtreeviz pyspark\n",
            "Installing collected packages: colour, py4j, pyspark, dtreeviz\n",
            "Successfully installed colour-0.1.5 dtreeviz-1.1.3 py4j-0.10.9 pyspark-3.0.1\n"
          ],
          "name": "stdout"
        }
      ]
    },
    {
      "cell_type": "code",
      "metadata": {
        "id": "WYANDSg5Q-HD"
      },
      "source": [
        "from sklearn import tree\r\n",
        "from dtreeviz.trees import dtreeviz"
      ],
      "execution_count": 109,
      "outputs": []
    },
    {
      "cell_type": "code",
      "metadata": {
        "id": "_b_1Q-_aRAgf"
      },
      "source": [
        "#Now making the tree with the best parameters obtained by random forest\r\n",
        "forest_reg = RandomForestRegressor(max_features = 6, n_estimators = 80)"
      ],
      "execution_count": 110,
      "outputs": []
    },
    {
      "cell_type": "code",
      "metadata": {
        "colab": {
          "base_uri": "https://localhost:8080/"
        },
        "id": "4nKwfRXGSMHb",
        "outputId": "847cbd27-7d99-4e2d-afa1-b259c0add247"
      },
      "source": [
        "forest_reg.fit(Xtrain, yTrain)"
      ],
      "execution_count": 111,
      "outputs": [
        {
          "output_type": "execute_result",
          "data": {
            "text/plain": [
              "RandomForestRegressor(bootstrap=True, ccp_alpha=0.0, criterion='mse',\n",
              "                      max_depth=None, max_features=6, max_leaf_nodes=None,\n",
              "                      max_samples=None, min_impurity_decrease=0.0,\n",
              "                      min_impurity_split=None, min_samples_leaf=1,\n",
              "                      min_samples_split=2, min_weight_fraction_leaf=0.0,\n",
              "                      n_estimators=80, n_jobs=None, oob_score=False,\n",
              "                      random_state=None, verbose=0, warm_start=False)"
            ]
          },
          "metadata": {
            "tags": []
          },
          "execution_count": 111
        }
      ]
    },
    {
      "cell_type": "code",
      "metadata": {
        "id": "KDfmHeIDSOuw"
      },
      "source": [
        "def plotRandomForestR(model, X, Y):\r\n",
        "    selected_genes = Xtrain.columns # get the feature names\r\n",
        "    model.fit(X, Y)\r\n",
        "    plt.figure(figsize=(20,20))\r\n",
        "    _ = tree.plot_tree(model.estimators_[0], feature_names=selected_genes, filled=True)"
      ],
      "execution_count": 112,
      "outputs": []
    },
    {
      "cell_type": "code",
      "metadata": {
        "colab": {
          "base_uri": "https://localhost:8080/",
          "height": 644
        },
        "id": "lkcjCl07SSx9",
        "outputId": "bd61439b-19d2-4df2-b1d8-6219c98b7327"
      },
      "source": [
        "plotRandomForestR(forest_reg,Xtrain,yTrain)"
      ],
      "execution_count": 113,
      "outputs": [
        {
          "output_type": "display_data",
          "data": {
            "image/png": "[encoded data removed]",
            "text/plain": [
              "<Figure size 1440x1440 with 1 Axes>"
            ]
          },
          "metadata": {
            "tags": [],
            "needs_background": "light"
          }
        }
      ]
    },
    {
      "cell_type": "code",
      "metadata": {
        "id": "mD9-TUUaSVQt"
      },
      "source": [
        ""
      ],
      "execution_count": null,
      "outputs": []
    }
  ]
}