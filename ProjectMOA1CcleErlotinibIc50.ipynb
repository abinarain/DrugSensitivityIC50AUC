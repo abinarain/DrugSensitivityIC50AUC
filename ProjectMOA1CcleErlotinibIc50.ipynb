{
  "nbformat": 4,
  "nbformat_minor": 0,
  "metadata": {
    "colab": {
      "name": "ProjectMOA1CcleErlotinibIc50.ipynb",
      "provenance": [],
      "collapsed_sections": []
    },
    "kernelspec": {
      "name": "python3",
      "display_name": "Python 3"
    }
  },
  "cells": [
    {
      "cell_type": "code",
      "metadata": {
        "id": "kj4IOJumxLhT"
      },
      "source": [
        "#Author: Abhishek N. Singh\r\n",
        "#Description: This script evaluates the IC50 value for a drug when acting against cell viability such \r\n",
        "#as cancer cells, and then I try to fit a regression model for Ccle data\r\n",
        "#Date: 26th December 2020"
      ],
      "execution_count": 1,
      "outputs": []
    },
    {
      "cell_type": "code",
      "metadata": {
        "id": "R01cZLMpx_XG"
      },
      "source": [
        "import pandas as pd\r\n",
        "import numpy as np\r\n",
        "import matplotlib.pyplot as plt \r\n",
        "%matplotlib inline\r\n",
        "from sklearn.linear_model import ElasticNet\r\n",
        "from sklearn.linear_model import Lasso\r\n",
        "from sklearn import preprocessing\r\n",
        "from sklearn import linear_model\r\n",
        "from sklearn.model_selection import GridSearchCV\r\n",
        "from sklearn.preprocessing import PolynomialFeatures\r\n",
        "from sklearn.linear_model import LinearRegression\r\n",
        "from sklearn.decomposition import PCA, KernelPCA\r\n",
        "from sklearn.model_selection import train_test_split\r\n",
        "import seaborn as sns\r\n",
        "\r\n",
        "\r\n",
        "\r\n"
      ],
      "execution_count": 23,
      "outputs": []
    },
    {
      "cell_type": "code",
      "metadata": {
        "id": "Y-UaidFWycYn"
      },
      "source": [
        "dataset = pd.read_csv(\"ccle_Erlotinib_ic50.csv\", delimiter=\",\")"
      ],
      "execution_count": 27,
      "outputs": []
    },
    {
      "cell_type": "code",
      "metadata": {
        "colab": {
          "base_uri": "https://localhost:8080/",
          "height": 269
        },
        "id": "zqMvzYQgy_E9",
        "outputId": "643b5453-c0f0-471d-b139-c8232a06a0bc"
      },
      "source": [
        "dataset.head()"
      ],
      "execution_count": 28,
      "outputs": [
        {
          "output_type": "execute_result",
          "data": {
            "text/html": [
              "<div>\n",
              "<style scoped>\n",
              "    .dataframe tbody tr th:only-of-type {\n",
              "        vertical-align: middle;\n",
              "    }\n",
              "\n",
              "    .dataframe tbody tr th {\n",
              "        vertical-align: top;\n",
              "    }\n",
              "\n",
              "    .dataframe thead th {\n",
              "        text-align: right;\n",
              "    }\n",
              "</style>\n",
              "<table border=\"1\" class=\"dataframe\">\n",
              "  <thead>\n",
              "    <tr style=\"text-align: right;\">\n",
              "      <th></th>\n",
              "      <th>Unnamed: 0</th>\n",
              "      <th>Unnamed: 0.1</th>\n",
              "      <th>exp_SLC4A1</th>\n",
              "      <th>exp_FAM214B</th>\n",
              "      <th>exp_CD79B</th>\n",
              "      <th>exp_MYLIP</th>\n",
              "      <th>exp_MED24</th>\n",
              "      <th>exp_CSDE1</th>\n",
              "      <th>exp_BAZ1B</th>\n",
              "      <th>exp_ABHD5</th>\n",
              "      <th>exp_MAP4K3</th>\n",
              "      <th>exp_ELOVL5</th>\n",
              "      <th>exp_POLR3B</th>\n",
              "      <th>exp_NPC1L1</th>\n",
              "      <th>exp_XYLT2</th>\n",
              "      <th>exp_RALBP1</th>\n",
              "      <th>exp_SAMD4A</th>\n",
              "      <th>exp_VIM</th>\n",
              "      <th>exp_AGPAT4</th>\n",
              "      <th>exp_PNPLA6</th>\n",
              "      <th>exp_TUBG2</th>\n",
              "      <th>exp_PARP3</th>\n",
              "      <th>exp_BARX2</th>\n",
              "      <th>exp_WDR37</th>\n",
              "      <th>exp_ARHGAP6</th>\n",
              "      <th>exp_LMO3</th>\n",
              "      <th>exp_DKK3</th>\n",
              "      <th>exp_NFE2L3</th>\n",
              "      <th>exp_NRIP2</th>\n",
              "      <th>exp_KCNQ1</th>\n",
              "      <th>exp_ARSF</th>\n",
              "      <th>exp_CALCRL</th>\n",
              "      <th>exp_ANKRD44</th>\n",
              "      <th>exp_SPEN</th>\n",
              "      <th>exp_CYB5R4</th>\n",
              "      <th>exp_PRKCQ</th>\n",
              "      <th>exp_CDK13</th>\n",
              "      <th>exp_METTL22</th>\n",
              "      <th>exp_ROCK1</th>\n",
              "      <th>exp_DNAJA2</th>\n",
              "      <th>...</th>\n",
              "      <th>exp_ATAD5</th>\n",
              "      <th>exp_ECM1</th>\n",
              "      <th>exp_AC079305.10</th>\n",
              "      <th>exp_MFGE8</th>\n",
              "      <th>exp_FERMT2</th>\n",
              "      <th>exp_CAMKV</th>\n",
              "      <th>exp_OR51E2</th>\n",
              "      <th>exp_SHISA6</th>\n",
              "      <th>exp_MTMR7</th>\n",
              "      <th>exp_PEAK1</th>\n",
              "      <th>exp_KRT33B</th>\n",
              "      <th>exp_GABRP</th>\n",
              "      <th>exp_SYT13</th>\n",
              "      <th>exp_UBQLN2</th>\n",
              "      <th>exp_FZD8</th>\n",
              "      <th>exp_RP11-422J8.1</th>\n",
              "      <th>exp_TRIP12</th>\n",
              "      <th>exp_DMRT1</th>\n",
              "      <th>exp_SLC4A11</th>\n",
              "      <th>exp_FGF23</th>\n",
              "      <th>exp_METTL25</th>\n",
              "      <th>exp_CDC73</th>\n",
              "      <th>exp_CD3EAP</th>\n",
              "      <th>exp_NCBP1</th>\n",
              "      <th>exp_WNT3</th>\n",
              "      <th>exp_RGS7BP</th>\n",
              "      <th>exp_AP000679.2</th>\n",
              "      <th>exp_CMTM5</th>\n",
              "      <th>exp_DAP3</th>\n",
              "      <th>exp_RAPH1</th>\n",
              "      <th>exp_CYB5B</th>\n",
              "      <th>exp_RHOV</th>\n",
              "      <th>exp_C17orf89</th>\n",
              "      <th>exp_PUF60</th>\n",
              "      <th>exp_C13orf45</th>\n",
              "      <th>exp_ZNF442</th>\n",
              "      <th>exp_RP11-403N16.3</th>\n",
              "      <th>exp_GTF2E1</th>\n",
              "      <th>exp_ZNF362</th>\n",
              "      <th>Erlotinib</th>\n",
              "    </tr>\n",
              "  </thead>\n",
              "  <tbody>\n",
              "    <tr>\n",
              "      <th>0</th>\n",
              "      <td>0</td>\n",
              "      <td>22RV1</td>\n",
              "      <td>4.082593</td>\n",
              "      <td>6.298913</td>\n",
              "      <td>3.851031</td>\n",
              "      <td>7.107385</td>\n",
              "      <td>8.436494</td>\n",
              "      <td>11.343345</td>\n",
              "      <td>7.483741</td>\n",
              "      <td>7.551904</td>\n",
              "      <td>8.332643</td>\n",
              "      <td>11.792308</td>\n",
              "      <td>9.344713</td>\n",
              "      <td>4.248098</td>\n",
              "      <td>4.366640</td>\n",
              "      <td>7.451602</td>\n",
              "      <td>4.663437</td>\n",
              "      <td>7.258833</td>\n",
              "      <td>3.957589</td>\n",
              "      <td>7.600397</td>\n",
              "      <td>6.908966</td>\n",
              "      <td>4.725975</td>\n",
              "      <td>NaN</td>\n",
              "      <td>6.211135</td>\n",
              "      <td>5.629812</td>\n",
              "      <td>4.958598</td>\n",
              "      <td>3.485505</td>\n",
              "      <td>4.476219</td>\n",
              "      <td>4.079834</td>\n",
              "      <td>NaN</td>\n",
              "      <td>4.958131</td>\n",
              "      <td>3.983449</td>\n",
              "      <td>4.432377</td>\n",
              "      <td>8.632950</td>\n",
              "      <td>5.094334</td>\n",
              "      <td>4.029845</td>\n",
              "      <td>7.701648</td>\n",
              "      <td>7.631633</td>\n",
              "      <td>NaN</td>\n",
              "      <td>9.981774</td>\n",
              "      <td>...</td>\n",
              "      <td>7.400583</td>\n",
              "      <td>4.981640</td>\n",
              "      <td>4.868796</td>\n",
              "      <td>NaN</td>\n",
              "      <td>8.584477</td>\n",
              "      <td>4.564852</td>\n",
              "      <td>4.174741</td>\n",
              "      <td>3.616413</td>\n",
              "      <td>3.510075</td>\n",
              "      <td>6.203490</td>\n",
              "      <td>4.443861</td>\n",
              "      <td>3.683258</td>\n",
              "      <td>4.143058</td>\n",
              "      <td>9.286393</td>\n",
              "      <td>6.062309</td>\n",
              "      <td>4.177499</td>\n",
              "      <td>9.914280</td>\n",
              "      <td>3.975643</td>\n",
              "      <td>6.627792</td>\n",
              "      <td>NaN</td>\n",
              "      <td>8.444246</td>\n",
              "      <td>9.201161</td>\n",
              "      <td>7.226234</td>\n",
              "      <td>7.368465</td>\n",
              "      <td>4.398275</td>\n",
              "      <td>3.338287</td>\n",
              "      <td>4.668934</td>\n",
              "      <td>4.596752</td>\n",
              "      <td>10.617282</td>\n",
              "      <td>6.767572</td>\n",
              "      <td>10.054453</td>\n",
              "      <td>4.593774</td>\n",
              "      <td>5.424791</td>\n",
              "      <td>10.172457</td>\n",
              "      <td>3.560752</td>\n",
              "      <td>3.714123</td>\n",
              "      <td>3.751627</td>\n",
              "      <td>9.030491</td>\n",
              "      <td>8.706857</td>\n",
              "      <td>-6.370221</td>\n",
              "    </tr>\n",
              "    <tr>\n",
              "      <th>1</th>\n",
              "      <td>1</td>\n",
              "      <td>23132-87</td>\n",
              "      <td>4.128230</td>\n",
              "      <td>6.476800</td>\n",
              "      <td>3.649039</td>\n",
              "      <td>7.695474</td>\n",
              "      <td>NaN</td>\n",
              "      <td>10.441450</td>\n",
              "      <td>7.775860</td>\n",
              "      <td>NaN</td>\n",
              "      <td>8.897495</td>\n",
              "      <td>7.280994</td>\n",
              "      <td>9.235046</td>\n",
              "      <td>4.029988</td>\n",
              "      <td>4.606524</td>\n",
              "      <td>7.746412</td>\n",
              "      <td>4.777889</td>\n",
              "      <td>5.053373</td>\n",
              "      <td>4.928611</td>\n",
              "      <td>6.771384</td>\n",
              "      <td>NaN</td>\n",
              "      <td>5.982616</td>\n",
              "      <td>4.238520</td>\n",
              "      <td>6.693463</td>\n",
              "      <td>3.520891</td>\n",
              "      <td>4.414752</td>\n",
              "      <td>3.620253</td>\n",
              "      <td>4.059379</td>\n",
              "      <td>4.066404</td>\n",
              "      <td>5.788688</td>\n",
              "      <td>4.925361</td>\n",
              "      <td>4.072047</td>\n",
              "      <td>3.700446</td>\n",
              "      <td>8.786443</td>\n",
              "      <td>5.734335</td>\n",
              "      <td>4.144037</td>\n",
              "      <td>6.954582</td>\n",
              "      <td>7.508120</td>\n",
              "      <td>4.446643</td>\n",
              "      <td>9.794442</td>\n",
              "      <td>...</td>\n",
              "      <td>6.867038</td>\n",
              "      <td>8.489555</td>\n",
              "      <td>5.962027</td>\n",
              "      <td>4.355453</td>\n",
              "      <td>4.029825</td>\n",
              "      <td>4.392756</td>\n",
              "      <td>4.130343</td>\n",
              "      <td>NaN</td>\n",
              "      <td>3.459368</td>\n",
              "      <td>6.627770</td>\n",
              "      <td>4.228168</td>\n",
              "      <td>3.824430</td>\n",
              "      <td>4.057312</td>\n",
              "      <td>8.490557</td>\n",
              "      <td>4.263747</td>\n",
              "      <td>6.175023</td>\n",
              "      <td>10.459879</td>\n",
              "      <td>NaN</td>\n",
              "      <td>6.425510</td>\n",
              "      <td>3.702439</td>\n",
              "      <td>8.399821</td>\n",
              "      <td>8.850130</td>\n",
              "      <td>NaN</td>\n",
              "      <td>7.855743</td>\n",
              "      <td>4.582457</td>\n",
              "      <td>3.222617</td>\n",
              "      <td>4.623805</td>\n",
              "      <td>4.454426</td>\n",
              "      <td>11.317319</td>\n",
              "      <td>8.149260</td>\n",
              "      <td>11.047558</td>\n",
              "      <td>4.836936</td>\n",
              "      <td>5.226575</td>\n",
              "      <td>11.311974</td>\n",
              "      <td>3.958961</td>\n",
              "      <td>NaN</td>\n",
              "      <td>3.816234</td>\n",
              "      <td>NaN</td>\n",
              "      <td>7.600376</td>\n",
              "      <td>-1.162793</td>\n",
              "    </tr>\n",
              "    <tr>\n",
              "      <th>2</th>\n",
              "      <td>2</td>\n",
              "      <td>5637</td>\n",
              "      <td>4.232633</td>\n",
              "      <td>5.409350</td>\n",
              "      <td>3.884663</td>\n",
              "      <td>5.997920</td>\n",
              "      <td>8.764779</td>\n",
              "      <td>11.155580</td>\n",
              "      <td>7.256661</td>\n",
              "      <td>7.720493</td>\n",
              "      <td>NaN</td>\n",
              "      <td>9.829221</td>\n",
              "      <td>8.406003</td>\n",
              "      <td>3.931312</td>\n",
              "      <td>4.951526</td>\n",
              "      <td>NaN</td>\n",
              "      <td>4.376442</td>\n",
              "      <td>13.615661</td>\n",
              "      <td>6.159889</td>\n",
              "      <td>8.130779</td>\n",
              "      <td>7.121475</td>\n",
              "      <td>5.203785</td>\n",
              "      <td>5.436578</td>\n",
              "      <td>5.574527</td>\n",
              "      <td>3.864687</td>\n",
              "      <td>4.232630</td>\n",
              "      <td>7.263396</td>\n",
              "      <td>8.851568</td>\n",
              "      <td>3.755380</td>\n",
              "      <td>NaN</td>\n",
              "      <td>5.182808</td>\n",
              "      <td>3.998052</td>\n",
              "      <td>3.903182</td>\n",
              "      <td>8.404504</td>\n",
              "      <td>5.257813</td>\n",
              "      <td>6.221232</td>\n",
              "      <td>6.727735</td>\n",
              "      <td>8.857687</td>\n",
              "      <td>5.802521</td>\n",
              "      <td>9.523043</td>\n",
              "      <td>...</td>\n",
              "      <td>7.233137</td>\n",
              "      <td>5.714424</td>\n",
              "      <td>5.590182</td>\n",
              "      <td>4.976245</td>\n",
              "      <td>7.901070</td>\n",
              "      <td>4.308740</td>\n",
              "      <td>4.056972</td>\n",
              "      <td>3.671009</td>\n",
              "      <td>3.577847</td>\n",
              "      <td>7.010037</td>\n",
              "      <td>4.920441</td>\n",
              "      <td>3.847691</td>\n",
              "      <td>3.999551</td>\n",
              "      <td>9.010487</td>\n",
              "      <td>4.626338</td>\n",
              "      <td>5.975799</td>\n",
              "      <td>9.878371</td>\n",
              "      <td>3.882246</td>\n",
              "      <td>5.764312</td>\n",
              "      <td>4.142796</td>\n",
              "      <td>8.249753</td>\n",
              "      <td>7.617302</td>\n",
              "      <td>7.378636</td>\n",
              "      <td>NaN</td>\n",
              "      <td>5.155399</td>\n",
              "      <td>3.547933</td>\n",
              "      <td>NaN</td>\n",
              "      <td>NaN</td>\n",
              "      <td>11.469862</td>\n",
              "      <td>7.278961</td>\n",
              "      <td>8.799358</td>\n",
              "      <td>5.142446</td>\n",
              "      <td>6.427744</td>\n",
              "      <td>10.865098</td>\n",
              "      <td>3.803288</td>\n",
              "      <td>3.575255</td>\n",
              "      <td>3.737100</td>\n",
              "      <td>8.258913</td>\n",
              "      <td>NaN</td>\n",
              "      <td>-0.329292</td>\n",
              "    </tr>\n",
              "    <tr>\n",
              "      <th>3</th>\n",
              "      <td>3</td>\n",
              "      <td>639-V</td>\n",
              "      <td>4.274809</td>\n",
              "      <td>5.511578</td>\n",
              "      <td>3.822042</td>\n",
              "      <td>6.873338</td>\n",
              "      <td>8.765674</td>\n",
              "      <td>11.395225</td>\n",
              "      <td>8.001514</td>\n",
              "      <td>8.359996</td>\n",
              "      <td>8.441087</td>\n",
              "      <td>11.008791</td>\n",
              "      <td>8.806536</td>\n",
              "      <td>3.950303</td>\n",
              "      <td>5.199439</td>\n",
              "      <td>8.373395</td>\n",
              "      <td>5.403594</td>\n",
              "      <td>13.222709</td>\n",
              "      <td>4.974602</td>\n",
              "      <td>9.007124</td>\n",
              "      <td>7.337783</td>\n",
              "      <td>6.168544</td>\n",
              "      <td>NaN</td>\n",
              "      <td>6.411914</td>\n",
              "      <td>3.869755</td>\n",
              "      <td>3.858503</td>\n",
              "      <td>5.463546</td>\n",
              "      <td>5.144393</td>\n",
              "      <td>3.682765</td>\n",
              "      <td>4.861025</td>\n",
              "      <td>NaN</td>\n",
              "      <td>3.710644</td>\n",
              "      <td>4.179881</td>\n",
              "      <td>8.363210</td>\n",
              "      <td>5.683454</td>\n",
              "      <td>7.095368</td>\n",
              "      <td>7.322369</td>\n",
              "      <td>8.454900</td>\n",
              "      <td>5.933833</td>\n",
              "      <td>9.954870</td>\n",
              "      <td>...</td>\n",
              "      <td>8.606337</td>\n",
              "      <td>5.370465</td>\n",
              "      <td>NaN</td>\n",
              "      <td>4.470538</td>\n",
              "      <td>10.056486</td>\n",
              "      <td>5.149470</td>\n",
              "      <td>4.144588</td>\n",
              "      <td>3.741141</td>\n",
              "      <td>NaN</td>\n",
              "      <td>7.364387</td>\n",
              "      <td>4.723452</td>\n",
              "      <td>3.771738</td>\n",
              "      <td>4.581364</td>\n",
              "      <td>9.269365</td>\n",
              "      <td>4.168433</td>\n",
              "      <td>4.561451</td>\n",
              "      <td>10.685752</td>\n",
              "      <td>3.771484</td>\n",
              "      <td>7.950414</td>\n",
              "      <td>4.496515</td>\n",
              "      <td>7.121637</td>\n",
              "      <td>7.924980</td>\n",
              "      <td>7.473654</td>\n",
              "      <td>8.310546</td>\n",
              "      <td>NaN</td>\n",
              "      <td>3.545479</td>\n",
              "      <td>NaN</td>\n",
              "      <td>4.632940</td>\n",
              "      <td>10.866240</td>\n",
              "      <td>6.724361</td>\n",
              "      <td>9.461169</td>\n",
              "      <td>4.427737</td>\n",
              "      <td>NaN</td>\n",
              "      <td>11.230596</td>\n",
              "      <td>4.301963</td>\n",
              "      <td>NaN</td>\n",
              "      <td>3.833572</td>\n",
              "      <td>8.968382</td>\n",
              "      <td>8.986759</td>\n",
              "      <td>-1.011109</td>\n",
              "    </tr>\n",
              "    <tr>\n",
              "      <th>4</th>\n",
              "      <td>4</td>\n",
              "      <td>647-V</td>\n",
              "      <td>4.138209</td>\n",
              "      <td>5.590375</td>\n",
              "      <td>3.775710</td>\n",
              "      <td>7.198329</td>\n",
              "      <td>7.990521</td>\n",
              "      <td>11.860634</td>\n",
              "      <td>7.673516</td>\n",
              "      <td>7.262398</td>\n",
              "      <td>NaN</td>\n",
              "      <td>11.156613</td>\n",
              "      <td>9.096359</td>\n",
              "      <td>3.890482</td>\n",
              "      <td>4.754753</td>\n",
              "      <td>8.025617</td>\n",
              "      <td>4.728453</td>\n",
              "      <td>5.072331</td>\n",
              "      <td>3.948612</td>\n",
              "      <td>8.237300</td>\n",
              "      <td>6.774186</td>\n",
              "      <td>6.215790</td>\n",
              "      <td>4.219273</td>\n",
              "      <td>NaN</td>\n",
              "      <td>3.924146</td>\n",
              "      <td>4.054676</td>\n",
              "      <td>5.758870</td>\n",
              "      <td>7.018634</td>\n",
              "      <td>3.985200</td>\n",
              "      <td>5.041176</td>\n",
              "      <td>4.933259</td>\n",
              "      <td>4.206833</td>\n",
              "      <td>3.763124</td>\n",
              "      <td>7.932391</td>\n",
              "      <td>5.462681</td>\n",
              "      <td>4.215227</td>\n",
              "      <td>7.903790</td>\n",
              "      <td>NaN</td>\n",
              "      <td>4.860129</td>\n",
              "      <td>9.945075</td>\n",
              "      <td>...</td>\n",
              "      <td>6.963498</td>\n",
              "      <td>8.764630</td>\n",
              "      <td>NaN</td>\n",
              "      <td>5.154277</td>\n",
              "      <td>7.929167</td>\n",
              "      <td>4.373349</td>\n",
              "      <td>3.962345</td>\n",
              "      <td>3.749517</td>\n",
              "      <td>3.347872</td>\n",
              "      <td>6.489364</td>\n",
              "      <td>3.934875</td>\n",
              "      <td>3.853384</td>\n",
              "      <td>4.153273</td>\n",
              "      <td>9.957665</td>\n",
              "      <td>4.235883</td>\n",
              "      <td>4.485709</td>\n",
              "      <td>10.541742</td>\n",
              "      <td>3.671055</td>\n",
              "      <td>6.098189</td>\n",
              "      <td>4.279885</td>\n",
              "      <td>6.902325</td>\n",
              "      <td>8.650886</td>\n",
              "      <td>NaN</td>\n",
              "      <td>7.961041</td>\n",
              "      <td>6.274755</td>\n",
              "      <td>3.553055</td>\n",
              "      <td>4.494296</td>\n",
              "      <td>4.001512</td>\n",
              "      <td>11.571626</td>\n",
              "      <td>6.725249</td>\n",
              "      <td>10.293137</td>\n",
              "      <td>4.371169</td>\n",
              "      <td>5.748308</td>\n",
              "      <td>10.692733</td>\n",
              "      <td>3.969577</td>\n",
              "      <td>4.100036</td>\n",
              "      <td>3.614016</td>\n",
              "      <td>NaN</td>\n",
              "      <td>9.749767</td>\n",
              "      <td>-1.162793</td>\n",
              "    </tr>\n",
              "  </tbody>\n",
              "</table>\n",
              "<p>5 rows × 1753 columns</p>\n",
              "</div>"
            ],
            "text/plain": [
              "   Unnamed: 0 Unnamed: 0.1  exp_SLC4A1  ...  exp_GTF2E1  exp_ZNF362  Erlotinib\n",
              "0           0        22RV1    4.082593  ...    9.030491    8.706857  -6.370221\n",
              "1           1     23132-87    4.128230  ...         NaN    7.600376  -1.162793\n",
              "2           2         5637    4.232633  ...    8.258913         NaN  -0.329292\n",
              "3           3        639-V    4.274809  ...    8.968382    8.986759  -1.011109\n",
              "4           4        647-V    4.138209  ...         NaN    9.749767  -1.162793\n",
              "\n",
              "[5 rows x 1753 columns]"
            ]
          },
          "metadata": {
            "tags": []
          },
          "execution_count": 28
        }
      ]
    },
    {
      "cell_type": "code",
      "metadata": {
        "colab": {
          "base_uri": "https://localhost:8080/"
        },
        "id": "ZVfy97xFyr9c",
        "outputId": "baa93729-0512-4fdb-8d18-7dba22237154"
      },
      "source": [
        "dataset.shape"
      ],
      "execution_count": 29,
      "outputs": [
        {
          "output_type": "execute_result",
          "data": {
            "text/plain": [
              "(1061, 1753)"
            ]
          },
          "metadata": {
            "tags": []
          },
          "execution_count": 29
        }
      ]
    },
    {
      "cell_type": "code",
      "metadata": {
        "id": "rhlQZz6byyq_"
      },
      "source": [
        "#So 1061 samples with 1753 features"
      ],
      "execution_count": 7,
      "outputs": []
    },
    {
      "cell_type": "code",
      "metadata": {
        "id": "fhZzLAwgzHwp"
      },
      "source": [
        "#The first two column feature variables are not needed for data modeling and can be dropped."
      ],
      "execution_count": 8,
      "outputs": []
    },
    {
      "cell_type": "code",
      "metadata": {
        "id": "3-OqbnUGzTvh"
      },
      "source": [
        "del dataset['Unnamed: 0']\r\n",
        "del dataset['Unnamed: 0.1']"
      ],
      "execution_count": 30,
      "outputs": []
    },
    {
      "cell_type": "code",
      "metadata": {
        "colab": {
          "base_uri": "https://localhost:8080/",
          "height": 269
        },
        "id": "AiPWJ_hDzi84",
        "outputId": "1d18ff67-6f2b-4b6e-bef0-003b3ade26d3"
      },
      "source": [
        "dataset.head()"
      ],
      "execution_count": 31,
      "outputs": [
        {
          "output_type": "execute_result",
          "data": {
            "text/html": [
              "<div>\n",
              "<style scoped>\n",
              "    .dataframe tbody tr th:only-of-type {\n",
              "        vertical-align: middle;\n",
              "    }\n",
              "\n",
              "    .dataframe tbody tr th {\n",
              "        vertical-align: top;\n",
              "    }\n",
              "\n",
              "    .dataframe thead th {\n",
              "        text-align: right;\n",
              "    }\n",
              "</style>\n",
              "<table border=\"1\" class=\"dataframe\">\n",
              "  <thead>\n",
              "    <tr style=\"text-align: right;\">\n",
              "      <th></th>\n",
              "      <th>exp_SLC4A1</th>\n",
              "      <th>exp_FAM214B</th>\n",
              "      <th>exp_CD79B</th>\n",
              "      <th>exp_MYLIP</th>\n",
              "      <th>exp_MED24</th>\n",
              "      <th>exp_CSDE1</th>\n",
              "      <th>exp_BAZ1B</th>\n",
              "      <th>exp_ABHD5</th>\n",
              "      <th>exp_MAP4K3</th>\n",
              "      <th>exp_ELOVL5</th>\n",
              "      <th>exp_POLR3B</th>\n",
              "      <th>exp_NPC1L1</th>\n",
              "      <th>exp_XYLT2</th>\n",
              "      <th>exp_RALBP1</th>\n",
              "      <th>exp_SAMD4A</th>\n",
              "      <th>exp_VIM</th>\n",
              "      <th>exp_AGPAT4</th>\n",
              "      <th>exp_PNPLA6</th>\n",
              "      <th>exp_TUBG2</th>\n",
              "      <th>exp_PARP3</th>\n",
              "      <th>exp_BARX2</th>\n",
              "      <th>exp_WDR37</th>\n",
              "      <th>exp_ARHGAP6</th>\n",
              "      <th>exp_LMO3</th>\n",
              "      <th>exp_DKK3</th>\n",
              "      <th>exp_NFE2L3</th>\n",
              "      <th>exp_NRIP2</th>\n",
              "      <th>exp_KCNQ1</th>\n",
              "      <th>exp_ARSF</th>\n",
              "      <th>exp_CALCRL</th>\n",
              "      <th>exp_ANKRD44</th>\n",
              "      <th>exp_SPEN</th>\n",
              "      <th>exp_CYB5R4</th>\n",
              "      <th>exp_PRKCQ</th>\n",
              "      <th>exp_CDK13</th>\n",
              "      <th>exp_METTL22</th>\n",
              "      <th>exp_ROCK1</th>\n",
              "      <th>exp_DNAJA2</th>\n",
              "      <th>exp_RNF126</th>\n",
              "      <th>exp_MNT</th>\n",
              "      <th>...</th>\n",
              "      <th>exp_ATAD5</th>\n",
              "      <th>exp_ECM1</th>\n",
              "      <th>exp_AC079305.10</th>\n",
              "      <th>exp_MFGE8</th>\n",
              "      <th>exp_FERMT2</th>\n",
              "      <th>exp_CAMKV</th>\n",
              "      <th>exp_OR51E2</th>\n",
              "      <th>exp_SHISA6</th>\n",
              "      <th>exp_MTMR7</th>\n",
              "      <th>exp_PEAK1</th>\n",
              "      <th>exp_KRT33B</th>\n",
              "      <th>exp_GABRP</th>\n",
              "      <th>exp_SYT13</th>\n",
              "      <th>exp_UBQLN2</th>\n",
              "      <th>exp_FZD8</th>\n",
              "      <th>exp_RP11-422J8.1</th>\n",
              "      <th>exp_TRIP12</th>\n",
              "      <th>exp_DMRT1</th>\n",
              "      <th>exp_SLC4A11</th>\n",
              "      <th>exp_FGF23</th>\n",
              "      <th>exp_METTL25</th>\n",
              "      <th>exp_CDC73</th>\n",
              "      <th>exp_CD3EAP</th>\n",
              "      <th>exp_NCBP1</th>\n",
              "      <th>exp_WNT3</th>\n",
              "      <th>exp_RGS7BP</th>\n",
              "      <th>exp_AP000679.2</th>\n",
              "      <th>exp_CMTM5</th>\n",
              "      <th>exp_DAP3</th>\n",
              "      <th>exp_RAPH1</th>\n",
              "      <th>exp_CYB5B</th>\n",
              "      <th>exp_RHOV</th>\n",
              "      <th>exp_C17orf89</th>\n",
              "      <th>exp_PUF60</th>\n",
              "      <th>exp_C13orf45</th>\n",
              "      <th>exp_ZNF442</th>\n",
              "      <th>exp_RP11-403N16.3</th>\n",
              "      <th>exp_GTF2E1</th>\n",
              "      <th>exp_ZNF362</th>\n",
              "      <th>Erlotinib</th>\n",
              "    </tr>\n",
              "  </thead>\n",
              "  <tbody>\n",
              "    <tr>\n",
              "      <th>0</th>\n",
              "      <td>4.082593</td>\n",
              "      <td>6.298913</td>\n",
              "      <td>3.851031</td>\n",
              "      <td>7.107385</td>\n",
              "      <td>8.436494</td>\n",
              "      <td>11.343345</td>\n",
              "      <td>7.483741</td>\n",
              "      <td>7.551904</td>\n",
              "      <td>8.332643</td>\n",
              "      <td>11.792308</td>\n",
              "      <td>9.344713</td>\n",
              "      <td>4.248098</td>\n",
              "      <td>4.366640</td>\n",
              "      <td>7.451602</td>\n",
              "      <td>4.663437</td>\n",
              "      <td>7.258833</td>\n",
              "      <td>3.957589</td>\n",
              "      <td>7.600397</td>\n",
              "      <td>6.908966</td>\n",
              "      <td>4.725975</td>\n",
              "      <td>NaN</td>\n",
              "      <td>6.211135</td>\n",
              "      <td>5.629812</td>\n",
              "      <td>4.958598</td>\n",
              "      <td>3.485505</td>\n",
              "      <td>4.476219</td>\n",
              "      <td>4.079834</td>\n",
              "      <td>NaN</td>\n",
              "      <td>4.958131</td>\n",
              "      <td>3.983449</td>\n",
              "      <td>4.432377</td>\n",
              "      <td>8.632950</td>\n",
              "      <td>5.094334</td>\n",
              "      <td>4.029845</td>\n",
              "      <td>7.701648</td>\n",
              "      <td>7.631633</td>\n",
              "      <td>NaN</td>\n",
              "      <td>9.981774</td>\n",
              "      <td>7.670413</td>\n",
              "      <td>9.671062</td>\n",
              "      <td>...</td>\n",
              "      <td>7.400583</td>\n",
              "      <td>4.981640</td>\n",
              "      <td>4.868796</td>\n",
              "      <td>NaN</td>\n",
              "      <td>8.584477</td>\n",
              "      <td>4.564852</td>\n",
              "      <td>4.174741</td>\n",
              "      <td>3.616413</td>\n",
              "      <td>3.510075</td>\n",
              "      <td>6.203490</td>\n",
              "      <td>4.443861</td>\n",
              "      <td>3.683258</td>\n",
              "      <td>4.143058</td>\n",
              "      <td>9.286393</td>\n",
              "      <td>6.062309</td>\n",
              "      <td>4.177499</td>\n",
              "      <td>9.914280</td>\n",
              "      <td>3.975643</td>\n",
              "      <td>6.627792</td>\n",
              "      <td>NaN</td>\n",
              "      <td>8.444246</td>\n",
              "      <td>9.201161</td>\n",
              "      <td>7.226234</td>\n",
              "      <td>7.368465</td>\n",
              "      <td>4.398275</td>\n",
              "      <td>3.338287</td>\n",
              "      <td>4.668934</td>\n",
              "      <td>4.596752</td>\n",
              "      <td>10.617282</td>\n",
              "      <td>6.767572</td>\n",
              "      <td>10.054453</td>\n",
              "      <td>4.593774</td>\n",
              "      <td>5.424791</td>\n",
              "      <td>10.172457</td>\n",
              "      <td>3.560752</td>\n",
              "      <td>3.714123</td>\n",
              "      <td>3.751627</td>\n",
              "      <td>9.030491</td>\n",
              "      <td>8.706857</td>\n",
              "      <td>-6.370221</td>\n",
              "    </tr>\n",
              "    <tr>\n",
              "      <th>1</th>\n",
              "      <td>4.128230</td>\n",
              "      <td>6.476800</td>\n",
              "      <td>3.649039</td>\n",
              "      <td>7.695474</td>\n",
              "      <td>NaN</td>\n",
              "      <td>10.441450</td>\n",
              "      <td>7.775860</td>\n",
              "      <td>NaN</td>\n",
              "      <td>8.897495</td>\n",
              "      <td>7.280994</td>\n",
              "      <td>9.235046</td>\n",
              "      <td>4.029988</td>\n",
              "      <td>4.606524</td>\n",
              "      <td>7.746412</td>\n",
              "      <td>4.777889</td>\n",
              "      <td>5.053373</td>\n",
              "      <td>4.928611</td>\n",
              "      <td>6.771384</td>\n",
              "      <td>NaN</td>\n",
              "      <td>5.982616</td>\n",
              "      <td>4.238520</td>\n",
              "      <td>6.693463</td>\n",
              "      <td>3.520891</td>\n",
              "      <td>4.414752</td>\n",
              "      <td>3.620253</td>\n",
              "      <td>4.059379</td>\n",
              "      <td>4.066404</td>\n",
              "      <td>5.788688</td>\n",
              "      <td>4.925361</td>\n",
              "      <td>4.072047</td>\n",
              "      <td>3.700446</td>\n",
              "      <td>8.786443</td>\n",
              "      <td>5.734335</td>\n",
              "      <td>4.144037</td>\n",
              "      <td>6.954582</td>\n",
              "      <td>7.508120</td>\n",
              "      <td>4.446643</td>\n",
              "      <td>9.794442</td>\n",
              "      <td>NaN</td>\n",
              "      <td>9.492787</td>\n",
              "      <td>...</td>\n",
              "      <td>6.867038</td>\n",
              "      <td>8.489555</td>\n",
              "      <td>5.962027</td>\n",
              "      <td>4.355453</td>\n",
              "      <td>4.029825</td>\n",
              "      <td>4.392756</td>\n",
              "      <td>4.130343</td>\n",
              "      <td>NaN</td>\n",
              "      <td>3.459368</td>\n",
              "      <td>6.627770</td>\n",
              "      <td>4.228168</td>\n",
              "      <td>3.824430</td>\n",
              "      <td>4.057312</td>\n",
              "      <td>8.490557</td>\n",
              "      <td>4.263747</td>\n",
              "      <td>6.175023</td>\n",
              "      <td>10.459879</td>\n",
              "      <td>NaN</td>\n",
              "      <td>6.425510</td>\n",
              "      <td>3.702439</td>\n",
              "      <td>8.399821</td>\n",
              "      <td>8.850130</td>\n",
              "      <td>NaN</td>\n",
              "      <td>7.855743</td>\n",
              "      <td>4.582457</td>\n",
              "      <td>3.222617</td>\n",
              "      <td>4.623805</td>\n",
              "      <td>4.454426</td>\n",
              "      <td>11.317319</td>\n",
              "      <td>8.149260</td>\n",
              "      <td>11.047558</td>\n",
              "      <td>4.836936</td>\n",
              "      <td>5.226575</td>\n",
              "      <td>11.311974</td>\n",
              "      <td>3.958961</td>\n",
              "      <td>NaN</td>\n",
              "      <td>3.816234</td>\n",
              "      <td>NaN</td>\n",
              "      <td>7.600376</td>\n",
              "      <td>-1.162793</td>\n",
              "    </tr>\n",
              "    <tr>\n",
              "      <th>2</th>\n",
              "      <td>4.232633</td>\n",
              "      <td>5.409350</td>\n",
              "      <td>3.884663</td>\n",
              "      <td>5.997920</td>\n",
              "      <td>8.764779</td>\n",
              "      <td>11.155580</td>\n",
              "      <td>7.256661</td>\n",
              "      <td>7.720493</td>\n",
              "      <td>NaN</td>\n",
              "      <td>9.829221</td>\n",
              "      <td>8.406003</td>\n",
              "      <td>3.931312</td>\n",
              "      <td>4.951526</td>\n",
              "      <td>NaN</td>\n",
              "      <td>4.376442</td>\n",
              "      <td>13.615661</td>\n",
              "      <td>6.159889</td>\n",
              "      <td>8.130779</td>\n",
              "      <td>7.121475</td>\n",
              "      <td>5.203785</td>\n",
              "      <td>5.436578</td>\n",
              "      <td>5.574527</td>\n",
              "      <td>3.864687</td>\n",
              "      <td>4.232630</td>\n",
              "      <td>7.263396</td>\n",
              "      <td>8.851568</td>\n",
              "      <td>3.755380</td>\n",
              "      <td>NaN</td>\n",
              "      <td>5.182808</td>\n",
              "      <td>3.998052</td>\n",
              "      <td>3.903182</td>\n",
              "      <td>8.404504</td>\n",
              "      <td>5.257813</td>\n",
              "      <td>6.221232</td>\n",
              "      <td>6.727735</td>\n",
              "      <td>8.857687</td>\n",
              "      <td>5.802521</td>\n",
              "      <td>9.523043</td>\n",
              "      <td>8.570222</td>\n",
              "      <td>9.373495</td>\n",
              "      <td>...</td>\n",
              "      <td>7.233137</td>\n",
              "      <td>5.714424</td>\n",
              "      <td>5.590182</td>\n",
              "      <td>4.976245</td>\n",
              "      <td>7.901070</td>\n",
              "      <td>4.308740</td>\n",
              "      <td>4.056972</td>\n",
              "      <td>3.671009</td>\n",
              "      <td>3.577847</td>\n",
              "      <td>7.010037</td>\n",
              "      <td>4.920441</td>\n",
              "      <td>3.847691</td>\n",
              "      <td>3.999551</td>\n",
              "      <td>9.010487</td>\n",
              "      <td>4.626338</td>\n",
              "      <td>5.975799</td>\n",
              "      <td>9.878371</td>\n",
              "      <td>3.882246</td>\n",
              "      <td>5.764312</td>\n",
              "      <td>4.142796</td>\n",
              "      <td>8.249753</td>\n",
              "      <td>7.617302</td>\n",
              "      <td>7.378636</td>\n",
              "      <td>NaN</td>\n",
              "      <td>5.155399</td>\n",
              "      <td>3.547933</td>\n",
              "      <td>NaN</td>\n",
              "      <td>NaN</td>\n",
              "      <td>11.469862</td>\n",
              "      <td>7.278961</td>\n",
              "      <td>8.799358</td>\n",
              "      <td>5.142446</td>\n",
              "      <td>6.427744</td>\n",
              "      <td>10.865098</td>\n",
              "      <td>3.803288</td>\n",
              "      <td>3.575255</td>\n",
              "      <td>3.737100</td>\n",
              "      <td>8.258913</td>\n",
              "      <td>NaN</td>\n",
              "      <td>-0.329292</td>\n",
              "    </tr>\n",
              "    <tr>\n",
              "      <th>3</th>\n",
              "      <td>4.274809</td>\n",
              "      <td>5.511578</td>\n",
              "      <td>3.822042</td>\n",
              "      <td>6.873338</td>\n",
              "      <td>8.765674</td>\n",
              "      <td>11.395225</td>\n",
              "      <td>8.001514</td>\n",
              "      <td>8.359996</td>\n",
              "      <td>8.441087</td>\n",
              "      <td>11.008791</td>\n",
              "      <td>8.806536</td>\n",
              "      <td>3.950303</td>\n",
              "      <td>5.199439</td>\n",
              "      <td>8.373395</td>\n",
              "      <td>5.403594</td>\n",
              "      <td>13.222709</td>\n",
              "      <td>4.974602</td>\n",
              "      <td>9.007124</td>\n",
              "      <td>7.337783</td>\n",
              "      <td>6.168544</td>\n",
              "      <td>NaN</td>\n",
              "      <td>6.411914</td>\n",
              "      <td>3.869755</td>\n",
              "      <td>3.858503</td>\n",
              "      <td>5.463546</td>\n",
              "      <td>5.144393</td>\n",
              "      <td>3.682765</td>\n",
              "      <td>4.861025</td>\n",
              "      <td>NaN</td>\n",
              "      <td>3.710644</td>\n",
              "      <td>4.179881</td>\n",
              "      <td>8.363210</td>\n",
              "      <td>5.683454</td>\n",
              "      <td>7.095368</td>\n",
              "      <td>7.322369</td>\n",
              "      <td>8.454900</td>\n",
              "      <td>5.933833</td>\n",
              "      <td>9.954870</td>\n",
              "      <td>8.703355</td>\n",
              "      <td>8.943933</td>\n",
              "      <td>...</td>\n",
              "      <td>8.606337</td>\n",
              "      <td>5.370465</td>\n",
              "      <td>NaN</td>\n",
              "      <td>4.470538</td>\n",
              "      <td>10.056486</td>\n",
              "      <td>5.149470</td>\n",
              "      <td>4.144588</td>\n",
              "      <td>3.741141</td>\n",
              "      <td>NaN</td>\n",
              "      <td>7.364387</td>\n",
              "      <td>4.723452</td>\n",
              "      <td>3.771738</td>\n",
              "      <td>4.581364</td>\n",
              "      <td>9.269365</td>\n",
              "      <td>4.168433</td>\n",
              "      <td>4.561451</td>\n",
              "      <td>10.685752</td>\n",
              "      <td>3.771484</td>\n",
              "      <td>7.950414</td>\n",
              "      <td>4.496515</td>\n",
              "      <td>7.121637</td>\n",
              "      <td>7.924980</td>\n",
              "      <td>7.473654</td>\n",
              "      <td>8.310546</td>\n",
              "      <td>NaN</td>\n",
              "      <td>3.545479</td>\n",
              "      <td>NaN</td>\n",
              "      <td>4.632940</td>\n",
              "      <td>10.866240</td>\n",
              "      <td>6.724361</td>\n",
              "      <td>9.461169</td>\n",
              "      <td>4.427737</td>\n",
              "      <td>NaN</td>\n",
              "      <td>11.230596</td>\n",
              "      <td>4.301963</td>\n",
              "      <td>NaN</td>\n",
              "      <td>3.833572</td>\n",
              "      <td>8.968382</td>\n",
              "      <td>8.986759</td>\n",
              "      <td>-1.011109</td>\n",
              "    </tr>\n",
              "    <tr>\n",
              "      <th>4</th>\n",
              "      <td>4.138209</td>\n",
              "      <td>5.590375</td>\n",
              "      <td>3.775710</td>\n",
              "      <td>7.198329</td>\n",
              "      <td>7.990521</td>\n",
              "      <td>11.860634</td>\n",
              "      <td>7.673516</td>\n",
              "      <td>7.262398</td>\n",
              "      <td>NaN</td>\n",
              "      <td>11.156613</td>\n",
              "      <td>9.096359</td>\n",
              "      <td>3.890482</td>\n",
              "      <td>4.754753</td>\n",
              "      <td>8.025617</td>\n",
              "      <td>4.728453</td>\n",
              "      <td>5.072331</td>\n",
              "      <td>3.948612</td>\n",
              "      <td>8.237300</td>\n",
              "      <td>6.774186</td>\n",
              "      <td>6.215790</td>\n",
              "      <td>4.219273</td>\n",
              "      <td>NaN</td>\n",
              "      <td>3.924146</td>\n",
              "      <td>4.054676</td>\n",
              "      <td>5.758870</td>\n",
              "      <td>7.018634</td>\n",
              "      <td>3.985200</td>\n",
              "      <td>5.041176</td>\n",
              "      <td>4.933259</td>\n",
              "      <td>4.206833</td>\n",
              "      <td>3.763124</td>\n",
              "      <td>7.932391</td>\n",
              "      <td>5.462681</td>\n",
              "      <td>4.215227</td>\n",
              "      <td>7.903790</td>\n",
              "      <td>NaN</td>\n",
              "      <td>4.860129</td>\n",
              "      <td>9.945075</td>\n",
              "      <td>7.637739</td>\n",
              "      <td>9.476065</td>\n",
              "      <td>...</td>\n",
              "      <td>6.963498</td>\n",
              "      <td>8.764630</td>\n",
              "      <td>NaN</td>\n",
              "      <td>5.154277</td>\n",
              "      <td>7.929167</td>\n",
              "      <td>4.373349</td>\n",
              "      <td>3.962345</td>\n",
              "      <td>3.749517</td>\n",
              "      <td>3.347872</td>\n",
              "      <td>6.489364</td>\n",
              "      <td>3.934875</td>\n",
              "      <td>3.853384</td>\n",
              "      <td>4.153273</td>\n",
              "      <td>9.957665</td>\n",
              "      <td>4.235883</td>\n",
              "      <td>4.485709</td>\n",
              "      <td>10.541742</td>\n",
              "      <td>3.671055</td>\n",
              "      <td>6.098189</td>\n",
              "      <td>4.279885</td>\n",
              "      <td>6.902325</td>\n",
              "      <td>8.650886</td>\n",
              "      <td>NaN</td>\n",
              "      <td>7.961041</td>\n",
              "      <td>6.274755</td>\n",
              "      <td>3.553055</td>\n",
              "      <td>4.494296</td>\n",
              "      <td>4.001512</td>\n",
              "      <td>11.571626</td>\n",
              "      <td>6.725249</td>\n",
              "      <td>10.293137</td>\n",
              "      <td>4.371169</td>\n",
              "      <td>5.748308</td>\n",
              "      <td>10.692733</td>\n",
              "      <td>3.969577</td>\n",
              "      <td>4.100036</td>\n",
              "      <td>3.614016</td>\n",
              "      <td>NaN</td>\n",
              "      <td>9.749767</td>\n",
              "      <td>-1.162793</td>\n",
              "    </tr>\n",
              "  </tbody>\n",
              "</table>\n",
              "<p>5 rows × 1751 columns</p>\n",
              "</div>"
            ],
            "text/plain": [
              "   exp_SLC4A1  exp_FAM214B  exp_CD79B  ...  exp_GTF2E1  exp_ZNF362  Erlotinib\n",
              "0    4.082593     6.298913   3.851031  ...    9.030491    8.706857  -6.370221\n",
              "1    4.128230     6.476800   3.649039  ...         NaN    7.600376  -1.162793\n",
              "2    4.232633     5.409350   3.884663  ...    8.258913         NaN  -0.329292\n",
              "3    4.274809     5.511578   3.822042  ...    8.968382    8.986759  -1.011109\n",
              "4    4.138209     5.590375   3.775710  ...         NaN    9.749767  -1.162793\n",
              "\n",
              "[5 rows x 1751 columns]"
            ]
          },
          "metadata": {
            "tags": []
          },
          "execution_count": 31
        }
      ]
    },
    {
      "cell_type": "code",
      "metadata": {
        "id": "9-CFXWD6zkzl"
      },
      "source": [
        "y = dataset.Erlotinib"
      ],
      "execution_count": 32,
      "outputs": []
    },
    {
      "cell_type": "code",
      "metadata": {
        "colab": {
          "base_uri": "https://localhost:8080/"
        },
        "id": "-L6fTErH0T5M",
        "outputId": "e3b314b5-4edd-4bd3-f1cf-84ed9f5b3f44"
      },
      "source": [
        "y.head() # This is how our target variable looks like"
      ],
      "execution_count": 33,
      "outputs": [
        {
          "output_type": "execute_result",
          "data": {
            "text/plain": [
              "0   -6.370221\n",
              "1   -1.162793\n",
              "2   -0.329292\n",
              "3   -1.011109\n",
              "4   -1.162793\n",
              "Name: Erlotinib, dtype: float64"
            ]
          },
          "metadata": {
            "tags": []
          },
          "execution_count": 33
        }
      ]
    },
    {
      "cell_type": "code",
      "metadata": {
        "colab": {
          "base_uri": "https://localhost:8080/"
        },
        "id": "tok_cpgQ0VR0",
        "outputId": "c39b637b-d478-4fe0-b15a-91eefd1607f5"
      },
      "source": [
        "y.describe() #Lets see how our target variable looks like in terms of its statistics"
      ],
      "execution_count": 34,
      "outputs": [
        {
          "output_type": "execute_result",
          "data": {
            "text/plain": [
              "count    1061.000000\n",
              "mean       -1.162793\n",
              "std         0.503345\n",
              "min        -6.590939\n",
              "25%        -1.162793\n",
              "50%        -1.162793\n",
              "75%        -1.162793\n",
              "max         1.413438\n",
              "Name: Erlotinib, dtype: float64"
            ]
          },
          "metadata": {
            "tags": []
          },
          "execution_count": 34
        }
      ]
    },
    {
      "cell_type": "code",
      "metadata": {
        "colab": {
          "base_uri": "https://localhost:8080/",
          "height": 35
        },
        "id": "kRcWieru0Z06",
        "outputId": "9ebb6116-41d6-4723-d480-2f722c8d7010"
      },
      "source": [
        "#Lets extract the list of feature variables names to be used as predictors\r\n",
        "features = list(dataset.columns.values) #Make a list of all of the columns in the df\r\n",
        "features.pop(features.index('Erlotinib'))"
      ],
      "execution_count": 35,
      "outputs": [
        {
          "output_type": "execute_result",
          "data": {
            "application/vnd.google.colaboratory.intrinsic+json": {
              "type": "string"
            },
            "text/plain": [
              "'Erlotinib'"
            ]
          },
          "metadata": {
            "tags": []
          },
          "execution_count": 35
        }
      ]
    },
    {
      "cell_type": "code",
      "metadata": {
        "colab": {
          "base_uri": "https://localhost:8080/"
        },
        "id": "6GIFmMLX0vkz",
        "outputId": "f96cb90d-0033-49e0-f04b-8c8816540715"
      },
      "source": [
        "features #Here is the list of the feature column variable names "
      ],
      "execution_count": 36,
      "outputs": [
        {
          "output_type": "execute_result",
          "data": {
            "text/plain": [
              "['exp_SLC4A1',\n",
              " 'exp_FAM214B',\n",
              " 'exp_CD79B',\n",
              " 'exp_MYLIP',\n",
              " 'exp_MED24',\n",
              " 'exp_CSDE1',\n",
              " 'exp_BAZ1B',\n",
              " 'exp_ABHD5',\n",
              " 'exp_MAP4K3',\n",
              " 'exp_ELOVL5',\n",
              " 'exp_POLR3B',\n",
              " 'exp_NPC1L1',\n",
              " 'exp_XYLT2',\n",
              " 'exp_RALBP1',\n",
              " 'exp_SAMD4A',\n",
              " 'exp_VIM',\n",
              " 'exp_AGPAT4',\n",
              " 'exp_PNPLA6',\n",
              " 'exp_TUBG2',\n",
              " 'exp_PARP3',\n",
              " 'exp_BARX2',\n",
              " 'exp_WDR37',\n",
              " 'exp_ARHGAP6',\n",
              " 'exp_LMO3',\n",
              " 'exp_DKK3',\n",
              " 'exp_NFE2L3',\n",
              " 'exp_NRIP2',\n",
              " 'exp_KCNQ1',\n",
              " 'exp_ARSF',\n",
              " 'exp_CALCRL',\n",
              " 'exp_ANKRD44',\n",
              " 'exp_SPEN',\n",
              " 'exp_CYB5R4',\n",
              " 'exp_PRKCQ',\n",
              " 'exp_CDK13',\n",
              " 'exp_METTL22',\n",
              " 'exp_ROCK1',\n",
              " 'exp_DNAJA2',\n",
              " 'exp_RNF126',\n",
              " 'exp_MNT',\n",
              " 'exp_CNGB1',\n",
              " 'exp_CAMK2A',\n",
              " 'exp_CDC42',\n",
              " 'exp_PPP2R3A',\n",
              " 'exp_TIPIN',\n",
              " 'exp_PLD1',\n",
              " 'exp_SLC46A1',\n",
              " 'exp_RARB',\n",
              " 'exp_PMS2P1',\n",
              " 'exp_FGF20',\n",
              " 'exp_P2RY10',\n",
              " 'exp_VDAC3',\n",
              " 'exp_TP53INP2',\n",
              " 'exp_LIPE',\n",
              " 'exp_FDFT1',\n",
              " 'exp_DNM2',\n",
              " 'exp_CLDND1',\n",
              " 'exp_TNPO1',\n",
              " 'exp_APOB',\n",
              " 'exp_AGBL5',\n",
              " 'exp_WNT11',\n",
              " 'exp_ARHGAP28',\n",
              " 'exp_DEFB127',\n",
              " 'exp_MAVS',\n",
              " 'exp_ZNF302',\n",
              " 'exp_GANAB',\n",
              " 'exp_RCOR1',\n",
              " 'exp_HNRNPC',\n",
              " 'exp_DAZL',\n",
              " 'exp_TBX15',\n",
              " 'exp_DHPS',\n",
              " 'exp_NXPE1',\n",
              " 'exp_TLL2',\n",
              " 'exp_CDC7',\n",
              " 'exp_MYO9B',\n",
              " 'exp_EFNA2',\n",
              " 'exp_CDC34',\n",
              " 'exp_SUSD2',\n",
              " 'exp_PPM1F',\n",
              " 'exp_CCDC134',\n",
              " 'exp_MIOX',\n",
              " 'exp_BRD1',\n",
              " 'exp_CHD8',\n",
              " 'exp_RABGGTA',\n",
              " 'exp_CD40',\n",
              " 'exp_CHMP4B',\n",
              " 'exp_PIGU',\n",
              " 'exp_ADNP2',\n",
              " 'exp_LPIN2',\n",
              " 'exp_LAMA1',\n",
              " 'exp_RBBP8',\n",
              " 'exp_WDR13',\n",
              " 'exp_CENPI',\n",
              " 'exp_CCL17',\n",
              " 'exp_CMC2',\n",
              " 'exp_OIP5',\n",
              " 'exp_SPAG1',\n",
              " 'exp_MED25',\n",
              " 'exp_SNAPC2',\n",
              " 'exp_C19orf53',\n",
              " 'exp_EPHX3',\n",
              " 'exp_ZFR2',\n",
              " 'exp_FZR1',\n",
              " 'exp_SULT2A1',\n",
              " 'exp_GRWD1',\n",
              " 'exp_GRIN2D',\n",
              " 'exp_CAPS',\n",
              " 'exp_PRPF31',\n",
              " 'exp_ADAP1',\n",
              " 'exp_PLEKHA8',\n",
              " 'exp_FBXO24',\n",
              " 'exp_SFRP4',\n",
              " 'exp_PRKAG2',\n",
              " 'exp_DNM1',\n",
              " 'exp_TBC1D13',\n",
              " 'exp_EDF1',\n",
              " 'exp_PHYH',\n",
              " 'exp_ERLIN1',\n",
              " 'exp_PKD2L1',\n",
              " 'exp_CDH23',\n",
              " 'exp_RAPGEFL1',\n",
              " 'exp_HLF',\n",
              " 'exp_SLAIN2',\n",
              " 'exp_TRIM3',\n",
              " 'exp_SCGB2A2',\n",
              " 'exp_CDCA3',\n",
              " 'exp_DSE',\n",
              " 'exp_NCOA7',\n",
              " 'exp_BMP5',\n",
              " 'exp_KHDRBS2',\n",
              " 'exp_MED23',\n",
              " 'exp_C6orf62',\n",
              " 'exp_WISP3',\n",
              " 'exp_NME5',\n",
              " 'exp_CLINT1',\n",
              " 'exp_TTC1',\n",
              " 'exp_LMNB1',\n",
              " 'exp_RAD50',\n",
              " 'exp_ST8SIA4',\n",
              " 'exp_PCDH12',\n",
              " 'exp_CPEB4',\n",
              " 'exp_IQCG',\n",
              " 'exp_GORASP1',\n",
              " 'exp_SSR3',\n",
              " 'exp_RTKN',\n",
              " 'exp_POLE4',\n",
              " 'exp_PLCD4',\n",
              " 'exp_HDLBP',\n",
              " 'exp_ORC4',\n",
              " 'exp_RND3',\n",
              " 'exp_MARK1',\n",
              " 'exp_WDR77',\n",
              " 'exp_PLA2G4A',\n",
              " 'exp_SIPA1L2',\n",
              " 'exp_LPHN2',\n",
              " 'exp_PRRC2C',\n",
              " 'exp_UBE2B',\n",
              " 'exp_ACYP1',\n",
              " 'exp_IFIT2',\n",
              " 'exp_NUP43',\n",
              " 'exp_PCDHB10',\n",
              " 'exp_TCP1',\n",
              " 'exp_CRY2',\n",
              " 'exp_HPCA',\n",
              " 'exp_GPSM2',\n",
              " 'exp_RPL5',\n",
              " 'exp_NPY',\n",
              " 'exp_DDX54',\n",
              " 'exp_TUBA1B',\n",
              " 'exp_RAB9B',\n",
              " 'exp_MXD4',\n",
              " 'exp_KCNK15',\n",
              " 'exp_CRISP1',\n",
              " 'exp_SH3TC1',\n",
              " 'exp_NT5C',\n",
              " 'exp_SNRPD2',\n",
              " 'exp_STK35',\n",
              " 'exp_SNRPB2',\n",
              " 'exp_NCLN',\n",
              " 'exp_GRPR',\n",
              " 'exp_PROZ',\n",
              " 'exp_NR1D1',\n",
              " 'exp_SGPP1',\n",
              " 'exp_PZP',\n",
              " 'exp_CPSF3L',\n",
              " 'exp_GNG13',\n",
              " 'exp_METTL16',\n",
              " 'exp_SMO',\n",
              " 'exp_PSMG2',\n",
              " 'exp_CDKN2D',\n",
              " 'exp_NGDN',\n",
              " 'exp_XPO7',\n",
              " 'exp_RSPH3',\n",
              " 'exp_STK33',\n",
              " 'exp_H19',\n",
              " 'exp_RGN',\n",
              " 'exp_POLN',\n",
              " 'exp_ULBP3',\n",
              " 'exp_G6PC',\n",
              " 'exp_KIAA0664L3',\n",
              " 'exp_THAP1',\n",
              " 'exp_INPP5K',\n",
              " 'exp_TERF2',\n",
              " 'exp_ATP8A2',\n",
              " 'exp_POSTN',\n",
              " 'exp_RFXAP',\n",
              " 'exp_SRRM1',\n",
              " 'exp_RTN3',\n",
              " 'exp_LRRIQ1',\n",
              " 'exp_COX16',\n",
              " 'exp_ELP3',\n",
              " 'exp_PEBP4',\n",
              " 'exp_MRPS36',\n",
              " 'exp_PPHLN1',\n",
              " 'exp_LRP4',\n",
              " 'exp_USP26',\n",
              " 'exp_PIWIL4',\n",
              " 'exp_ETS1',\n",
              " 'exp_B4GALNT1',\n",
              " 'exp_USP15',\n",
              " 'exp_EGLN1',\n",
              " 'exp_USP44',\n",
              " 'exp_SUCLA2',\n",
              " 'exp_ITM2B',\n",
              " 'exp_TM6SF1',\n",
              " 'exp_ERMN',\n",
              " 'exp_IL36A',\n",
              " 'exp_DNAJC1',\n",
              " 'exp_DPM2',\n",
              " 'exp_NOV',\n",
              " 'exp_PI15',\n",
              " 'exp_POU2F3',\n",
              " 'exp_GTF2B',\n",
              " 'exp_BTBD16',\n",
              " 'exp_PRKG2',\n",
              " 'exp_MMRN1',\n",
              " 'exp_NAA30',\n",
              " 'exp_GTF2A2',\n",
              " 'exp_RHCG',\n",
              " 'exp_CMTM2',\n",
              " 'exp_FAM59A',\n",
              " 'exp_DMRTC2',\n",
              " 'exp_RPL11',\n",
              " 'exp_LMO4',\n",
              " 'exp_XPR1',\n",
              " 'exp_DTL',\n",
              " 'exp_CREB3L4',\n",
              " 'exp_TTC13',\n",
              " 'exp_ARF1',\n",
              " 'exp_ASXL2',\n",
              " 'exp_NBEAL1',\n",
              " 'exp_SHQ1',\n",
              " 'exp_ARL6IP5',\n",
              " 'exp_NFKBIZ',\n",
              " 'exp_ATP10D',\n",
              " 'exp_SLC25A48',\n",
              " 'exp_TAAR2',\n",
              " 'exp_GNA12',\n",
              " 'exp_ATXN7L1',\n",
              " 'exp_ZNF185',\n",
              " 'exp_ATP6V1B2',\n",
              " 'exp_VLDLR',\n",
              " 'exp_SHC3',\n",
              " 'exp_SNX30',\n",
              " 'exp_DSN1',\n",
              " 'exp_EIF4E',\n",
              " 'exp_NPAS3',\n",
              " 'exp_SLC25A4',\n",
              " 'exp_FAM168B',\n",
              " 'exp_ZNF256',\n",
              " 'exp_TMEM123',\n",
              " 'exp_DAB2',\n",
              " 'exp_MCOLN2',\n",
              " 'exp_ZUFSP',\n",
              " 'exp_GAL3ST2',\n",
              " 'exp_ASZ1',\n",
              " 'exp_GPR26',\n",
              " 'exp_AZIN1',\n",
              " 'exp_LRGUK',\n",
              " 'exp_PIK3AP1',\n",
              " 'exp_ALS2CR11',\n",
              " 'exp_ELMO1',\n",
              " 'exp_RRAGA',\n",
              " 'exp_DRAM2',\n",
              " 'exp_ZFAND3',\n",
              " 'exp_NSMCE2',\n",
              " 'exp_FRRS1',\n",
              " 'exp_ST3GAL2',\n",
              " 'exp_FMNL2',\n",
              " 'exp_PEX10',\n",
              " 'exp_AUTS2',\n",
              " 'exp_CDC25C',\n",
              " 'exp_TMED4',\n",
              " 'exp_HTR6',\n",
              " 'exp_WFDC8',\n",
              " 'exp_UBR1',\n",
              " 'exp_CCDC58',\n",
              " 'exp_CHTOP',\n",
              " 'exp_CHRNB2',\n",
              " 'exp_CRTC2',\n",
              " 'exp_YDJC',\n",
              " 'exp_ADCY9',\n",
              " 'exp_KNCN',\n",
              " 'exp_RBM15',\n",
              " 'exp_SPRR3',\n",
              " 'exp_FBLN2',\n",
              " 'exp_SLC2A2',\n",
              " 'exp_ZDHHC19',\n",
              " 'exp_INTU',\n",
              " 'exp_HHIP',\n",
              " 'exp_TMEM184C',\n",
              " 'exp_TIGD6',\n",
              " 'exp_ERAP2',\n",
              " 'exp_HCN1',\n",
              " 'exp_C7orf57',\n",
              " 'exp_KCNV1',\n",
              " 'exp_DEFA6',\n",
              " 'exp_CA3',\n",
              " 'exp_SVEP1',\n",
              " 'exp_GAPVD1',\n",
              " 'exp_SLC7A3',\n",
              " 'exp_KBTBD6',\n",
              " 'exp_FAAH2',\n",
              " 'exp_DACT1',\n",
              " 'exp_C12orf50',\n",
              " 'exp_CEP57',\n",
              " 'exp_PCBD1',\n",
              " 'exp_USP54',\n",
              " 'exp_ST5',\n",
              " 'exp_TMEM130',\n",
              " 'exp_CENPN',\n",
              " 'exp_IQCD',\n",
              " 'exp_CENPV',\n",
              " 'exp_NNMT',\n",
              " 'exp_SLFN5',\n",
              " 'exp_LDHC',\n",
              " 'exp_KIF7',\n",
              " 'exp_PLIN1',\n",
              " 'exp_SCNN1G',\n",
              " 'exp_GLYATL1',\n",
              " 'exp_PRRX2',\n",
              " 'exp_TBC1D2B',\n",
              " 'exp_AC114273.1',\n",
              " 'exp_TPM4',\n",
              " 'exp_MIDN',\n",
              " 'exp_TRAPPC9',\n",
              " 'exp_WDR81',\n",
              " 'exp_ZNF558',\n",
              " 'exp_MGAT5B',\n",
              " 'exp_TK1',\n",
              " 'exp_POLR2G',\n",
              " 'exp_ULK4',\n",
              " 'exp_MAP4K2',\n",
              " 'exp_MGAT2',\n",
              " 'exp_MPLKIP',\n",
              " 'exp_GSTM4',\n",
              " 'exp_ABHD15',\n",
              " 'exp_ENHO',\n",
              " 'exp_LMAN2',\n",
              " 'exp_CRADD',\n",
              " 'exp_ELSPBP1',\n",
              " 'exp_METTL15',\n",
              " 'exp_C15orf40',\n",
              " 'exp_GP9',\n",
              " 'exp_GPR25',\n",
              " 'exp_DCDC5',\n",
              " 'exp_DDI1',\n",
              " 'exp_FPR1',\n",
              " 'exp_ECEL1',\n",
              " 'exp_NMUR1',\n",
              " 'exp_RP11-443P15.2',\n",
              " 'exp_FAM90A1',\n",
              " 'exp_ZNF556',\n",
              " 'exp_THOP1',\n",
              " 'exp_TEX37',\n",
              " 'exp_MRPL13',\n",
              " 'exp_ATOH1',\n",
              " 'exp_C1QTNF4',\n",
              " 'exp_SYNPO2',\n",
              " 'exp_GTPBP2',\n",
              " 'exp_NAA16',\n",
              " 'exp_SP3',\n",
              " 'exp_SH3RF3',\n",
              " 'exp_INSM1',\n",
              " 'exp_DAB1',\n",
              " 'exp_CCDC41',\n",
              " 'exp_RAX2',\n",
              " 'exp_PHLDA3',\n",
              " 'exp_GLIS1',\n",
              " 'exp_C20orf166',\n",
              " 'exp_ZWILCH',\n",
              " 'exp_MSL2',\n",
              " 'exp_CMKLR1',\n",
              " 'exp_RTP1',\n",
              " 'exp_TP53I11',\n",
              " 'exp_CLTB',\n",
              " 'exp_DPP10',\n",
              " 'exp_P2RY2',\n",
              " 'exp_RMI2',\n",
              " 'exp_TEX26',\n",
              " 'exp_LINC00116',\n",
              " 'exp_UBE2O',\n",
              " 'exp_NUPR1',\n",
              " 'exp_CHMP6',\n",
              " 'exp_SYNE3',\n",
              " 'exp_SCAND2',\n",
              " 'exp_SHMT1',\n",
              " 'exp_ANO6',\n",
              " 'exp_FAM210A',\n",
              " 'exp_ZNF491',\n",
              " 'exp_MYOZ1',\n",
              " 'exp_KCNJ10',\n",
              " 'exp_ADAMTSL1',\n",
              " 'exp_TNP2',\n",
              " 'exp_CALML3',\n",
              " 'exp_RPS3AP5',\n",
              " 'exp_TMEM52',\n",
              " 'exp_HES7',\n",
              " 'exp_SLITRK4',\n",
              " 'exp_C1orf194',\n",
              " 'exp_FAM71E2',\n",
              " 'exp_MED14',\n",
              " 'exp_CTD-2568A17.5',\n",
              " 'exp_VN1R3',\n",
              " 'exp_TTTY11',\n",
              " 'exp_TCEAL8',\n",
              " 'exp_HIST3H2A',\n",
              " 'exp_CCL13',\n",
              " 'exp_FDCSP',\n",
              " 'exp_TNFSF15',\n",
              " 'exp_C19orf6',\n",
              " 'exp_CREB3L2',\n",
              " 'exp_MOB2',\n",
              " 'exp_C8orf33',\n",
              " 'exp_LIMK2',\n",
              " 'exp_PPP1R27',\n",
              " 'exp_PTTG1IP',\n",
              " 'exp_FAM9A',\n",
              " 'exp_PSMG1',\n",
              " 'exp_AC131971.1',\n",
              " 'exp_CCR3',\n",
              " 'exp_OLFML1',\n",
              " 'exp_PNMA3',\n",
              " 'exp_PRKX',\n",
              " 'exp_NPB',\n",
              " 'exp_SRPK3',\n",
              " 'exp_COLEC10',\n",
              " 'exp_PTP4A3',\n",
              " 'exp_PROS1',\n",
              " 'exp_SLITRK6',\n",
              " 'exp_IMMP2L',\n",
              " 'exp_SORCS2',\n",
              " 'exp_DGAT1',\n",
              " 'exp_CA13',\n",
              " 'exp_LRRC37B',\n",
              " 'exp_MC2R',\n",
              " 'exp_PPIL6',\n",
              " 'exp_FAM100B',\n",
              " 'exp_IL28RA',\n",
              " 'exp_PCGF3',\n",
              " 'exp_ANKFY1',\n",
              " 'exp_NAT8L',\n",
              " 'exp_CECR5-AS1',\n",
              " 'exp_FAM186A',\n",
              " 'exp_LRCH3',\n",
              " 'exp_ZNF284',\n",
              " 'exp_WWOX',\n",
              " 'exp_RXRA',\n",
              " 'exp_MYT1L',\n",
              " 'exp_TMEM17',\n",
              " 'exp_EMID1',\n",
              " 'exp_C17orf82',\n",
              " 'exp_C3orf70',\n",
              " 'exp_CCK',\n",
              " 'exp_TET3',\n",
              " 'exp_DNAH17',\n",
              " 'exp_SHISA7',\n",
              " 'exp_EYS',\n",
              " 'exp_C3orf62',\n",
              " 'exp_C22orf34',\n",
              " 'exp_FBLL1',\n",
              " 'exp_HILS1',\n",
              " 'exp_UROS',\n",
              " 'exp_NHLRC3',\n",
              " 'exp_SNTN',\n",
              " 'exp_CNR2',\n",
              " 'exp_C9orf152',\n",
              " 'exp_ZNF567',\n",
              " 'exp_RP11-173C20.1',\n",
              " 'exp_RRP7A',\n",
              " 'exp_SPOCK3',\n",
              " 'exp_ZNF79',\n",
              " 'exp_KRTAP4-3',\n",
              " 'exp_SEMA4A',\n",
              " 'exp_SUPT5H',\n",
              " 'exp_STK31',\n",
              " 'exp_CPNE4',\n",
              " 'exp_ARMCX4',\n",
              " 'exp_PIK3R4',\n",
              " 'exp_C20orf96',\n",
              " 'exp_TCF4',\n",
              " 'exp_TTC30B',\n",
              " 'exp_AC090286.4',\n",
              " 'exp_ZNF470',\n",
              " 'exp_HIST1H4C',\n",
              " 'exp_DYNC1H1',\n",
              " 'exp_RAMP2-AS1',\n",
              " 'exp_SLC22A5',\n",
              " 'exp_GALP',\n",
              " 'exp_MIB2',\n",
              " 'exp_ATG7',\n",
              " 'exp_ENPP1',\n",
              " 'exp_RPL37A',\n",
              " 'exp_MAP1LC3C',\n",
              " 'exp_ZNF461',\n",
              " 'exp_SLC9A8',\n",
              " 'exp_CYP2A13',\n",
              " 'exp_FAM212B',\n",
              " 'exp_MEIG1',\n",
              " 'exp_ZNF71',\n",
              " 'exp_VPS13A',\n",
              " 'exp_ELOVL2',\n",
              " 'exp_TUBA3C',\n",
              " 'exp_ZNF667',\n",
              " 'exp_MIER1',\n",
              " 'exp_MAN1A2',\n",
              " 'exp_DDRGK1',\n",
              " 'exp_NUP210P1',\n",
              " 'exp_GPN1',\n",
              " 'exp_AKR1C4',\n",
              " 'exp_TAT',\n",
              " 'exp_CNOT7',\n",
              " 'exp_ZNF521',\n",
              " 'exp_GRM3',\n",
              " 'exp_TYW1',\n",
              " 'exp_PRMT6',\n",
              " 'exp_CAPZA2',\n",
              " 'exp_C9orf114',\n",
              " 'exp_DZIP3',\n",
              " 'exp_MAGEE1',\n",
              " 'exp_C1orf95',\n",
              " 'exp_CAPN8',\n",
              " 'exp_PNLIPRP3',\n",
              " 'exp_CCDC160',\n",
              " 'exp_ZYG11A',\n",
              " 'exp_FOXO6',\n",
              " 'exp_MAFB',\n",
              " 'exp_GIGYF2',\n",
              " 'exp_RXRB',\n",
              " 'exp_RP11-622K12.1',\n",
              " 'exp_STK19',\n",
              " 'exp_FAM155A',\n",
              " 'exp_DDR1',\n",
              " 'exp_CST13P',\n",
              " 'exp_OR2J2',\n",
              " 'exp_RP11-195E11.2',\n",
              " 'exp_C8orf73',\n",
              " 'exp_GPR20',\n",
              " 'exp_C4orf47',\n",
              " 'exp_TRIQK',\n",
              " 'exp_LGR4',\n",
              " 'exp_NT5M',\n",
              " 'exp_TECPR1',\n",
              " 'exp_CTA-384D8.20',\n",
              " 'exp_GMNC',\n",
              " 'exp_CEMP1',\n",
              " 'exp_NYNRIN',\n",
              " 'exp_DNAJC19',\n",
              " 'exp_KRBOX1-AS1',\n",
              " 'exp_TRAV10',\n",
              " 'exp_TRAV23DV6',\n",
              " 'exp_CTAGE1',\n",
              " 'exp_KRTAP3-2',\n",
              " 'exp_SIPA1',\n",
              " 'exp_RP11-453F18__B.1',\n",
              " 'exp_NHP2P2',\n",
              " 'exp_KCTD11',\n",
              " 'exp_AC005003.1',\n",
              " 'exp_CPNE1',\n",
              " 'exp_RP11-513G11.1',\n",
              " 'exp_RP11-642P15.1',\n",
              " 'exp_RPS4XP3',\n",
              " 'exp_RP13-487C10.1',\n",
              " 'exp_UBE2QL1',\n",
              " 'exp_LINC00598',\n",
              " 'exp_TNFRSF25',\n",
              " 'exp_RP11-426L16.8',\n",
              " 'exp_RP3-391O22.2',\n",
              " 'exp_RP3-522P13.1',\n",
              " 'exp_SYCE3',\n",
              " 'exp_CNN3P1',\n",
              " 'exp_AC006465.3',\n",
              " 'exp_AC062017.1',\n",
              " 'exp_ZNF844',\n",
              " 'exp_AC003090.1',\n",
              " 'exp_NSUN5P1',\n",
              " 'exp_AL109763.2',\n",
              " 'exp_AC096559.1',\n",
              " 'exp_RP11-466F5.8',\n",
              " 'exp_RP5-933E2.1',\n",
              " 'exp_TMEM72-AS1',\n",
              " 'exp_RP5-1109J22.2',\n",
              " 'exp_RP5-991C6.3',\n",
              " 'exp_RP1-257A15.1',\n",
              " 'exp_RP11-396C23.2',\n",
              " 'exp_ZNF469',\n",
              " 'exp_RP11-513G11.4',\n",
              " 'exp_LINC00626',\n",
              " 'exp_ERCC6',\n",
              " 'exp_BAIAP2-AS1',\n",
              " 'exp_RP1-310O13.7',\n",
              " 'exp_RP11-128M1.1',\n",
              " 'exp_AC007365.3',\n",
              " 'exp_RP11-432J24.5',\n",
              " 'exp_BSN-AS2',\n",
              " 'exp_LINC00454',\n",
              " 'exp_DANCR',\n",
              " 'exp_CCDC148-AS1',\n",
              " 'exp_SCAMP4',\n",
              " 'exp_LTB',\n",
              " 'exp_AC007383.3',\n",
              " 'exp_RP11-12L8.1',\n",
              " 'exp_AC105339.1',\n",
              " 'exp_AL022341.3',\n",
              " 'exp_RP11-148G20.1',\n",
              " 'exp_RP3-399L15.3',\n",
              " 'exp_UBAC2-AS1',\n",
              " 'exp_AC108056.1',\n",
              " 'exp_AC106722.1',\n",
              " 'exp_RP11-298H24.1',\n",
              " 'exp_RP4-730D4.1',\n",
              " 'exp_RP11-378I13.1',\n",
              " 'exp_TCEB1P3',\n",
              " 'exp_NAALADL2-AS3',\n",
              " 'exp_RP1-155D22.1',\n",
              " 'exp_MIR205HG',\n",
              " 'exp_RP11-617D20.1',\n",
              " 'exp_ITPR1-AS1',\n",
              " 'exp_AC005009.1',\n",
              " 'exp_RP11-418J17.1',\n",
              " 'exp_AC018470.4',\n",
              " 'exp_HINT1P1',\n",
              " 'exp_RPS6KA2-AS1',\n",
              " 'exp_LINC00415',\n",
              " 'exp_AC104782.3',\n",
              " 'exp_RAB9BP1',\n",
              " 'exp_OR5K1',\n",
              " 'exp_RP4-794H19.1',\n",
              " 'exp_RP11-126K1.2',\n",
              " 'exp_RP11-93B14.5',\n",
              " 'exp_AC011899.9',\n",
              " 'exp_LINC00642',\n",
              " 'exp_RP11-111I12.1',\n",
              " 'exp_RP3-462D8.2',\n",
              " 'exp_CYP2T2P',\n",
              " 'exp_RPS28',\n",
              " 'exp_RP11-30P6.6',\n",
              " 'exp_RP5-942I16.1',\n",
              " 'exp_RP11-308N19.4',\n",
              " 'exp_ZNF879',\n",
              " 'exp_MAGI2-AS3',\n",
              " 'exp_C5orf58',\n",
              " 'exp_AC007880.1',\n",
              " 'exp_JRK',\n",
              " 'exp_SDCBP2-AS1',\n",
              " 'exp_HMGA1P4',\n",
              " 'exp_RP11-745C15.2',\n",
              " 'exp_C19orf81',\n",
              " 'exp_DSCAM-AS1',\n",
              " 'exp_NFAM1',\n",
              " 'exp_RP4-604G5.3',\n",
              " 'exp_AC007349.5',\n",
              " 'exp_RP11-436I24.1',\n",
              " 'exp_RP3-473B4.3',\n",
              " 'exp_RP11-255M1.1',\n",
              " 'exp_AC097662.2',\n",
              " 'exp_AL773604.8',\n",
              " 'exp_ARHGEF38',\n",
              " 'exp_RP11-557H15.2',\n",
              " 'exp_RP5-886K2.3',\n",
              " 'exp_RP11-296L22.4',\n",
              " 'exp_RP5-1120P11.1',\n",
              " 'exp_RP11-126K1.6',\n",
              " 'exp_AC009133.14',\n",
              " 'exp_AC114752.3',\n",
              " 'exp_C9orf69',\n",
              " 'exp_RP11-747D18.1',\n",
              " 'exp_AC002310.7',\n",
              " 'exp_PSMB9',\n",
              " 'exp_ZNF542',\n",
              " 'exp_GHRLOS',\n",
              " 'exp_LINC00635',\n",
              " 'exp_ARPC1A',\n",
              " 'exp_AC092620.2',\n",
              " 'exp_ARHGDIG',\n",
              " 'exp_PVRL3-AS1',\n",
              " 'exp_ARFGAP3',\n",
              " 'exp_RP11-416O18.1',\n",
              " 'exp_SERPINB10',\n",
              " 'exp_AC005062.2',\n",
              " 'exp_MRPL33',\n",
              " 'exp_MICAL3',\n",
              " 'exp_RP1-63G5.5',\n",
              " 'exp_KRTAP19-3',\n",
              " 'exp_RP11-314A20.2',\n",
              " 'exp_RP11-298O21.5',\n",
              " 'exp_RP11-303E16.7',\n",
              " 'exp_RP11-320N21.1',\n",
              " 'exp_RP11-383J24.5',\n",
              " 'exp_RP11-387D10.3',\n",
              " 'exp_LINC00461',\n",
              " 'exp_RP11-18H21.1',\n",
              " 'exp_RP11-30K9.6',\n",
              " 'exp_CTD-2382E5.1',\n",
              " 'exp_CTD-2258A20.4',\n",
              " 'exp_RP11-700H6.1',\n",
              " 'exp_RP11-296I10.3',\n",
              " 'exp_AL034548.1',\n",
              " 'exp_RP11-121L11.1',\n",
              " 'exp_RP1-167G20.1',\n",
              " 'exp_LINC00616',\n",
              " 'exp_RP11-717H13.1',\n",
              " 'exp_RBM14-RBM4',\n",
              " 'exp_CTC-504A5.1',\n",
              " 'exp_RP11-766F14.2',\n",
              " 'exp_RP11-31K23.2',\n",
              " 'exp_C1orf213',\n",
              " 'exp_RP11-440L14.1',\n",
              " 'exp_RP11-422J15.1',\n",
              " 'exp_XXbac-B444P24.8',\n",
              " 'exp_RP11-669M16.1',\n",
              " 'exp_RP11-778J15.1',\n",
              " 'exp_CTD-2213F21.2',\n",
              " 'exp_RP11-756P10.2',\n",
              " 'exp_AC141928.1',\n",
              " 'exp_RP11-215A19.1',\n",
              " 'exp_RP11-73G16.1',\n",
              " 'exp_CTB-109A12.1',\n",
              " 'exp_RP11-164P12.3',\n",
              " 'exp_RPL32P3',\n",
              " 'exp_ABCA11P',\n",
              " 'exp_HADHAP1',\n",
              " 'exp_RP11-714L20.1',\n",
              " 'exp_CTD-3046C4.1',\n",
              " 'exp_RP11-231D20.2',\n",
              " 'exp_KB-1568E2.1',\n",
              " 'exp_RP11-177H2.2',\n",
              " 'exp_RP11-51M18.1',\n",
              " 'exp_RP11-10C8.2',\n",
              " 'exp_CLDN23',\n",
              " 'exp_CTB-43E15.1',\n",
              " 'exp_CTB-78F1.1',\n",
              " 'exp_RP11-278I4.2',\n",
              " 'exp_AF186192.1',\n",
              " 'exp_NAV2-AS4',\n",
              " 'exp_CTC-378H22.1',\n",
              " 'exp_RP11-111M22.3',\n",
              " 'exp_RP11-166D19.1',\n",
              " 'exp_RP11-539G18.2',\n",
              " 'exp_RP11-167N4.2',\n",
              " 'exp_C21orf119',\n",
              " 'exp_RP13-942N8.1',\n",
              " 'exp_LINC00507',\n",
              " 'exp_RP11-64D24.4',\n",
              " 'exp_RP11-771K4.1',\n",
              " 'exp_ZNF225',\n",
              " 'exp_POLG2',\n",
              " 'exp_KLRAP1',\n",
              " 'exp_AC004706.1',\n",
              " 'exp_RP11-320N7.2',\n",
              " 'exp_TMPO-AS1',\n",
              " 'exp_RP11-650K20.3',\n",
              " 'exp_RP11-1016B18.1',\n",
              " 'exp_RP11-116D17.1',\n",
              " 'exp_RP11-1070N10.4',\n",
              " 'exp_ZNF578',\n",
              " 'exp_RP11-829H16.3',\n",
              " 'exp_RP11-304N14.2',\n",
              " 'exp_LINC00638',\n",
              " 'exp_RP11-66N24.3',\n",
              " 'exp_RP11-300J18.3',\n",
              " 'exp_LINC00639',\n",
              " 'exp_RP11-617F23.1',\n",
              " 'exp_RP11-468E2.5',\n",
              " 'exp_RP11-64K12.2',\n",
              " 'exp_RP11-430B1.2',\n",
              " 'exp_RP11-272D12.1',\n",
              " 'exp_LINC00593',\n",
              " 'exp_RP11-231E4.2',\n",
              " 'exp_IL21R-AS1',\n",
              " 'exp_RP11-505K9.1',\n",
              " 'exp_RP11-240E19.1',\n",
              " 'exp_RP11-108B14.5',\n",
              " 'exp_RP11-856B14.1',\n",
              " 'exp_RP11-440L14.3',\n",
              " 'exp_HSPB9',\n",
              " 'exp_RP11-111J6.2',\n",
              " 'exp_RP11-386M24.6',\n",
              " 'exp_LA16c-313D11.9',\n",
              " 'exp_PWRN2',\n",
              " 'exp_KB-1000E4.2',\n",
              " 'exp_AC004158.3',\n",
              " 'exp_AF067845.1',\n",
              " 'exp_RP11-21M24.2',\n",
              " 'exp_CTD-2547L24.4',\n",
              " 'exp_RP11-363E7.4',\n",
              " 'exp_RP4-575N6.5',\n",
              " 'exp_RP11-384P7.7',\n",
              " 'exp_RP11-297L17.2',\n",
              " 'exp_RP1-58B11.1',\n",
              " 'exp_LA16c-395F10.2',\n",
              " 'exp_RP13-122B23.8',\n",
              " 'exp_GS1-279B7.1',\n",
              " 'exp_RP11-29B2.4',\n",
              " 'exp_RP11-554A11.8',\n",
              " 'exp_CTD-3126B10.1',\n",
              " 'exp_RP11-690I21.2',\n",
              " 'exp_RP11-201A3.1',\n",
              " 'exp_RP11-532F12.5',\n",
              " 'exp_RP11-510C10.4',\n",
              " 'exp_ZNF865',\n",
              " 'exp_RP11-215H22.1',\n",
              " 'exp_RP11-626G11.1',\n",
              " 'exp_CTD-2012K14.6',\n",
              " 'exp_RP11-1007O24.3',\n",
              " 'exp_RP11-16P6.1',\n",
              " 'exp_RP11-757F18.5',\n",
              " 'exp_MIR4720',\n",
              " 'exp_RP11-96K19.4',\n",
              " 'exp_SCRT1',\n",
              " 'exp_RP13-467H17.1',\n",
              " 'exp_RP11-506E9.3',\n",
              " 'exp_RP11-174G17.2',\n",
              " 'exp_RP4-555D20.2',\n",
              " 'exp_TCF24',\n",
              " 'exp_RP11-480G7.1',\n",
              " 'exp_LINC00662',\n",
              " 'exp_RP11-141J13.5',\n",
              " 'exp_CTD-2561B21.5',\n",
              " 'exp_SPON1',\n",
              " 'exp_RP11-485G7.6',\n",
              " 'exp_CTD-2561B21.11',\n",
              " 'exp_RP11-166P13.4',\n",
              " 'exp_RP11-260A9.1',\n",
              " 'exp_RP11-735A19.4',\n",
              " 'exp_RP11-118E18.4',\n",
              " 'exp_IKBKE',\n",
              " 'exp_RP3-416J7.4',\n",
              " 'exp_CTB-167B5.2',\n",
              " 'exp_RP11-6N17.4',\n",
              " 'exp_RBP3',\n",
              " 'exp_RP11-663N22.1',\n",
              " 'exp_TIMM23',\n",
              " 'exp_ZNF488',\n",
              " 'exp_ESRG',\n",
              " 'exp_AC234644.2',\n",
              " 'exp_RP11-258F1.1',\n",
              " 'exp_RP11-799D4.4',\n",
              " 'exp_CTD-3116E22.4',\n",
              " 'exp_CTD-2357A8.3',\n",
              " 'exp_CTB-31O20.9',\n",
              " 'exp_CTB-25B13.12',\n",
              " 'exp_RP11-1094M14.11',\n",
              " 'exp_CTD-2534I21.8',\n",
              " 'exp_CTD-2081K17.1',\n",
              " 'exp_AC007787.2',\n",
              " 'exp_CTD-2553C6.1',\n",
              " 'exp_AC006116.20',\n",
              " 'exp_RP11-686D22.8',\n",
              " 'exp_AC006132.1',\n",
              " 'exp_FOXF1-AS1',\n",
              " 'exp_RP11-805I24.3',\n",
              " 'exp_CTD-2619J13.17',\n",
              " 'exp_AC003973.4',\n",
              " 'exp_RP11-1137G4.4',\n",
              " 'exp_PRELID2',\n",
              " 'exp_RP11-573I11.2',\n",
              " 'exp_EPC2',\n",
              " 'exp_PPP1R3C',\n",
              " 'exp_PCSK1N',\n",
              " 'exp_MPC2',\n",
              " 'exp_DEFB122',\n",
              " 'exp_ZFP14',\n",
              " 'exp_RPS24',\n",
              " 'exp_AC013733.4',\n",
              " 'exp_ATAD2B',\n",
              " 'exp_ESAM',\n",
              " 'exp_SLC27A1',\n",
              " 'exp_IPPK',\n",
              " 'exp_SEPT9',\n",
              " 'exp_MRPS5',\n",
              " 'exp_RP11-111H3.3',\n",
              " 'exp_RP5-1170D6.1',\n",
              " 'exp_ZSWIM3',\n",
              " 'exp_SH3BP5',\n",
              " 'exp_TARSL2',\n",
              " 'exp_GTF2F1',\n",
              " 'exp_C2orf71',\n",
              " 'exp_NUP205',\n",
              " 'exp_NBR1',\n",
              " 'exp_DAAM2',\n",
              " 'exp_ILVBL',\n",
              " 'exp_PTGS2',\n",
              " 'exp_RASD2',\n",
              " 'exp_ZMAT1',\n",
              " 'exp_NPPC',\n",
              " 'exp_PDCD1LG2',\n",
              " 'exp_KCNA4',\n",
              " 'exp_RAD21L1',\n",
              " 'exp_BUB1',\n",
              " 'exp_POF1B',\n",
              " 'exp_USP43',\n",
              " 'exp_GS1-164F24.1',\n",
              " 'exp_CTD-2647E9.3',\n",
              " 'exp_CAPG',\n",
              " 'exp_ENG',\n",
              " 'exp_ARHGDIB',\n",
              " 'exp_CAMSAP2',\n",
              " 'exp_CCDC26',\n",
              " 'exp_ARID5B',\n",
              " 'exp_LATS1',\n",
              " 'exp_RAP1GAP',\n",
              " 'exp_MAP3K10',\n",
              " 'exp_OXR1',\n",
              " 'exp_IL16',\n",
              " 'exp_CTLA4',\n",
              " 'exp_ATF6',\n",
              " 'exp_MRPS9',\n",
              " 'exp_LRP12',\n",
              " 'exp_AKD1',\n",
              " 'exp_ANKRD32',\n",
              " 'exp_COX4I2',\n",
              " 'exp_RP11-93B14.6',\n",
              " 'exp_DLG2',\n",
              " 'exp_AHDC1',\n",
              " 'exp_STAT5B',\n",
              " 'exp_ING1',\n",
              " 'exp_C16orf62',\n",
              " 'exp_DDT',\n",
              " 'exp_PLAC1',\n",
              " 'exp_RP11-121C2.2',\n",
              " 'exp_GRIN2A',\n",
              " 'exp_KLK1',\n",
              " 'exp_HS3ST6',\n",
              " 'exp_TMEM198B',\n",
              " 'exp_SRSF11',\n",
              " 'exp_RP5-858B6.3',\n",
              " 'exp_SRPX2',\n",
              " 'exp_SERPINB5',\n",
              " 'exp_MMP14',\n",
              " 'exp_SLC18A2',\n",
              " 'exp_RNF152',\n",
              " 'exp_PCDHB13',\n",
              " 'exp_FAM129A',\n",
              " 'exp_CSDC2',\n",
              " 'exp_CMIP',\n",
              " 'exp_GPATCH2L',\n",
              " 'exp_TPTE2P1',\n",
              " 'exp_RP11-15K3.1',\n",
              " 'exp_NREP',\n",
              " 'exp_IFIT5',\n",
              " 'exp_PRKDC',\n",
              " 'exp_ABHD11',\n",
              " 'exp_RP11-807H7.1',\n",
              " 'exp_MFI2',\n",
              " 'exp_GLRA1',\n",
              " 'exp_RP11-752D24.2',\n",
              " 'exp_RP11-280F2.2',\n",
              " 'exp_RP13-39P12.3',\n",
              " 'exp_RP11-690D19.3',\n",
              " 'exp_TSC22D4',\n",
              " 'exp_NFRKB',\n",
              " 'exp_IRS2',\n",
              " 'exp_RP11-1136L8.1',\n",
              " 'exp_TUBA1C',\n",
              " 'exp_RP11-37B2.1',\n",
              " 'exp_PHGR1',\n",
              " 'exp_RP11-353N14.2',\n",
              " 'exp_MZT2B',\n",
              " 'exp_ZBTB46',\n",
              " 'exp_RLF',\n",
              " 'exp_MPZL2',\n",
              " 'exp_GSDMD',\n",
              " 'exp_AURKA',\n",
              " 'exp_MAP7',\n",
              " 'exp_TM4SF18',\n",
              " 'exp_TPPP3',\n",
              " 'exp_KLHL32',\n",
              " 'exp_LGALS3',\n",
              " 'exp_NHS',\n",
              " 'exp_FAM48A',\n",
              " 'exp_SLC38A4',\n",
              " 'exp_CEP192',\n",
              " 'exp_ZC3H7B',\n",
              " 'exp_ZNF546',\n",
              " 'exp_GPHN',\n",
              " 'exp_IMPG1',\n",
              " 'exp_TTC39A',\n",
              " 'exp_LONP2',\n",
              " 'exp_RP11-701P16.5',\n",
              " ...]"
            ]
          },
          "metadata": {
            "tags": []
          },
          "execution_count": 36
        }
      ]
    },
    {
      "cell_type": "code",
      "metadata": {
        "colab": {
          "base_uri": "https://localhost:8080/",
          "height": 387
        },
        "id": "-5BCGxmc9Oqq",
        "outputId": "59b43198-9725-44f5-895c-53946b45aa80"
      },
      "source": [
        "sns.displot(y, kind=\"kde\")"
      ],
      "execution_count": 37,
      "outputs": [
        {
          "output_type": "execute_result",
          "data": {
            "text/plain": [
              "<seaborn.axisgrid.FacetGrid at 0x7fdf22336dd8>"
            ]
          },
          "metadata": {
            "tags": []
          },
          "execution_count": 37
        },
        {
          "output_type": "display_data",
          "data": {
            "image/png": "[encoded data removed]",
            "text/plain": [
              "<Figure size 360x360 with 1 Axes>"
            ]
          },
          "metadata": {
            "tags": [],
            "needs_background": "light"
          }
        }
      ]
    },
    {
      "cell_type": "code",
      "metadata": {
        "id": "zhlP9YBF00Xl"
      },
      "source": [
        "# So we can see that the target values have skewed distribution with a long initial tail\r\n"
      ],
      "execution_count": null,
      "outputs": []
    },
    {
      "cell_type": "code",
      "metadata": {
        "id": "GzM0T2EN9Wd5"
      },
      "source": [
        "X = dataset[features]"
      ],
      "execution_count": 38,
      "outputs": []
    },
    {
      "cell_type": "code",
      "metadata": {
        "colab": {
          "base_uri": "https://localhost:8080/",
          "height": 269
        },
        "id": "hy9V6tqG1bKA",
        "outputId": "43aa2b56-e59f-46f6-e757-3cb01f3399b4"
      },
      "source": [
        "X.head()"
      ],
      "execution_count": 39,
      "outputs": [
        {
          "output_type": "execute_result",
          "data": {
            "text/html": [
              "<div>\n",
              "<style scoped>\n",
              "    .dataframe tbody tr th:only-of-type {\n",
              "        vertical-align: middle;\n",
              "    }\n",
              "\n",
              "    .dataframe tbody tr th {\n",
              "        vertical-align: top;\n",
              "    }\n",
              "\n",
              "    .dataframe thead th {\n",
              "        text-align: right;\n",
              "    }\n",
              "</style>\n",
              "<table border=\"1\" class=\"dataframe\">\n",
              "  <thead>\n",
              "    <tr style=\"text-align: right;\">\n",
              "      <th></th>\n",
              "      <th>exp_SLC4A1</th>\n",
              "      <th>exp_FAM214B</th>\n",
              "      <th>exp_CD79B</th>\n",
              "      <th>exp_MYLIP</th>\n",
              "      <th>exp_MED24</th>\n",
              "      <th>exp_CSDE1</th>\n",
              "      <th>exp_BAZ1B</th>\n",
              "      <th>exp_ABHD5</th>\n",
              "      <th>exp_MAP4K3</th>\n",
              "      <th>exp_ELOVL5</th>\n",
              "      <th>exp_POLR3B</th>\n",
              "      <th>exp_NPC1L1</th>\n",
              "      <th>exp_XYLT2</th>\n",
              "      <th>exp_RALBP1</th>\n",
              "      <th>exp_SAMD4A</th>\n",
              "      <th>exp_VIM</th>\n",
              "      <th>exp_AGPAT4</th>\n",
              "      <th>exp_PNPLA6</th>\n",
              "      <th>exp_TUBG2</th>\n",
              "      <th>exp_PARP3</th>\n",
              "      <th>exp_BARX2</th>\n",
              "      <th>exp_WDR37</th>\n",
              "      <th>exp_ARHGAP6</th>\n",
              "      <th>exp_LMO3</th>\n",
              "      <th>exp_DKK3</th>\n",
              "      <th>exp_NFE2L3</th>\n",
              "      <th>exp_NRIP2</th>\n",
              "      <th>exp_KCNQ1</th>\n",
              "      <th>exp_ARSF</th>\n",
              "      <th>exp_CALCRL</th>\n",
              "      <th>exp_ANKRD44</th>\n",
              "      <th>exp_SPEN</th>\n",
              "      <th>exp_CYB5R4</th>\n",
              "      <th>exp_PRKCQ</th>\n",
              "      <th>exp_CDK13</th>\n",
              "      <th>exp_METTL22</th>\n",
              "      <th>exp_ROCK1</th>\n",
              "      <th>exp_DNAJA2</th>\n",
              "      <th>exp_RNF126</th>\n",
              "      <th>exp_MNT</th>\n",
              "      <th>...</th>\n",
              "      <th>exp_ZNF418</th>\n",
              "      <th>exp_ATAD5</th>\n",
              "      <th>exp_ECM1</th>\n",
              "      <th>exp_AC079305.10</th>\n",
              "      <th>exp_MFGE8</th>\n",
              "      <th>exp_FERMT2</th>\n",
              "      <th>exp_CAMKV</th>\n",
              "      <th>exp_OR51E2</th>\n",
              "      <th>exp_SHISA6</th>\n",
              "      <th>exp_MTMR7</th>\n",
              "      <th>exp_PEAK1</th>\n",
              "      <th>exp_KRT33B</th>\n",
              "      <th>exp_GABRP</th>\n",
              "      <th>exp_SYT13</th>\n",
              "      <th>exp_UBQLN2</th>\n",
              "      <th>exp_FZD8</th>\n",
              "      <th>exp_RP11-422J8.1</th>\n",
              "      <th>exp_TRIP12</th>\n",
              "      <th>exp_DMRT1</th>\n",
              "      <th>exp_SLC4A11</th>\n",
              "      <th>exp_FGF23</th>\n",
              "      <th>exp_METTL25</th>\n",
              "      <th>exp_CDC73</th>\n",
              "      <th>exp_CD3EAP</th>\n",
              "      <th>exp_NCBP1</th>\n",
              "      <th>exp_WNT3</th>\n",
              "      <th>exp_RGS7BP</th>\n",
              "      <th>exp_AP000679.2</th>\n",
              "      <th>exp_CMTM5</th>\n",
              "      <th>exp_DAP3</th>\n",
              "      <th>exp_RAPH1</th>\n",
              "      <th>exp_CYB5B</th>\n",
              "      <th>exp_RHOV</th>\n",
              "      <th>exp_C17orf89</th>\n",
              "      <th>exp_PUF60</th>\n",
              "      <th>exp_C13orf45</th>\n",
              "      <th>exp_ZNF442</th>\n",
              "      <th>exp_RP11-403N16.3</th>\n",
              "      <th>exp_GTF2E1</th>\n",
              "      <th>exp_ZNF362</th>\n",
              "    </tr>\n",
              "  </thead>\n",
              "  <tbody>\n",
              "    <tr>\n",
              "      <th>0</th>\n",
              "      <td>4.082593</td>\n",
              "      <td>6.298913</td>\n",
              "      <td>3.851031</td>\n",
              "      <td>7.107385</td>\n",
              "      <td>8.436494</td>\n",
              "      <td>11.343345</td>\n",
              "      <td>7.483741</td>\n",
              "      <td>7.551904</td>\n",
              "      <td>8.332643</td>\n",
              "      <td>11.792308</td>\n",
              "      <td>9.344713</td>\n",
              "      <td>4.248098</td>\n",
              "      <td>4.366640</td>\n",
              "      <td>7.451602</td>\n",
              "      <td>4.663437</td>\n",
              "      <td>7.258833</td>\n",
              "      <td>3.957589</td>\n",
              "      <td>7.600397</td>\n",
              "      <td>6.908966</td>\n",
              "      <td>4.725975</td>\n",
              "      <td>NaN</td>\n",
              "      <td>6.211135</td>\n",
              "      <td>5.629812</td>\n",
              "      <td>4.958598</td>\n",
              "      <td>3.485505</td>\n",
              "      <td>4.476219</td>\n",
              "      <td>4.079834</td>\n",
              "      <td>NaN</td>\n",
              "      <td>4.958131</td>\n",
              "      <td>3.983449</td>\n",
              "      <td>4.432377</td>\n",
              "      <td>8.632950</td>\n",
              "      <td>5.094334</td>\n",
              "      <td>4.029845</td>\n",
              "      <td>7.701648</td>\n",
              "      <td>7.631633</td>\n",
              "      <td>NaN</td>\n",
              "      <td>9.981774</td>\n",
              "      <td>7.670413</td>\n",
              "      <td>9.671062</td>\n",
              "      <td>...</td>\n",
              "      <td>5.914763</td>\n",
              "      <td>7.400583</td>\n",
              "      <td>4.981640</td>\n",
              "      <td>4.868796</td>\n",
              "      <td>NaN</td>\n",
              "      <td>8.584477</td>\n",
              "      <td>4.564852</td>\n",
              "      <td>4.174741</td>\n",
              "      <td>3.616413</td>\n",
              "      <td>3.510075</td>\n",
              "      <td>6.203490</td>\n",
              "      <td>4.443861</td>\n",
              "      <td>3.683258</td>\n",
              "      <td>4.143058</td>\n",
              "      <td>9.286393</td>\n",
              "      <td>6.062309</td>\n",
              "      <td>4.177499</td>\n",
              "      <td>9.914280</td>\n",
              "      <td>3.975643</td>\n",
              "      <td>6.627792</td>\n",
              "      <td>NaN</td>\n",
              "      <td>8.444246</td>\n",
              "      <td>9.201161</td>\n",
              "      <td>7.226234</td>\n",
              "      <td>7.368465</td>\n",
              "      <td>4.398275</td>\n",
              "      <td>3.338287</td>\n",
              "      <td>4.668934</td>\n",
              "      <td>4.596752</td>\n",
              "      <td>10.617282</td>\n",
              "      <td>6.767572</td>\n",
              "      <td>10.054453</td>\n",
              "      <td>4.593774</td>\n",
              "      <td>5.424791</td>\n",
              "      <td>10.172457</td>\n",
              "      <td>3.560752</td>\n",
              "      <td>3.714123</td>\n",
              "      <td>3.751627</td>\n",
              "      <td>9.030491</td>\n",
              "      <td>8.706857</td>\n",
              "    </tr>\n",
              "    <tr>\n",
              "      <th>1</th>\n",
              "      <td>4.128230</td>\n",
              "      <td>6.476800</td>\n",
              "      <td>3.649039</td>\n",
              "      <td>7.695474</td>\n",
              "      <td>NaN</td>\n",
              "      <td>10.441450</td>\n",
              "      <td>7.775860</td>\n",
              "      <td>NaN</td>\n",
              "      <td>8.897495</td>\n",
              "      <td>7.280994</td>\n",
              "      <td>9.235046</td>\n",
              "      <td>4.029988</td>\n",
              "      <td>4.606524</td>\n",
              "      <td>7.746412</td>\n",
              "      <td>4.777889</td>\n",
              "      <td>5.053373</td>\n",
              "      <td>4.928611</td>\n",
              "      <td>6.771384</td>\n",
              "      <td>NaN</td>\n",
              "      <td>5.982616</td>\n",
              "      <td>4.238520</td>\n",
              "      <td>6.693463</td>\n",
              "      <td>3.520891</td>\n",
              "      <td>4.414752</td>\n",
              "      <td>3.620253</td>\n",
              "      <td>4.059379</td>\n",
              "      <td>4.066404</td>\n",
              "      <td>5.788688</td>\n",
              "      <td>4.925361</td>\n",
              "      <td>4.072047</td>\n",
              "      <td>3.700446</td>\n",
              "      <td>8.786443</td>\n",
              "      <td>5.734335</td>\n",
              "      <td>4.144037</td>\n",
              "      <td>6.954582</td>\n",
              "      <td>7.508120</td>\n",
              "      <td>4.446643</td>\n",
              "      <td>9.794442</td>\n",
              "      <td>NaN</td>\n",
              "      <td>9.492787</td>\n",
              "      <td>...</td>\n",
              "      <td>4.466510</td>\n",
              "      <td>6.867038</td>\n",
              "      <td>8.489555</td>\n",
              "      <td>5.962027</td>\n",
              "      <td>4.355453</td>\n",
              "      <td>4.029825</td>\n",
              "      <td>4.392756</td>\n",
              "      <td>4.130343</td>\n",
              "      <td>NaN</td>\n",
              "      <td>3.459368</td>\n",
              "      <td>6.627770</td>\n",
              "      <td>4.228168</td>\n",
              "      <td>3.824430</td>\n",
              "      <td>4.057312</td>\n",
              "      <td>8.490557</td>\n",
              "      <td>4.263747</td>\n",
              "      <td>6.175023</td>\n",
              "      <td>10.459879</td>\n",
              "      <td>NaN</td>\n",
              "      <td>6.425510</td>\n",
              "      <td>3.702439</td>\n",
              "      <td>8.399821</td>\n",
              "      <td>8.850130</td>\n",
              "      <td>NaN</td>\n",
              "      <td>7.855743</td>\n",
              "      <td>4.582457</td>\n",
              "      <td>3.222617</td>\n",
              "      <td>4.623805</td>\n",
              "      <td>4.454426</td>\n",
              "      <td>11.317319</td>\n",
              "      <td>8.149260</td>\n",
              "      <td>11.047558</td>\n",
              "      <td>4.836936</td>\n",
              "      <td>5.226575</td>\n",
              "      <td>11.311974</td>\n",
              "      <td>3.958961</td>\n",
              "      <td>NaN</td>\n",
              "      <td>3.816234</td>\n",
              "      <td>NaN</td>\n",
              "      <td>7.600376</td>\n",
              "    </tr>\n",
              "    <tr>\n",
              "      <th>2</th>\n",
              "      <td>4.232633</td>\n",
              "      <td>5.409350</td>\n",
              "      <td>3.884663</td>\n",
              "      <td>5.997920</td>\n",
              "      <td>8.764779</td>\n",
              "      <td>11.155580</td>\n",
              "      <td>7.256661</td>\n",
              "      <td>7.720493</td>\n",
              "      <td>NaN</td>\n",
              "      <td>9.829221</td>\n",
              "      <td>8.406003</td>\n",
              "      <td>3.931312</td>\n",
              "      <td>4.951526</td>\n",
              "      <td>NaN</td>\n",
              "      <td>4.376442</td>\n",
              "      <td>13.615661</td>\n",
              "      <td>6.159889</td>\n",
              "      <td>8.130779</td>\n",
              "      <td>7.121475</td>\n",
              "      <td>5.203785</td>\n",
              "      <td>5.436578</td>\n",
              "      <td>5.574527</td>\n",
              "      <td>3.864687</td>\n",
              "      <td>4.232630</td>\n",
              "      <td>7.263396</td>\n",
              "      <td>8.851568</td>\n",
              "      <td>3.755380</td>\n",
              "      <td>NaN</td>\n",
              "      <td>5.182808</td>\n",
              "      <td>3.998052</td>\n",
              "      <td>3.903182</td>\n",
              "      <td>8.404504</td>\n",
              "      <td>5.257813</td>\n",
              "      <td>6.221232</td>\n",
              "      <td>6.727735</td>\n",
              "      <td>8.857687</td>\n",
              "      <td>5.802521</td>\n",
              "      <td>9.523043</td>\n",
              "      <td>8.570222</td>\n",
              "      <td>9.373495</td>\n",
              "      <td>...</td>\n",
              "      <td>5.720408</td>\n",
              "      <td>7.233137</td>\n",
              "      <td>5.714424</td>\n",
              "      <td>5.590182</td>\n",
              "      <td>4.976245</td>\n",
              "      <td>7.901070</td>\n",
              "      <td>4.308740</td>\n",
              "      <td>4.056972</td>\n",
              "      <td>3.671009</td>\n",
              "      <td>3.577847</td>\n",
              "      <td>7.010037</td>\n",
              "      <td>4.920441</td>\n",
              "      <td>3.847691</td>\n",
              "      <td>3.999551</td>\n",
              "      <td>9.010487</td>\n",
              "      <td>4.626338</td>\n",
              "      <td>5.975799</td>\n",
              "      <td>9.878371</td>\n",
              "      <td>3.882246</td>\n",
              "      <td>5.764312</td>\n",
              "      <td>4.142796</td>\n",
              "      <td>8.249753</td>\n",
              "      <td>7.617302</td>\n",
              "      <td>7.378636</td>\n",
              "      <td>NaN</td>\n",
              "      <td>5.155399</td>\n",
              "      <td>3.547933</td>\n",
              "      <td>NaN</td>\n",
              "      <td>NaN</td>\n",
              "      <td>11.469862</td>\n",
              "      <td>7.278961</td>\n",
              "      <td>8.799358</td>\n",
              "      <td>5.142446</td>\n",
              "      <td>6.427744</td>\n",
              "      <td>10.865098</td>\n",
              "      <td>3.803288</td>\n",
              "      <td>3.575255</td>\n",
              "      <td>3.737100</td>\n",
              "      <td>8.258913</td>\n",
              "      <td>NaN</td>\n",
              "    </tr>\n",
              "    <tr>\n",
              "      <th>3</th>\n",
              "      <td>4.274809</td>\n",
              "      <td>5.511578</td>\n",
              "      <td>3.822042</td>\n",
              "      <td>6.873338</td>\n",
              "      <td>8.765674</td>\n",
              "      <td>11.395225</td>\n",
              "      <td>8.001514</td>\n",
              "      <td>8.359996</td>\n",
              "      <td>8.441087</td>\n",
              "      <td>11.008791</td>\n",
              "      <td>8.806536</td>\n",
              "      <td>3.950303</td>\n",
              "      <td>5.199439</td>\n",
              "      <td>8.373395</td>\n",
              "      <td>5.403594</td>\n",
              "      <td>13.222709</td>\n",
              "      <td>4.974602</td>\n",
              "      <td>9.007124</td>\n",
              "      <td>7.337783</td>\n",
              "      <td>6.168544</td>\n",
              "      <td>NaN</td>\n",
              "      <td>6.411914</td>\n",
              "      <td>3.869755</td>\n",
              "      <td>3.858503</td>\n",
              "      <td>5.463546</td>\n",
              "      <td>5.144393</td>\n",
              "      <td>3.682765</td>\n",
              "      <td>4.861025</td>\n",
              "      <td>NaN</td>\n",
              "      <td>3.710644</td>\n",
              "      <td>4.179881</td>\n",
              "      <td>8.363210</td>\n",
              "      <td>5.683454</td>\n",
              "      <td>7.095368</td>\n",
              "      <td>7.322369</td>\n",
              "      <td>8.454900</td>\n",
              "      <td>5.933833</td>\n",
              "      <td>9.954870</td>\n",
              "      <td>8.703355</td>\n",
              "      <td>8.943933</td>\n",
              "      <td>...</td>\n",
              "      <td>4.888667</td>\n",
              "      <td>8.606337</td>\n",
              "      <td>5.370465</td>\n",
              "      <td>NaN</td>\n",
              "      <td>4.470538</td>\n",
              "      <td>10.056486</td>\n",
              "      <td>5.149470</td>\n",
              "      <td>4.144588</td>\n",
              "      <td>3.741141</td>\n",
              "      <td>NaN</td>\n",
              "      <td>7.364387</td>\n",
              "      <td>4.723452</td>\n",
              "      <td>3.771738</td>\n",
              "      <td>4.581364</td>\n",
              "      <td>9.269365</td>\n",
              "      <td>4.168433</td>\n",
              "      <td>4.561451</td>\n",
              "      <td>10.685752</td>\n",
              "      <td>3.771484</td>\n",
              "      <td>7.950414</td>\n",
              "      <td>4.496515</td>\n",
              "      <td>7.121637</td>\n",
              "      <td>7.924980</td>\n",
              "      <td>7.473654</td>\n",
              "      <td>8.310546</td>\n",
              "      <td>NaN</td>\n",
              "      <td>3.545479</td>\n",
              "      <td>NaN</td>\n",
              "      <td>4.632940</td>\n",
              "      <td>10.866240</td>\n",
              "      <td>6.724361</td>\n",
              "      <td>9.461169</td>\n",
              "      <td>4.427737</td>\n",
              "      <td>NaN</td>\n",
              "      <td>11.230596</td>\n",
              "      <td>4.301963</td>\n",
              "      <td>NaN</td>\n",
              "      <td>3.833572</td>\n",
              "      <td>8.968382</td>\n",
              "      <td>8.986759</td>\n",
              "    </tr>\n",
              "    <tr>\n",
              "      <th>4</th>\n",
              "      <td>4.138209</td>\n",
              "      <td>5.590375</td>\n",
              "      <td>3.775710</td>\n",
              "      <td>7.198329</td>\n",
              "      <td>7.990521</td>\n",
              "      <td>11.860634</td>\n",
              "      <td>7.673516</td>\n",
              "      <td>7.262398</td>\n",
              "      <td>NaN</td>\n",
              "      <td>11.156613</td>\n",
              "      <td>9.096359</td>\n",
              "      <td>3.890482</td>\n",
              "      <td>4.754753</td>\n",
              "      <td>8.025617</td>\n",
              "      <td>4.728453</td>\n",
              "      <td>5.072331</td>\n",
              "      <td>3.948612</td>\n",
              "      <td>8.237300</td>\n",
              "      <td>6.774186</td>\n",
              "      <td>6.215790</td>\n",
              "      <td>4.219273</td>\n",
              "      <td>NaN</td>\n",
              "      <td>3.924146</td>\n",
              "      <td>4.054676</td>\n",
              "      <td>5.758870</td>\n",
              "      <td>7.018634</td>\n",
              "      <td>3.985200</td>\n",
              "      <td>5.041176</td>\n",
              "      <td>4.933259</td>\n",
              "      <td>4.206833</td>\n",
              "      <td>3.763124</td>\n",
              "      <td>7.932391</td>\n",
              "      <td>5.462681</td>\n",
              "      <td>4.215227</td>\n",
              "      <td>7.903790</td>\n",
              "      <td>NaN</td>\n",
              "      <td>4.860129</td>\n",
              "      <td>9.945075</td>\n",
              "      <td>7.637739</td>\n",
              "      <td>9.476065</td>\n",
              "      <td>...</td>\n",
              "      <td>6.035956</td>\n",
              "      <td>6.963498</td>\n",
              "      <td>8.764630</td>\n",
              "      <td>NaN</td>\n",
              "      <td>5.154277</td>\n",
              "      <td>7.929167</td>\n",
              "      <td>4.373349</td>\n",
              "      <td>3.962345</td>\n",
              "      <td>3.749517</td>\n",
              "      <td>3.347872</td>\n",
              "      <td>6.489364</td>\n",
              "      <td>3.934875</td>\n",
              "      <td>3.853384</td>\n",
              "      <td>4.153273</td>\n",
              "      <td>9.957665</td>\n",
              "      <td>4.235883</td>\n",
              "      <td>4.485709</td>\n",
              "      <td>10.541742</td>\n",
              "      <td>3.671055</td>\n",
              "      <td>6.098189</td>\n",
              "      <td>4.279885</td>\n",
              "      <td>6.902325</td>\n",
              "      <td>8.650886</td>\n",
              "      <td>NaN</td>\n",
              "      <td>7.961041</td>\n",
              "      <td>6.274755</td>\n",
              "      <td>3.553055</td>\n",
              "      <td>4.494296</td>\n",
              "      <td>4.001512</td>\n",
              "      <td>11.571626</td>\n",
              "      <td>6.725249</td>\n",
              "      <td>10.293137</td>\n",
              "      <td>4.371169</td>\n",
              "      <td>5.748308</td>\n",
              "      <td>10.692733</td>\n",
              "      <td>3.969577</td>\n",
              "      <td>4.100036</td>\n",
              "      <td>3.614016</td>\n",
              "      <td>NaN</td>\n",
              "      <td>9.749767</td>\n",
              "    </tr>\n",
              "  </tbody>\n",
              "</table>\n",
              "<p>5 rows × 1750 columns</p>\n",
              "</div>"
            ],
            "text/plain": [
              "   exp_SLC4A1  exp_FAM214B  ...  exp_GTF2E1  exp_ZNF362\n",
              "0    4.082593     6.298913  ...    9.030491    8.706857\n",
              "1    4.128230     6.476800  ...         NaN    7.600376\n",
              "2    4.232633     5.409350  ...    8.258913         NaN\n",
              "3    4.274809     5.511578  ...    8.968382    8.986759\n",
              "4    4.138209     5.590375  ...         NaN    9.749767\n",
              "\n",
              "[5 rows x 1750 columns]"
            ]
          },
          "metadata": {
            "tags": []
          },
          "execution_count": 39
        }
      ]
    },
    {
      "cell_type": "code",
      "metadata": {
        "id": "yqzeNbVG3QVo"
      },
      "source": [
        "#Counting the total number of NaNs in each columns\r\n",
        "NaN4Features = X.isnull().sum()"
      ],
      "execution_count": 40,
      "outputs": []
    },
    {
      "cell_type": "code",
      "metadata": {
        "colab": {
          "base_uri": "https://localhost:8080/"
        },
        "id": "B4s1gue54nb9",
        "outputId": "57c682c5-f1a4-4417-c86f-e26f2b5a1c2f"
      },
      "source": [
        "print(NaN4Features)"
      ],
      "execution_count": 41,
      "outputs": [
        {
          "output_type": "stream",
          "text": [
            "exp_SLC4A1           106\n",
            "exp_FAM214B          106\n",
            "exp_CD79B            106\n",
            "exp_MYLIP            106\n",
            "exp_MED24            106\n",
            "                    ... \n",
            "exp_C13orf45         106\n",
            "exp_ZNF442           106\n",
            "exp_RP11-403N16.3    106\n",
            "exp_GTF2E1           106\n",
            "exp_ZNF362           106\n",
            "Length: 1750, dtype: int64\n"
          ],
          "name": "stdout"
        }
      ]
    },
    {
      "cell_type": "code",
      "metadata": {
        "id": "0ouNhEKM4rug"
      },
      "source": [
        "#This means that each of the feature columns have 106 /1061 = 10% as NaN values that should be imputed"
      ],
      "execution_count": null,
      "outputs": []
    },
    {
      "cell_type": "code",
      "metadata": {
        "colab": {
          "base_uri": "https://localhost:8080/"
        },
        "id": "QFPFQpGn548s",
        "outputId": "fd34ee20-56b0-414b-a1e6-5b65cd0516d7"
      },
      "source": [
        "#Total sum of NaN values in the dataset\r\n",
        "X.isnull().values.sum()"
      ],
      "execution_count": 42,
      "outputs": [
        {
          "output_type": "execute_result",
          "data": {
            "text/plain": [
              "185500"
            ]
          },
          "metadata": {
            "tags": []
          },
          "execution_count": 42
        }
      ]
    },
    {
      "cell_type": "code",
      "metadata": {
        "colab": {
          "base_uri": "https://localhost:8080/"
        },
        "id": "nEkboSpu579W",
        "outputId": "f2424d4f-8d6d-4538-a58a-21f7a6a08573"
      },
      "source": [
        "185500 / 1753 #Dividing the total number of NaNs by total number of features"
      ],
      "execution_count": 43,
      "outputs": [
        {
          "output_type": "execute_result",
          "data": {
            "text/plain": [
              "105.81859669138619"
            ]
          },
          "metadata": {
            "tags": []
          },
          "execution_count": 43
        }
      ]
    },
    {
      "cell_type": "code",
      "metadata": {
        "id": "01RnpZP06eXN"
      },
      "source": [
        "#This is the same number of NaNs per column variable as we calculated earlier"
      ],
      "execution_count": null,
      "outputs": []
    },
    {
      "cell_type": "code",
      "metadata": {
        "id": "a-IWqrrw6POH"
      },
      "source": [
        "#"
      ],
      "execution_count": null,
      "outputs": []
    },
    {
      "cell_type": "code",
      "metadata": {
        "id": "0VJLEn281csk"
      },
      "source": [
        "#Now I am imputing the missing values by median although more sophisticated methods such as kNN or Bayesian imputation can also be used\r\n",
        "X = X.fillna(X.median())"
      ],
      "execution_count": 44,
      "outputs": []
    },
    {
      "cell_type": "code",
      "metadata": {
        "colab": {
          "base_uri": "https://localhost:8080/",
          "height": 269
        },
        "id": "QfX0l3FN2YcF",
        "outputId": "2764470a-fbbe-4faa-d981-8c7c1cc8526f"
      },
      "source": [
        "X.head()"
      ],
      "execution_count": 45,
      "outputs": [
        {
          "output_type": "execute_result",
          "data": {
            "text/html": [
              "<div>\n",
              "<style scoped>\n",
              "    .dataframe tbody tr th:only-of-type {\n",
              "        vertical-align: middle;\n",
              "    }\n",
              "\n",
              "    .dataframe tbody tr th {\n",
              "        vertical-align: top;\n",
              "    }\n",
              "\n",
              "    .dataframe thead th {\n",
              "        text-align: right;\n",
              "    }\n",
              "</style>\n",
              "<table border=\"1\" class=\"dataframe\">\n",
              "  <thead>\n",
              "    <tr style=\"text-align: right;\">\n",
              "      <th></th>\n",
              "      <th>exp_SLC4A1</th>\n",
              "      <th>exp_FAM214B</th>\n",
              "      <th>exp_CD79B</th>\n",
              "      <th>exp_MYLIP</th>\n",
              "      <th>exp_MED24</th>\n",
              "      <th>exp_CSDE1</th>\n",
              "      <th>exp_BAZ1B</th>\n",
              "      <th>exp_ABHD5</th>\n",
              "      <th>exp_MAP4K3</th>\n",
              "      <th>exp_ELOVL5</th>\n",
              "      <th>exp_POLR3B</th>\n",
              "      <th>exp_NPC1L1</th>\n",
              "      <th>exp_XYLT2</th>\n",
              "      <th>exp_RALBP1</th>\n",
              "      <th>exp_SAMD4A</th>\n",
              "      <th>exp_VIM</th>\n",
              "      <th>exp_AGPAT4</th>\n",
              "      <th>exp_PNPLA6</th>\n",
              "      <th>exp_TUBG2</th>\n",
              "      <th>exp_PARP3</th>\n",
              "      <th>exp_BARX2</th>\n",
              "      <th>exp_WDR37</th>\n",
              "      <th>exp_ARHGAP6</th>\n",
              "      <th>exp_LMO3</th>\n",
              "      <th>exp_DKK3</th>\n",
              "      <th>exp_NFE2L3</th>\n",
              "      <th>exp_NRIP2</th>\n",
              "      <th>exp_KCNQ1</th>\n",
              "      <th>exp_ARSF</th>\n",
              "      <th>exp_CALCRL</th>\n",
              "      <th>exp_ANKRD44</th>\n",
              "      <th>exp_SPEN</th>\n",
              "      <th>exp_CYB5R4</th>\n",
              "      <th>exp_PRKCQ</th>\n",
              "      <th>exp_CDK13</th>\n",
              "      <th>exp_METTL22</th>\n",
              "      <th>exp_ROCK1</th>\n",
              "      <th>exp_DNAJA2</th>\n",
              "      <th>exp_RNF126</th>\n",
              "      <th>exp_MNT</th>\n",
              "      <th>...</th>\n",
              "      <th>exp_ZNF418</th>\n",
              "      <th>exp_ATAD5</th>\n",
              "      <th>exp_ECM1</th>\n",
              "      <th>exp_AC079305.10</th>\n",
              "      <th>exp_MFGE8</th>\n",
              "      <th>exp_FERMT2</th>\n",
              "      <th>exp_CAMKV</th>\n",
              "      <th>exp_OR51E2</th>\n",
              "      <th>exp_SHISA6</th>\n",
              "      <th>exp_MTMR7</th>\n",
              "      <th>exp_PEAK1</th>\n",
              "      <th>exp_KRT33B</th>\n",
              "      <th>exp_GABRP</th>\n",
              "      <th>exp_SYT13</th>\n",
              "      <th>exp_UBQLN2</th>\n",
              "      <th>exp_FZD8</th>\n",
              "      <th>exp_RP11-422J8.1</th>\n",
              "      <th>exp_TRIP12</th>\n",
              "      <th>exp_DMRT1</th>\n",
              "      <th>exp_SLC4A11</th>\n",
              "      <th>exp_FGF23</th>\n",
              "      <th>exp_METTL25</th>\n",
              "      <th>exp_CDC73</th>\n",
              "      <th>exp_CD3EAP</th>\n",
              "      <th>exp_NCBP1</th>\n",
              "      <th>exp_WNT3</th>\n",
              "      <th>exp_RGS7BP</th>\n",
              "      <th>exp_AP000679.2</th>\n",
              "      <th>exp_CMTM5</th>\n",
              "      <th>exp_DAP3</th>\n",
              "      <th>exp_RAPH1</th>\n",
              "      <th>exp_CYB5B</th>\n",
              "      <th>exp_RHOV</th>\n",
              "      <th>exp_C17orf89</th>\n",
              "      <th>exp_PUF60</th>\n",
              "      <th>exp_C13orf45</th>\n",
              "      <th>exp_ZNF442</th>\n",
              "      <th>exp_RP11-403N16.3</th>\n",
              "      <th>exp_GTF2E1</th>\n",
              "      <th>exp_ZNF362</th>\n",
              "    </tr>\n",
              "  </thead>\n",
              "  <tbody>\n",
              "    <tr>\n",
              "      <th>0</th>\n",
              "      <td>4.082593</td>\n",
              "      <td>6.298913</td>\n",
              "      <td>3.851031</td>\n",
              "      <td>7.107385</td>\n",
              "      <td>8.436494</td>\n",
              "      <td>11.343345</td>\n",
              "      <td>7.483741</td>\n",
              "      <td>7.551904</td>\n",
              "      <td>8.332643</td>\n",
              "      <td>11.792308</td>\n",
              "      <td>9.344713</td>\n",
              "      <td>4.248098</td>\n",
              "      <td>4.366640</td>\n",
              "      <td>7.451602</td>\n",
              "      <td>4.663437</td>\n",
              "      <td>7.258833</td>\n",
              "      <td>3.957589</td>\n",
              "      <td>7.600397</td>\n",
              "      <td>6.908966</td>\n",
              "      <td>4.725975</td>\n",
              "      <td>4.243778</td>\n",
              "      <td>6.211135</td>\n",
              "      <td>5.629812</td>\n",
              "      <td>4.958598</td>\n",
              "      <td>3.485505</td>\n",
              "      <td>4.476219</td>\n",
              "      <td>4.079834</td>\n",
              "      <td>5.254675</td>\n",
              "      <td>4.958131</td>\n",
              "      <td>3.983449</td>\n",
              "      <td>4.432377</td>\n",
              "      <td>8.632950</td>\n",
              "      <td>5.094334</td>\n",
              "      <td>4.029845</td>\n",
              "      <td>7.701648</td>\n",
              "      <td>7.631633</td>\n",
              "      <td>5.564442</td>\n",
              "      <td>9.981774</td>\n",
              "      <td>7.670413</td>\n",
              "      <td>9.671062</td>\n",
              "      <td>...</td>\n",
              "      <td>5.914763</td>\n",
              "      <td>7.400583</td>\n",
              "      <td>4.981640</td>\n",
              "      <td>4.868796</td>\n",
              "      <td>4.899164</td>\n",
              "      <td>8.584477</td>\n",
              "      <td>4.564852</td>\n",
              "      <td>4.174741</td>\n",
              "      <td>3.616413</td>\n",
              "      <td>3.510075</td>\n",
              "      <td>6.203490</td>\n",
              "      <td>4.443861</td>\n",
              "      <td>3.683258</td>\n",
              "      <td>4.143058</td>\n",
              "      <td>9.286393</td>\n",
              "      <td>6.062309</td>\n",
              "      <td>4.177499</td>\n",
              "      <td>9.914280</td>\n",
              "      <td>3.975643</td>\n",
              "      <td>6.627792</td>\n",
              "      <td>4.221925</td>\n",
              "      <td>8.444246</td>\n",
              "      <td>9.201161</td>\n",
              "      <td>7.226234</td>\n",
              "      <td>7.368465</td>\n",
              "      <td>4.398275</td>\n",
              "      <td>3.338287</td>\n",
              "      <td>4.668934</td>\n",
              "      <td>4.596752</td>\n",
              "      <td>10.617282</td>\n",
              "      <td>6.767572</td>\n",
              "      <td>10.054453</td>\n",
              "      <td>4.593774</td>\n",
              "      <td>5.424791</td>\n",
              "      <td>10.172457</td>\n",
              "      <td>3.560752</td>\n",
              "      <td>3.714123</td>\n",
              "      <td>3.751627</td>\n",
              "      <td>9.030491</td>\n",
              "      <td>8.706857</td>\n",
              "    </tr>\n",
              "    <tr>\n",
              "      <th>1</th>\n",
              "      <td>4.128230</td>\n",
              "      <td>6.476800</td>\n",
              "      <td>3.649039</td>\n",
              "      <td>7.695474</td>\n",
              "      <td>8.003871</td>\n",
              "      <td>10.441450</td>\n",
              "      <td>7.775860</td>\n",
              "      <td>7.343903</td>\n",
              "      <td>8.897495</td>\n",
              "      <td>7.280994</td>\n",
              "      <td>9.235046</td>\n",
              "      <td>4.029988</td>\n",
              "      <td>4.606524</td>\n",
              "      <td>7.746412</td>\n",
              "      <td>4.777889</td>\n",
              "      <td>5.053373</td>\n",
              "      <td>4.928611</td>\n",
              "      <td>6.771384</td>\n",
              "      <td>7.175572</td>\n",
              "      <td>5.982616</td>\n",
              "      <td>4.238520</td>\n",
              "      <td>6.693463</td>\n",
              "      <td>3.520891</td>\n",
              "      <td>4.414752</td>\n",
              "      <td>3.620253</td>\n",
              "      <td>4.059379</td>\n",
              "      <td>4.066404</td>\n",
              "      <td>5.788688</td>\n",
              "      <td>4.925361</td>\n",
              "      <td>4.072047</td>\n",
              "      <td>3.700446</td>\n",
              "      <td>8.786443</td>\n",
              "      <td>5.734335</td>\n",
              "      <td>4.144037</td>\n",
              "      <td>6.954582</td>\n",
              "      <td>7.508120</td>\n",
              "      <td>4.446643</td>\n",
              "      <td>9.794442</td>\n",
              "      <td>7.793394</td>\n",
              "      <td>9.492787</td>\n",
              "      <td>...</td>\n",
              "      <td>4.466510</td>\n",
              "      <td>6.867038</td>\n",
              "      <td>8.489555</td>\n",
              "      <td>5.962027</td>\n",
              "      <td>4.355453</td>\n",
              "      <td>4.029825</td>\n",
              "      <td>4.392756</td>\n",
              "      <td>4.130343</td>\n",
              "      <td>3.837960</td>\n",
              "      <td>3.459368</td>\n",
              "      <td>6.627770</td>\n",
              "      <td>4.228168</td>\n",
              "      <td>3.824430</td>\n",
              "      <td>4.057312</td>\n",
              "      <td>8.490557</td>\n",
              "      <td>4.263747</td>\n",
              "      <td>6.175023</td>\n",
              "      <td>10.459879</td>\n",
              "      <td>3.834088</td>\n",
              "      <td>6.425510</td>\n",
              "      <td>3.702439</td>\n",
              "      <td>8.399821</td>\n",
              "      <td>8.850130</td>\n",
              "      <td>6.779702</td>\n",
              "      <td>7.855743</td>\n",
              "      <td>4.582457</td>\n",
              "      <td>3.222617</td>\n",
              "      <td>4.623805</td>\n",
              "      <td>4.454426</td>\n",
              "      <td>11.317319</td>\n",
              "      <td>8.149260</td>\n",
              "      <td>11.047558</td>\n",
              "      <td>4.836936</td>\n",
              "      <td>5.226575</td>\n",
              "      <td>11.311974</td>\n",
              "      <td>3.958961</td>\n",
              "      <td>3.673274</td>\n",
              "      <td>3.816234</td>\n",
              "      <td>8.968382</td>\n",
              "      <td>7.600376</td>\n",
              "    </tr>\n",
              "    <tr>\n",
              "      <th>2</th>\n",
              "      <td>4.232633</td>\n",
              "      <td>5.409350</td>\n",
              "      <td>3.884663</td>\n",
              "      <td>5.997920</td>\n",
              "      <td>8.764779</td>\n",
              "      <td>11.155580</td>\n",
              "      <td>7.256661</td>\n",
              "      <td>7.720493</td>\n",
              "      <td>8.461983</td>\n",
              "      <td>9.829221</td>\n",
              "      <td>8.406003</td>\n",
              "      <td>3.931312</td>\n",
              "      <td>4.951526</td>\n",
              "      <td>7.688652</td>\n",
              "      <td>4.376442</td>\n",
              "      <td>13.615661</td>\n",
              "      <td>6.159889</td>\n",
              "      <td>8.130779</td>\n",
              "      <td>7.121475</td>\n",
              "      <td>5.203785</td>\n",
              "      <td>5.436578</td>\n",
              "      <td>5.574527</td>\n",
              "      <td>3.864687</td>\n",
              "      <td>4.232630</td>\n",
              "      <td>7.263396</td>\n",
              "      <td>8.851568</td>\n",
              "      <td>3.755380</td>\n",
              "      <td>5.254675</td>\n",
              "      <td>5.182808</td>\n",
              "      <td>3.998052</td>\n",
              "      <td>3.903182</td>\n",
              "      <td>8.404504</td>\n",
              "      <td>5.257813</td>\n",
              "      <td>6.221232</td>\n",
              "      <td>6.727735</td>\n",
              "      <td>8.857687</td>\n",
              "      <td>5.802521</td>\n",
              "      <td>9.523043</td>\n",
              "      <td>8.570222</td>\n",
              "      <td>9.373495</td>\n",
              "      <td>...</td>\n",
              "      <td>5.720408</td>\n",
              "      <td>7.233137</td>\n",
              "      <td>5.714424</td>\n",
              "      <td>5.590182</td>\n",
              "      <td>4.976245</td>\n",
              "      <td>7.901070</td>\n",
              "      <td>4.308740</td>\n",
              "      <td>4.056972</td>\n",
              "      <td>3.671009</td>\n",
              "      <td>3.577847</td>\n",
              "      <td>7.010037</td>\n",
              "      <td>4.920441</td>\n",
              "      <td>3.847691</td>\n",
              "      <td>3.999551</td>\n",
              "      <td>9.010487</td>\n",
              "      <td>4.626338</td>\n",
              "      <td>5.975799</td>\n",
              "      <td>9.878371</td>\n",
              "      <td>3.882246</td>\n",
              "      <td>5.764312</td>\n",
              "      <td>4.142796</td>\n",
              "      <td>8.249753</td>\n",
              "      <td>7.617302</td>\n",
              "      <td>7.378636</td>\n",
              "      <td>7.487804</td>\n",
              "      <td>5.155399</td>\n",
              "      <td>3.547933</td>\n",
              "      <td>4.577764</td>\n",
              "      <td>4.283293</td>\n",
              "      <td>11.469862</td>\n",
              "      <td>7.278961</td>\n",
              "      <td>8.799358</td>\n",
              "      <td>5.142446</td>\n",
              "      <td>6.427744</td>\n",
              "      <td>10.865098</td>\n",
              "      <td>3.803288</td>\n",
              "      <td>3.575255</td>\n",
              "      <td>3.737100</td>\n",
              "      <td>8.258913</td>\n",
              "      <td>9.115738</td>\n",
              "    </tr>\n",
              "    <tr>\n",
              "      <th>3</th>\n",
              "      <td>4.274809</td>\n",
              "      <td>5.511578</td>\n",
              "      <td>3.822042</td>\n",
              "      <td>6.873338</td>\n",
              "      <td>8.765674</td>\n",
              "      <td>11.395225</td>\n",
              "      <td>8.001514</td>\n",
              "      <td>8.359996</td>\n",
              "      <td>8.441087</td>\n",
              "      <td>11.008791</td>\n",
              "      <td>8.806536</td>\n",
              "      <td>3.950303</td>\n",
              "      <td>5.199439</td>\n",
              "      <td>8.373395</td>\n",
              "      <td>5.403594</td>\n",
              "      <td>13.222709</td>\n",
              "      <td>4.974602</td>\n",
              "      <td>9.007124</td>\n",
              "      <td>7.337783</td>\n",
              "      <td>6.168544</td>\n",
              "      <td>4.243778</td>\n",
              "      <td>6.411914</td>\n",
              "      <td>3.869755</td>\n",
              "      <td>3.858503</td>\n",
              "      <td>5.463546</td>\n",
              "      <td>5.144393</td>\n",
              "      <td>3.682765</td>\n",
              "      <td>4.861025</td>\n",
              "      <td>4.931211</td>\n",
              "      <td>3.710644</td>\n",
              "      <td>4.179881</td>\n",
              "      <td>8.363210</td>\n",
              "      <td>5.683454</td>\n",
              "      <td>7.095368</td>\n",
              "      <td>7.322369</td>\n",
              "      <td>8.454900</td>\n",
              "      <td>5.933833</td>\n",
              "      <td>9.954870</td>\n",
              "      <td>8.703355</td>\n",
              "      <td>8.943933</td>\n",
              "      <td>...</td>\n",
              "      <td>4.888667</td>\n",
              "      <td>8.606337</td>\n",
              "      <td>5.370465</td>\n",
              "      <td>5.415715</td>\n",
              "      <td>4.470538</td>\n",
              "      <td>10.056486</td>\n",
              "      <td>5.149470</td>\n",
              "      <td>4.144588</td>\n",
              "      <td>3.741141</td>\n",
              "      <td>3.568489</td>\n",
              "      <td>7.364387</td>\n",
              "      <td>4.723452</td>\n",
              "      <td>3.771738</td>\n",
              "      <td>4.581364</td>\n",
              "      <td>9.269365</td>\n",
              "      <td>4.168433</td>\n",
              "      <td>4.561451</td>\n",
              "      <td>10.685752</td>\n",
              "      <td>3.771484</td>\n",
              "      <td>7.950414</td>\n",
              "      <td>4.496515</td>\n",
              "      <td>7.121637</td>\n",
              "      <td>7.924980</td>\n",
              "      <td>7.473654</td>\n",
              "      <td>8.310546</td>\n",
              "      <td>5.071425</td>\n",
              "      <td>3.545479</td>\n",
              "      <td>4.577764</td>\n",
              "      <td>4.632940</td>\n",
              "      <td>10.866240</td>\n",
              "      <td>6.724361</td>\n",
              "      <td>9.461169</td>\n",
              "      <td>4.427737</td>\n",
              "      <td>5.687422</td>\n",
              "      <td>11.230596</td>\n",
              "      <td>4.301963</td>\n",
              "      <td>3.673274</td>\n",
              "      <td>3.833572</td>\n",
              "      <td>8.968382</td>\n",
              "      <td>8.986759</td>\n",
              "    </tr>\n",
              "    <tr>\n",
              "      <th>4</th>\n",
              "      <td>4.138209</td>\n",
              "      <td>5.590375</td>\n",
              "      <td>3.775710</td>\n",
              "      <td>7.198329</td>\n",
              "      <td>7.990521</td>\n",
              "      <td>11.860634</td>\n",
              "      <td>7.673516</td>\n",
              "      <td>7.262398</td>\n",
              "      <td>8.461983</td>\n",
              "      <td>11.156613</td>\n",
              "      <td>9.096359</td>\n",
              "      <td>3.890482</td>\n",
              "      <td>4.754753</td>\n",
              "      <td>8.025617</td>\n",
              "      <td>4.728453</td>\n",
              "      <td>5.072331</td>\n",
              "      <td>3.948612</td>\n",
              "      <td>8.237300</td>\n",
              "      <td>6.774186</td>\n",
              "      <td>6.215790</td>\n",
              "      <td>4.219273</td>\n",
              "      <td>6.062071</td>\n",
              "      <td>3.924146</td>\n",
              "      <td>4.054676</td>\n",
              "      <td>5.758870</td>\n",
              "      <td>7.018634</td>\n",
              "      <td>3.985200</td>\n",
              "      <td>5.041176</td>\n",
              "      <td>4.933259</td>\n",
              "      <td>4.206833</td>\n",
              "      <td>3.763124</td>\n",
              "      <td>7.932391</td>\n",
              "      <td>5.462681</td>\n",
              "      <td>4.215227</td>\n",
              "      <td>7.903790</td>\n",
              "      <td>8.264440</td>\n",
              "      <td>4.860129</td>\n",
              "      <td>9.945075</td>\n",
              "      <td>7.637739</td>\n",
              "      <td>9.476065</td>\n",
              "      <td>...</td>\n",
              "      <td>6.035956</td>\n",
              "      <td>6.963498</td>\n",
              "      <td>8.764630</td>\n",
              "      <td>5.415715</td>\n",
              "      <td>5.154277</td>\n",
              "      <td>7.929167</td>\n",
              "      <td>4.373349</td>\n",
              "      <td>3.962345</td>\n",
              "      <td>3.749517</td>\n",
              "      <td>3.347872</td>\n",
              "      <td>6.489364</td>\n",
              "      <td>3.934875</td>\n",
              "      <td>3.853384</td>\n",
              "      <td>4.153273</td>\n",
              "      <td>9.957665</td>\n",
              "      <td>4.235883</td>\n",
              "      <td>4.485709</td>\n",
              "      <td>10.541742</td>\n",
              "      <td>3.671055</td>\n",
              "      <td>6.098189</td>\n",
              "      <td>4.279885</td>\n",
              "      <td>6.902325</td>\n",
              "      <td>8.650886</td>\n",
              "      <td>6.779702</td>\n",
              "      <td>7.961041</td>\n",
              "      <td>6.274755</td>\n",
              "      <td>3.553055</td>\n",
              "      <td>4.494296</td>\n",
              "      <td>4.001512</td>\n",
              "      <td>11.571626</td>\n",
              "      <td>6.725249</td>\n",
              "      <td>10.293137</td>\n",
              "      <td>4.371169</td>\n",
              "      <td>5.748308</td>\n",
              "      <td>10.692733</td>\n",
              "      <td>3.969577</td>\n",
              "      <td>4.100036</td>\n",
              "      <td>3.614016</td>\n",
              "      <td>8.968382</td>\n",
              "      <td>9.749767</td>\n",
              "    </tr>\n",
              "  </tbody>\n",
              "</table>\n",
              "<p>5 rows × 1750 columns</p>\n",
              "</div>"
            ],
            "text/plain": [
              "   exp_SLC4A1  exp_FAM214B  ...  exp_GTF2E1  exp_ZNF362\n",
              "0    4.082593     6.298913  ...    9.030491    8.706857\n",
              "1    4.128230     6.476800  ...    8.968382    7.600376\n",
              "2    4.232633     5.409350  ...    8.258913    9.115738\n",
              "3    4.274809     5.511578  ...    8.968382    8.986759\n",
              "4    4.138209     5.590375  ...    8.968382    9.749767\n",
              "\n",
              "[5 rows x 1750 columns]"
            ]
          },
          "metadata": {
            "tags": []
          },
          "execution_count": 45
        }
      ]
    },
    {
      "cell_type": "code",
      "metadata": {
        "colab": {
          "base_uri": "https://localhost:8080/"
        },
        "id": "5vpepZR_2eAf",
        "outputId": "57d57b1d-3054-47ba-c3d9-48245c517375"
      },
      "source": [
        "#Now checking for NaN in target variable\r\n",
        "y.isnull()"
      ],
      "execution_count": 46,
      "outputs": [
        {
          "output_type": "execute_result",
          "data": {
            "text/plain": [
              "0       False\n",
              "1       False\n",
              "2       False\n",
              "3       False\n",
              "4       False\n",
              "        ...  \n",
              "1056    False\n",
              "1057    False\n",
              "1058    False\n",
              "1059    False\n",
              "1060    False\n",
              "Name: Erlotinib, Length: 1061, dtype: bool"
            ]
          },
          "metadata": {
            "tags": []
          },
          "execution_count": 46
        }
      ]
    },
    {
      "cell_type": "code",
      "metadata": {
        "id": "6qXVd0sz7ZxR"
      },
      "source": [
        "#So there is no NaN value in target"
      ],
      "execution_count": null,
      "outputs": []
    },
    {
      "cell_type": "code",
      "metadata": {
        "id": "yjJ7VuuP-1V_"
      },
      "source": [
        ""
      ],
      "execution_count": null,
      "outputs": []
    },
    {
      "cell_type": "code",
      "metadata": {
        "id": "BTZsoRTx7iPY"
      },
      "source": [
        "#Now I split the predictors and target into train and test"
      ],
      "execution_count": null,
      "outputs": []
    },
    {
      "cell_type": "code",
      "metadata": {
        "id": "OkPOOr4W7XJE"
      },
      "source": [
        "Xtrain, Xtest , yTrain, yTest = train_test_split(X, y, test_size=0.3, random_state=3)"
      ],
      "execution_count": 47,
      "outputs": []
    },
    {
      "cell_type": "code",
      "metadata": {
        "id": "gXKWaftv7y9B"
      },
      "source": [
        "#Converting to numpy array for computation purpose\r\n",
        "xTrain = np.array(Xtrain)\r\n",
        "xTest = np.array(Xtest)"
      ],
      "execution_count": 48,
      "outputs": []
    },
    {
      "cell_type": "markdown",
      "metadata": {
        "id": "AFc60pjwC546"
      },
      "source": [
        "Now doing Dimensionality reduction"
      ]
    },
    {
      "cell_type": "code",
      "metadata": {
        "id": "qUnIzBH9C9If"
      },
      "source": [
        ""
      ],
      "execution_count": null,
      "outputs": []
    },
    {
      "cell_type": "code",
      "metadata": {
        "id": "8s7W9M47Bm92"
      },
      "source": [
        "pcaObj = PCA(n_components = 2)\r\n",
        "pcaObj.fit(xTrain)\r\n",
        "xTrainPCA = pcaObj.transform(xTrain)"
      ],
      "execution_count": 49,
      "outputs": []
    },
    {
      "cell_type": "code",
      "metadata": {
        "id": "x_EB-5dlC10B"
      },
      "source": [
        "#Now lets look how much variance is covered by the first two components"
      ],
      "execution_count": null,
      "outputs": []
    },
    {
      "cell_type": "code",
      "metadata": {
        "colab": {
          "base_uri": "https://localhost:8080/"
        },
        "id": "XGNEB6oPDM1k",
        "outputId": "3899c913-bc54-4065-bcd8-ce7957fd1285"
      },
      "source": [
        "pcaObj.explained_variance_ratio_"
      ],
      "execution_count": 50,
      "outputs": [
        {
          "output_type": "execute_result",
          "data": {
            "text/plain": [
              "array([0.11188868, 0.07670741])"
            ]
          },
          "metadata": {
            "tags": []
          },
          "execution_count": 50
        }
      ]
    },
    {
      "cell_type": "code",
      "metadata": {
        "id": "dgQdB33uDQS4"
      },
      "source": [
        "#Clearly, using this method has lead to a very poor dimensionality reduction, given that the first two \r\n",
        "#components cover 11 + 7 = 18% variance only."
      ],
      "execution_count": null,
      "outputs": []
    },
    {
      "cell_type": "code",
      "metadata": {
        "id": "p9HR00VzDjI9"
      },
      "source": [
        "#So now I use dimensionality reduction in order to preserve at least 95% of variance"
      ],
      "execution_count": null,
      "outputs": []
    },
    {
      "cell_type": "code",
      "metadata": {
        "id": "IUzPfh00EDvG"
      },
      "source": [
        "pcaObj = PCA(n_components = 0.95)\r\n",
        "pcaObj.fit(xTrain)\r\n",
        "xTrainPCA95 = pcaObj.transform(xTrain)"
      ],
      "execution_count": 51,
      "outputs": []
    },
    {
      "cell_type": "code",
      "metadata": {
        "colab": {
          "base_uri": "https://localhost:8080/"
        },
        "id": "XuGDGi-nEP-s",
        "outputId": "01cc722e-12f1-40e9-aeca-901601a8b0c3"
      },
      "source": [
        "pcaObj.explained_variance_ratio_"
      ],
      "execution_count": 52,
      "outputs": [
        {
          "output_type": "execute_result",
          "data": {
            "text/plain": [
              "array([0.11188868, 0.07670741, 0.05086383, 0.02609216, 0.02242862,\n",
              "       0.02138449, 0.01652894, 0.01555364, 0.01314234, 0.01279877,\n",
              "       0.01181228, 0.01064214, 0.00989027, 0.00915089, 0.00887352,\n",
              "       0.00783174, 0.00768579, 0.00729136, 0.00708237, 0.00693776,\n",
              "       0.00663561, 0.00634075, 0.0060916 , 0.0058744 , 0.00567015,\n",
              "       0.00544267, 0.00532408, 0.00526332, 0.00511192, 0.00504263,\n",
              "       0.00486876, 0.00472777, 0.00469207, 0.0046224 , 0.00458566,\n",
              "       0.00447221, 0.00436474, 0.00427001, 0.00411989, 0.0039927 ,\n",
              "       0.00390861, 0.00385351, 0.0037373 , 0.00370558, 0.00365032,\n",
              "       0.00355397, 0.00350133, 0.00346726, 0.00344778, 0.00337406,\n",
              "       0.00330264, 0.00324812, 0.00317474, 0.0031477 , 0.00309579,\n",
              "       0.00308937, 0.00301778, 0.00294072, 0.00292052, 0.00291347,\n",
              "       0.00281075, 0.00277114, 0.00275776, 0.00272757, 0.00271236,\n",
              "       0.00268757, 0.00262973, 0.00260179, 0.00259114, 0.00255936,\n",
              "       0.00251126, 0.00246737, 0.00245041, 0.00241892, 0.00239733,\n",
              "       0.00239319, 0.00232571, 0.00231713, 0.00230033, 0.00228452,\n",
              "       0.00226799, 0.0022558 , 0.00223358, 0.00219321, 0.00216023,\n",
              "       0.00214825, 0.00213949, 0.00213171, 0.00212959, 0.00208407,\n",
              "       0.0020637 , 0.0020394 , 0.00200115, 0.00199495, 0.00197155,\n",
              "       0.00195404, 0.00193097, 0.00190643, 0.0018899 , 0.00186439,\n",
              "       0.00185716, 0.00182204, 0.00181098, 0.00180038, 0.00179154,\n",
              "       0.00178616, 0.00176467, 0.00174743, 0.0017334 , 0.00173027,\n",
              "       0.00172267, 0.00171088, 0.00169401, 0.00167597, 0.00166071,\n",
              "       0.00165173, 0.00164021, 0.00162449, 0.00160873, 0.00159118,\n",
              "       0.00157746, 0.00156679, 0.00155027, 0.00153935, 0.00152942,\n",
              "       0.00152456, 0.00151183, 0.00149482, 0.00148105, 0.00147371,\n",
              "       0.00146505, 0.00145293, 0.00143564, 0.00142613, 0.00142345,\n",
              "       0.00141002, 0.00140221, 0.00138278, 0.00137684, 0.00136538,\n",
              "       0.00135703, 0.00134986, 0.0013414 , 0.00133641, 0.00132745,\n",
              "       0.00131156, 0.00130169, 0.00129117, 0.00128589, 0.00127498,\n",
              "       0.00126853, 0.00126275, 0.00124516, 0.00123882, 0.00123342,\n",
              "       0.00122593, 0.00121519, 0.00120711, 0.00120307, 0.00119055,\n",
              "       0.001183  , 0.00117487, 0.00116452, 0.00116162, 0.00115617,\n",
              "       0.00115024, 0.00113893, 0.00113452, 0.00112979, 0.0011133 ,\n",
              "       0.00110355, 0.00109696, 0.00108962, 0.00108417, 0.00107707,\n",
              "       0.00107534, 0.00107311, 0.00106237, 0.00105461, 0.00104835,\n",
              "       0.00103936, 0.00103292, 0.0010214 , 0.00101525, 0.00100964,\n",
              "       0.00100324, 0.00099318, 0.00098624, 0.00097936, 0.0009748 ,\n",
              "       0.00096783, 0.00096243, 0.00095727, 0.0009506 , 0.00094556,\n",
              "       0.0009383 , 0.00092749, 0.00092182, 0.00092139, 0.00091648,\n",
              "       0.00091323, 0.00089853, 0.00089118, 0.00088755, 0.00088687,\n",
              "       0.00088102, 0.00087852, 0.00087378, 0.00086419, 0.00085761,\n",
              "       0.00085446, 0.00084899, 0.00084659, 0.00083686, 0.00083383,\n",
              "       0.0008287 , 0.0008208 , 0.00081622, 0.000811  , 0.00080708,\n",
              "       0.00080269, 0.000795  , 0.00079435, 0.00078489, 0.00078137,\n",
              "       0.00077808, 0.00077558, 0.00077229, 0.00076662, 0.0007614 ,\n",
              "       0.00075464, 0.00075274, 0.00074745, 0.00074241, 0.0007375 ,\n",
              "       0.00073431, 0.00073242, 0.0007299 , 0.00072801, 0.00071913,\n",
              "       0.00071426, 0.00071244, 0.00070776, 0.00069757, 0.00069579,\n",
              "       0.00069363, 0.00068829, 0.00068365, 0.00068308, 0.00067396,\n",
              "       0.00067191, 0.00066916, 0.0006674 , 0.00066231, 0.00065982,\n",
              "       0.00065645, 0.00064886, 0.00064706, 0.00063973, 0.00063596,\n",
              "       0.00063537, 0.00063141, 0.00062768, 0.0006215 , 0.00061943,\n",
              "       0.00061574, 0.00061042, 0.00060874, 0.00060804, 0.00060542,\n",
              "       0.00060188, 0.00060127, 0.00059605, 0.00059351, 0.00058866,\n",
              "       0.00058401, 0.00057985, 0.00057861, 0.0005758 , 0.00057302,\n",
              "       0.00056963, 0.00056346, 0.00056208, 0.00055922, 0.00055802,\n",
              "       0.00055666, 0.00055461, 0.00055007, 0.00054595, 0.00054536,\n",
              "       0.00053787, 0.00053732, 0.00053311, 0.00052919, 0.0005284 ,\n",
              "       0.00052569, 0.0005218 , 0.00052016, 0.00051769, 0.00051397,\n",
              "       0.00050902, 0.00050835, 0.00050486, 0.00050412, 0.00050179,\n",
              "       0.00049938, 0.00049402, 0.00049285, 0.0004905 , 0.00048748,\n",
              "       0.00048647, 0.00048317, 0.00048171, 0.000481  , 0.00047401,\n",
              "       0.00047292, 0.00047043, 0.00046735, 0.0004651 , 0.00046403,\n",
              "       0.00046098, 0.00045777, 0.00045467, 0.00045381, 0.00044896,\n",
              "       0.00044801, 0.00044459, 0.00044355, 0.00044138, 0.00043847,\n",
              "       0.00043584, 0.00043359, 0.00043173, 0.00043031, 0.00042692,\n",
              "       0.00042215, 0.00042139, 0.00041861, 0.000417  , 0.00041592,\n",
              "       0.00041347, 0.00040968, 0.00040923, 0.00040872, 0.00040586,\n",
              "       0.00040202, 0.00039971, 0.0003956 , 0.00039485, 0.00039264,\n",
              "       0.00039165, 0.00039028, 0.00038798, 0.00038661, 0.00038384,\n",
              "       0.00038358, 0.00038022, 0.00037693, 0.00037554, 0.00037348,\n",
              "       0.0003724 , 0.00036925, 0.00036834, 0.00036356, 0.00036271,\n",
              "       0.00036111, 0.00035936, 0.00035819, 0.00035639, 0.00035568,\n",
              "       0.00035127, 0.00035028, 0.00034844, 0.00034768, 0.00034564,\n",
              "       0.00034392, 0.00034154, 0.00034042, 0.00033951, 0.00033722,\n",
              "       0.00033584, 0.00033398, 0.00033169, 0.00033046, 0.00032783])"
            ]
          },
          "metadata": {
            "tags": []
          },
          "execution_count": 52
        }
      ]
    },
    {
      "cell_type": "code",
      "metadata": {
        "id": "UWxIK3XeESzI"
      },
      "source": [
        "#This also does not seem to be working given that in order to get 95% variance, there is hardly any reduction\r\n",
        "#in dimension as we still have a lot of dimensions.\r\n",
        "\r\n",
        "#Lets look at our data again"
      ],
      "execution_count": null,
      "outputs": []
    },
    {
      "cell_type": "code",
      "metadata": {
        "colab": {
          "base_uri": "https://localhost:8080/",
          "height": 387
        },
        "id": "gKXHsRGiJ7fx",
        "outputId": "76095bc5-21ed-44ee-a4f4-573846b24391"
      },
      "source": [
        "sns.displot(y, kind=\"kde\")"
      ],
      "execution_count": 53,
      "outputs": [
        {
          "output_type": "execute_result",
          "data": {
            "text/plain": [
              "<seaborn.axisgrid.FacetGrid at 0x7fdf2254d0b8>"
            ]
          },
          "metadata": {
            "tags": []
          },
          "execution_count": 53
        },
        {
          "output_type": "display_data",
          "data": {
            "image/png": "[encoded data removed]",
            "text/plain": [
              "<Figure size 360x360 with 1 Axes>"
            ]
          },
          "metadata": {
            "tags": [],
            "needs_background": "light"
          }
        }
      ]
    },
    {
      "cell_type": "code",
      "metadata": {
        "id": "h2CPE1VsJ8Hr"
      },
      "source": [
        ""
      ],
      "execution_count": null,
      "outputs": []
    },
    {
      "cell_type": "code",
      "metadata": {
        "id": "cygQ54J2EouR"
      },
      "source": [
        "# Clearly, there is no point in having those data points where the value of Erlotinib y value is less\r\n",
        "#than -1.170 or more than -1.152. This is because we do not have adequate data points for those y values and it would be better if\r\n",
        "# we discard those data values. This will also ensure that we have a more normal distribution. \r\n"
      ],
      "execution_count": 61,
      "outputs": []
    },
    {
      "cell_type": "code",
      "metadata": {
        "id": "r7tNkfmIGK6a"
      },
      "source": [
        "datasetGaussian = dataset[(dataset.Erlotinib>-1.170) & (dataset.Erlotinib < -1.152)]"
      ],
      "execution_count": 54,
      "outputs": []
    },
    {
      "cell_type": "code",
      "metadata": {
        "colab": {
          "base_uri": "https://localhost:8080/"
        },
        "id": "BH7IwGJmKaWu",
        "outputId": "48866648-f75d-424a-93dc-fc822f853800"
      },
      "source": [
        "datasetGaussian.shape"
      ],
      "execution_count": 55,
      "outputs": [
        {
          "output_type": "execute_result",
          "data": {
            "text/plain": [
              "(795, 1751)"
            ]
          },
          "metadata": {
            "tags": []
          },
          "execution_count": 55
        }
      ]
    },
    {
      "cell_type": "code",
      "metadata": {
        "id": "LY7qwOeRKkNU"
      },
      "source": [
        "yGaussian = datasetGaussian.Erlotinib"
      ],
      "execution_count": 56,
      "outputs": []
    },
    {
      "cell_type": "code",
      "metadata": {
        "colab": {
          "base_uri": "https://localhost:8080/",
          "height": 387
        },
        "id": "5vwcug4FK0Nm",
        "outputId": "52254bf6-40e0-461a-f330-074aedadc438"
      },
      "source": [
        "sns.displot(yGaussian, kind=\"kde\")"
      ],
      "execution_count": 57,
      "outputs": [
        {
          "output_type": "execute_result",
          "data": {
            "text/plain": [
              "<seaborn.axisgrid.FacetGrid at 0x7fdf2254d390>"
            ]
          },
          "metadata": {
            "tags": []
          },
          "execution_count": 57
        },
        {
          "output_type": "display_data",
          "data": {
            "image/png": "[encoded data removed]",
            "text/plain": [
              "<Figure size 360x360 with 1 Axes>"
            ]
          },
          "metadata": {
            "tags": [],
            "needs_background": "light"
          }
        }
      ]
    },
    {
      "cell_type": "code",
      "metadata": {
        "id": "OAZaIYl9LWtZ"
      },
      "source": [
        "#Great, so we get rid of a lot of sparse data. \r\n",
        "#Now lets continue the procedure as earlier"
      ],
      "execution_count": null,
      "outputs": []
    },
    {
      "cell_type": "code",
      "metadata": {
        "colab": {
          "base_uri": "https://localhost:8080/"
        },
        "id": "J20Rh0QtK5WF",
        "outputId": "9788af9a-a307-4b59-f3ef-f71cc69e171b"
      },
      "source": [
        "yGaussian.describe()"
      ],
      "execution_count": 58,
      "outputs": [
        {
          "output_type": "execute_result",
          "data": {
            "text/plain": [
              "count    795.000000\n",
              "mean      -1.162804\n",
              "std        0.000336\n",
              "min       -1.168905\n",
              "25%       -1.162793\n",
              "50%       -1.162793\n",
              "75%       -1.162793\n",
              "max       -1.158880\n",
              "Name: Erlotinib, dtype: float64"
            ]
          },
          "metadata": {
            "tags": []
          },
          "execution_count": 58
        }
      ]
    },
    {
      "cell_type": "code",
      "metadata": {
        "colab": {
          "base_uri": "https://localhost:8080/"
        },
        "id": "N7OIx4hLH7BY",
        "outputId": "a5b56b2f-7442-40db-b246-78c567e6114b"
      },
      "source": [
        "features = list(datasetGaussian.columns.values) #Make a list of all of the columns in the df. Here note we are using datasetGaussian\r\n",
        "features.pop(features.index('Erlotinib'))\r\n",
        "X = datasetGaussian[features]\r\n",
        "NaN4Features = X.isnull().sum()\r\n",
        "X.isnull().values.sum()"
      ],
      "execution_count": 59,
      "outputs": [
        {
          "output_type": "execute_result",
          "data": {
            "text/plain": [
              "139035"
            ]
          },
          "metadata": {
            "tags": []
          },
          "execution_count": 59
        }
      ]
    },
    {
      "cell_type": "code",
      "metadata": {
        "id": "ugWUc723H4TK"
      },
      "source": [
        "X = X.fillna(X.median()) #Imputing by median"
      ],
      "execution_count": 60,
      "outputs": []
    },
    {
      "cell_type": "code",
      "metadata": {
        "id": "NW4MYKx8H2EI"
      },
      "source": [
        "Xtrain, Xtest , yTrain, yTest = train_test_split(X, yGaussian, test_size=0.3, random_state=3)"
      ],
      "execution_count": 61,
      "outputs": []
    },
    {
      "cell_type": "code",
      "metadata": {
        "id": "TH2OvJJiGSg3"
      },
      "source": [
        "#Converting to numpy array for computation purpose\r\n",
        "xTrain = np.array(Xtrain)\r\n",
        "xTest = np.array(Xtest)"
      ],
      "execution_count": 62,
      "outputs": []
    },
    {
      "cell_type": "code",
      "metadata": {
        "colab": {
          "base_uri": "https://localhost:8080/"
        },
        "id": "CNBuGHShCy7N",
        "outputId": "06734691-2e1f-4fbe-e295-b54545a39d12"
      },
      "source": [
        "pcaObj = PCA(n_components = 2)\r\n",
        "pcaObj.fit(xTrain)\r\n",
        "xTrainPCA = pcaObj.transform(xTrain)\r\n",
        "pcaObj.explained_variance_ratio_"
      ],
      "execution_count": 63,
      "outputs": [
        {
          "output_type": "execute_result",
          "data": {
            "text/plain": [
              "array([0.11220645, 0.0775722 ])"
            ]
          },
          "metadata": {
            "tags": []
          },
          "execution_count": 63
        }
      ]
    },
    {
      "cell_type": "code",
      "metadata": {
        "id": "c8qp6Sfc9Dnm"
      },
      "source": [
        "#We see that there is only a slight improvement in percentage variance captured i.e., its 18% now."
      ],
      "execution_count": null,
      "outputs": []
    },
    {
      "cell_type": "code",
      "metadata": {
        "id": "UTty_nbF8-ez"
      },
      "source": [
        "#Lets see if I can further improve it, by normalizing yGaussian\r\n"
      ],
      "execution_count": null,
      "outputs": []
    },
    {
      "cell_type": "code",
      "metadata": {
        "id": "vpKbfuYa8zCS"
      },
      "source": [
        "meanY = np.mean(yGaussian)\r\n",
        "stdY = np.std(yGaussian)"
      ],
      "execution_count": 64,
      "outputs": []
    },
    {
      "cell_type": "code",
      "metadata": {
        "colab": {
          "base_uri": "https://localhost:8080/"
        },
        "id": "ZJMEZj7rSlTL",
        "outputId": "5e827d76-6103-42da-eb60-f84ba624636f"
      },
      "source": [
        "meanY"
      ],
      "execution_count": 65,
      "outputs": [
        {
          "output_type": "execute_result",
          "data": {
            "text/plain": [
              "-1.1628035191381756"
            ]
          },
          "metadata": {
            "tags": []
          },
          "execution_count": 65
        }
      ]
    },
    {
      "cell_type": "code",
      "metadata": {
        "colab": {
          "base_uri": "https://localhost:8080/"
        },
        "id": "9jrF2rBmSmlG",
        "outputId": "c8d0135f-1835-4bb6-ff75-8e210a1f193c"
      },
      "source": [
        "stdY"
      ],
      "execution_count": 66,
      "outputs": [
        {
          "output_type": "execute_result",
          "data": {
            "text/plain": [
              "0.00033625323048055923"
            ]
          },
          "metadata": {
            "tags": []
          },
          "execution_count": 66
        }
      ]
    },
    {
      "cell_type": "code",
      "metadata": {
        "id": "jydE_b2TSntr"
      },
      "source": [
        "yNorm = (yGaussian-meanY)/stdY\r\n"
      ],
      "execution_count": 67,
      "outputs": []
    },
    {
      "cell_type": "code",
      "metadata": {
        "colab": {
          "base_uri": "https://localhost:8080/",
          "height": 387
        },
        "id": "Z5gXJdxPTA7f",
        "outputId": "2bcbcbcc-9910-48d2-b206-126deace3672"
      },
      "source": [
        "sns.displot(yNorm, kind=\"kde\")"
      ],
      "execution_count": 68,
      "outputs": [
        {
          "output_type": "execute_result",
          "data": {
            "text/plain": [
              "<seaborn.axisgrid.FacetGrid at 0x7fdf22361e48>"
            ]
          },
          "metadata": {
            "tags": []
          },
          "execution_count": 68
        },
        {
          "output_type": "display_data",
          "data": {
            "image/png": "[encoded data removed]",
            "text/plain": [
              "<Figure size 360x360 with 1 Axes>"
            ]
          },
          "metadata": {
            "tags": [],
            "needs_background": "light"
          }
        }
      ]
    },
    {
      "cell_type": "code",
      "metadata": {
        "id": "gF9WFIDdTIJb"
      },
      "source": [
        "#Lets Normalize X"
      ],
      "execution_count": null,
      "outputs": []
    },
    {
      "cell_type": "code",
      "metadata": {
        "id": "bSMj1vrNTRsR"
      },
      "source": [
        "meanX = np.mean(X)\r\n",
        "stdX = np.std(X)"
      ],
      "execution_count": 69,
      "outputs": []
    },
    {
      "cell_type": "code",
      "metadata": {
        "colab": {
          "base_uri": "https://localhost:8080/"
        },
        "id": "RyTRXu79Tkxm",
        "outputId": "9ed48309-9c63-4bd5-d22f-f7ba4e64eda4"
      },
      "source": [
        "meanX.head()"
      ],
      "execution_count": 70,
      "outputs": [
        {
          "output_type": "execute_result",
          "data": {
            "text/plain": [
              "exp_SLC4A1     4.317786\n",
              "exp_FAM214B    5.993773\n",
              "exp_CD79B      3.938895\n",
              "exp_MYLIP      7.579860\n",
              "exp_MED24      8.027403\n",
              "dtype: float64"
            ]
          },
          "metadata": {
            "tags": []
          },
          "execution_count": 70
        }
      ]
    },
    {
      "cell_type": "code",
      "metadata": {
        "id": "BjA30iX2TnEw"
      },
      "source": [
        "XNorm = (X-meanX)/stdX"
      ],
      "execution_count": 71,
      "outputs": []
    },
    {
      "cell_type": "code",
      "metadata": {
        "id": "JA_rSPHBTwmT"
      },
      "source": [
        "XNorm = XNorm.fillna(X.median()) #Imputing by median"
      ],
      "execution_count": 72,
      "outputs": []
    },
    {
      "cell_type": "code",
      "metadata": {
        "id": "3dUnqgq_8Vi4"
      },
      "source": [
        "Xtrain, Xtest , yTrain, yTest = train_test_split(XNorm, yNorm, test_size=0.3, random_state=3)"
      ],
      "execution_count": 73,
      "outputs": []
    },
    {
      "cell_type": "code",
      "metadata": {
        "id": "zZ2cOzJO8CMz",
        "colab": {
          "base_uri": "https://localhost:8080/"
        },
        "outputId": "33460dfd-e2cb-4e32-e3ab-ff6cafa05749"
      },
      "source": [
        "#Converting to numpy array for computation purpose\r\n",
        "xTrain = np.array(Xtrain)\r\n",
        "xTest = np.array(Xtest)\r\n",
        "pcaObj = PCA(n_components = 2)\r\n",
        "pcaObj.fit(xTrain)\r\n",
        "xTrainPCA = pcaObj.transform(xTrain)\r\n",
        "pcaObj.explained_variance_ratio_"
      ],
      "execution_count": 74,
      "outputs": [
        {
          "output_type": "execute_result",
          "data": {
            "text/plain": [
              "array([0.06670886, 0.04557392])"
            ]
          },
          "metadata": {
            "tags": []
          },
          "execution_count": 74
        }
      ]
    },
    {
      "cell_type": "code",
      "metadata": {
        "id": "-P8_f0QC7_pK"
      },
      "source": [
        "#This did not work either, as the cumulative variance percentage in fact got less."
      ],
      "execution_count": null,
      "outputs": []
    },
    {
      "cell_type": "code",
      "metadata": {
        "id": "DeUy_hS57RJ3"
      },
      "source": [
        "#Lets try it with yGaussian, which has original y values. This will ensure that the model will predict the right\r\n",
        "#values and not the normalized values\r\n",
        "Xtrain, Xtest , yTrain, yTest = train_test_split(XNorm, yGaussian, test_size=0.3, random_state=3)"
      ],
      "execution_count": 75,
      "outputs": []
    },
    {
      "cell_type": "code",
      "metadata": {
        "colab": {
          "base_uri": "https://localhost:8080/"
        },
        "id": "l6GY-fWMWlRu",
        "outputId": "fdb9eb2d-70fc-4b7d-ac6c-ff89ad662846"
      },
      "source": [
        "xTrain = np.array(Xtrain)\r\n",
        "xTest = np.array(Xtest)\r\n",
        "pcaObj = PCA(n_components = 2)\r\n",
        "pcaObj.fit(xTrain)\r\n",
        "xTrainPCA = pcaObj.transform(xTrain)\r\n",
        "pcaObj.explained_variance_ratio_"
      ],
      "execution_count": 76,
      "outputs": [
        {
          "output_type": "execute_result",
          "data": {
            "text/plain": [
              "array([0.06670886, 0.04557392])"
            ]
          },
          "metadata": {
            "tags": []
          },
          "execution_count": 76
        }
      ]
    },
    {
      "cell_type": "code",
      "metadata": {
        "id": "lOmrEhZ8Wvf_"
      },
      "source": [
        ""
      ],
      "execution_count": null,
      "outputs": []
    },
    {
      "cell_type": "markdown",
      "metadata": {
        "id": "dgUa1L2xV7sh"
      },
      "source": [
        "#Remarks: Despite using several strategies for dimensionality reduction, it does not seem to be working well, given that the combined variance of initial components looks to be very less despite all the strategies. \r\n",
        "\r\n",
        "For calculations ahead, I shall use the xTrain, xTest, yTrain and yTest as derived using yGaussian, as it will help me build a model that will give the true value of y (Erlotinib)"
      ]
    },
    {
      "cell_type": "code",
      "metadata": {
        "id": "pu-ZbgSkXDIK"
      },
      "source": [
        "#Lets try Polynomial Regression and then we will use ElasticNet"
      ],
      "execution_count": null,
      "outputs": []
    },
    {
      "cell_type": "code",
      "metadata": {
        "id": "JsAD9P_o1vJG"
      },
      "source": [
        "poly_features = PolynomialFeatures(degree=2, include_bias= False)"
      ],
      "execution_count": 77,
      "outputs": []
    },
    {
      "cell_type": "code",
      "metadata": {
        "id": "rqg2RAHD4VRC"
      },
      "source": [
        "X_poly = poly_features.fit_transform(xTrain)"
      ],
      "execution_count": 87,
      "outputs": []
    },
    {
      "cell_type": "code",
      "metadata": {
        "colab": {
          "base_uri": "https://localhost:8080/",
          "height": 0
        },
        "id": "BEfBDcLH5a_Z",
        "outputId": "9060be63-0ab6-448d-c852-627fb9685df2"
      },
      "source": [
        "xTrain[0].shape"
      ],
      "execution_count": 88,
      "outputs": [
        {
          "output_type": "execute_result",
          "data": {
            "text/plain": [
              "(1750,)"
            ]
          },
          "metadata": {
            "tags": []
          },
          "execution_count": 88
        }
      ]
    },
    {
      "cell_type": "code",
      "metadata": {
        "colab": {
          "base_uri": "https://localhost:8080/",
          "height": 0
        },
        "id": "hWqFuyUk5sSo",
        "outputId": "1f872496-1662-4ab5-fe21-22b3e5b8f1b9"
      },
      "source": [
        "xTrain.shape"
      ],
      "execution_count": 89,
      "outputs": [
        {
          "output_type": "execute_result",
          "data": {
            "text/plain": [
              "(556, 1750)"
            ]
          },
          "metadata": {
            "tags": []
          },
          "execution_count": 89
        }
      ]
    },
    {
      "cell_type": "code",
      "metadata": {
        "id": "pSDkH5XL5pyV"
      },
      "source": [
        ""
      ],
      "execution_count": null,
      "outputs": []
    },
    {
      "cell_type": "code",
      "metadata": {
        "id": "ahXehzI_1p4A",
        "colab": {
          "base_uri": "https://localhost:8080/",
          "height": 0
        },
        "outputId": "49e20170-7fe3-4e89-8943-18257efaa0ea"
      },
      "source": [
        "X_poly[0].shape"
      ],
      "execution_count": 90,
      "outputs": [
        {
          "output_type": "execute_result",
          "data": {
            "text/plain": [
              "(1533875,)"
            ]
          },
          "metadata": {
            "tags": []
          },
          "execution_count": 90
        }
      ]
    },
    {
      "cell_type": "code",
      "metadata": {
        "colab": {
          "base_uri": "https://localhost:8080/",
          "height": 0
        },
        "id": "iAKlYfgZ5uu2",
        "outputId": "02f4f93d-44c5-4875-950c-dd1329259d05"
      },
      "source": [
        "X_poly.shape"
      ],
      "execution_count": 91,
      "outputs": [
        {
          "output_type": "execute_result",
          "data": {
            "text/plain": [
              "(556, 1533875)"
            ]
          },
          "metadata": {
            "tags": []
          },
          "execution_count": 91
        }
      ]
    },
    {
      "cell_type": "code",
      "metadata": {
        "id": "DmvuERNL52C4"
      },
      "source": [
        "#So we see that X_poly now has far more columns than xTrain which is a result of combination of all 2nd degree\r\n",
        "# variables. Total attributes is equal to ( 1320 + 2 )! / (1320! 2!)"
      ],
      "execution_count": null,
      "outputs": []
    },
    {
      "cell_type": "code",
      "metadata": {
        "id": "JBo0IKZF5_JA"
      },
      "source": [
        "#Now fitting a "
      ],
      "execution_count": null,
      "outputs": []
    },
    {
      "cell_type": "code",
      "metadata": {
        "id": "rUghAKWQ0yX6"
      },
      "source": [
        "lin_reg = LinearRegression()"
      ],
      "execution_count": 120,
      "outputs": []
    },
    {
      "cell_type": "code",
      "metadata": {
        "id": "JgslOFDU7c7k"
      },
      "source": [
        "lin_reg.fit(X_poly,yTrain)"
      ],
      "execution_count": null,
      "outputs": []
    },
    {
      "cell_type": "code",
      "metadata": {
        "id": "cazXT4E37pns"
      },
      "source": [
        ""
      ],
      "execution_count": null,
      "outputs": []
    },
    {
      "cell_type": "markdown",
      "metadata": {
        "id": "dt8SaYmL8xFj"
      },
      "source": [
        "This gave the error :Your session crashed after using all available RAM\r\n",
        "Thus, I am abandoning polynomial fitting"
      ]
    },
    {
      "cell_type": "code",
      "metadata": {
        "id": "npnaJ4_f75uh"
      },
      "source": [
        "#If we had managed to do dimensionality reduction, then it would have made sense to carry out Polynomial fit."
      ],
      "execution_count": null,
      "outputs": []
    },
    {
      "cell_type": "code",
      "metadata": {
        "id": "-Rj3auKf0sAq"
      },
      "source": [
        "#Lets start simple linear regression fit.\r\n",
        "lin_reg = LinearRegression()"
      ],
      "execution_count": 78,
      "outputs": []
    },
    {
      "cell_type": "code",
      "metadata": {
        "id": "o2j_ZorOjIoO"
      },
      "source": [
        ""
      ],
      "execution_count": null,
      "outputs": []
    },
    {
      "cell_type": "code",
      "metadata": {
        "id": "7MWzPjlFiN5s"
      },
      "source": [
        "#Lets first design a cross-validation set up as desired.\r\n",
        "#For that I make use of GridSearch\r\n",
        "#GridSearchCV should be used to find the optimal parameters to train your final model. \r\n",
        "#Typically, you should run GridSearchCV then look at the parameters that gave the model with the best score. \r\n",
        "#You should then take these parameters and train your final model on all of the data. It is important to \r\n",
        "#note that if you have trained your final model on all of your data, you cannot test it. For any correct test, \r\n",
        "#you must must reserve some of the data. That is why I am reserving the test data for the purpose."
      ],
      "execution_count": null,
      "outputs": []
    },
    {
      "cell_type": "code",
      "metadata": {
        "id": "3fEp_bkgkuV1"
      },
      "source": [
        "parameters = {'fit_intercept':[True,False], 'normalize':[True,False], 'copy_X':[True, False]} #Note that although I have done normalization, I am repeating it make a second normalization"
      ],
      "execution_count": 79,
      "outputs": []
    },
    {
      "cell_type": "code",
      "metadata": {
        "id": "gKhdmgZ8brLZ"
      },
      "source": [
        "grid_search = GridSearchCV(lin_reg, parameters, cv=5, scoring='r2', verbose=1, return_train_score=True)#Five fold cross validation\r\n",
        "\r\n",
        "\r\n"
      ],
      "execution_count": 80,
      "outputs": []
    },
    {
      "cell_type": "code",
      "metadata": {
        "colab": {
          "base_uri": "https://localhost:8080/"
        },
        "id": "dRnlUJuklaO5",
        "outputId": "1a152c9e-0614-4b80-998c-1d3018147579"
      },
      "source": [
        "grid_search.fit(Xtrain, yTrain)"
      ],
      "execution_count": 81,
      "outputs": [
        {
          "output_type": "stream",
          "text": [
            "Fitting 5 folds for each of 8 candidates, totalling 40 fits\n"
          ],
          "name": "stdout"
        },
        {
          "output_type": "stream",
          "text": [
            "[Parallel(n_jobs=1)]: Using backend SequentialBackend with 1 concurrent workers.\n",
            "[Parallel(n_jobs=1)]: Done  40 out of  40 | elapsed:    8.9s finished\n"
          ],
          "name": "stderr"
        },
        {
          "output_type": "execute_result",
          "data": {
            "text/plain": [
              "GridSearchCV(cv=5, error_score=nan,\n",
              "             estimator=LinearRegression(copy_X=True, fit_intercept=True,\n",
              "                                        n_jobs=None, normalize=False),\n",
              "             iid='deprecated', n_jobs=None,\n",
              "             param_grid={'copy_X': [True, False],\n",
              "                         'fit_intercept': [True, False],\n",
              "                         'normalize': [True, False]},\n",
              "             pre_dispatch='2*n_jobs', refit=True, return_train_score=True,\n",
              "             scoring='r2', verbose=1)"
            ]
          },
          "metadata": {
            "tags": []
          },
          "execution_count": 81
        }
      ]
    },
    {
      "cell_type": "code",
      "metadata": {
        "colab": {
          "base_uri": "https://localhost:8080/"
        },
        "id": "QqHcrS-El9kv",
        "outputId": "aa0de43b-9890-434a-9973-1cd53848a56d"
      },
      "source": [
        "\r\n",
        "print(\"Residual sum of squares: %.11f\" % np.mean((grid_search.predict(Xtest) - yTest) ** 2))"
      ],
      "execution_count": 83,
      "outputs": [
        {
          "output_type": "stream",
          "text": [
            "Residual sum of squares: 0.00000013099\n"
          ],
          "name": "stdout"
        }
      ]
    },
    {
      "cell_type": "code",
      "metadata": {
        "colab": {
          "base_uri": "https://localhost:8080/"
        },
        "id": "g_ddPVylPTJN",
        "outputId": "df1b0025-e3fa-4700-cc83-d9c576f89ce4"
      },
      "source": [
        "print('Best Score: ', grid_search.best_score_) #Gets the best R2 value score\r\n",
        "print('Best Params: ', grid_search.best_params_) #Gets the parameter corresponding to it"
      ],
      "execution_count": 84,
      "outputs": [
        {
          "output_type": "stream",
          "text": [
            "Best Score:  -8.524749870579949e+23\n",
            "Best Params:  {'copy_X': True, 'fit_intercept': True, 'normalize': False}\n"
          ],
          "name": "stdout"
        }
      ]
    },
    {
      "cell_type": "code",
      "metadata": {
        "id": "n9GsbgIslzVe"
      },
      "source": [
        "#Here the R2 score is close to 0"
      ],
      "execution_count": null,
      "outputs": []
    },
    {
      "cell_type": "code",
      "metadata": {
        "id": "qiDHYF41NUG2"
      },
      "source": [
        ""
      ],
      "execution_count": null,
      "outputs": []
    },
    {
      "cell_type": "code",
      "metadata": {
        "colab": {
          "base_uri": "https://localhost:8080/"
        },
        "id": "r92dUh81okqv",
        "outputId": "55fe202d-a2de-4ee4-9b4f-2c262c929e85"
      },
      "source": [
        "#Now doing Linear Regression WITHOUT Grid Search cross validation\r\n",
        "model = LinearRegression()\r\n",
        "model.fit(Xtrain, yTrain)\r\n",
        "#predictions = model.predict(XTest)\r\n",
        "print(\"r2/variance : \", model.score(Xtest,yTest))\r\n",
        "print(\"Residual sum of squares: %.11f\" % np.mean((model.predict(Xtest) - yTest) ** 2))"
      ],
      "execution_count": 85,
      "outputs": [
        {
          "output_type": "stream",
          "text": [
            "r2/variance :  -1.0532866333761106\n",
            "Residual sum of squares: 0.00000013099\n"
          ],
          "name": "stdout"
        }
      ]
    },
    {
      "cell_type": "code",
      "metadata": {
        "id": "JhU77iEcpHsf"
      },
      "source": [
        "#Here the R2 score became  negative, and so the model is not as good as what we found by GridSearch"
      ],
      "execution_count": null,
      "outputs": []
    },
    {
      "cell_type": "markdown",
      "metadata": {
        "id": "6WZ0PdN8Gx1g"
      },
      "source": [
        "We see that R2 score is lowest for grid_search selected model. \r\n"
      ]
    },
    {
      "cell_type": "code",
      "metadata": {
        "id": "EWwkESf8VtPs"
      },
      "source": [
        ""
      ],
      "execution_count": null,
      "outputs": []
    },
    {
      "cell_type": "code",
      "metadata": {
        "id": "82yeBcuOpAwK"
      },
      "source": [
        "#The simple linear regression can also help us get the coefficients of each of the feature variables which we can plot"
      ],
      "execution_count": 99,
      "outputs": []
    },
    {
      "cell_type": "code",
      "metadata": {
        "colab": {
          "base_uri": "https://localhost:8080/"
        },
        "id": "Ov4FbBBhJKuj",
        "outputId": "8a42f4b6-652e-4a83-9f9b-55d19c6dfd56"
      },
      "source": [
        "featureCoefficients = pd.DataFrame() \r\n",
        "featureCoefficients[\"Features\"] = pd.DataFrame(Xtrain).columns\r\n",
        "featureCoefficients['PredictedValues'] = pd.Series(model.coef_) \r\n",
        "\r\n",
        "print(featureCoefficients) "
      ],
      "execution_count": 86,
      "outputs": [
        {
          "output_type": "stream",
          "text": [
            "               Features  PredictedValues\n",
            "0            exp_SLC4A1        -0.000003\n",
            "1           exp_FAM214B        -0.000008\n",
            "2             exp_CD79B        -0.000018\n",
            "3             exp_MYLIP         0.000005\n",
            "4             exp_MED24         0.000005\n",
            "...                 ...              ...\n",
            "1745       exp_C13orf45        -0.000004\n",
            "1746         exp_ZNF442        -0.000004\n",
            "1747  exp_RP11-403N16.3        -0.000007\n",
            "1748         exp_GTF2E1        -0.000002\n",
            "1749         exp_ZNF362         0.000018\n",
            "\n",
            "[1750 rows x 2 columns]\n"
          ],
          "name": "stdout"
        }
      ]
    },
    {
      "cell_type": "code",
      "metadata": {
        "id": "WgYX195CJ0e-"
      },
      "source": [
        ""
      ],
      "execution_count": null,
      "outputs": []
    },
    {
      "cell_type": "code",
      "metadata": {
        "id": "U7iak_xzJtph"
      },
      "source": [
        ""
      ],
      "execution_count": null,
      "outputs": []
    },
    {
      "cell_type": "code",
      "metadata": {
        "colab": {
          "base_uri": "https://localhost:8080/"
        },
        "id": "Sk6Mt2b9JFGs",
        "outputId": "41d71279-085f-4c8b-93e4-24d8e6708178"
      },
      "source": [
        "# find optimal alpha with grid search and Lasso Regression for regularization\r\n",
        "alpha = [0.001, 0.01, 0.1, 1, 10, 100, 1000]\r\n",
        "param_grid = dict(alpha=alpha)\r\n",
        "lasso = Lasso()\r\n",
        "grid = GridSearchCV(estimator=lasso, param_grid=param_grid, scoring='r2', verbose=1, cv=5, n_jobs=-1)\r\n",
        "grid_result = grid.fit(Xtrain, yTrain)\r\n",
        "print('Best Score: ', grid_result.best_score_) #Get best R2 score\r\n",
        "print('Best Params: ', grid_result.best_params_) #Get the alpha parameter which corresponds to best results\r\n",
        "\r\n"
      ],
      "execution_count": 87,
      "outputs": [
        {
          "output_type": "stream",
          "text": [
            "Fitting 5 folds for each of 7 candidates, totalling 35 fits\n"
          ],
          "name": "stdout"
        },
        {
          "output_type": "stream",
          "text": [
            "[Parallel(n_jobs=-1)]: Using backend LokyBackend with 2 concurrent workers.\n"
          ],
          "name": "stderr"
        },
        {
          "output_type": "stream",
          "text": [
            "Best Score:  -9.176717099266369e+21\n",
            "Best Params:  {'alpha': 0.001}\n"
          ],
          "name": "stdout"
        },
        {
          "output_type": "stream",
          "text": [
            "[Parallel(n_jobs=-1)]: Done  35 out of  35 | elapsed:    2.0s finished\n"
          ],
          "name": "stderr"
        }
      ]
    },
    {
      "cell_type": "code",
      "metadata": {
        "colab": {
          "base_uri": "https://localhost:8080/"
        },
        "id": "dpA0I_dpRiCD",
        "outputId": "37b3d4a8-d091-41dd-deb7-58c570405055"
      },
      "source": [
        "print(\"Residual sum of squares: %.11f\" % np.mean((grid_result.predict(Xtest) - yTest) ** 2))"
      ],
      "execution_count": 88,
      "outputs": [
        {
          "output_type": "stream",
          "text": [
            "Residual sum of squares: 0.00000006527\n"
          ],
          "name": "stdout"
        }
      ]
    },
    {
      "cell_type": "markdown",
      "metadata": {
        "id": "mr-msU9ZSkCB"
      },
      "source": [
        "We see that the residual sum of squares have dropped compared to previous models. However, there is no significant improvement in R2 score compared to the model we obtained using GridSearch with simple linear regression model. The n_jobs=-1 takes in all available cores.\r\n"
      ]
    },
    {
      "cell_type": "code",
      "metadata": {
        "colab": {
          "base_uri": "https://localhost:8080/"
        },
        "id": "rok8YuZvS7Yl",
        "outputId": "34e34cc7-353e-464c-bf75-7797e4860785"
      },
      "source": [
        "#Now making models for ElasticNet\r\n",
        "elastic_net = ElasticNet()\r\n",
        "alpha = [0.001, 0.01, 0.1, 1, 10, 100, 1000, 10000]\r\n",
        "l1_ratio = [0, 0.1, 0.2, 0.3, 0.4, 0.5, 0.6, 0.7, 0.8, 0.9, 1]\r\n",
        "param_grid = dict(alpha=alpha, l1_ratio=l1_ratio)\r\n",
        "grid = GridSearchCV(estimator=elastic_net, param_grid=param_grid, scoring='r2', verbose=1, cv=5, n_jobs=-1)\r\n",
        "grid_result = grid.fit(Xtrain, yTrain)\r\n",
        "print('Best Score: ', grid_result.best_score_)\r\n",
        "print('Best Params: ', grid_result.best_params_)"
      ],
      "execution_count": 91,
      "outputs": [
        {
          "output_type": "stream",
          "text": [
            "Fitting 5 folds for each of 88 candidates, totalling 440 fits\n"
          ],
          "name": "stdout"
        },
        {
          "output_type": "stream",
          "text": [
            "[Parallel(n_jobs=-1)]: Using backend LokyBackend with 2 concurrent workers.\n",
            "[Parallel(n_jobs=-1)]: Done 116 tasks      | elapsed:    8.3s\n",
            "[Parallel(n_jobs=-1)]: Done 440 out of 440 | elapsed:   33.7s finished\n"
          ],
          "name": "stderr"
        },
        {
          "output_type": "stream",
          "text": [
            "Best Score:  -9.096557341419288e+21\n",
            "Best Params:  {'alpha': 1000, 'l1_ratio': 0}\n"
          ],
          "name": "stdout"
        },
        {
          "output_type": "stream",
          "text": [
            "/usr/local/lib/python3.6/dist-packages/sklearn/linear_model/_coordinate_descent.py:476: ConvergenceWarning: Objective did not converge. You might want to increase the number of iterations. Duality gap: 3.708258298016017e-05, tolerance: 7.4394629555326835e-09\n",
            "  positive)\n"
          ],
          "name": "stderr"
        }
      ]
    },
    {
      "cell_type": "code",
      "metadata": {
        "colab": {
          "base_uri": "https://localhost:8080/"
        },
        "id": "JAyrYMaHS-pF",
        "outputId": "834bf2c4-6a49-4543-cc5e-34497e7c054b"
      },
      "source": [
        "print(\"Residual sum of squares: %.11f\" % np.mean((grid_result.predict(Xtest) - yTest) ** 2))"
      ],
      "execution_count": 92,
      "outputs": [
        {
          "output_type": "stream",
          "text": [
            "Residual sum of squares: 0.00000006523\n"
          ],
          "name": "stdout"
        }
      ]
    },
    {
      "cell_type": "markdown",
      "metadata": {
        "id": "egJhn2FpX2mg"
      },
      "source": [
        "There is no improvement in residual sum of squared than lasso. So essentially either lasso model or elasticnet model can be used which has the lowest residual sum of squares."
      ]
    },
    {
      "cell_type": "code",
      "metadata": {
        "id": "QXPN8XNDYDSr"
      },
      "source": [
        "#In order to get the coefficients of each of the predictors, we will now have \r\n",
        "#to build a model with the parameters as we obtained best by GridSearch"
      ],
      "execution_count": 93,
      "outputs": []
    },
    {
      "cell_type": "code",
      "metadata": {
        "id": "Kc0brehOY6Kk"
      },
      "source": [
        "eNet = ElasticNet(alpha=1000, l1_ratio= 0) \r\n"
      ],
      "execution_count": 94,
      "outputs": []
    },
    {
      "cell_type": "code",
      "metadata": {
        "colab": {
          "base_uri": "https://localhost:8080/"
        },
        "id": "Lnb4VIWDYl0u",
        "outputId": "ffda31a8-1a78-4fcd-ee5f-492cbe7150e3"
      },
      "source": [
        "eNet.fit(Xtrain, yTrain) \r\n",
        "  \r\n"
      ],
      "execution_count": 95,
      "outputs": [
        {
          "output_type": "stream",
          "text": [
            "/usr/local/lib/python3.6/dist-packages/sklearn/linear_model/_coordinate_descent.py:476: ConvergenceWarning: Objective did not converge. You might want to increase the number of iterations. Duality gap: 3.708258298016017e-05, tolerance: 7.4394629555326835e-09\n",
            "  positive)\n"
          ],
          "name": "stderr"
        },
        {
          "output_type": "execute_result",
          "data": {
            "text/plain": [
              "ElasticNet(alpha=1000, copy_X=True, fit_intercept=True, l1_ratio=0,\n",
              "           max_iter=1000, normalize=False, positive=False, precompute=False,\n",
              "           random_state=None, selection='cyclic', tol=0.0001, warm_start=False)"
            ]
          },
          "metadata": {
            "tags": []
          },
          "execution_count": 95
        }
      ]
    },
    {
      "cell_type": "code",
      "metadata": {
        "colab": {
          "base_uri": "https://localhost:8080/"
        },
        "id": "tpz2KD9XZb3S",
        "outputId": "9e244650-1b87-4258-ccf3-8869e89131d9"
      },
      "source": [
        "# calculate the prediction and mean square error \r\n",
        "yPred = eNet.predict(Xtest) \r\n",
        "print(\"Mean Squared Error:\", np.mean((yPred - yTest)**2)) \r\n",
        " "
      ],
      "execution_count": 96,
      "outputs": [
        {
          "output_type": "stream",
          "text": [
            "Mean Squared Error: 6.523261967069095e-08\n"
          ],
          "name": "stdout"
        }
      ]
    },
    {
      "cell_type": "code",
      "metadata": {
        "id": "YOTMC8X5Zr0-"
      },
      "source": [
        "#Now lets get the coefficients\r\n",
        "eNetCoeff = pd.DataFrame() \r\n",
        "eNetCoeff[\"Features\"] = Xtrain.columns \r\n",
        "eNetCoeff['PredictedCoefficients'] = pd.Series(eNet.coef_) "
      ],
      "execution_count": 97,
      "outputs": []
    },
    {
      "cell_type": "code",
      "metadata": {
        "colab": {
          "base_uri": "https://localhost:8080/",
          "height": 415
        },
        "id": "3HefnEEdaHEW",
        "outputId": "255c9c00-2a9d-410f-aea4-baf13d477dfa"
      },
      "source": [
        "eNetCoeff"
      ],
      "execution_count": 98,
      "outputs": [
        {
          "output_type": "execute_result",
          "data": {
            "text/html": [
              "<div>\n",
              "<style scoped>\n",
              "    .dataframe tbody tr th:only-of-type {\n",
              "        vertical-align: middle;\n",
              "    }\n",
              "\n",
              "    .dataframe tbody tr th {\n",
              "        vertical-align: top;\n",
              "    }\n",
              "\n",
              "    .dataframe thead th {\n",
              "        text-align: right;\n",
              "    }\n",
              "</style>\n",
              "<table border=\"1\" class=\"dataframe\">\n",
              "  <thead>\n",
              "    <tr style=\"text-align: right;\">\n",
              "      <th></th>\n",
              "      <th>Features</th>\n",
              "      <th>PredictedCoefficients</th>\n",
              "    </tr>\n",
              "  </thead>\n",
              "  <tbody>\n",
              "    <tr>\n",
              "      <th>0</th>\n",
              "      <td>exp_SLC4A1</td>\n",
              "      <td>-7.322785e-09</td>\n",
              "    </tr>\n",
              "    <tr>\n",
              "      <th>1</th>\n",
              "      <td>exp_FAM214B</td>\n",
              "      <td>1.403210e-08</td>\n",
              "    </tr>\n",
              "    <tr>\n",
              "      <th>2</th>\n",
              "      <td>exp_CD79B</td>\n",
              "      <td>-7.059350e-08</td>\n",
              "    </tr>\n",
              "    <tr>\n",
              "      <th>3</th>\n",
              "      <td>exp_MYLIP</td>\n",
              "      <td>4.548952e-09</td>\n",
              "    </tr>\n",
              "    <tr>\n",
              "      <th>4</th>\n",
              "      <td>exp_MED24</td>\n",
              "      <td>4.283788e-09</td>\n",
              "    </tr>\n",
              "    <tr>\n",
              "      <th>...</th>\n",
              "      <td>...</td>\n",
              "      <td>...</td>\n",
              "    </tr>\n",
              "    <tr>\n",
              "      <th>1745</th>\n",
              "      <td>exp_C13orf45</td>\n",
              "      <td>-5.131545e-09</td>\n",
              "    </tr>\n",
              "    <tr>\n",
              "      <th>1746</th>\n",
              "      <td>exp_ZNF442</td>\n",
              "      <td>-1.740092e-08</td>\n",
              "    </tr>\n",
              "    <tr>\n",
              "      <th>1747</th>\n",
              "      <td>exp_RP11-403N16.3</td>\n",
              "      <td>-5.000170e-09</td>\n",
              "    </tr>\n",
              "    <tr>\n",
              "      <th>1748</th>\n",
              "      <td>exp_GTF2E1</td>\n",
              "      <td>-1.417295e-08</td>\n",
              "    </tr>\n",
              "    <tr>\n",
              "      <th>1749</th>\n",
              "      <td>exp_ZNF362</td>\n",
              "      <td>5.460014e-08</td>\n",
              "    </tr>\n",
              "  </tbody>\n",
              "</table>\n",
              "<p>1750 rows × 2 columns</p>\n",
              "</div>"
            ],
            "text/plain": [
              "               Features  PredictedCoefficients\n",
              "0            exp_SLC4A1          -7.322785e-09\n",
              "1           exp_FAM214B           1.403210e-08\n",
              "2             exp_CD79B          -7.059350e-08\n",
              "3             exp_MYLIP           4.548952e-09\n",
              "4             exp_MED24           4.283788e-09\n",
              "...                 ...                    ...\n",
              "1745       exp_C13orf45          -5.131545e-09\n",
              "1746         exp_ZNF442          -1.740092e-08\n",
              "1747  exp_RP11-403N16.3          -5.000170e-09\n",
              "1748         exp_GTF2E1          -1.417295e-08\n",
              "1749         exp_ZNF362           5.460014e-08\n",
              "\n",
              "[1750 rows x 2 columns]"
            ]
          },
          "metadata": {
            "tags": []
          },
          "execution_count": 98
        }
      ]
    },
    {
      "cell_type": "code",
      "metadata": {
        "id": "NK3PnM_2aJ6a",
        "colab": {
          "base_uri": "https://localhost:8080/"
        },
        "outputId": "156e66ff-eb90-4cf9-9621-e299a4532213"
      },
      "source": [
        "pip install dtreeviz"
      ],
      "execution_count": 99,
      "outputs": [
        {
          "output_type": "stream",
          "text": [
            "Collecting dtreeviz\n",
            "\u001b[?25l  Downloading https://files.pythonhosted.org/packages/31/57/37124098be67a2edf55c909c77b634d1723abecb54b8ded3e7b3b02af384/dtreeviz-1.1.3.tar.gz (49kB)\n",
            "\r\u001b[K     |██████▊                         | 10kB 16.0MB/s eta 0:00:01\r\u001b[K     |█████████████▍                  | 20kB 19.9MB/s eta 0:00:01\r\u001b[K     |████████████████████            | 30kB 20.4MB/s eta 0:00:01\r\u001b[K     |██████████████████████████▊     | 40kB 11.0MB/s eta 0:00:01\r\u001b[K     |████████████████████████████████| 51kB 3.9MB/s \n",
            "\u001b[?25hRequirement already satisfied: graphviz>=0.9 in /usr/local/lib/python3.6/dist-packages (from dtreeviz) (0.10.1)\n",
            "Requirement already satisfied: pandas in /usr/local/lib/python3.6/dist-packages (from dtreeviz) (1.1.5)\n",
            "Requirement already satisfied: numpy in /usr/local/lib/python3.6/dist-packages (from dtreeviz) (1.19.4)\n",
            "Requirement already satisfied: scikit-learn in /usr/local/lib/python3.6/dist-packages (from dtreeviz) (0.22.2.post1)\n",
            "Requirement already satisfied: matplotlib in /usr/local/lib/python3.6/dist-packages (from dtreeviz) (3.2.2)\n",
            "Collecting colour\n",
            "  Downloading https://files.pythonhosted.org/packages/74/46/e81907704ab203206769dee1385dc77e1407576ff8f50a0681d0a6b541be/colour-0.1.5-py2.py3-none-any.whl\n",
            "Requirement already satisfied: xgboost in /usr/local/lib/python3.6/dist-packages (from dtreeviz) (0.90)\n",
            "Requirement already satisfied: pytest in /usr/local/lib/python3.6/dist-packages (from dtreeviz) (3.6.4)\n",
            "Collecting pyspark\n",
            "\u001b[?25l  Downloading https://files.pythonhosted.org/packages/f0/26/198fc8c0b98580f617cb03cb298c6056587b8f0447e20fa40c5b634ced77/pyspark-3.0.1.tar.gz (204.2MB)\n",
            "\u001b[K     |████████████████████████████████| 204.2MB 68kB/s \n",
            "\u001b[?25hRequirement already satisfied: pytz>=2017.2 in /usr/local/lib/python3.6/dist-packages (from pandas->dtreeviz) (2018.9)\n",
            "Requirement already satisfied: python-dateutil>=2.7.3 in /usr/local/lib/python3.6/dist-packages (from pandas->dtreeviz) (2.8.1)\n",
            "Requirement already satisfied: scipy>=0.17.0 in /usr/local/lib/python3.6/dist-packages (from scikit-learn->dtreeviz) (1.4.1)\n",
            "Requirement already satisfied: joblib>=0.11 in /usr/local/lib/python3.6/dist-packages (from scikit-learn->dtreeviz) (1.0.0)\n",
            "Requirement already satisfied: cycler>=0.10 in /usr/local/lib/python3.6/dist-packages (from matplotlib->dtreeviz) (0.10.0)\n",
            "Requirement already satisfied: kiwisolver>=1.0.1 in /usr/local/lib/python3.6/dist-packages (from matplotlib->dtreeviz) (1.3.1)\n",
            "Requirement already satisfied: pyparsing!=2.0.4,!=2.1.2,!=2.1.6,>=2.0.1 in /usr/local/lib/python3.6/dist-packages (from matplotlib->dtreeviz) (2.4.7)\n",
            "Requirement already satisfied: attrs>=17.4.0 in /usr/local/lib/python3.6/dist-packages (from pytest->dtreeviz) (20.3.0)\n",
            "Requirement already satisfied: py>=1.5.0 in /usr/local/lib/python3.6/dist-packages (from pytest->dtreeviz) (1.10.0)\n",
            "Requirement already satisfied: setuptools in /usr/local/lib/python3.6/dist-packages (from pytest->dtreeviz) (51.0.0)\n",
            "Requirement already satisfied: six>=1.10.0 in /usr/local/lib/python3.6/dist-packages (from pytest->dtreeviz) (1.15.0)\n",
            "Requirement already satisfied: more-itertools>=4.0.0 in /usr/local/lib/python3.6/dist-packages (from pytest->dtreeviz) (8.6.0)\n",
            "Requirement already satisfied: atomicwrites>=1.0 in /usr/local/lib/python3.6/dist-packages (from pytest->dtreeviz) (1.4.0)\n",
            "Requirement already satisfied: pluggy<0.8,>=0.5 in /usr/local/lib/python3.6/dist-packages (from pytest->dtreeviz) (0.7.1)\n",
            "Collecting py4j==0.10.9\n",
            "\u001b[?25l  Downloading https://files.pythonhosted.org/packages/9e/b6/6a4fb90cd235dc8e265a6a2067f2a2c99f0d91787f06aca4bcf7c23f3f80/py4j-0.10.9-py2.py3-none-any.whl (198kB)\n",
            "\u001b[K     |████████████████████████████████| 204kB 41.6MB/s \n",
            "\u001b[?25hBuilding wheels for collected packages: dtreeviz, pyspark\n",
            "  Building wheel for dtreeviz (setup.py) ... \u001b[?25l\u001b[?25hdone\n",
            "  Created wheel for dtreeviz: filename=dtreeviz-1.1.3-cp36-none-any.whl size=52494 sha256=30ed4ef1d732d8d790b01c131ec210c30919d544b0dcf02888d134ce050ba9f8\n",
            "  Stored in directory: /root/.cache/pip/wheels/80/a9/1e/4751fda06e88399ee09410646e9d55c88787276f9537b8ebd0\n",
            "  Building wheel for pyspark (setup.py) ... \u001b[?25l\u001b[?25hdone\n",
            "  Created wheel for pyspark: filename=pyspark-3.0.1-py2.py3-none-any.whl size=204612242 sha256=8edb7dde5f4fb2339db55da6d0284748444c7e2ac78388e7b7fa7ec231d1c084\n",
            "  Stored in directory: /root/.cache/pip/wheels/5e/bd/07/031766ca628adec8435bb40f0bd83bb676ce65ff4007f8e73f\n",
            "Successfully built dtreeviz pyspark\n",
            "Installing collected packages: colour, py4j, pyspark, dtreeviz\n",
            "Successfully installed colour-0.1.5 dtreeviz-1.1.3 py4j-0.10.9 pyspark-3.0.1\n"
          ],
          "name": "stdout"
        }
      ]
    },
    {
      "cell_type": "markdown",
      "metadata": {
        "id": "fc719lawWpH3"
      },
      "source": [
        "**Now we use Random Forest in GRID Search for regression**"
      ]
    },
    {
      "cell_type": "code",
      "metadata": {
        "id": "q5HwK7HOa0Yn"
      },
      "source": [
        "from sklearn import tree\r\n",
        "from dtreeviz.trees import dtreeviz"
      ],
      "execution_count": 100,
      "outputs": []
    },
    {
      "cell_type": "code",
      "metadata": {
        "id": "lmK5hWuYaptk"
      },
      "source": [
        "param_grid = [\r\n",
        " {'n_estimators': [3, 10, 30,50,60,80,90], 'max_features': [2, 4, 6, 8]},\r\n",
        " {'bootstrap': [False], 'n_estimators': [3, 10], 'max_features': [2, 3, 4]},\r\n",
        " ]"
      ],
      "execution_count": 101,
      "outputs": []
    },
    {
      "cell_type": "code",
      "metadata": {
        "id": "pm0JPyxqafcH"
      },
      "source": [
        "from sklearn.ensemble import RandomForestRegressor\r\n",
        "forest_reg = RandomForestRegressor()"
      ],
      "execution_count": 102,
      "outputs": []
    },
    {
      "cell_type": "code",
      "metadata": {
        "id": "zlO7gnc9WvvD"
      },
      "source": [
        "grid_search = GridSearchCV(forest_reg, param_grid, cv=5,scoring='neg_mean_squared_error',\r\n",
        "return_train_score=True)"
      ],
      "execution_count": 103,
      "outputs": []
    },
    {
      "cell_type": "code",
      "metadata": {
        "colab": {
          "base_uri": "https://localhost:8080/"
        },
        "id": "uZI-E-pZWxs9",
        "outputId": "179fed22-0e52-44aa-c95e-969989c95310"
      },
      "source": [
        "grid_search.fit(Xtrain, yTrain)"
      ],
      "execution_count": 104,
      "outputs": [
        {
          "output_type": "execute_result",
          "data": {
            "text/plain": [
              "GridSearchCV(cv=5, error_score=nan,\n",
              "             estimator=RandomForestRegressor(bootstrap=True, ccp_alpha=0.0,\n",
              "                                             criterion='mse', max_depth=None,\n",
              "                                             max_features='auto',\n",
              "                                             max_leaf_nodes=None,\n",
              "                                             max_samples=None,\n",
              "                                             min_impurity_decrease=0.0,\n",
              "                                             min_impurity_split=None,\n",
              "                                             min_samples_leaf=1,\n",
              "                                             min_samples_split=2,\n",
              "                                             min_weight_fraction_leaf=0.0,\n",
              "                                             n_estimators=100, n_jobs=None,\n",
              "                                             oob_score=False, random_state=None,\n",
              "                                             verbose=0, warm_start=False),\n",
              "             iid='deprecated', n_jobs=None,\n",
              "             param_grid=[{'max_features': [2, 4, 6, 8],\n",
              "                          'n_estimators': [3, 10, 30, 50, 60, 80, 90]},\n",
              "                         {'bootstrap': [False], 'max_features': [2, 3, 4],\n",
              "                          'n_estimators': [3, 10]}],\n",
              "             pre_dispatch='2*n_jobs', refit=True, return_train_score=True,\n",
              "             scoring='neg_mean_squared_error', verbose=0)"
            ]
          },
          "metadata": {
            "tags": []
          },
          "execution_count": 104
        }
      ]
    },
    {
      "cell_type": "code",
      "metadata": {
        "colab": {
          "base_uri": "https://localhost:8080/"
        },
        "id": "Y8mHBSNlW0yE",
        "outputId": "e766375a-c564-4563-bec2-ae37a96f7a7a"
      },
      "source": [
        "grid_search.best_params_"
      ],
      "execution_count": 105,
      "outputs": [
        {
          "output_type": "execute_result",
          "data": {
            "text/plain": [
              "{'max_features': 6, 'n_estimators': 3}"
            ]
          },
          "metadata": {
            "tags": []
          },
          "execution_count": 105
        }
      ]
    },
    {
      "cell_type": "code",
      "metadata": {
        "colab": {
          "base_uri": "https://localhost:8080/"
        },
        "id": "UKP4WIZSXS1I",
        "outputId": "61a49021-a86a-4665-fdf1-457c64fb0dc8"
      },
      "source": [
        "grid_search.best_estimator_"
      ],
      "execution_count": 106,
      "outputs": [
        {
          "output_type": "execute_result",
          "data": {
            "text/plain": [
              "RandomForestRegressor(bootstrap=True, ccp_alpha=0.0, criterion='mse',\n",
              "                      max_depth=None, max_features=6, max_leaf_nodes=None,\n",
              "                      max_samples=None, min_impurity_decrease=0.0,\n",
              "                      min_impurity_split=None, min_samples_leaf=1,\n",
              "                      min_samples_split=2, min_weight_fraction_leaf=0.0,\n",
              "                      n_estimators=3, n_jobs=None, oob_score=False,\n",
              "                      random_state=None, verbose=0, warm_start=False)"
            ]
          },
          "metadata": {
            "tags": []
          },
          "execution_count": 106
        }
      ]
    },
    {
      "cell_type": "code",
      "metadata": {
        "id": "RiA4tR7AXWbp"
      },
      "source": [
        " cvres = grid_search.cv_results_"
      ],
      "execution_count": 107,
      "outputs": []
    },
    {
      "cell_type": "code",
      "metadata": {
        "colab": {
          "base_uri": "https://localhost:8080/"
        },
        "id": "Hco7KhGGXZ1D",
        "outputId": "fe4db91b-47ca-4ad3-8483-e3c43218c0aa"
      },
      "source": [
        "for mean_score, params in zip(cvres[\"mean_test_score\"], cvres[\"params\"]):\r\n",
        "   print(np.sqrt(-mean_score), params)\r\n",
        "   "
      ],
      "execution_count": 108,
      "outputs": [
        {
          "output_type": "stream",
          "text": [
            "0.0003953492620283472 {'max_features': 2, 'n_estimators': 3}\n",
            "0.00037405863061899916 {'max_features': 2, 'n_estimators': 10}\n",
            "0.00036988370617829997 {'max_features': 2, 'n_estimators': 30}\n",
            "0.00036855447380604073 {'max_features': 2, 'n_estimators': 50}\n",
            "0.0003678627490282888 {'max_features': 2, 'n_estimators': 60}\n",
            "0.000367703351688978 {'max_features': 2, 'n_estimators': 80}\n",
            "0.00036746212017291273 {'max_features': 2, 'n_estimators': 90}\n",
            "0.00039542958557972835 {'max_features': 4, 'n_estimators': 3}\n",
            "0.0003750016138039886 {'max_features': 4, 'n_estimators': 10}\n",
            "0.00037283404452670156 {'max_features': 4, 'n_estimators': 30}\n",
            "0.00036959992647296895 {'max_features': 4, 'n_estimators': 50}\n",
            "0.0003679892212721392 {'max_features': 4, 'n_estimators': 60}\n",
            "0.0003682706503682437 {'max_features': 4, 'n_estimators': 80}\n",
            "0.0003672252037212619 {'max_features': 4, 'n_estimators': 90}\n",
            "0.00036549332459050995 {'max_features': 6, 'n_estimators': 3}\n",
            "0.00039001657685714417 {'max_features': 6, 'n_estimators': 10}\n",
            "0.00036943074451333577 {'max_features': 6, 'n_estimators': 30}\n",
            "0.00036926005766106424 {'max_features': 6, 'n_estimators': 50}\n",
            "0.00036779721669675765 {'max_features': 6, 'n_estimators': 60}\n",
            "0.00036771855838272445 {'max_features': 6, 'n_estimators': 80}\n",
            "0.00036755895824802014 {'max_features': 6, 'n_estimators': 90}\n",
            "0.00037580791989081324 {'max_features': 8, 'n_estimators': 3}\n",
            "0.00037573154731703005 {'max_features': 8, 'n_estimators': 10}\n",
            "0.0003714502132403998 {'max_features': 8, 'n_estimators': 30}\n",
            "0.0003681285780067602 {'max_features': 8, 'n_estimators': 50}\n",
            "0.00036884909060694174 {'max_features': 8, 'n_estimators': 60}\n",
            "0.00036781078683691034 {'max_features': 8, 'n_estimators': 80}\n",
            "0.00036798701035146666 {'max_features': 8, 'n_estimators': 90}\n",
            "0.0003949864033927599 {'bootstrap': False, 'max_features': 2, 'n_estimators': 3}\n",
            "0.0003763949689703563 {'bootstrap': False, 'max_features': 2, 'n_estimators': 10}\n",
            "0.00037543749961959044 {'bootstrap': False, 'max_features': 3, 'n_estimators': 3}\n",
            "0.00038281035247002764 {'bootstrap': False, 'max_features': 3, 'n_estimators': 10}\n",
            "0.0003754831441130771 {'bootstrap': False, 'max_features': 4, 'n_estimators': 3}\n",
            "0.000372832780839283 {'bootstrap': False, 'max_features': 4, 'n_estimators': 10}\n"
          ],
          "name": "stdout"
        }
      ]
    },
    {
      "cell_type": "code",
      "metadata": {
        "id": "MudpY82rXdH_"
      },
      "source": [
        "#We note that the RMSE for Training data is lowest of value 0.00036549332459050995 for {'max_features': 6, 'n_estimators': 3}"
      ],
      "execution_count": 109,
      "outputs": []
    },
    {
      "cell_type": "code",
      "metadata": {
        "colab": {
          "base_uri": "https://localhost:8080/"
        },
        "id": "Is6rHOzMXrUk",
        "outputId": "2a13c2c3-b143-400e-ddb3-8b82cfb83b16"
      },
      "source": [
        "# calculate the prediction and mean square error for Test data \r\n",
        "yPred = grid_search.predict(Xtest) \r\n",
        "print(\"Mean Squared Error:\", np.mean((yPred - yTest)**2))"
      ],
      "execution_count": 110,
      "outputs": [
        {
          "output_type": "stream",
          "text": [
            "Mean Squared Error: 8.18486830243069e-08\n"
          ],
          "name": "stdout"
        }
      ]
    },
    {
      "cell_type": "code",
      "metadata": {
        "id": "IOIJS90qXvJq"
      },
      "source": [
        "#We note that the mean squared error is also as low as I was getting with Lasso or Ridge Regression earlier or Elastic net"
      ],
      "execution_count": 111,
      "outputs": []
    },
    {
      "cell_type": "code",
      "metadata": {
        "id": "FKm4CKTVYAIc"
      },
      "source": [
        "#Now making the tree with the best parameters obtained by random forest\r\n",
        "forest_reg = RandomForestRegressor(max_features = 6, n_estimators = 3)"
      ],
      "execution_count": 116,
      "outputs": []
    },
    {
      "cell_type": "code",
      "metadata": {
        "colab": {
          "base_uri": "https://localhost:8080/"
        },
        "id": "Tdk4BnpqYIuO",
        "outputId": "457bb2a1-5759-4ab8-a9ee-82e001b32c69"
      },
      "source": [
        "forest_reg.fit(Xtrain, yTrain)"
      ],
      "execution_count": 117,
      "outputs": [
        {
          "output_type": "execute_result",
          "data": {
            "text/plain": [
              "RandomForestRegressor(bootstrap=True, ccp_alpha=0.0, criterion='mse',\n",
              "                      max_depth=None, max_features=6, max_leaf_nodes=None,\n",
              "                      max_samples=None, min_impurity_decrease=0.0,\n",
              "                      min_impurity_split=None, min_samples_leaf=1,\n",
              "                      min_samples_split=2, min_weight_fraction_leaf=0.0,\n",
              "                      n_estimators=3, n_jobs=None, oob_score=False,\n",
              "                      random_state=None, verbose=0, warm_start=False)"
            ]
          },
          "metadata": {
            "tags": []
          },
          "execution_count": 117
        }
      ]
    },
    {
      "cell_type": "code",
      "metadata": {
        "id": "PstkAFq3YM8d"
      },
      "source": [
        "def plotRandomForestR(model, X, Y):\r\n",
        "    selected_genes = Xtrain.columns # get the feature names\r\n",
        "    model.fit(X, Y)\r\n",
        "    plt.figure(figsize=(20,20))\r\n",
        "    _ = tree.plot_tree(model.estimators_[0], feature_names=selected_genes, filled=True)"
      ],
      "execution_count": 118,
      "outputs": []
    },
    {
      "cell_type": "code",
      "metadata": {
        "colab": {
          "base_uri": "https://localhost:8080/",
          "height": 644
        },
        "id": "Gwf_fbNJYSQV",
        "outputId": "b1b5637e-73a6-479f-9b79-ac7ea6aac9a6"
      },
      "source": [
        "plotRandomForestR(forest_reg,Xtrain,yTrain)"
      ],
      "execution_count": 119,
      "outputs": [
        {
          "output_type": "display_data",
          "data": {
            "image/png": "[encoded data removed]",
            "text/plain": [
              "<Figure size 1440x1440 with 1 Axes>"
            ]
          },
          "metadata": {
            "tags": [],
            "needs_background": "light"
          }
        }
      ]
    },
    {
      "cell_type": "code",
      "metadata": {
        "id": "vy0WkCT_YVM8"
      },
      "source": [
        ""
      ],
      "execution_count": null,
      "outputs": []
    }
  ]
}